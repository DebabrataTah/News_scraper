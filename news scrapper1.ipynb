{
 "cells": [
  {
   "cell_type": "code",
   "execution_count": 1,
   "metadata": {},
   "outputs": [],
   "source": [
    "import time\n",
    "import urllib\n",
    "import requests\n",
    "import bs4\n",
    "import pandas as pd\n",
    "import numpy as np\n",
    "import matplotlib.pyplot as plt"
   ]
  },
  {
   "cell_type": "code",
   "execution_count": 39,
   "metadata": {},
   "outputs": [],
  },
  {
   "cell_type": "code",
   "execution_count": 191,
   "metadata": {
    "scrolled": true
   },
   "outputs": [
    {
     "name": "stderr",
     "output_type": "stream",
     "text": [
      "2020-04-24 21:15:57 [urllib3.connectionpool] DEBUG: Starting new HTTPS connection (1): www.smh.com.au:443\n"
     ]
    },
    {
     "name": "stdout",
     "output_type": "stream",
     "text": [
      "processing : home\n"
     ]
    },
    {
     "name": "stderr",
     "output_type": "stream",
     "text": [
      "2020-04-24 21:15:58 [urllib3.connectionpool] DEBUG: https://www.smh.com.au:443 \"GET /home HTTP/1.1\" 301 35\n",
      "2020-04-24 21:15:58 [urllib3.connectionpool] DEBUG: https://www.smh.com.au:443 \"GET / HTTP/1.1\" 200 149173\n",
      "2020-04-24 21:15:58 [urllib3.connectionpool] DEBUG: Starting new HTTPS connection (1): www.smh.com.au:443\n"
     ]
    },
    {
     "name": "stdout",
     "output_type": "stream",
     "text": [
      "#sections\n",
      "#content\n",
      "#footer\n",
      "https://subscribe.smh.com.au/?promote_channel=HI_SMH_GNL_HL\n",
      "/\n",
      "https://subscribe.smh.com.au/?promote_channel=HI_SMH_GNL_HL\n",
      "/sydney-news\n",
      "/politics\n",
      "/business\n",
      "/world\n",
      "/lifestyle\n",
      "/culture\n",
      "/sport\n",
      "/\n",
      "#sections\n",
      "#network\n",
      "/\n",
      "/sydney-news\n",
      "/national/nsw\n",
      "/politics\n",
      "/politics/federal\n",
      "/politics/nsw\n",
      "/politics/victoria\n",
      "/politics/queensland\n",
      "/politics/western-australia\n",
      "/business\n",
      "/business/companies\n",
      "/business/markets\n",
      "/business/the-economy\n",
      "/business/banking-and-finance\n",
      "/business/small-business\n",
      "/business/consumer-affairs\n",
      "/business/workplace\n",
      "/world\n",
      "/world/north-america\n",
      "/world/europe\n",
      "/world/asia\n",
      "/world/middle-east\n",
      "/world/oceania\n",
      "/world/central-america\n",
      "/world/south-america\n",
      "/world/africa\n",
      "/national\n",
      "/national/victoria\n",
      "/national/queensland\n",
      "/national/western-australia\n",
      "/opinion\n",
      "http://www.domain.com.au\n",
      "/sport\n",
      "/sport/nrl\n",
      "/sport/rugby-union\n",
      "/sport/cricket\n",
      "/sport/soccer\n",
      "/sport/afl\n",
      "/sport/racing\n",
      "/sport/tennis\n",
      "/sport/netball\n",
      "/sport/basketball\n",
      "/sport/motorsport\n",
      "/sport/cycling\n",
      "/sport/golf\n",
      "/sport/nfl\n",
      "/sport/athletics\n",
      "/sport/swimming\n",
      "/sport/boxing\n",
      "/culture\n",
      "/culture/movies\n",
      "/culture/tv-and-radio\n",
      "/culture/music\n",
      "/culture/celebrity\n",
      "/culture/books\n",
      "/culture/comedy\n",
      "/culture/dance\n",
      "/culture/musicals\n",
      "/culture/opera\n",
      "/culture/theatre\n",
      "/culture/art-and-design\n",
      "https://tvguide.smh.com.au\n",
      "/lifestyle\n",
      "/lifestyle/life-and-relationships\n",
      "/lifestyle/health-and-wellness\n",
      "/lifestyle/gender\n",
      "/lifestyle/fashion\n",
      "/lifestyle/beauty\n",
      "/topic/horoscopes-5yc\n",
      "/topic/good-weekend-1qq\n",
      "/money\n",
      "/money/super-and-retirement\n",
      "/money/investing\n",
      "/money/banking\n",
      "/money/borrowing\n",
      "/money/saving\n",
      "/money/tax\n",
      "/money/planning-and-budgeting\n",
      "/money/insurance\n",
      "/education\n",
      "/healthcare\n",
      "/environment\n",
      "/environment/conservation\n",
      "/environment/climate-change\n",
      "/environment/sustainability\n",
      "/environment/weather\n",
      "/technology\n",
      "/technology/video-games\n",
      "/topic/home-technology-hqq\n",
      "/topic/phones-5zt\n",
      "/topic/gadgets-hqp\n",
      "http://www.drive.com.au\n",
      "http://www.traveller.com.au\n",
      "http://www.goodfood.com.au\n",
      "http://www.executivestyle.com.au\n",
      "https://subscribe.smh.com.au/2?promote_channel=HI_IPL_GNL&utm_source=PremiumIndex&utm_medium=HouseInventory&utm_campaign=General\n",
      "/todays-newspaper\n",
      "/puzzles/crosswords\n",
      "/topic/smh-letters-1r7\n",
      "/topic/smh-editorial-1r6\n",
      "/topic/column-8-1r4\n",
      "/topic/obituaries-1qv\n",
      "/topic/explainers-1lz9\n",
      "/topic/quizzes-1qx\n",
      "http://weather.smh.com.au/local-forecast/nsw/sydney\n",
      "https://www.theage.com.au\n",
      "https://www.brisbanetimes.com.au\n",
      "https://www.watoday.com.au\n",
      "https://www.afr.com\n",
      "https://www.domain.com.au\n",
      "https://www.commercialrealestate.com.au\n",
      "https://www.drive.com.au\n",
      "https://www.goodfood.com.au\n",
      "http://www.traveller.com.au\n",
      "http://www.executivestyle.com.au\n",
      "https://www.findababysitter.com.au\n",
      "https://www.thestore.com.au\n",
      "http://www.weatherzone.com.au\n",
      "https://www.rsvp.com.au\n",
      "http://weather.smh.com.au/local-forecast/nsw/sydney\n",
      "/coronavirus-pandemic\n",
      "/national/coronavirus-updates-live-scott-morrison-says-social-distancing-won-t-apply-to-schools-global-covid-19-cases-surpass-2-7-million-australian-death-toll-stands-at-78-20200424-p54n21.html\n"
     ]
    },
    {
     "name": "stderr",
     "output_type": "stream",
     "text": [
      "2020-04-24 21:15:59 [urllib3.connectionpool] DEBUG: https://www.smh.com.au:443 \"GET //national/coronavirus-updates-live-scott-morrison-says-social-distancing-won-t-apply-to-schools-global-covid-19-cases-surpass-2-7-million-australian-death-toll-stands-at-78-20200424-p54n21.html HTTP/1.1\" 200 51481\n",
      "2020-04-24 21:16:00 [chardet.charsetprober] DEBUG: utf-8  confidence = 0.99\n",
      "2020-04-24 21:16:00 [chardet.charsetprober] DEBUG: SHIFT_JIS Japanese confidence = 0.01\n",
      "2020-04-24 21:16:00 [chardet.charsetprober] DEBUG: EUC-JP Japanese confidence = 0.01\n",
      "2020-04-24 21:16:00 [chardet.charsetprober] DEBUG: GB2312 Chinese confidence = 0.01\n",
      "2020-04-24 21:16:00 [chardet.charsetprober] DEBUG: EUC-KR Korean confidence = 0.01\n",
      "2020-04-24 21:16:00 [chardet.charsetprober] DEBUG: CP949 Korean confidence = 0.01\n",
      "2020-04-24 21:16:00 [chardet.charsetprober] DEBUG: Big5 Chinese confidence = 0.01\n",
      "2020-04-24 21:16:00 [chardet.charsetprober] DEBUG: EUC-TW Taiwan confidence = 0.01\n",
      "2020-04-24 21:16:00 [chardet.charsetprober] DEBUG: windows-1251 Russian confidence = 0.01\n",
      "2020-04-24 21:16:00 [chardet.charsetprober] DEBUG: KOI8-R Russian confidence = 0.01\n",
      "2020-04-24 21:16:00 [chardet.charsetprober] DEBUG: ISO-8859-5 Russian confidence = 0.01\n",
      "2020-04-24 21:16:00 [chardet.charsetprober] DEBUG: MacCyrillic Russian confidence = 0.0\n",
      "2020-04-24 21:16:00 [chardet.charsetprober] DEBUG: IBM866 Russian confidence = 0.0\n",
      "2020-04-24 21:16:00 [chardet.charsetprober] DEBUG: IBM855 Russian confidence = 0.01\n",
      "2020-04-24 21:16:00 [chardet.charsetprober] DEBUG: ISO-8859-7 Greek confidence = 0.0\n",
      "2020-04-24 21:16:00 [chardet.charsetprober] DEBUG: windows-1253 Greek confidence = 0.0\n",
      "2020-04-24 21:16:00 [chardet.charsetprober] DEBUG: ISO-8859-5 Bulgairan confidence = 0.01\n",
      "2020-04-24 21:16:00 [chardet.charsetprober] DEBUG: windows-1251 Bulgarian confidence = 0.01\n",
      "2020-04-24 21:16:00 [chardet.charsetprober] DEBUG: TIS-620 Thai confidence = 0.0\n",
      "2020-04-24 21:16:00 [chardet.charsetprober] DEBUG: ISO-8859-9 Turkish confidence = 0.5247330534255021\n",
      "2020-04-24 21:16:00 [chardet.charsetprober] DEBUG: windows-1255 Hebrew confidence = 0.0\n",
      "2020-04-24 21:16:00 [chardet.charsetprober] DEBUG: windows-1255 Hebrew confidence = 0.0\n",
      "2020-04-24 21:16:00 [chardet.charsetprober] DEBUG: windows-1255 Hebrew confidence = 0.0\n",
      "2020-04-24 21:16:00 [chardet.charsetprober] DEBUG: utf-8  confidence = 0.99\n",
      "2020-04-24 21:16:00 [chardet.charsetprober] DEBUG: SHIFT_JIS Japanese confidence = 0.01\n",
      "2020-04-24 21:16:00 [chardet.charsetprober] DEBUG: EUC-JP Japanese confidence = 0.01\n",
      "2020-04-24 21:16:00 [chardet.charsetprober] DEBUG: GB2312 Chinese confidence = 0.01\n",
      "2020-04-24 21:16:00 [chardet.charsetprober] DEBUG: EUC-KR Korean confidence = 0.01\n",
      "2020-04-24 21:16:00 [chardet.charsetprober] DEBUG: CP949 Korean confidence = 0.01\n",
      "2020-04-24 21:16:00 [chardet.charsetprober] DEBUG: Big5 Chinese confidence = 0.01\n",
      "2020-04-24 21:16:00 [chardet.charsetprober] DEBUG: EUC-TW Taiwan confidence = 0.01\n",
      "2020-04-24 21:16:00 [urllib3.connectionpool] DEBUG: Starting new HTTPS connection (1): www.smh.com.au:443\n"
     ]
    },
    {
     "name": "stdout",
     "output_type": "stream",
     "text": [
      "/national/coronavirus-updates-live-scott-morrison-says-social-distancing-won-t-apply-to-schools-global-covid-19-cases-surpass-2-7-million-australian-death-toll-stands-at-78-20200424-p54n21.html\n"
     ]
    },
    {
     "name": "stderr",
     "output_type": "stream",
     "text": [
      "2020-04-24 21:16:01 [urllib3.connectionpool] DEBUG: https://www.smh.com.au:443 \"GET //national/coronavirus-updates-live-scott-morrison-says-social-distancing-won-t-apply-to-schools-global-covid-19-cases-surpass-2-7-million-australian-death-toll-stands-at-78-20200424-p54n21.html HTTP/1.1\" 200 51481\n",
      "2020-04-24 21:16:02 [chardet.charsetprober] DEBUG: utf-8  confidence = 0.99\n",
      "2020-04-24 21:16:02 [chardet.charsetprober] DEBUG: SHIFT_JIS Japanese confidence = 0.01\n",
      "2020-04-24 21:16:02 [chardet.charsetprober] DEBUG: EUC-JP Japanese confidence = 0.01\n",
      "2020-04-24 21:16:02 [chardet.charsetprober] DEBUG: GB2312 Chinese confidence = 0.01\n",
      "2020-04-24 21:16:02 [chardet.charsetprober] DEBUG: EUC-KR Korean confidence = 0.01\n",
      "2020-04-24 21:16:02 [chardet.charsetprober] DEBUG: CP949 Korean confidence = 0.01\n",
      "2020-04-24 21:16:02 [chardet.charsetprober] DEBUG: Big5 Chinese confidence = 0.01\n",
      "2020-04-24 21:16:02 [chardet.charsetprober] DEBUG: EUC-TW Taiwan confidence = 0.01\n",
      "2020-04-24 21:16:02 [chardet.charsetprober] DEBUG: windows-1251 Russian confidence = 0.01\n",
      "2020-04-24 21:16:02 [chardet.charsetprober] DEBUG: KOI8-R Russian confidence = 0.01\n",
      "2020-04-24 21:16:02 [chardet.charsetprober] DEBUG: ISO-8859-5 Russian confidence = 0.01\n",
      "2020-04-24 21:16:02 [chardet.charsetprober] DEBUG: MacCyrillic Russian confidence = 0.0\n",
      "2020-04-24 21:16:02 [chardet.charsetprober] DEBUG: IBM866 Russian confidence = 0.0\n",
      "2020-04-24 21:16:02 [chardet.charsetprober] DEBUG: IBM855 Russian confidence = 0.01\n",
      "2020-04-24 21:16:02 [chardet.charsetprober] DEBUG: ISO-8859-7 Greek confidence = 0.0\n",
      "2020-04-24 21:16:02 [chardet.charsetprober] DEBUG: windows-1253 Greek confidence = 0.0\n",
      "2020-04-24 21:16:02 [chardet.charsetprober] DEBUG: ISO-8859-5 Bulgairan confidence = 0.01\n",
      "2020-04-24 21:16:02 [chardet.charsetprober] DEBUG: windows-1251 Bulgarian confidence = 0.01\n",
      "2020-04-24 21:16:02 [chardet.charsetprober] DEBUG: TIS-620 Thai confidence = 0.0\n",
      "2020-04-24 21:16:02 [chardet.charsetprober] DEBUG: ISO-8859-9 Turkish confidence = 0.5247330534255021\n",
      "2020-04-24 21:16:02 [chardet.charsetprober] DEBUG: windows-1255 Hebrew confidence = 0.0\n",
      "2020-04-24 21:16:02 [chardet.charsetprober] DEBUG: windows-1255 Hebrew confidence = 0.0\n",
      "2020-04-24 21:16:02 [chardet.charsetprober] DEBUG: windows-1255 Hebrew confidence = 0.0\n",
      "2020-04-24 21:16:02 [chardet.charsetprober] DEBUG: utf-8  confidence = 0.99\n",
      "2020-04-24 21:16:02 [chardet.charsetprober] DEBUG: SHIFT_JIS Japanese confidence = 0.01\n",
      "2020-04-24 21:16:02 [chardet.charsetprober] DEBUG: EUC-JP Japanese confidence = 0.01\n",
      "2020-04-24 21:16:02 [chardet.charsetprober] DEBUG: GB2312 Chinese confidence = 0.01\n",
      "2020-04-24 21:16:02 [chardet.charsetprober] DEBUG: EUC-KR Korean confidence = 0.01\n",
      "2020-04-24 21:16:02 [chardet.charsetprober] DEBUG: CP949 Korean confidence = 0.01\n",
      "2020-04-24 21:16:02 [chardet.charsetprober] DEBUG: Big5 Chinese confidence = 0.01\n",
      "2020-04-24 21:16:02 [chardet.charsetprober] DEBUG: EUC-TW Taiwan confidence = 0.01\n",
      "2020-04-24 21:16:02 [urllib3.connectionpool] DEBUG: Starting new HTTPS connection (1): www.smh.com.au:443\n"
     ]
    },
    {
     "name": "stdout",
     "output_type": "stream",
     "text": [
      "/national/coronavirus-updates-live-scott-morrison-says-social-distancing-won-t-apply-to-schools-global-covid-19-cases-surpass-2-7-million-australian-death-toll-stands-at-78-20200424-p54n21.html\n"
     ]
    },
    {
     "name": "stderr",
     "output_type": "stream",
     "text": [
      "2020-04-24 21:16:02 [urllib3.connectionpool] DEBUG: https://www.smh.com.au:443 \"GET //national/coronavirus-updates-live-scott-morrison-says-social-distancing-won-t-apply-to-schools-global-covid-19-cases-surpass-2-7-million-australian-death-toll-stands-at-78-20200424-p54n21.html HTTP/1.1\" 200 51481\n",
      "2020-04-24 21:16:03 [chardet.charsetprober] DEBUG: utf-8  confidence = 0.99\n",
      "2020-04-24 21:16:03 [chardet.charsetprober] DEBUG: SHIFT_JIS Japanese confidence = 0.01\n",
      "2020-04-24 21:16:03 [chardet.charsetprober] DEBUG: EUC-JP Japanese confidence = 0.01\n",
      "2020-04-24 21:16:03 [chardet.charsetprober] DEBUG: GB2312 Chinese confidence = 0.01\n",
      "2020-04-24 21:16:03 [chardet.charsetprober] DEBUG: EUC-KR Korean confidence = 0.01\n",
      "2020-04-24 21:16:03 [chardet.charsetprober] DEBUG: CP949 Korean confidence = 0.01\n",
      "2020-04-24 21:16:03 [chardet.charsetprober] DEBUG: Big5 Chinese confidence = 0.01\n",
      "2020-04-24 21:16:03 [chardet.charsetprober] DEBUG: EUC-TW Taiwan confidence = 0.01\n",
      "2020-04-24 21:16:03 [chardet.charsetprober] DEBUG: windows-1251 Russian confidence = 0.01\n",
      "2020-04-24 21:16:03 [chardet.charsetprober] DEBUG: KOI8-R Russian confidence = 0.01\n",
      "2020-04-24 21:16:03 [chardet.charsetprober] DEBUG: ISO-8859-5 Russian confidence = 0.01\n",
      "2020-04-24 21:16:03 [chardet.charsetprober] DEBUG: MacCyrillic Russian confidence = 0.0\n",
      "2020-04-24 21:16:03 [chardet.charsetprober] DEBUG: IBM866 Russian confidence = 0.0\n",
      "2020-04-24 21:16:03 [chardet.charsetprober] DEBUG: IBM855 Russian confidence = 0.01\n",
      "2020-04-24 21:16:03 [chardet.charsetprober] DEBUG: ISO-8859-7 Greek confidence = 0.0\n",
      "2020-04-24 21:16:03 [chardet.charsetprober] DEBUG: windows-1253 Greek confidence = 0.0\n",
      "2020-04-24 21:16:03 [chardet.charsetprober] DEBUG: ISO-8859-5 Bulgairan confidence = 0.01\n",
      "2020-04-24 21:16:03 [chardet.charsetprober] DEBUG: windows-1251 Bulgarian confidence = 0.01\n",
      "2020-04-24 21:16:03 [chardet.charsetprober] DEBUG: TIS-620 Thai confidence = 0.0\n",
      "2020-04-24 21:16:03 [chardet.charsetprober] DEBUG: ISO-8859-9 Turkish confidence = 0.5247330534255021\n",
      "2020-04-24 21:16:03 [chardet.charsetprober] DEBUG: windows-1255 Hebrew confidence = 0.0\n",
      "2020-04-24 21:16:03 [chardet.charsetprober] DEBUG: windows-1255 Hebrew confidence = 0.0\n",
      "2020-04-24 21:16:03 [chardet.charsetprober] DEBUG: windows-1255 Hebrew confidence = 0.0\n",
      "2020-04-24 21:16:03 [chardet.charsetprober] DEBUG: utf-8  confidence = 0.99\n",
      "2020-04-24 21:16:03 [chardet.charsetprober] DEBUG: SHIFT_JIS Japanese confidence = 0.01\n",
      "2020-04-24 21:16:03 [chardet.charsetprober] DEBUG: EUC-JP Japanese confidence = 0.01\n",
      "2020-04-24 21:16:03 [chardet.charsetprober] DEBUG: GB2312 Chinese confidence = 0.01\n",
      "2020-04-24 21:16:03 [chardet.charsetprober] DEBUG: EUC-KR Korean confidence = 0.01\n",
      "2020-04-24 21:16:03 [chardet.charsetprober] DEBUG: CP949 Korean confidence = 0.01\n",
      "2020-04-24 21:16:03 [chardet.charsetprober] DEBUG: Big5 Chinese confidence = 0.01\n",
      "2020-04-24 21:16:03 [chardet.charsetprober] DEBUG: EUC-TW Taiwan confidence = 0.01\n",
      "2020-04-24 21:16:03 [urllib3.connectionpool] DEBUG: Starting new HTTPS connection (1): www.smh.com.au:443\n"
     ]
    },
    {
     "name": "stdout",
     "output_type": "stream",
     "text": [
      "/national/coronavirus-updates-live-scott-morrison-says-social-distancing-won-t-apply-to-schools-global-covid-19-cases-surpass-2-7-million-australian-death-toll-stands-at-78-20200424-p54n21.html#p50dyf\n",
      "/national/coronavirus-updates-live-scott-morrison-says-social-distancing-won-t-apply-to-schools-global-covid-19-cases-surpass-2-7-million-australian-death-toll-stands-at-78-20200424-p54n21.html#p50dya\n",
      "/national/coronavirus-updates-live-scott-morrison-says-social-distancing-won-t-apply-to-schools-global-covid-19-cases-surpass-2-7-million-australian-death-toll-stands-at-78-20200424-p54n21.html#p50dyd\n",
      "/national/coronavirus-updates-live-scott-morrison-says-social-distancing-won-t-apply-to-schools-global-covid-19-cases-surpass-2-7-million-australian-death-toll-stands-at-78-20200424-p54n21.html#p50dyb\n",
      "/politics/federal/australia-rejected-huge-offers-for-medical-supplies-20200424-p54mw7.html\n"
     ]
    },
    {
     "name": "stderr",
     "output_type": "stream",
     "text": [
      "2020-04-24 21:16:04 [urllib3.connectionpool] DEBUG: https://www.smh.com.au:443 \"GET //politics/federal/australia-rejected-huge-offers-for-medical-supplies-20200424-p54mw7.html HTTP/1.1\" 200 46690\n",
      "2020-04-24 21:16:05 [urllib3.connectionpool] DEBUG: Starting new HTTPS connection (1): www.smh.com.au:443\n"
     ]
    },
    {
     "name": "stdout",
     "output_type": "stream",
     "text": [
      "/national/back-to-school-plan-gives-private-students-hsc-advantage-educators-warn-20200424-p54n2v.html\n"
     ]
    },
    {
     "name": "stderr",
     "output_type": "stream",
     "text": [
      "2020-04-24 21:16:05 [urllib3.connectionpool] DEBUG: https://www.smh.com.au:443 \"GET //national/back-to-school-plan-gives-private-students-hsc-advantage-educators-warn-20200424-p54n2v.html HTTP/1.1\" 200 42869\n",
      "2020-04-24 21:16:06 [urllib3.connectionpool] DEBUG: Starting new HTTPS connection (1): www.smh.com.au:443\n"
     ]
    },
    {
     "name": "stdout",
     "output_type": "stream",
     "text": [
      "/national/what-does-covid-19-do-to-the-body-and-what-s-it-like-to-have-the-illness-20200302-p5465a.html\n"
     ]
    },
    {
     "name": "stderr",
     "output_type": "stream",
     "text": [
      "2020-04-24 21:16:06 [urllib3.connectionpool] DEBUG: https://www.smh.com.au:443 \"GET //national/what-does-covid-19-do-to-the-body-and-what-s-it-like-to-have-the-illness-20200302-p5465a.html HTTP/1.1\" 200 70212\n",
      "2020-04-24 21:16:06 [urllib3.connectionpool] DEBUG: Starting new HTTPS connection (1): www.smh.com.au:443\n"
     ]
    },
    {
     "name": "stdout",
     "output_type": "stream",
     "text": [
      "/national/since-you-asked-your-covid-19-questions-answered-20200323-p54cy7.html\n"
     ]
    },
    {
     "name": "stderr",
     "output_type": "stream",
     "text": [
      "2020-04-24 21:16:07 [urllib3.connectionpool] DEBUG: https://www.smh.com.au:443 \"GET //national/since-you-asked-your-covid-19-questions-answered-20200323-p54cy7.html HTTP/1.1\" 301 141\n",
      "2020-04-24 21:16:07 [urllib3.connectionpool] DEBUG: https://www.smh.com.au:443 \"GET /national/what-s-the-death-rate-how-long-will-it-last-your-covid-19-questions-answered-20200323-p54cy7.html HTTP/1.1\" 200 141795\n",
      "2020-04-24 21:16:07 [urllib3.connectionpool] DEBUG: Starting new HTTPS connection (1): www.smh.com.au:443\n"
     ]
    },
    {
     "name": "stdout",
     "output_type": "stream",
     "text": [
      "/please-explain\n",
      "https://login.myfairfax.com.au/signup_newsletter/10103?channel_key=zHE9EWDHf1XPuz3Phk0YIg&callback_uri=https://www.smh.com.au\n",
      "/topic/anzac-day-5ud\n",
      "/national/nsw/love-and-war-veterans-cling-on-to-anzac-courage-20200424-p54mz2.html\n"
     ]
    },
    {
     "name": "stderr",
     "output_type": "stream",
     "text": [
      "2020-04-24 21:16:08 [urllib3.connectionpool] DEBUG: https://www.smh.com.au:443 \"GET //national/nsw/love-and-war-veterans-cling-on-to-anzac-courage-20200424-p54mz2.html HTTP/1.1\" 200 43034\n",
      "2020-04-24 21:16:08 [urllib3.connectionpool] DEBUG: Starting new HTTPS connection (1): www.smh.com.au:443\n"
     ]
    },
    {
     "name": "stdout",
     "output_type": "stream",
     "text": [
      "/national/nsw/love-and-war-veterans-cling-on-to-anzac-courage-20200424-p54mz2.html\n"
     ]
    },
    {
     "name": "stderr",
     "output_type": "stream",
     "text": [
      "2020-04-24 21:16:08 [urllib3.connectionpool] DEBUG: https://www.smh.com.au:443 \"GET //national/nsw/love-and-war-veterans-cling-on-to-anzac-courage-20200424-p54mz2.html HTTP/1.1\" 200 43034\n",
      "2020-04-24 21:16:08 [urllib3.connectionpool] DEBUG: Starting new HTTPS connection (1): www.smh.com.au:443\n"
     ]
    },
    {
     "name": "stdout",
     "output_type": "stream",
     "text": [
      "/coronavirus-pandemic\n",
      "/national/scott-morrison-has-a-good-story-to-tell-but-the-world-isn-t-listening-20200424-p54mt3.html\n"
     ]
    },
    {
     "name": "stderr",
     "output_type": "stream",
     "text": [
      "2020-04-24 21:16:09 [urllib3.connectionpool] DEBUG: https://www.smh.com.au:443 \"GET //national/scott-morrison-has-a-good-story-to-tell-but-the-world-isn-t-listening-20200424-p54mt3.html HTTP/1.1\" 200 47700\n",
      "2020-04-24 21:16:09 [urllib3.connectionpool] DEBUG: Starting new HTTPS connection (1): www.smh.com.au:443\n"
     ]
    },
    {
     "name": "stdout",
     "output_type": "stream",
     "text": [
      "/national/scott-morrison-has-a-good-story-to-tell-but-the-world-isn-t-listening-20200424-p54mt3.html\n"
     ]
    },
    {
     "name": "stderr",
     "output_type": "stream",
     "text": [
      "2020-04-24 21:16:09 [urllib3.connectionpool] DEBUG: https://www.smh.com.au:443 \"GET //national/scott-morrison-has-a-good-story-to-tell-but-the-world-isn-t-listening-20200424-p54mt3.html HTTP/1.1\" 200 47700\n",
      "2020-04-24 21:16:09 [urllib3.connectionpool] DEBUG: Starting new HTTPS connection (1): www.smh.com.au:443\n"
     ]
    },
    {
     "name": "stdout",
     "output_type": "stream",
     "text": [
      "/topic/aviation-5ut\n",
      "/business/companies/the-week-that-virgin-australia-hit-the-ground-hard-20200423-p54mhp.html\n"
     ]
    },
    {
     "name": "stderr",
     "output_type": "stream",
     "text": [
      "2020-04-24 21:16:10 [urllib3.connectionpool] DEBUG: https://www.smh.com.au:443 \"GET //business/companies/the-week-that-virgin-australia-hit-the-ground-hard-20200423-p54mhp.html HTTP/1.1\" 200 55989\n",
      "2020-04-24 21:16:10 [urllib3.connectionpool] DEBUG: Starting new HTTPS connection (1): www.smh.com.au:443\n",
      "2020-04-24 21:16:10 [urllib3.connectionpool] DEBUG: https://www.smh.com.au:443 \"GET //business/companies/the-week-that-virgin-australia-hit-the-ground-hard-20200423-p54mhp.html HTTP/1.1\" 200 55989\n"
     ]
    },
    {
     "name": "stdout",
     "output_type": "stream",
     "text": [
      "/business/companies/the-week-that-virgin-australia-hit-the-ground-hard-20200423-p54mhp.html\n"
     ]
    },
    {
     "name": "stderr",
     "output_type": "stream",
     "text": [
      "2020-04-24 21:16:10 [urllib3.connectionpool] DEBUG: Starting new HTTPS connection (1): www.smh.com.au:443\n"
     ]
    },
    {
     "name": "stdout",
     "output_type": "stream",
     "text": [
      "/coronavirus-pandemic\n",
      "/politics/federal/treasurer-closes-loopholes-fixes-problems-with-jobkeeper-20200424-p54mzb.html\n"
     ]
    },
    {
     "name": "stderr",
     "output_type": "stream",
     "text": [
      "2020-04-24 21:16:11 [urllib3.connectionpool] DEBUG: https://www.smh.com.au:443 \"GET //politics/federal/treasurer-closes-loopholes-fixes-problems-with-jobkeeper-20200424-p54mzb.html HTTP/1.1\" 200 42942\n",
      "2020-04-24 21:16:11 [urllib3.connectionpool] DEBUG: Starting new HTTPS connection (1): www.smh.com.au:443\n"
     ]
    },
    {
     "name": "stdout",
     "output_type": "stream",
     "text": [
      "/politics/federal/treasurer-closes-loopholes-fixes-problems-with-jobkeeper-20200424-p54mzb.html\n"
     ]
    },
    {
     "name": "stderr",
     "output_type": "stream",
     "text": [
      "2020-04-24 21:16:11 [urllib3.connectionpool] DEBUG: https://www.smh.com.au:443 \"GET //politics/federal/treasurer-closes-loopholes-fixes-problems-with-jobkeeper-20200424-p54mzb.html HTTP/1.1\" 200 42942\n",
      "2020-04-24 21:16:11 [urllib3.connectionpool] DEBUG: Starting new HTTPS connection (1): www.smh.com.au:443\n"
     ]
    },
    {
     "name": "stdout",
     "output_type": "stream",
     "text": [
      "/national/the-small-steps-australia-will-take-towards-the-goal-of-easing-the-lockdown-20200423-p54mov.html\n"
     ]
    },
    {
     "name": "stderr",
     "output_type": "stream",
     "text": [
      "2020-04-24 21:16:12 [urllib3.connectionpool] DEBUG: https://www.smh.com.au:443 \"GET //national/the-small-steps-australia-will-take-towards-the-goal-of-easing-the-lockdown-20200423-p54mov.html HTTP/1.1\" 200 57310\n",
      "2020-04-24 21:16:12 [urllib3.connectionpool] DEBUG: Starting new HTTPS connection (1): www.smh.com.au:443\n",
      "2020-04-24 21:16:12 [urllib3.connectionpool] DEBUG: https://www.smh.com.au:443 \"GET //national/the-small-steps-australia-will-take-towards-the-goal-of-easing-the-lockdown-20200423-p54mov.html HTTP/1.1\" 200 57310\n"
     ]
    },
    {
     "name": "stdout",
     "output_type": "stream",
     "text": [
      "/coronavirus-pandemic\n",
      "/national/the-small-steps-australia-will-take-towards-the-goal-of-easing-the-lockdown-20200423-p54mov.html\n"
     ]
    },
    {
     "name": "stderr",
     "output_type": "stream",
     "text": [
      "2020-04-24 21:16:12 [urllib3.connectionpool] DEBUG: Starting new HTTPS connection (1): www.smh.com.au:443\n"
     ]
    },
    {
     "name": "stdout",
     "output_type": "stream",
     "text": [
      "/national/scientists-dispel-theory-covid-19-escaped-from-lab-20200424-p54mun.html\n"
     ]
    },
    {
     "name": "stderr",
     "output_type": "stream",
     "text": [
      "2020-04-24 21:16:13 [urllib3.connectionpool] DEBUG: https://www.smh.com.au:443 \"GET //national/scientists-dispel-theory-covid-19-escaped-from-lab-20200424-p54mun.html HTTP/1.1\" 200 41463\n",
      "2020-04-24 21:16:13 [urllib3.connectionpool] DEBUG: Starting new HTTPS connection (1): www.smh.com.au:443\n",
      "2020-04-24 21:16:13 [urllib3.connectionpool] DEBUG: https://www.smh.com.au:443 \"GET //national/scientists-dispel-theory-covid-19-escaped-from-lab-20200424-p54mun.html HTTP/1.1\" 200 41463\n"
     ]
    },
    {
     "name": "stdout",
     "output_type": "stream",
     "text": [
      "/coronavirus-pandemic\n",
      "/national/scientists-dispel-theory-covid-19-escaped-from-lab-20200424-p54mun.html\n"
     ]
    },
    {
     "name": "stderr",
     "output_type": "stream",
     "text": [
      "2020-04-24 21:16:13 [urllib3.connectionpool] DEBUG: Starting new HTTPS connection (1): www.smh.com.au:443\n"
     ]
    },
    {
     "name": "stdout",
     "output_type": "stream",
     "text": [
      "/politics/federal/australia-on-track-for-cautious-easing-of-coronavirus-restrictions-20200424-p54n11.html\n"
     ]
    },
    {
     "name": "stderr",
     "output_type": "stream",
     "text": [
      "2020-04-24 21:16:14 [urllib3.connectionpool] DEBUG: https://www.smh.com.au:443 \"GET //politics/federal/australia-on-track-for-cautious-easing-of-coronavirus-restrictions-20200424-p54n11.html HTTP/1.1\" 200 46695\n",
      "2020-04-24 21:16:14 [urllib3.connectionpool] DEBUG: Starting new HTTPS connection (1): www.smh.com.au:443\n"
     ]
    },
    {
     "name": "stdout",
     "output_type": "stream",
     "text": [
      "/coronavirus-pandemic\n",
      "/politics/federal/australia-on-track-for-cautious-easing-of-coronavirus-restrictions-20200424-p54n11.html\n"
     ]
    },
    {
     "name": "stderr",
     "output_type": "stream",
     "text": [
      "2020-04-24 21:16:14 [urllib3.connectionpool] DEBUG: https://www.smh.com.au:443 \"GET //politics/federal/australia-on-track-for-cautious-easing-of-coronavirus-restrictions-20200424-p54n11.html HTTP/1.1\" 200 46695\n",
      "2020-04-24 21:16:15 [urllib3.connectionpool] DEBUG: Starting new HTTPS connection (1): www.smh.com.au:443\n"
     ]
    },
    {
     "name": "stdout",
     "output_type": "stream",
     "text": [
      "/national/nsw/convicted-solicitor-michael-croke-deserves-everything-he-gets-says-ex-client-20200424-p54n30.html\n"
     ]
    },
    {
     "name": "stderr",
     "output_type": "stream",
     "text": [
      "2020-04-24 21:16:15 [urllib3.connectionpool] DEBUG: https://www.smh.com.au:443 \"GET //national/nsw/convicted-solicitor-michael-croke-deserves-everything-he-gets-says-ex-client-20200424-p54n30.html HTTP/1.1\" 200 43329\n",
      "2020-04-24 21:16:15 [urllib3.connectionpool] DEBUG: Starting new HTTPS connection (1): www.smh.com.au:443\n"
     ]
    },
    {
     "name": "stdout",
     "output_type": "stream",
     "text": [
      "/topic/sydney-courts-62m\n",
      "/national/nsw/convicted-solicitor-michael-croke-deserves-everything-he-gets-says-ex-client-20200424-p54n30.html\n"
     ]
    },
    {
     "name": "stderr",
     "output_type": "stream",
     "text": [
      "2020-04-24 21:16:16 [urllib3.connectionpool] DEBUG: https://www.smh.com.au:443 \"GET //national/nsw/convicted-solicitor-michael-croke-deserves-everything-he-gets-says-ex-client-20200424-p54n30.html HTTP/1.1\" 200 43329\n",
      "2020-04-24 21:16:16 [urllib3.connectionpool] DEBUG: Starting new HTTPS connection (1): www.smh.com.au:443\n"
     ]
    },
    {
     "name": "stdout",
     "output_type": "stream",
     "text": [
      "/business/banking-and-finance/westpac-freezes-credit-card-charges-for-covid-19-hit-customers-20200424-p54n12.html\n"
     ]
    },
    {
     "name": "stderr",
     "output_type": "stream",
     "text": [
      "2020-04-24 21:16:16 [urllib3.connectionpool] DEBUG: https://www.smh.com.au:443 \"GET //business/banking-and-finance/westpac-freezes-credit-card-charges-for-covid-19-hit-customers-20200424-p54n12.html HTTP/1.1\" 200 43536\n",
      "2020-04-24 21:16:16 [urllib3.connectionpool] DEBUG: Starting new HTTPS connection (1): www.smh.com.au:443\n",
      "2020-04-24 21:16:16 [urllib3.connectionpool] DEBUG: https://www.smh.com.au:443 \"GET //business/banking-and-finance/westpac-freezes-credit-card-charges-for-covid-19-hit-customers-20200424-p54n12.html HTTP/1.1\" 200 43536\n"
     ]
    },
    {
     "name": "stdout",
     "output_type": "stream",
     "text": [
      "/topic/big-four-banks-5ux\n",
      "/business/banking-and-finance/westpac-freezes-credit-card-charges-for-covid-19-hit-customers-20200424-p54n12.html\n"
     ]
    },
    {
     "name": "stderr",
     "output_type": "stream",
     "text": [
      "2020-04-24 21:16:17 [urllib3.connectionpool] DEBUG: Starting new HTTPS connection (1): www.smh.com.au:443\n"
     ]
    },
    {
     "name": "stdout",
     "output_type": "stream",
     "text": [
      "/national/old-battlefield-falls-silent-as-a-new-struggle-is-fought-in-solitude-20200424-p54mui.html\n"
     ]
    },
    {
     "name": "stderr",
     "output_type": "stream",
     "text": [
      "2020-04-24 21:16:17 [urllib3.connectionpool] DEBUG: https://www.smh.com.au:443 \"GET //national/old-battlefield-falls-silent-as-a-new-struggle-is-fought-in-solitude-20200424-p54mui.html HTTP/1.1\" 200 53024\n",
      "2020-04-24 21:16:17 [urllib3.connectionpool] DEBUG: Starting new HTTPS connection (1): www.smh.com.au:443\n"
     ]
    },
    {
     "name": "stdout",
     "output_type": "stream",
     "text": [
      "/coronavirus-pandemic\n",
      "/national/old-battlefield-falls-silent-as-a-new-struggle-is-fought-in-solitude-20200424-p54mui.html\n"
     ]
    },
    {
     "name": "stderr",
     "output_type": "stream",
     "text": [
      "2020-04-24 21:16:17 [urllib3.connectionpool] DEBUG: https://www.smh.com.au:443 \"GET //national/old-battlefield-falls-silent-as-a-new-struggle-is-fought-in-solitude-20200424-p54mui.html HTTP/1.1\" 200 53024\n",
      "2020-04-24 21:16:18 [urllib3.connectionpool] DEBUG: Starting new HTTPS connection (1): www.smh.com.au:443\n",
      "2020-04-24 21:16:18 [urllib3.connectionpool] DEBUG: https://www.smh.com.au:443 \"GET //national/coronavirus-updates-live-scott-morrison-says-social-distancing-won-t-apply-to-schools-global-covid-19-cases-surpass-2-7-million-australian-death-toll-stands-at-78-20200424-p54n21.html HTTP/1.1\" 200 51481\n"
     ]
    },
    {
     "name": "stdout",
     "output_type": "stream",
     "text": [
      "/breaking-news\n",
      "/national/coronavirus-updates-live-scott-morrison-says-social-distancing-won-t-apply-to-schools-global-covid-19-cases-surpass-2-7-million-australian-death-toll-stands-at-78-20200424-p54n21.html\n"
     ]
    },
    {
     "name": "stderr",
     "output_type": "stream",
     "text": [
      "2020-04-24 21:16:19 [chardet.charsetprober] DEBUG: utf-8  confidence = 0.99\n",
      "2020-04-24 21:16:19 [chardet.charsetprober] DEBUG: SHIFT_JIS Japanese confidence = 0.01\n",
      "2020-04-24 21:16:19 [chardet.charsetprober] DEBUG: EUC-JP Japanese confidence = 0.01\n",
      "2020-04-24 21:16:19 [chardet.charsetprober] DEBUG: GB2312 Chinese confidence = 0.01\n",
      "2020-04-24 21:16:19 [chardet.charsetprober] DEBUG: EUC-KR Korean confidence = 0.01\n",
      "2020-04-24 21:16:19 [chardet.charsetprober] DEBUG: CP949 Korean confidence = 0.01\n",
      "2020-04-24 21:16:19 [chardet.charsetprober] DEBUG: Big5 Chinese confidence = 0.01\n",
      "2020-04-24 21:16:19 [chardet.charsetprober] DEBUG: EUC-TW Taiwan confidence = 0.01\n",
      "2020-04-24 21:16:19 [chardet.charsetprober] DEBUG: windows-1251 Russian confidence = 0.01\n",
      "2020-04-24 21:16:19 [chardet.charsetprober] DEBUG: KOI8-R Russian confidence = 0.01\n",
      "2020-04-24 21:16:19 [chardet.charsetprober] DEBUG: ISO-8859-5 Russian confidence = 0.01\n",
      "2020-04-24 21:16:19 [chardet.charsetprober] DEBUG: MacCyrillic Russian confidence = 0.0\n",
      "2020-04-24 21:16:19 [chardet.charsetprober] DEBUG: IBM866 Russian confidence = 0.0\n",
      "2020-04-24 21:16:19 [chardet.charsetprober] DEBUG: IBM855 Russian confidence = 0.01\n",
      "2020-04-24 21:16:19 [chardet.charsetprober] DEBUG: ISO-8859-7 Greek confidence = 0.0\n",
      "2020-04-24 21:16:19 [chardet.charsetprober] DEBUG: windows-1253 Greek confidence = 0.0\n",
      "2020-04-24 21:16:19 [chardet.charsetprober] DEBUG: ISO-8859-5 Bulgairan confidence = 0.01\n",
      "2020-04-24 21:16:19 [chardet.charsetprober] DEBUG: windows-1251 Bulgarian confidence = 0.01\n",
      "2020-04-24 21:16:19 [chardet.charsetprober] DEBUG: TIS-620 Thai confidence = 0.0\n",
      "2020-04-24 21:16:19 [chardet.charsetprober] DEBUG: ISO-8859-9 Turkish confidence = 0.5247330534255021\n",
      "2020-04-24 21:16:19 [chardet.charsetprober] DEBUG: windows-1255 Hebrew confidence = 0.0\n",
      "2020-04-24 21:16:19 [chardet.charsetprober] DEBUG: windows-1255 Hebrew confidence = 0.0\n",
      "2020-04-24 21:16:19 [chardet.charsetprober] DEBUG: windows-1255 Hebrew confidence = 0.0\n",
      "2020-04-24 21:16:19 [chardet.charsetprober] DEBUG: utf-8  confidence = 0.99\n",
      "2020-04-24 21:16:19 [chardet.charsetprober] DEBUG: SHIFT_JIS Japanese confidence = 0.01\n",
      "2020-04-24 21:16:19 [chardet.charsetprober] DEBUG: EUC-JP Japanese confidence = 0.01\n",
      "2020-04-24 21:16:19 [chardet.charsetprober] DEBUG: GB2312 Chinese confidence = 0.01\n",
      "2020-04-24 21:16:19 [chardet.charsetprober] DEBUG: EUC-KR Korean confidence = 0.01\n",
      "2020-04-24 21:16:19 [chardet.charsetprober] DEBUG: CP949 Korean confidence = 0.01\n",
      "2020-04-24 21:16:19 [chardet.charsetprober] DEBUG: Big5 Chinese confidence = 0.01\n",
      "2020-04-24 21:16:19 [chardet.charsetprober] DEBUG: EUC-TW Taiwan confidence = 0.01\n",
      "2020-04-24 21:16:19 [urllib3.connectionpool] DEBUG: Starting new HTTPS connection (1): www.smh.com.au:443\n"
     ]
    },
    {
     "name": "stdout",
     "output_type": "stream",
     "text": [
      "/world/north-america/don-t-inject-disinfectants-dettol-warns-as-trump-raises-the-idea-20200425-p54n4m.html\n"
     ]
    },
    {
     "name": "stderr",
     "output_type": "stream",
     "text": [
      "2020-04-24 21:16:20 [urllib3.connectionpool] DEBUG: https://www.smh.com.au:443 \"GET //world/north-america/don-t-inject-disinfectants-dettol-warns-as-trump-raises-the-idea-20200425-p54n4m.html HTTP/1.1\" 200 44969\n",
      "2020-04-24 21:16:20 [urllib3.connectionpool] DEBUG: Starting new HTTPS connection (1): www.smh.com.au:443\n"
     ]
    },
    {
     "name": "stdout",
     "output_type": "stream",
     "text": [
      "/national/nsw/give-it-a-whirl-regional-cities-call-for-trial-of-relaxed-restrictions-20200424-p54n1p.html\n"
     ]
    },
    {
     "name": "stderr",
     "output_type": "stream",
     "text": [
      "2020-04-24 21:16:20 [urllib3.connectionpool] DEBUG: https://www.smh.com.au:443 \"GET //national/nsw/give-it-a-whirl-regional-cities-call-for-trial-of-relaxed-restrictions-20200424-p54n1p.html HTTP/1.1\" 200 40662\n",
      "2020-04-24 21:16:20 [urllib3.connectionpool] DEBUG: Starting new HTTPS connection (1): www.smh.com.au:443\n"
     ]
    },
    {
     "name": "stdout",
     "output_type": "stream",
     "text": [
      "/culture/music/musicians-join-forces-on-an-anzac-day-unlike-any-other-20200424-p54n14.html\n"
     ]
    },
    {
     "name": "stderr",
     "output_type": "stream",
     "text": [
      "2020-04-24 21:16:22 [urllib3.connectionpool] DEBUG: https://www.smh.com.au:443 \"GET //culture/music/musicians-join-forces-on-an-anzac-day-unlike-any-other-20200424-p54n14.html HTTP/1.1\" 200 41566\n",
      "2020-04-24 21:16:22 [urllib3.connectionpool] DEBUG: Starting new HTTPS connection (1): www.smh.com.au:443\n"
     ]
    },
    {
     "name": "stdout",
     "output_type": "stream",
     "text": [
      "/sydney-news\n",
      "/national/hsc-exams-go-ahead-this-year-results-released-in-mid-december-20200424-p54n22.html\n"
     ]
    },
    {
     "name": "stderr",
     "output_type": "stream",
     "text": [
      "2020-04-24 21:16:22 [urllib3.connectionpool] DEBUG: https://www.smh.com.au:443 \"GET //national/hsc-exams-go-ahead-this-year-results-released-in-mid-december-20200424-p54n22.html HTTP/1.1\" 200 40130\n",
      "2020-04-24 21:16:23 [urllib3.connectionpool] DEBUG: Starting new HTTPS connection (1): www.smh.com.au:443\n"
     ]
    },
    {
     "name": "stdout",
     "output_type": "stream",
     "text": [
      "/coronavirus-pandemic\n",
      "/national/hsc-exams-go-ahead-this-year-results-released-in-mid-december-20200424-p54n22.html\n"
     ]
    },
    {
     "name": "stderr",
     "output_type": "stream",
     "text": [
      "2020-04-24 21:16:23 [urllib3.connectionpool] DEBUG: https://www.smh.com.au:443 \"GET //national/hsc-exams-go-ahead-this-year-results-released-in-mid-december-20200424-p54n22.html HTTP/1.1\" 200 40130\n",
      "2020-04-24 21:16:23 [urllib3.connectionpool] DEBUG: Starting new HTTPS connection (1): www.smh.com.au:443\n"
     ]
    },
    {
     "name": "stdout",
     "output_type": "stream",
     "text": [
      "/coronavirus-pandemic\n",
      "/national/nsw/coogee-and-maroubra-beaches-shut-due-to-crowds-20200424-p54mz6.html\n"
     ]
    },
    {
     "name": "stderr",
     "output_type": "stream",
     "text": [
      "2020-04-24 21:16:24 [urllib3.connectionpool] DEBUG: https://www.smh.com.au:443 \"GET //national/nsw/coogee-and-maroubra-beaches-shut-due-to-crowds-20200424-p54mz6.html HTTP/1.1\" 200 46491\n",
      "2020-04-24 21:16:24 [urllib3.connectionpool] DEBUG: Starting new HTTPS connection (1): www.smh.com.au:443\n"
     ]
    },
    {
     "name": "stdout",
     "output_type": "stream",
     "text": [
      "/national/nsw/coogee-and-maroubra-beaches-shut-due-to-crowds-20200424-p54mz6.html\n"
     ]
    },
    {
     "name": "stderr",
     "output_type": "stream",
     "text": [
      "2020-04-24 21:16:24 [urllib3.connectionpool] DEBUG: https://www.smh.com.au:443 \"GET //national/nsw/coogee-and-maroubra-beaches-shut-due-to-crowds-20200424-p54mz6.html HTTP/1.1\" 200 46491\n",
      "2020-04-24 21:16:25 [urllib3.connectionpool] DEBUG: Starting new HTTPS connection (1): www.smh.com.au:443\n"
     ]
    },
    {
     "name": "stdout",
     "output_type": "stream",
     "text": [
      "/topic/crime-5w4\n",
      "/national/nsw/two-charged-after-80-million-of-liquid-meth-found-inside-bottles-of-mineral-water-20200424-p54mtw.html\n"
     ]
    },
    {
     "name": "stderr",
     "output_type": "stream",
     "text": [
      "2020-04-24 21:16:25 [urllib3.connectionpool] DEBUG: https://www.smh.com.au:443 \"GET //national/nsw/two-charged-after-80-million-of-liquid-meth-found-inside-bottles-of-mineral-water-20200424-p54mtw.html HTTP/1.1\" 200 41797\n",
      "2020-04-24 21:16:25 [urllib3.connectionpool] DEBUG: Starting new HTTPS connection (1): www.smh.com.au:443\n",
      "2020-04-24 21:16:25 [urllib3.connectionpool] DEBUG: https://www.smh.com.au:443 \"GET //national/nsw/two-charged-after-80-million-of-liquid-meth-found-inside-bottles-of-mineral-water-20200424-p54mtw.html HTTP/1.1\" 200 41797\n"
     ]
    },
    {
     "name": "stdout",
     "output_type": "stream",
     "text": [
      "/national/nsw/two-charged-after-80-million-of-liquid-meth-found-inside-bottles-of-mineral-water-20200424-p54mtw.html\n"
     ]
    },
    {
     "name": "stderr",
     "output_type": "stream",
     "text": [
      "2020-04-24 21:16:25 [urllib3.connectionpool] DEBUG: Starting new HTTPS connection (1): www.smh.com.au:443\n"
     ]
    },
    {
     "name": "stdout",
     "output_type": "stream",
     "text": [
      "/coronavirus-pandemic\n",
      "/national/nsw/drivers-to-mow-lawns-canteen-staff-to-clean-in-private-school-job-deal-20200423-p54mow.html\n"
     ]
    },
    {
     "name": "stderr",
     "output_type": "stream",
     "text": [
      "2020-04-24 21:16:26 [urllib3.connectionpool] DEBUG: https://www.smh.com.au:443 \"GET //national/nsw/drivers-to-mow-lawns-canteen-staff-to-clean-in-private-school-job-deal-20200423-p54mow.html HTTP/1.1\" 200 43046\n",
      "2020-04-24 21:16:26 [urllib3.connectionpool] DEBUG: Starting new HTTPS connection (1): www.smh.com.au:443\n"
     ]
    },
    {
     "name": "stdout",
     "output_type": "stream",
     "text": [
      "/national/nsw/drivers-to-mow-lawns-canteen-staff-to-clean-in-private-school-job-deal-20200423-p54mow.html\n"
     ]
    },
    {
     "name": "stderr",
     "output_type": "stream",
     "text": [
      "2020-04-24 21:16:26 [urllib3.connectionpool] DEBUG: https://www.smh.com.au:443 \"GET //national/nsw/drivers-to-mow-lawns-canteen-staff-to-clean-in-private-school-job-deal-20200423-p54mow.html HTTP/1.1\" 200 43046\n",
      "2020-04-24 21:16:26 [urllib3.connectionpool] DEBUG: Starting new HTTPS connection (1): www.smh.com.au:443\n"
     ]
    },
    {
     "name": "stdout",
     "output_type": "stream",
     "text": [
      "/coronavirus-pandemic\n",
      "/national/sydney-university-urges-staff-to-apply-for-jobkeeper-subsidy-20200424-p54mwj.html\n"
     ]
    },
    {
     "name": "stderr",
     "output_type": "stream",
     "text": [
      "2020-04-24 21:16:27 [urllib3.connectionpool] DEBUG: https://www.smh.com.au:443 \"GET //national/sydney-university-urges-staff-to-apply-for-jobkeeper-subsidy-20200424-p54mwj.html HTTP/1.1\" 200 42924\n",
      "2020-04-24 21:16:27 [urllib3.connectionpool] DEBUG: Starting new HTTPS connection (1): www.smh.com.au:443\n"
     ]
    },
    {
     "name": "stdout",
     "output_type": "stream",
     "text": [
      "/national/sydney-university-urges-staff-to-apply-for-jobkeeper-subsidy-20200424-p54mwj.html\n"
     ]
    },
    {
     "name": "stderr",
     "output_type": "stream",
     "text": [
      "2020-04-24 21:16:27 [urllib3.connectionpool] DEBUG: https://www.smh.com.au:443 \"GET //national/sydney-university-urges-staff-to-apply-for-jobkeeper-subsidy-20200424-p54mwj.html HTTP/1.1\" 200 42924\n",
      "2020-04-24 21:16:28 [urllib3.connectionpool] DEBUG: Starting new HTTPS connection (1): www.smh.com.au:443\n"
     ]
    },
    {
     "name": "stdout",
     "output_type": "stream",
     "text": [
      "https://www.domain.com.au/living/how-to-get-the-most-out-of-your-edible-garden-during-isolation-949803/?utm_campaign=featured-masthead&utm_source=smh&utm_medium=link\n",
      "https://www.domain.com.au/living/how-to-get-the-most-out-of-your-edible-garden-during-isolation-949803/?utm_campaign=featured-masthead&utm_source=smh&utm_medium=link\n",
      "https://www.domain.com.au/living/how-to-get-the-most-out-of-your-edible-garden-during-isolation-949803/?utm_campaign=featured-masthead&utm_source=smh&utm_medium=link\n",
      "https://www.domain.com.au/news/lifestyle-buyers-storm-the-southeast-queensland-market-949749/?utm_campaign=featured-masthead&utm_source=smh&utm_medium=link\n",
      "https://www.domain.com.au/news/lifestyle-buyers-storm-the-southeast-queensland-market-949749/?utm_campaign=featured-masthead&utm_source=smh&utm_medium=link\n",
      "https://www.domain.com.au/news/lifestyle-buyers-storm-the-southeast-queensland-market-949749/?utm_campaign=featured-masthead&utm_source=smh&utm_medium=link\n",
      "https://www.drive.com.au/news/new-warning-about-ute-safety-tests-reveal-hidden-dangers-of-dodgy-accessories-123545.html?trackLink=SMH0\n",
      "https://www.drive.com.au/news/new-warning-about-ute-safety-tests-reveal-hidden-dangers-of-dodgy-accessories-123545.html?trackLink=SMH0\n",
      "https://www.drive.com.au/news/new-warning-about-ute-safety-tests-reveal-hidden-dangers-of-dodgy-accessories-123545.html?trackLink=SMH0\n",
      "https://www.smh.com.au/topic/good-weekend-1qq\n",
      "/sport/afl/making-her-mark-how-a-photo-brought-aussie-rules-star-tayla-harris-a-game-to-the-trolls-20200316-p54al1.html\n"
     ]
    },
    {
     "name": "stderr",
     "output_type": "stream",
     "text": [
      "2020-04-24 21:16:28 [urllib3.connectionpool] DEBUG: https://www.smh.com.au:443 \"GET //sport/afl/making-her-mark-how-a-photo-brought-aussie-rules-star-tayla-harris-a-game-to-the-trolls-20200316-p54al1.html HTTP/1.1\" 200 76722\n",
      "2020-04-24 21:16:28 [urllib3.connectionpool] DEBUG: Starting new HTTPS connection (1): www.smh.com.au:443\n"
     ]
    },
    {
     "name": "stdout",
     "output_type": "stream",
     "text": [
      "/sport/afl/making-her-mark-how-a-photo-brought-aussie-rules-star-tayla-harris-a-game-to-the-trolls-20200316-p54al1.html\n"
     ]
    },
    {
     "name": "stderr",
     "output_type": "stream",
     "text": [
      "2020-04-24 21:16:29 [urllib3.connectionpool] DEBUG: https://www.smh.com.au:443 \"GET //sport/afl/making-her-mark-how-a-photo-brought-aussie-rules-star-tayla-harris-a-game-to-the-trolls-20200316-p54al1.html HTTP/1.1\" 200 76722\n",
      "2020-04-24 21:16:29 [urllib3.connectionpool] DEBUG: Starting new HTTPS connection (1): www.smh.com.au:443\n"
     ]
    },
    {
     "name": "stdout",
     "output_type": "stream",
     "text": [
      "/lifestyle/life-and-relationships/the-untold-grief-tupperware-has-brought-to-my-marriage-20200316-p54akz.html\n"
     ]
    },
    {
     "name": "stderr",
     "output_type": "stream",
     "text": [
      "2020-04-24 21:16:30 [urllib3.connectionpool] DEBUG: https://www.smh.com.au:443 \"GET //lifestyle/life-and-relationships/the-untold-grief-tupperware-has-brought-to-my-marriage-20200316-p54akz.html HTTP/1.1\" 200 42594\n",
      "2020-04-24 21:16:30 [urllib3.connectionpool] DEBUG: Starting new HTTPS connection (1): www.smh.com.au:443\n",
      "2020-04-24 21:16:30 [urllib3.connectionpool] DEBUG: https://www.smh.com.au:443 \"GET //lifestyle/life-and-relationships/the-untold-grief-tupperware-has-brought-to-my-marriage-20200316-p54akz.html HTTP/1.1\" 200 42594\n"
     ]
    },
    {
     "name": "stdout",
     "output_type": "stream",
     "text": [
      "/lifestyle/life-and-relationships/the-untold-grief-tupperware-has-brought-to-my-marriage-20200316-p54akz.html\n"
     ]
    },
    {
     "name": "stderr",
     "output_type": "stream",
     "text": [
      "2020-04-24 21:16:30 [urllib3.connectionpool] DEBUG: Starting new HTTPS connection (1): www.smh.com.au:443\n"
     ]
    },
    {
     "name": "stdout",
     "output_type": "stream",
     "text": [
      "/lifestyle/life-and-relationships/when-john-roth-was-diagnosed-with-alzheimer-s-he-and-his-wife-cathy-were-devastated-but-also-determined-to-make-a-difference-20200316-p54al3.html\n"
     ]
    },
    {
     "name": "stderr",
     "output_type": "stream",
     "text": [
      "2020-04-24 21:16:31 [urllib3.connectionpool] DEBUG: https://www.smh.com.au:443 \"GET //lifestyle/life-and-relationships/when-john-roth-was-diagnosed-with-alzheimer-s-he-and-his-wife-cathy-were-devastated-but-also-determined-to-make-a-difference-20200316-p54al3.html HTTP/1.1\" 200 46900\n",
      "2020-04-24 21:16:31 [urllib3.connectionpool] DEBUG: Starting new HTTPS connection (1): www.smh.com.au:443\n",
      "2020-04-24 21:16:31 [urllib3.connectionpool] DEBUG: https://www.smh.com.au:443 \"GET //lifestyle/life-and-relationships/when-john-roth-was-diagnosed-with-alzheimer-s-he-and-his-wife-cathy-were-devastated-but-also-determined-to-make-a-difference-20200316-p54al3.html HTTP/1.1\" 200 46900\n"
     ]
    },
    {
     "name": "stdout",
     "output_type": "stream",
     "text": [
      "/lifestyle/life-and-relationships/when-john-roth-was-diagnosed-with-alzheimer-s-he-and-his-wife-cathy-were-devastated-but-also-determined-to-make-a-difference-20200316-p54al3.html\n"
     ]
    },
    {
     "name": "stderr",
     "output_type": "stream",
     "text": [
      "2020-04-24 21:16:32 [urllib3.connectionpool] DEBUG: Starting new HTTPS connection (1): www.smh.com.au:443\n"
     ]
    },
    {
     "name": "stdout",
     "output_type": "stream",
     "text": [
      "/politics\n",
      "/politics/federal/morrison-says-coronavirus-app-data-will-be-kept-in-australia-20200424-p54n28.html\n"
     ]
    },
    {
     "name": "stderr",
     "output_type": "stream",
     "text": [
      "2020-04-24 21:16:32 [urllib3.connectionpool] DEBUG: https://www.smh.com.au:443 \"GET //politics/federal/morrison-says-coronavirus-app-data-will-be-kept-in-australia-20200424-p54n28.html HTTP/1.1\" 200 41694\n",
      "2020-04-24 21:16:32 [urllib3.connectionpool] DEBUG: Starting new HTTPS connection (1): www.smh.com.au:443\n",
      "2020-04-24 21:16:32 [urllib3.connectionpool] DEBUG: https://www.smh.com.au:443 \"GET //politics/federal/morrison-says-coronavirus-app-data-will-be-kept-in-australia-20200424-p54n28.html HTTP/1.1\" 200 41694\n"
     ]
    },
    {
     "name": "stdout",
     "output_type": "stream",
     "text": [
      "/coronavirus-pandemic\n",
      "/politics/federal/morrison-says-coronavirus-app-data-will-be-kept-in-australia-20200424-p54n28.html\n"
     ]
    },
    {
     "name": "stderr",
     "output_type": "stream",
     "text": [
      "2020-04-24 21:16:33 [urllib3.connectionpool] DEBUG: Starting new HTTPS connection (1): www.smh.com.au:443\n"
     ]
    },
    {
     "name": "stdout",
     "output_type": "stream",
     "text": [
      "/politics/federal/budget-blues-for-frydenberg-as-revenue-evaporates-20200424-p54n07.html\n"
     ]
    },
    {
     "name": "stderr",
     "output_type": "stream",
     "text": [
      "2020-04-24 21:16:34 [urllib3.connectionpool] DEBUG: https://www.smh.com.au:443 \"GET //politics/federal/budget-blues-for-frydenberg-as-revenue-evaporates-20200424-p54n07.html HTTP/1.1\" 200 40923\n",
      "2020-04-24 21:16:34 [urllib3.connectionpool] DEBUG: Starting new HTTPS connection (1): www.smh.com.au:443\n"
     ]
    },
    {
     "name": "stdout",
     "output_type": "stream",
     "text": [
      "/topic/australian-economy-1m3k\n",
      "/politics/federal/budget-blues-for-frydenberg-as-revenue-evaporates-20200424-p54n07.html\n"
     ]
    },
    {
     "name": "stderr",
     "output_type": "stream",
     "text": [
      "2020-04-24 21:16:34 [urllib3.connectionpool] DEBUG: https://www.smh.com.au:443 \"GET //politics/federal/budget-blues-for-frydenberg-as-revenue-evaporates-20200424-p54n07.html HTTP/1.1\" 200 40923\n",
      "2020-04-24 21:16:34 [urllib3.connectionpool] DEBUG: Starting new HTTPS connection (1): www.smh.com.au:443\n"
     ]
    },
    {
     "name": "stdout",
     "output_type": "stream",
     "text": [
      "/politics/federal/borders-to-remain-closed-for-months-government-weighs-nz-travel-20200423-p54mon.html\n"
     ]
    },
    {
     "name": "stderr",
     "output_type": "stream",
     "text": [
      "2020-04-24 21:16:35 [urllib3.connectionpool] DEBUG: https://www.smh.com.au:443 \"GET //politics/federal/borders-to-remain-closed-for-months-government-weighs-nz-travel-20200423-p54mon.html HTTP/1.1\" 200 46141\n",
      "2020-04-24 21:16:35 [urllib3.connectionpool] DEBUG: Starting new HTTPS connection (1): www.smh.com.au:443\n",
      "2020-04-24 21:16:35 [urllib3.connectionpool] DEBUG: https://www.smh.com.au:443 \"GET //politics/federal/borders-to-remain-closed-for-months-government-weighs-nz-travel-20200423-p54mon.html HTTP/1.1\" 200 46141\n"
     ]
    },
    {
     "name": "stdout",
     "output_type": "stream",
     "text": [
      "/coronavirus-pandemic\n",
      "/politics/federal/borders-to-remain-closed-for-months-government-weighs-nz-travel-20200423-p54mon.html\n"
     ]
    },
    {
     "name": "stderr",
     "output_type": "stream",
     "text": [
      "2020-04-24 21:16:35 [urllib3.connectionpool] DEBUG: Starting new HTTPS connection (1): www.smh.com.au:443\n"
     ]
    },
    {
     "name": "stdout",
     "output_type": "stream",
     "text": [
      "/politics/federal/jobkeeper-wage-system-pushing-small-businesses-to-the-edge-20200422-p54m62.html\n"
     ]
    },
    {
     "name": "stderr",
     "output_type": "stream",
     "text": [
      "2020-04-24 21:16:36 [urllib3.connectionpool] DEBUG: https://www.smh.com.au:443 \"GET //politics/federal/jobkeeper-wage-system-pushing-small-businesses-to-the-edge-20200422-p54m62.html HTTP/1.1\" 200 47653\n",
      "2020-04-24 21:16:36 [urllib3.connectionpool] DEBUG: Starting new HTTPS connection (1): www.smh.com.au:443\n",
      "2020-04-24 21:16:36 [urllib3.connectionpool] DEBUG: https://www.smh.com.au:443 \"GET //politics/federal/jobkeeper-wage-system-pushing-small-businesses-to-the-edge-20200422-p54m62.html HTTP/1.1\" 200 47653\n"
     ]
    },
    {
     "name": "stdout",
     "output_type": "stream",
     "text": [
      "/coronavirus-pandemic\n",
      "/politics/federal/jobkeeper-wage-system-pushing-small-businesses-to-the-edge-20200422-p54m62.html\n"
     ]
    },
    {
     "name": "stderr",
     "output_type": "stream",
     "text": [
      "2020-04-24 21:16:37 [urllib3.connectionpool] DEBUG: Starting new HTTPS connection (1): www.smh.com.au:443\n"
     ]
    },
    {
     "name": "stdout",
     "output_type": "stream",
     "text": [
      "/business\n",
      "/business/companies/failed-airline-virgin-australia-owes-nearly-7b-to-thousands-of-creditors-20200424-p54my4.html\n"
     ]
    },
    {
     "name": "stderr",
     "output_type": "stream",
     "text": [
      "2020-04-24 21:16:37 [urllib3.connectionpool] DEBUG: https://www.smh.com.au:443 \"GET //business/companies/failed-airline-virgin-australia-owes-nearly-7b-to-thousands-of-creditors-20200424-p54my4.html HTTP/1.1\" 200 45703\n",
      "2020-04-24 21:16:37 [urllib3.connectionpool] DEBUG: Starting new HTTPS connection (1): www.smh.com.au:443\n"
     ]
    },
    {
     "name": "stdout",
     "output_type": "stream",
     "text": [
      "/topic/aviation-5ut\n",
      "/business/companies/failed-airline-virgin-australia-owes-nearly-7b-to-thousands-of-creditors-20200424-p54my4.html\n"
     ]
    },
    {
     "name": "stderr",
     "output_type": "stream",
     "text": [
      "2020-04-24 21:16:38 [urllib3.connectionpool] DEBUG: https://www.smh.com.au:443 \"GET //business/companies/failed-airline-virgin-australia-owes-nearly-7b-to-thousands-of-creditors-20200424-p54my4.html HTTP/1.1\" 200 45703\n",
      "2020-04-24 21:16:38 [urllib3.connectionpool] DEBUG: Starting new HTTPS connection (1): www.smh.com.au:443\n"
     ]
    },
    {
     "name": "stdout",
     "output_type": "stream",
     "text": [
      "/lifestyle/life-and-relationships/home-school-of-hard-knocks-the-diary-of-a-wfh-mother-20200407-p54hto.html\n"
     ]
    },
    {
     "name": "stderr",
     "output_type": "stream",
     "text": [
      "2020-04-24 21:16:38 [urllib3.connectionpool] DEBUG: https://www.smh.com.au:443 \"GET //lifestyle/life-and-relationships/home-school-of-hard-knocks-the-diary-of-a-wfh-mother-20200407-p54hto.html HTTP/1.1\" 200 49263\n",
      "2020-04-24 21:16:38 [urllib3.connectionpool] DEBUG: Starting new HTTPS connection (1): www.smh.com.au:443\n",
      "2020-04-24 21:16:39 [urllib3.connectionpool] DEBUG: https://www.smh.com.au:443 \"GET //lifestyle/life-and-relationships/home-school-of-hard-knocks-the-diary-of-a-wfh-mother-20200407-p54hto.html HTTP/1.1\" 200 49263\n"
     ]
    },
    {
     "name": "stdout",
     "output_type": "stream",
     "text": [
      "/topic/good-weekend-1qq\n",
      "/lifestyle/life-and-relationships/home-school-of-hard-knocks-the-diary-of-a-wfh-mother-20200407-p54hto.html\n"
     ]
    },
    {
     "name": "stderr",
     "output_type": "stream",
     "text": [
      "2020-04-24 21:16:39 [urllib3.connectionpool] DEBUG: Starting new HTTPS connection (1): www.smh.com.au:443\n"
     ]
    },
    {
     "name": "stdout",
     "output_type": "stream",
     "text": [
      "/business/companies/domino-s-to-source-more-locally-as-ceo-shuns-stimulus-20200424-p54mvy.html\n"
     ]
    },
    {
     "name": "stderr",
     "output_type": "stream",
     "text": [
      "2020-04-24 21:16:40 [urllib3.connectionpool] DEBUG: https://www.smh.com.au:443 \"GET //business/companies/domino-s-to-source-more-locally-as-ceo-shuns-stimulus-20200424-p54mvy.html HTTP/1.1\" 200 42909\n",
      "2020-04-24 21:16:40 [urllib3.connectionpool] DEBUG: Starting new HTTPS connection (1): www.smh.com.au:443\n"
     ]
    },
    {
     "name": "stdout",
     "output_type": "stream",
     "text": [
      "/topic/retail-61a\n",
      "/business/companies/domino-s-to-source-more-locally-as-ceo-shuns-stimulus-20200424-p54mvy.html\n"
     ]
    },
    {
     "name": "stderr",
     "output_type": "stream",
     "text": [
      "2020-04-24 21:16:40 [urllib3.connectionpool] DEBUG: https://www.smh.com.au:443 \"GET //business/companies/domino-s-to-source-more-locally-as-ceo-shuns-stimulus-20200424-p54mvy.html HTTP/1.1\" 200 42909\n",
      "2020-04-24 21:16:40 [urllib3.connectionpool] DEBUG: Starting new HTTPS connection (1): www.smh.com.au:443\n"
     ]
    },
    {
     "name": "stdout",
     "output_type": "stream",
     "text": [
      "/business/markets/asx-falls-for-first-week-in-five-despite-friday-flurry-20200424-p54mtr.html\n"
     ]
    },
    {
     "name": "stderr",
     "output_type": "stream",
     "text": [
      "2020-04-24 21:16:41 [urllib3.connectionpool] DEBUG: https://www.smh.com.au:443 \"GET //business/markets/asx-falls-for-first-week-in-five-despite-friday-flurry-20200424-p54mtr.html HTTP/1.1\" 200 59879\n",
      "2020-04-24 21:16:42 [chardet.charsetprober] DEBUG: utf-8  confidence = 0.99\n",
      "2020-04-24 21:16:42 [chardet.charsetprober] DEBUG: SHIFT_JIS Japanese confidence = 0.01\n",
      "2020-04-24 21:16:42 [chardet.charsetprober] DEBUG: EUC-JP Japanese confidence = 0.01\n",
      "2020-04-24 21:16:42 [chardet.charsetprober] DEBUG: GB2312 Chinese confidence = 0.01\n",
      "2020-04-24 21:16:42 [chardet.charsetprober] DEBUG: EUC-KR Korean confidence = 0.01\n",
      "2020-04-24 21:16:42 [chardet.charsetprober] DEBUG: CP949 Korean confidence = 0.01\n",
      "2020-04-24 21:16:42 [chardet.charsetprober] DEBUG: Big5 Chinese confidence = 0.01\n",
      "2020-04-24 21:16:42 [chardet.charsetprober] DEBUG: EUC-TW Taiwan confidence = 0.01\n",
      "2020-04-24 21:16:42 [chardet.charsetprober] DEBUG: windows-1251 Russian confidence = 0.01\n",
      "2020-04-24 21:16:42 [chardet.charsetprober] DEBUG: KOI8-R Russian confidence = 0.01\n",
      "2020-04-24 21:16:42 [chardet.charsetprober] DEBUG: ISO-8859-5 Russian confidence = 0.01\n",
      "2020-04-24 21:16:42 [chardet.charsetprober] DEBUG: MacCyrillic Russian confidence = 0.0\n",
      "2020-04-24 21:16:42 [chardet.charsetprober] DEBUG: IBM866 Russian confidence = 0.0\n",
      "2020-04-24 21:16:42 [chardet.charsetprober] DEBUG: IBM855 Russian confidence = 0.01\n",
      "2020-04-24 21:16:42 [chardet.charsetprober] DEBUG: ISO-8859-7 Greek confidence = 0.0\n",
      "2020-04-24 21:16:42 [chardet.charsetprober] DEBUG: windows-1253 Greek confidence = 0.0\n",
      "2020-04-24 21:16:42 [chardet.charsetprober] DEBUG: ISO-8859-5 Bulgairan confidence = 0.0\n",
      "2020-04-24 21:16:42 [chardet.charsetprober] DEBUG: windows-1251 Bulgarian confidence = 0.0\n",
      "2020-04-24 21:16:42 [chardet.charsetprober] DEBUG: TIS-620 Thai confidence = 0.0\n",
      "2020-04-24 21:16:42 [chardet.charsetprober] DEBUG: ISO-8859-9 Turkish confidence = 0.5334931453343627\n",
      "2020-04-24 21:16:42 [chardet.charsetprober] DEBUG: windows-1255 Hebrew confidence = 0.0\n",
      "2020-04-24 21:16:42 [chardet.charsetprober] DEBUG: windows-1255 Hebrew confidence = 0.0\n",
      "2020-04-24 21:16:42 [chardet.charsetprober] DEBUG: windows-1255 Hebrew confidence = 0.0\n",
      "2020-04-24 21:16:42 [chardet.charsetprober] DEBUG: utf-8  confidence = 0.99\n",
      "2020-04-24 21:16:42 [chardet.charsetprober] DEBUG: SHIFT_JIS Japanese confidence = 0.01\n",
      "2020-04-24 21:16:42 [chardet.charsetprober] DEBUG: EUC-JP Japanese confidence = 0.01\n",
      "2020-04-24 21:16:42 [chardet.charsetprober] DEBUG: GB2312 Chinese confidence = 0.01\n",
      "2020-04-24 21:16:42 [chardet.charsetprober] DEBUG: EUC-KR Korean confidence = 0.01\n",
      "2020-04-24 21:16:42 [chardet.charsetprober] DEBUG: CP949 Korean confidence = 0.01\n",
      "2020-04-24 21:16:42 [chardet.charsetprober] DEBUG: Big5 Chinese confidence = 0.01\n",
      "2020-04-24 21:16:42 [chardet.charsetprober] DEBUG: EUC-TW Taiwan confidence = 0.01\n",
      "2020-04-24 21:16:42 [urllib3.connectionpool] DEBUG: Starting new HTTPS connection (1): www.smh.com.au:443\n"
     ]
    },
    {
     "name": "stdout",
     "output_type": "stream",
     "text": [
      "/topic/investing-1st\n",
      "/business/markets/asx-falls-for-first-week-in-five-despite-friday-flurry-20200424-p54mtr.html\n"
     ]
    },
    {
     "name": "stderr",
     "output_type": "stream",
     "text": [
      "2020-04-24 21:16:42 [urllib3.connectionpool] DEBUG: https://www.smh.com.au:443 \"GET //business/markets/asx-falls-for-first-week-in-five-despite-friday-flurry-20200424-p54mtr.html HTTP/1.1\" 200 59879\n",
      "2020-04-24 21:16:44 [chardet.charsetprober] DEBUG: utf-8  confidence = 0.99\n",
      "2020-04-24 21:16:44 [chardet.charsetprober] DEBUG: SHIFT_JIS Japanese confidence = 0.01\n",
      "2020-04-24 21:16:44 [chardet.charsetprober] DEBUG: EUC-JP Japanese confidence = 0.01\n",
      "2020-04-24 21:16:44 [chardet.charsetprober] DEBUG: GB2312 Chinese confidence = 0.01\n",
      "2020-04-24 21:16:44 [chardet.charsetprober] DEBUG: EUC-KR Korean confidence = 0.01\n",
      "2020-04-24 21:16:44 [chardet.charsetprober] DEBUG: CP949 Korean confidence = 0.01\n",
      "2020-04-24 21:16:44 [chardet.charsetprober] DEBUG: Big5 Chinese confidence = 0.01\n",
      "2020-04-24 21:16:44 [chardet.charsetprober] DEBUG: EUC-TW Taiwan confidence = 0.01\n",
      "2020-04-24 21:16:44 [chardet.charsetprober] DEBUG: windows-1251 Russian confidence = 0.01\n",
      "2020-04-24 21:16:44 [chardet.charsetprober] DEBUG: KOI8-R Russian confidence = 0.01\n",
      "2020-04-24 21:16:44 [chardet.charsetprober] DEBUG: ISO-8859-5 Russian confidence = 0.01\n",
      "2020-04-24 21:16:44 [chardet.charsetprober] DEBUG: MacCyrillic Russian confidence = 0.0\n",
      "2020-04-24 21:16:44 [chardet.charsetprober] DEBUG: IBM866 Russian confidence = 0.0\n",
      "2020-04-24 21:16:44 [chardet.charsetprober] DEBUG: IBM855 Russian confidence = 0.01\n",
      "2020-04-24 21:16:44 [chardet.charsetprober] DEBUG: ISO-8859-7 Greek confidence = 0.0\n",
      "2020-04-24 21:16:44 [chardet.charsetprober] DEBUG: windows-1253 Greek confidence = 0.0\n",
      "2020-04-24 21:16:44 [chardet.charsetprober] DEBUG: ISO-8859-5 Bulgairan confidence = 0.0\n",
      "2020-04-24 21:16:44 [chardet.charsetprober] DEBUG: windows-1251 Bulgarian confidence = 0.0\n",
      "2020-04-24 21:16:44 [chardet.charsetprober] DEBUG: TIS-620 Thai confidence = 0.0\n",
      "2020-04-24 21:16:44 [chardet.charsetprober] DEBUG: ISO-8859-9 Turkish confidence = 0.5334931453343627\n",
      "2020-04-24 21:16:44 [chardet.charsetprober] DEBUG: windows-1255 Hebrew confidence = 0.0\n",
      "2020-04-24 21:16:44 [chardet.charsetprober] DEBUG: windows-1255 Hebrew confidence = 0.0\n",
      "2020-04-24 21:16:44 [chardet.charsetprober] DEBUG: windows-1255 Hebrew confidence = 0.0\n",
      "2020-04-24 21:16:44 [chardet.charsetprober] DEBUG: utf-8  confidence = 0.99\n",
      "2020-04-24 21:16:44 [chardet.charsetprober] DEBUG: SHIFT_JIS Japanese confidence = 0.01\n",
      "2020-04-24 21:16:44 [chardet.charsetprober] DEBUG: EUC-JP Japanese confidence = 0.01\n",
      "2020-04-24 21:16:44 [chardet.charsetprober] DEBUG: GB2312 Chinese confidence = 0.01\n",
      "2020-04-24 21:16:44 [chardet.charsetprober] DEBUG: EUC-KR Korean confidence = 0.01\n",
      "2020-04-24 21:16:44 [chardet.charsetprober] DEBUG: CP949 Korean confidence = 0.01\n",
      "2020-04-24 21:16:44 [chardet.charsetprober] DEBUG: Big5 Chinese confidence = 0.01\n",
      "2020-04-24 21:16:44 [chardet.charsetprober] DEBUG: EUC-TW Taiwan confidence = 0.01\n",
      "2020-04-24 21:16:44 [urllib3.connectionpool] DEBUG: Starting new HTTPS connection (1): www.smh.com.au:443\n"
     ]
    },
    {
     "name": "stdout",
     "output_type": "stream",
     "text": [
      "/world\n",
      "/world/europe/i-want-justice-italian-families-want-to-hold-someone-accountable-20200424-p54n2f.html\n"
     ]
    },
    {
     "name": "stderr",
     "output_type": "stream",
     "text": [
      "2020-04-24 21:16:45 [urllib3.connectionpool] DEBUG: https://www.smh.com.au:443 \"GET //world/europe/i-want-justice-italian-families-want-to-hold-someone-accountable-20200424-p54n2f.html HTTP/1.1\" 200 47549\n",
      "2020-04-24 21:16:46 [urllib3.connectionpool] DEBUG: Starting new HTTPS connection (1): www.smh.com.au:443\n"
     ]
    },
    {
     "name": "stdout",
     "output_type": "stream",
     "text": [
      "/topic/coronavirus-pandemic-live-1nf0\n",
      "/world/europe/i-want-justice-italian-families-want-to-hold-someone-accountable-20200424-p54n2f.html\n"
     ]
    },
    {
     "name": "stderr",
     "output_type": "stream",
     "text": [
      "2020-04-24 21:16:46 [urllib3.connectionpool] DEBUG: https://www.smh.com.au:443 \"GET //world/europe/i-want-justice-italian-families-want-to-hold-someone-accountable-20200424-p54n2f.html HTTP/1.1\" 200 47549\n",
      "2020-04-24 21:16:47 [urllib3.connectionpool] DEBUG: Starting new HTTPS connection (1): www.smh.com.au:443\n"
     ]
    },
    {
     "name": "stdout",
     "output_type": "stream",
     "text": [
      "/world/north-america/bugged-earth-s-land-insects-are-disappearing-20200424-p54n1n.html\n"
     ]
    },
    {
     "name": "stderr",
     "output_type": "stream",
     "text": [
      "2020-04-24 21:16:47 [urllib3.connectionpool] DEBUG: https://www.smh.com.au:443 \"GET //world/north-america/bugged-earth-s-land-insects-are-disappearing-20200424-p54n1n.html HTTP/1.1\" 200 40056\n",
      "2020-04-24 21:16:47 [urllib3.connectionpool] DEBUG: Starting new HTTPS connection (1): www.smh.com.au:443\n"
     ]
    },
    {
     "name": "stdout",
     "output_type": "stream",
     "text": [
      "/topic/insects-jbg\n",
      "/world/north-america/bugged-earth-s-land-insects-are-disappearing-20200424-p54n1n.html\n"
     ]
    },
    {
     "name": "stderr",
     "output_type": "stream",
     "text": [
      "2020-04-24 21:16:48 [urllib3.connectionpool] DEBUG: https://www.smh.com.au:443 \"GET //world/north-america/bugged-earth-s-land-insects-are-disappearing-20200424-p54n1n.html HTTP/1.1\" 200 40056\n",
      "2020-04-24 21:16:48 [urllib3.connectionpool] DEBUG: Starting new HTTPS connection (1): www.smh.com.au:443\n"
     ]
    },
    {
     "name": "stdout",
     "output_type": "stream",
     "text": [
      "/world/asia/not-dead-just-at-the-beach-reports-kim-jong-un-seen-at-tourist-resort-20200424-p54mvu.html\n"
     ]
    },
    {
     "name": "stderr",
     "output_type": "stream",
     "text": [
      "2020-04-24 21:16:48 [urllib3.connectionpool] DEBUG: https://www.smh.com.au:443 \"GET //world/asia/not-dead-just-at-the-beach-reports-kim-jong-un-seen-at-tourist-resort-20200424-p54mvu.html HTTP/1.1\" 200 40273\n",
      "2020-04-24 21:16:49 [urllib3.connectionpool] DEBUG: Starting new HTTPS connection (1): www.smh.com.au:443\n"
     ]
    },
    {
     "name": "stdout",
     "output_type": "stream",
     "text": [
      "/topic/democratic-peoples-republic-of-korea-91j\n",
      "/world/asia/not-dead-just-at-the-beach-reports-kim-jong-un-seen-at-tourist-resort-20200424-p54mvu.html\n"
     ]
    },
    {
     "name": "stderr",
     "output_type": "stream",
     "text": [
      "2020-04-24 21:16:49 [urllib3.connectionpool] DEBUG: https://www.smh.com.au:443 \"GET //world/asia/not-dead-just-at-the-beach-reports-kim-jong-un-seen-at-tourist-resort-20200424-p54mvu.html HTTP/1.1\" 200 40273\n",
      "2020-04-24 21:16:49 [urllib3.connectionpool] DEBUG: Starting new HTTPS connection (1): www.smh.com.au:443\n"
     ]
    },
    {
     "name": "stdout",
     "output_type": "stream",
     "text": [
      "/world/north-america/biden-backs-postal-vote-says-trump-s-opposition-un-american-20200424-p54mxh.html\n"
     ]
    },
    {
     "name": "stderr",
     "output_type": "stream",
     "text": [
      "2020-04-24 21:16:50 [urllib3.connectionpool] DEBUG: https://www.smh.com.au:443 \"GET //world/north-america/biden-backs-postal-vote-says-trump-s-opposition-un-american-20200424-p54mxh.html HTTP/1.1\" 200 42100\n",
      "2020-04-24 21:16:50 [urllib3.connectionpool] DEBUG: Starting new HTTPS connection (1): www.smh.com.au:443\n"
     ]
    },
    {
     "name": "stdout",
     "output_type": "stream",
     "text": [
      "/topic/us-votes-2020-1mkz\n",
      "/world/north-america/biden-backs-postal-vote-says-trump-s-opposition-un-american-20200424-p54mxh.html\n"
     ]
    },
    {
     "name": "stderr",
     "output_type": "stream",
     "text": [
      "2020-04-24 21:16:51 [urllib3.connectionpool] DEBUG: https://www.smh.com.au:443 \"GET //world/north-america/biden-backs-postal-vote-says-trump-s-opposition-un-american-20200424-p54mxh.html HTTP/1.1\" 200 42100\n",
      "2020-04-24 21:16:51 [urllib3.connectionpool] DEBUG: Starting new HTTPS connection (1): www.smh.com.au:443\n"
     ]
    },
    {
     "name": "stdout",
     "output_type": "stream",
     "text": [
      "/opinion\n",
      "/national/my-father-s-tears-for-his-dad-lost-in-battle-an-anzac-reflection-by-sir-david-martin-s-son-20200416-p54kk0.html\n"
     ]
    },
    {
     "name": "stderr",
     "output_type": "stream",
     "text": [
      "2020-04-24 21:16:51 [urllib3.connectionpool] DEBUG: https://www.smh.com.au:443 \"GET //national/my-father-s-tears-for-his-dad-lost-in-battle-an-anzac-reflection-by-sir-david-martin-s-son-20200416-p54kk0.html HTTP/1.1\" 200 41751\n",
      "2020-04-24 21:16:51 [urllib3.connectionpool] DEBUG: Starting new HTTPS connection (1): www.smh.com.au:443\n",
      "2020-04-24 21:16:52 [urllib3.connectionpool] DEBUG: https://www.smh.com.au:443 \"GET //national/my-father-s-tears-for-his-dad-lost-in-battle-an-anzac-reflection-by-sir-david-martin-s-son-20200416-p54kk0.html HTTP/1.1\" 200 41751\n"
     ]
    },
    {
     "name": "stdout",
     "output_type": "stream",
     "text": [
      "/national/my-father-s-tears-for-his-dad-lost-in-battle-an-anzac-reflection-by-sir-david-martin-s-son-20200416-p54kk0.html\n"
     ]
    },
    {
     "name": "stderr",
     "output_type": "stream",
     "text": [
      "2020-04-24 21:16:52 [urllib3.connectionpool] DEBUG: Starting new HTTPS connection (1): www.smh.com.au:443\n"
     ]
    },
    {
     "name": "stdout",
     "output_type": "stream",
     "text": [
      "/national/schools-should-be-allowed-to-reopen-soon-but-with-a-caveat-20200423-p54mo1.html\n"
     ]
    },
    {
     "name": "stderr",
     "output_type": "stream",
     "text": [
      "2020-04-24 21:16:52 [urllib3.connectionpool] DEBUG: https://www.smh.com.au:443 \"GET //national/schools-should-be-allowed-to-reopen-soon-but-with-a-caveat-20200423-p54mo1.html HTTP/1.1\" 200 45440\n",
      "2020-04-24 21:16:52 [urllib3.connectionpool] DEBUG: Starting new HTTPS connection (1): www.smh.com.au:443\n"
     ]
    },
    {
     "name": "stdout",
     "output_type": "stream",
     "text": [
      "/by/david-crowe-h0waa9\n",
      "/by/david-crowe-h0waa9\n",
      "/money/borrowing/three-cheaper-alternatives-than-taking-a-mortgage-holiday-20200423-p54mp2.html\n"
     ]
    },
    {
     "name": "stderr",
     "output_type": "stream",
     "text": [
      "2020-04-24 21:16:53 [urllib3.connectionpool] DEBUG: https://www.smh.com.au:443 \"GET //money/borrowing/three-cheaper-alternatives-than-taking-a-mortgage-holiday-20200423-p54mp2.html HTTP/1.1\" 200 41813\n",
      "2020-04-24 21:16:53 [urllib3.connectionpool] DEBUG: Starting new HTTPS connection (1): www.smh.com.au:443\n"
     ]
    },
    {
     "name": "stdout",
     "output_type": "stream",
     "text": [
      "/by/nicole-pedersen-mckinnon-hveqa\n",
      "/by/nicole-pedersen-mckinnon-hveqa\n",
      "/national/covid-19-is-on-the-ropes-but-it-could-still-fight-back-20200423-p54moy.html\n"
     ]
    },
    {
     "name": "stderr",
     "output_type": "stream",
     "text": [
      "2020-04-24 21:16:53 [urllib3.connectionpool] DEBUG: https://www.smh.com.au:443 \"GET //national/covid-19-is-on-the-ropes-but-it-could-still-fight-back-20200423-p54moy.html HTTP/1.1\" 200 39842\n",
      "2020-04-24 21:16:53 [urllib3.connectionpool] DEBUG: Starting new HTTPS connection (1): www.smh.com.au:443\n"
     ]
    },
    {
     "name": "stdout",
     "output_type": "stream",
     "text": [
      "/by/the-herald's-view-p4yviq\n",
      "/by/the-herald's-view-p4yviq\n",
      "/topic/smh-editorial-1r6\n",
      "/topic/explainers-1lz9\n",
      "/cbd\n",
      "/topic/smh-letters-1r7\n",
      "/topic/column-8-1r4\n",
      "/topic/good-weekend-1qq\n",
      "/topic/quizzes-1qx\n",
      "https://tvguide.smh.com.au/\n",
      "https://smh.myfairfax.com.au/members/lite_session/new?callback_uri=https%3A%2F%2Fsmh.myfairfax.com.au%2Fbeta%2Fmembers%2Fmy_account%2Fnewsletters%3Fchannel_key%3DzHE9EWDHf1XPuz3Phk0YIg%26callback_uri%3Dhttps%253a%252f%252fwww.smh.com.au&channel_key=zHE9EWDHf1XPuz3Phk0YIg\n",
      "/please-explain\n",
      "https://subscribe.smh.com.au/2?promote_channel=HI_HPL_GNL&utm_source=PremiumHomepage&utm_medium=HouseInventory&utm_campaign=General\n",
      "/todays-newspaper\n",
      "/puzzles/crosswords\n",
      "/confidential-news-tips\n",
      "/national/will-we-get-a-treatment-before-a-vaccine-inside-the-race-for-a-covid-19-game-changer-20200421-p54lz4.html\n"
     ]
    },
    {
     "name": "stderr",
     "output_type": "stream",
     "text": [
      "2020-04-24 21:16:54 [urllib3.connectionpool] DEBUG: https://www.smh.com.au:443 \"GET //national/will-we-get-a-treatment-before-a-vaccine-inside-the-race-for-a-covid-19-game-changer-20200421-p54lz4.html HTTP/1.1\" 200 61651\n",
      "2020-04-24 21:16:54 [urllib3.connectionpool] DEBUG: Starting new HTTPS connection (1): www.smh.com.au:443\n",
      "2020-04-24 21:16:54 [urllib3.connectionpool] DEBUG: https://www.smh.com.au:443 \"GET //national/will-we-get-a-treatment-before-a-vaccine-inside-the-race-for-a-covid-19-game-changer-20200421-p54lz4.html HTTP/1.1\" 200 61651\n"
     ]
    },
    {
     "name": "stdout",
     "output_type": "stream",
     "text": [
      "/coronavirus-pandemic\n",
      "/national/will-we-get-a-treatment-before-a-vaccine-inside-the-race-for-a-covid-19-game-changer-20200421-p54lz4.html\n"
     ]
    },
    {
     "name": "stderr",
     "output_type": "stream",
     "text": [
      "2020-04-24 21:16:54 [urllib3.connectionpool] DEBUG: Starting new HTTPS connection (1): www.smh.com.au:443\n"
     ]
    },
    {
     "name": "stdout",
     "output_type": "stream",
     "text": [
      "/politics/federal/how-will-the-coronavirus-app-work-20200421-p54ltg.html\n"
     ]
    },
    {
     "name": "stderr",
     "output_type": "stream",
     "text": [
      "2020-04-24 21:16:55 [urllib3.connectionpool] DEBUG: https://www.smh.com.au:443 \"GET //politics/federal/how-will-the-coronavirus-app-work-20200421-p54ltg.html HTTP/1.1\" 200 50272\n",
      "2020-04-24 21:16:55 [urllib3.connectionpool] DEBUG: Starting new HTTPS connection (1): www.smh.com.au:443\n",
      "2020-04-24 21:16:55 [urllib3.connectionpool] DEBUG: https://www.smh.com.au:443 \"GET //politics/federal/how-will-the-coronavirus-app-work-20200421-p54ltg.html HTTP/1.1\" 200 50272\n"
     ]
    },
    {
     "name": "stdout",
     "output_type": "stream",
     "text": [
      "/coronavirus-pandemic\n",
      "/politics/federal/how-will-the-coronavirus-app-work-20200421-p54ltg.html\n"
     ]
    },
    {
     "name": "stderr",
     "output_type": "stream",
     "text": [
      "2020-04-24 21:16:55 [urllib3.connectionpool] DEBUG: Starting new HTTPS connection (1): www.smh.com.au:443\n"
     ]
    },
    {
     "name": "stdout",
     "output_type": "stream",
     "text": [
      "/lifestyle/life-and-relationships/family-member-or-housemate-getting-on-your-nerves-read-this-20200402-p54gbj.html\n"
     ]
    },
    {
     "name": "stderr",
     "output_type": "stream",
     "text": [
      "2020-04-24 21:16:56 [urllib3.connectionpool] DEBUG: https://www.smh.com.au:443 \"GET //lifestyle/life-and-relationships/family-member-or-housemate-getting-on-your-nerves-read-this-20200402-p54gbj.html HTTP/1.1\" 200 44604\n",
      "2020-04-24 21:16:56 [urllib3.connectionpool] DEBUG: Starting new HTTPS connection (1): www.smh.com.au:443\n"
     ]
    },
    {
     "name": "stdout",
     "output_type": "stream",
     "text": [
      "/topic/wellbeing-63y\n",
      "/lifestyle/life-and-relationships/family-member-or-housemate-getting-on-your-nerves-read-this-20200402-p54gbj.html\n"
     ]
    },
    {
     "name": "stderr",
     "output_type": "stream",
     "text": [
      "2020-04-24 21:16:57 [urllib3.connectionpool] DEBUG: https://www.smh.com.au:443 \"GET //lifestyle/life-and-relationships/family-member-or-housemate-getting-on-your-nerves-read-this-20200402-p54gbj.html HTTP/1.1\" 200 44604\n",
      "2020-04-24 21:16:57 [urllib3.connectionpool] DEBUG: Starting new HTTPS connection (1): www.smh.com.au:443\n"
     ]
    },
    {
     "name": "stdout",
     "output_type": "stream",
     "text": [
      "http://www.domain.com.au\n",
      "https://www.domain.com.au/news/new-zealands-ex-pm-sir-john-key-buys-luxury-sydney-pad-for-5-7m-lists-one-day-later-950686/?utm_campaign=strap-masthead&utm_source=smh&utm_medium=link&utm_content=pos5&ref=pos1\n",
      "https://www.domain.com.au/news/prestige/\n",
      "https://www.domain.com.au/news/new-zealands-ex-pm-sir-john-key-buys-luxury-sydney-pad-for-5-7m-lists-one-day-later-950686/?utm_campaign=strap-masthead&utm_source=smh&utm_medium=link&utm_content=pos5&ref=pos1\n",
      "https://www.domain.com.au/news/property-showdown-of-better-homes-and-gardens-charlie-albone-and-jason-hodges-950659/?utm_campaign=strap-masthead&utm_source=smh&utm_medium=link&utm_content=pos4&ref=pos1\n",
      "https://www.domain.com.au/news/prestige/\n",
      "https://www.domain.com.au/news/property-showdown-of-better-homes-and-gardens-charlie-albone-and-jason-hodges-950659/?utm_campaign=strap-masthead&utm_source=smh&utm_medium=link&utm_content=pos4&ref=pos1\n",
      "https://www.domain.com.au/advice/should-you-move-home-during-covid-19-to-get-cheaper-rent-950024/?utm_campaign=strap-masthead&utm_source=smh&utm_medium=link&utm_content=pos5&ref=pos1\n",
      "https://www.domain.com.au/advice/renting/\n",
      "https://www.domain.com.au/advice/should-you-move-home-during-covid-19-to-get-cheaper-rent-950024/?utm_campaign=strap-masthead&utm_source=smh&utm_medium=link&utm_content=pos5&ref=pos1\n",
      "https://www.domain.com.au/news/houses-now-more-popular-than-units-with-property-investors-research-950447/?utm_campaign=strap-masthead&utm_source=smh&utm_medium=link&utm_content=pos5&ref=pos1\n",
      "https://www.domain.com.au/news/national/\n",
      "https://www.domain.com.au/news/houses-now-more-popular-than-units-with-property-investors-research-950447/?utm_campaign=strap-masthead&utm_source=smh&utm_medium=link&utm_content=pos5&ref=pos1\n",
      "https://www.domain.com.au/news/price-cuts-on-the-rise-as-vendors-rush-to-sell-in-coronavirus-pandemic-950402/?utm_campaign=strap-masthead&utm_source=smh&utm_medium=link&utm_content=pos5&ref=pos1\n",
      "https://www.domain.com.au/news/national/\n",
      "https://www.domain.com.au/news/price-cuts-on-the-rise-as-vendors-rush-to-sell-in-coronavirus-pandemic-950402/?utm_campaign=strap-masthead&utm_source=smh&utm_medium=link&utm_content=pos5&ref=pos1\n",
      "/culture/tv-and-radio/how-to-observe-anzac-day-while-self-isolating-20200424-p54mu6.html\n"
     ]
    },
    {
     "name": "stderr",
     "output_type": "stream",
     "text": [
      "2020-04-24 21:16:57 [urllib3.connectionpool] DEBUG: https://www.smh.com.au:443 \"GET //culture/tv-and-radio/how-to-observe-anzac-day-while-self-isolating-20200424-p54mu6.html HTTP/1.1\" 200 45192\n",
      "2020-04-24 21:16:57 [urllib3.connectionpool] DEBUG: Starting new HTTPS connection (1): www.smh.com.au:443\n"
     ]
    },
    {
     "name": "stdout",
     "output_type": "stream",
     "text": [
      "/topic/anzac-day-5ud\n",
      "/culture/tv-and-radio/how-to-observe-anzac-day-while-self-isolating-20200424-p54mu6.html\n"
     ]
    },
    {
     "name": "stderr",
     "output_type": "stream",
     "text": [
      "2020-04-24 21:16:57 [urllib3.connectionpool] DEBUG: https://www.smh.com.au:443 \"GET //culture/tv-and-radio/how-to-observe-anzac-day-while-self-isolating-20200424-p54mu6.html HTTP/1.1\" 200 45192\n",
      "2020-04-24 21:16:57 [urllib3.connectionpool] DEBUG: Starting new HTTPS connection (1): www.smh.com.au:443\n"
     ]
    },
    {
     "name": "stdout",
     "output_type": "stream",
     "text": [
      "/culture/movies/top-five-streaming-films-a-shout-out-to-the-classics-20200421-p54lv3.html\n"
     ]
    },
    {
     "name": "stderr",
     "output_type": "stream",
     "text": [
      "2020-04-24 21:16:58 [urllib3.connectionpool] DEBUG: https://www.smh.com.au:443 \"GET //culture/movies/top-five-streaming-films-a-shout-out-to-the-classics-20200421-p54lv3.html HTTP/1.1\" 200 39627\n",
      "2020-04-24 21:16:58 [urllib3.connectionpool] DEBUG: Starting new HTTPS connection (1): www.smh.com.au:443\n",
      "2020-04-24 21:16:58 [urllib3.connectionpool] DEBUG: https://www.smh.com.au:443 \"GET //culture/movies/top-five-streaming-films-a-shout-out-to-the-classics-20200421-p54lv3.html HTTP/1.1\" 200 39627\n"
     ]
    },
    {
     "name": "stdout",
     "output_type": "stream",
     "text": [
      "/topic/movie-reviews-1q7\n",
      "/culture/movies/top-five-streaming-films-a-shout-out-to-the-classics-20200421-p54lv3.html\n"
     ]
    },
    {
     "name": "stderr",
     "output_type": "stream",
     "text": [
      "2020-04-24 21:16:58 [urllib3.connectionpool] DEBUG: Starting new HTTPS connection (1): www.smh.com.au:443\n"
     ]
    },
    {
     "name": "stdout",
     "output_type": "stream",
     "text": [
      "/lifestyle/life-and-relationships/having-to-live-frugally-has-helped-me-appreciate-the-little-things-in-life-that-matter-20200422-p54ma2.html\n"
     ]
    },
    {
     "name": "stderr",
     "output_type": "stream",
     "text": [
      "2020-04-24 21:16:59 [urllib3.connectionpool] DEBUG: https://www.smh.com.au:443 \"GET //lifestyle/life-and-relationships/having-to-live-frugally-has-helped-me-appreciate-the-little-things-in-life-that-matter-20200422-p54ma2.html HTTP/1.1\" 200 40802\n",
      "2020-04-24 21:16:59 [urllib3.connectionpool] DEBUG: Starting new HTTPS connection (1): www.smh.com.au:443\n",
      "2020-04-24 21:16:59 [urllib3.connectionpool] DEBUG: https://www.smh.com.au:443 \"GET //lifestyle/life-and-relationships/having-to-live-frugally-has-helped-me-appreciate-the-little-things-in-life-that-matter-20200422-p54ma2.html HTTP/1.1\" 200 40802\n"
     ]
    },
    {
     "name": "stdout",
     "output_type": "stream",
     "text": [
      "/topic/money-and-relationships-hou\n",
      "/lifestyle/life-and-relationships/having-to-live-frugally-has-helped-me-appreciate-the-little-things-in-life-that-matter-20200422-p54ma2.html\n"
     ]
    },
    {
     "name": "stderr",
     "output_type": "stream",
     "text": [
      "2020-04-24 21:16:59 [urllib3.connectionpool] DEBUG: Starting new HTTPS connection (1): www.smh.com.au:443\n"
     ]
    },
    {
     "name": "stdout",
     "output_type": "stream",
     "text": [
      "/culture/celebrity/tom-hanks-sends-letter-to-bullied-australian-boy-named-corona-20200424-p54mrl.html\n"
     ]
    },
    {
     "name": "stderr",
     "output_type": "stream",
     "text": [
      "2020-04-24 21:16:59 [urllib3.connectionpool] DEBUG: https://www.smh.com.au:443 \"GET //culture/celebrity/tom-hanks-sends-letter-to-bullied-australian-boy-named-corona-20200424-p54mrl.html HTTP/1.1\" 200 41895\n",
      "2020-04-24 21:17:00 [urllib3.connectionpool] DEBUG: Starting new HTTPS connection (1): www.smh.com.au:443\n",
      "2020-04-24 21:17:00 [urllib3.connectionpool] DEBUG: https://www.smh.com.au:443 \"GET //culture/celebrity/tom-hanks-sends-letter-to-bullied-australian-boy-named-corona-20200424-p54mrl.html HTTP/1.1\" 200 41895\n"
     ]
    },
    {
     "name": "stdout",
     "output_type": "stream",
     "text": [
      "/coronavirus-pandemic\n",
      "/culture/celebrity/tom-hanks-sends-letter-to-bullied-australian-boy-named-corona-20200424-p54mrl.html\n"
     ]
    },
    {
     "name": "stderr",
     "output_type": "stream",
     "text": [
      "2020-04-24 21:17:00 [urllib3.connectionpool] DEBUG: Starting new HTTPS connection (1): www.smh.com.au:443\n"
     ]
    },
    {
     "name": "stdout",
     "output_type": "stream",
     "text": [
      "/culture/books/school-activist-daisy-jeffrey-s-first-book-is-aimed-at-adults-not-teens-20200420-p54lfu.html\n"
     ]
    },
    {
     "name": "stderr",
     "output_type": "stream",
     "text": [
      "2020-04-24 21:17:00 [urllib3.connectionpool] DEBUG: https://www.smh.com.au:443 \"GET //culture/books/school-activist-daisy-jeffrey-s-first-book-is-aimed-at-adults-not-teens-20200420-p54lfu.html HTTP/1.1\" 200 48568\n",
      "2020-04-24 21:17:01 [urllib3.connectionpool] DEBUG: Starting new HTTPS connection (1): www.smh.com.au:443\n"
     ]
    },
    {
     "name": "stdout",
     "output_type": "stream",
     "text": [
      "/topic/book-reviews-1q4\n",
      "/culture/books/school-activist-daisy-jeffrey-s-first-book-is-aimed-at-adults-not-teens-20200420-p54lfu.html\n"
     ]
    },
    {
     "name": "stderr",
     "output_type": "stream",
     "text": [
      "2020-04-24 21:17:01 [urllib3.connectionpool] DEBUG: https://www.smh.com.au:443 \"GET //culture/books/school-activist-daisy-jeffrey-s-first-book-is-aimed-at-adults-not-teens-20200420-p54lfu.html HTTP/1.1\" 200 48568\n",
      "2020-04-24 21:17:01 [urllib3.connectionpool] DEBUG: Starting new HTTPS connection (1): www.smh.com.au:443\n"
     ]
    },
    {
     "name": "stdout",
     "output_type": "stream",
     "text": [
      "http://www.goodfood.com.au\n",
      "https://www.goodfood.com.au/recipes/recipe-collections/five-delicious-anzac-day-recipes-20200423-h1nkk0\n",
      "https://www.goodfood.com.au/recipes/recipe-collections/five-delicious-anzac-day-recipes-20200423-h1nkk0\n",
      "https://www.goodfood.com.au/recipes/recipe-collections/40-cafe-favourites-to-cook-from-the-comfort-of-home-20200402-h1n3my\n",
      "https://www.goodfood.com.au/recipes/recipe-collections/40-cafe-favourites-to-cook-from-the-comfort-of-home-20200402-h1n3my\n",
      "https://www.goodfood.com.au/recipes/news/recipetin-eats-x-good-food-extra-crispy-corn-fritters-20200420-h1ni8z\n",
      "https://www.goodfood.com.au/recipes/news/recipetin-eats-x-good-food-extra-crispy-corn-fritters-20200420-h1ni8z\n",
      "http://www.traveller.com.au\n",
      "https://www.traveller.com.au/traveller-letters-why-should-we-pay-50-per-cent-more-to-have-middle-seats-kept-empty-h1nli5\n",
      "https://www.traveller.com.au/traveller-letters-why-should-we-pay-50-per-cent-more-to-have-middle-seats-kept-empty-h1nli5\n",
      "https://www.traveller.com.au/travel-quiz-april-24-2020-before-it-became-virgin-australia-what-was-the-name-of-virgin-blues-longhaul-airline-h1nlbk\n",
      "https://www.traveller.com.au/travel-quiz-april-24-2020-before-it-became-virgin-australia-what-was-the-name-of-virgin-blues-longhaul-airline-h1nlbk\n",
      "https://www.traveller.com.au/travel-and-covid19-say-goodbye-to-economy-class-as-the-golden-era-of-cheap-travel-is-declared-over-h1nkai\n",
      "https://www.traveller.com.au/travel-and-covid19-say-goodbye-to-economy-class-as-the-golden-era-of-cheap-travel-is-declared-over-h1nkai\n",
      "http://www.drive.com.au\n",
      "https://www.drive.com.au/news/2021-toyota-86-and-subaru-brz-to-get-2-4-litre-engine-but-no-turbo-report-123546.html?trackLink=SMH1\n",
      "https://www.drive.com.au/news/2021-toyota-86-and-subaru-brz-to-get-2-4-litre-engine-but-no-turbo-report-123546.html?trackLink=SMH1\n",
      "https://www.drive.com.au/news/2021-toyota-yaris-cross-revealed-australian-launch-late-2020-123548.html?trackLink=SMH2\n",
      "https://www.drive.com.au/news/2021-toyota-yaris-cross-revealed-australian-launch-late-2020-123548.html?trackLink=SMH2\n",
      "https://www.drive.com.au/review/2020-mercedes-amg-a45-s-review-123549.html?trackLink=SMH3\n",
      "https://www.drive.com.au/review/2020-mercedes-amg-a45-s-review-123549.html?trackLink=SMH3\n",
      "https://www.stan.com.au/watch/better-call-saul?utm_source=fairfax&utm_medium=custom&utm_campaign=home-page\n",
      "https://www.stan.com.au/watch/better-call-saul?utm_source=fairfax&utm_medium=custom&utm_campaign=home-page\n",
      "https://www.stan.com.au/watch/better-call-saul?utm_source=fairfax&utm_medium=custom&utm_campaign=home-page\n",
      "https://www.stan.com.au/watch/rupauls-drag-race?utm_source=fairfax&utm_medium=custom&utm_campaign=home-page\n",
      "https://www.stan.com.au/watch/rupauls-drag-race?utm_source=fairfax&utm_medium=custom&utm_campaign=home-page\n",
      "https://www.stan.com.au/watch/rupauls-drag-race?utm_source=fairfax&utm_medium=custom&utm_campaign=home-page\n",
      "/sport\n",
      "/sport/nrl\n",
      "/sport/rugby-union\n",
      "/sport/cricket\n",
      "/sport/soccer\n",
      "/sport/afl\n",
      "/sport/racing\n",
      "/sport/nrl/broadcast-partners-agree-to-nrl-s-may-28-restart-date-20200424-p54n27.html\n"
     ]
    },
    {
     "name": "stderr",
     "output_type": "stream",
     "text": [
      "2020-04-24 21:17:02 [urllib3.connectionpool] DEBUG: https://www.smh.com.au:443 \"GET //sport/nrl/broadcast-partners-agree-to-nrl-s-may-28-restart-date-20200424-p54n27.html HTTP/1.1\" 200 44696\n",
      "2020-04-24 21:17:02 [urllib3.connectionpool] DEBUG: Starting new HTTPS connection (1): www.smh.com.au:443\n"
     ]
    },
    {
     "name": "stdout",
     "output_type": "stream",
     "text": [
      "/topic/nrl-2020-1n9q\n",
      "/sport/nrl/broadcast-partners-agree-to-nrl-s-may-28-restart-date-20200424-p54n27.html\n"
     ]
    },
    {
     "name": "stderr",
     "output_type": "stream",
     "text": [
      "2020-04-24 21:17:02 [urllib3.connectionpool] DEBUG: https://www.smh.com.au:443 \"GET //sport/nrl/broadcast-partners-agree-to-nrl-s-may-28-restart-date-20200424-p54n27.html HTTP/1.1\" 200 44696\n",
      "2020-04-24 21:17:02 [urllib3.connectionpool] DEBUG: Starting new HTTPS connection (1): www.smh.com.au:443\n"
     ]
    },
    {
     "name": "stdout",
     "output_type": "stream",
     "text": [
      "/sport/rugby-union/the-final-betrayal-that-caused-castle-to-crumble-20200424-p54n2u.html\n"
     ]
    },
    {
     "name": "stderr",
     "output_type": "stream",
     "text": [
      "2020-04-24 21:17:03 [urllib3.connectionpool] DEBUG: https://www.smh.com.au:443 \"GET //sport/rugby-union/the-final-betrayal-that-caused-castle-to-crumble-20200424-p54n2u.html HTTP/1.1\" 200 47565\n",
      "2020-04-24 21:17:03 [urllib3.connectionpool] DEBUG: Starting new HTTPS connection (1): www.smh.com.au:443\n"
     ]
    },
    {
     "name": "stdout",
     "output_type": "stream",
     "text": [
      "/topic/raelene-castle-1n7l\n",
      "/sport/rugby-union/the-final-betrayal-that-caused-castle-to-crumble-20200424-p54n2u.html\n"
     ]
    },
    {
     "name": "stderr",
     "output_type": "stream",
     "text": [
      "2020-04-24 21:17:04 [urllib3.connectionpool] DEBUG: https://www.smh.com.au:443 \"GET //sport/rugby-union/the-final-betrayal-that-caused-castle-to-crumble-20200424-p54n2u.html HTTP/1.1\" 200 47565\n",
      "2020-04-24 21:17:05 [urllib3.connectionpool] DEBUG: Starting new HTTPS connection (1): www.smh.com.au:443\n"
     ]
    },
    {
     "name": "stdout",
     "output_type": "stream",
     "text": [
      "/sport/cricket/howzat-possible-cricket-australia-says-big-hits-will-keep-coming-20200424-p54n00.html\n"
     ]
    },
    {
     "name": "stderr",
     "output_type": "stream",
     "text": [
      "2020-04-24 21:17:05 [urllib3.connectionpool] DEBUG: https://www.smh.com.au:443 \"GET //sport/cricket/howzat-possible-cricket-australia-says-big-hits-will-keep-coming-20200424-p54n00.html HTTP/1.1\" 200 49882\n",
      "2020-04-24 21:17:05 [urllib3.connectionpool] DEBUG: Starting new HTTPS connection (1): www.smh.com.au:443\n",
      "2020-04-24 21:17:05 [urllib3.connectionpool] DEBUG: https://www.smh.com.au:443 \"GET //sport/cricket/howzat-possible-cricket-australia-says-big-hits-will-keep-coming-20200424-p54n00.html HTTP/1.1\" 200 49882\n"
     ]
    },
    {
     "name": "stdout",
     "output_type": "stream",
     "text": [
      "/topic/australian-cricket-jf3\n",
      "/sport/cricket/howzat-possible-cricket-australia-says-big-hits-will-keep-coming-20200424-p54n00.html\n"
     ]
    },
    {
     "name": "stderr",
     "output_type": "stream",
     "text": [
      "2020-04-24 21:17:06 [urllib3.connectionpool] DEBUG: Starting new HTTPS connection (1): www.smh.com.au:443\n"
     ]
    },
    {
     "name": "stdout",
     "output_type": "stream",
     "text": [
      "/sport/basketball/it-just-exploded-how-jordan-s-stardom-changed-australia-s-sporting-culture-20200424-p54mvf.html\n"
     ]
    },
    {
     "name": "stderr",
     "output_type": "stream",
     "text": [
      "2020-04-24 21:17:06 [urllib3.connectionpool] DEBUG: https://www.smh.com.au:443 \"GET //sport/basketball/it-just-exploded-how-jordan-s-stardom-changed-australia-s-sporting-culture-20200424-p54mvf.html HTTP/1.1\" 200 47726\n",
      "2020-04-24 21:17:07 [urllib3.connectionpool] DEBUG: Starting new HTTPS connection (1): www.smh.com.au:443\n"
     ]
    },
    {
     "name": "stdout",
     "output_type": "stream",
     "text": [
      "/topic/national-basketball-association-649\n",
      "/sport/basketball/it-just-exploded-how-jordan-s-stardom-changed-australia-s-sporting-culture-20200424-p54mvf.html\n"
     ]
    },
    {
     "name": "stderr",
     "output_type": "stream",
     "text": [
      "2020-04-24 21:17:08 [urllib3.connectionpool] DEBUG: https://www.smh.com.au:443 \"GET //sport/basketball/it-just-exploded-how-jordan-s-stardom-changed-australia-s-sporting-culture-20200424-p54mvf.html HTTP/1.1\" 200 47726\n",
      "2020-04-24 21:17:08 [urllib3.connectionpool] DEBUG: Starting new HTTPS connection (1): www.smh.com.au:443\n"
     ]
    },
    {
     "name": "stdout",
     "output_type": "stream",
     "text": [
      "/sport/why-it-s-high-time-gladys-put-the-nrl-in-its-place-20200424-p54n1f.html\n"
     ]
    },
    {
     "name": "stderr",
     "output_type": "stream",
     "text": [
      "2020-04-24 21:17:08 [urllib3.connectionpool] DEBUG: https://www.smh.com.au:443 \"GET //sport/why-it-s-high-time-gladys-put-the-nrl-in-its-place-20200424-p54n1f.html HTTP/1.1\" 200 53924\n",
      "2020-04-24 21:17:09 [urllib3.connectionpool] DEBUG: Starting new HTTPS connection (1): www.smh.com.au:443\n"
     ]
    },
    {
     "name": "stdout",
     "output_type": "stream",
     "text": [
      "/sport\n",
      "/sport/why-it-s-high-time-gladys-put-the-nrl-in-its-place-20200424-p54n1f.html\n"
     ]
    },
    {
     "name": "stderr",
     "output_type": "stream",
     "text": [
      "2020-04-24 21:17:09 [urllib3.connectionpool] DEBUG: https://www.smh.com.au:443 \"GET //sport/why-it-s-high-time-gladys-put-the-nrl-in-its-place-20200424-p54n1f.html HTTP/1.1\" 200 53924\n",
      "2020-04-24 21:17:09 [urllib3.connectionpool] DEBUG: Starting new HTTPS connection (1): www.smh.com.au:443\n"
     ]
    },
    {
     "name": "stdout",
     "output_type": "stream",
     "text": [
      "/sport/cricket/roberts-to-take-back-seat-in-pay-talks-with-players-20200424-p54n2t.html\n"
     ]
    },
    {
     "name": "stderr",
     "output_type": "stream",
     "text": [
      "2020-04-24 21:17:09 [urllib3.connectionpool] DEBUG: https://www.smh.com.au:443 \"GET //sport/cricket/roberts-to-take-back-seat-in-pay-talks-with-players-20200424-p54n2t.html HTTP/1.1\" 200 42664\n",
      "2020-04-24 21:17:10 [urllib3.connectionpool] DEBUG: Starting new HTTPS connection (1): www.smh.com.au:443\n"
     ]
    },
    {
     "name": "stdout",
     "output_type": "stream",
     "text": [
      "/topic/australian-cricket-jf3\n",
      "/sport/cricket/roberts-to-take-back-seat-in-pay-talks-with-players-20200424-p54n2t.html\n"
     ]
    },
    {
     "name": "stderr",
     "output_type": "stream",
     "text": [
      "2020-04-24 21:17:10 [urllib3.connectionpool] DEBUG: https://www.smh.com.au:443 \"GET //sport/cricket/roberts-to-take-back-seat-in-pay-talks-with-players-20200424-p54n2t.html HTTP/1.1\" 200 42664\n",
      "2020-04-24 21:17:10 [urllib3.connectionpool] DEBUG: Starting new HTTPS connection (1): www.smh.com.au:443\n"
     ]
    },
    {
     "name": "stdout",
     "output_type": "stream",
     "text": [
      "/sport/amateur-hour-returns-as-castle-crumbling-sends-rugby-back-to-the-past-20200424-p54mtn.html\n"
     ]
    },
    {
     "name": "stderr",
     "output_type": "stream",
     "text": [
      "2020-04-24 21:17:10 [urllib3.connectionpool] DEBUG: https://www.smh.com.au:443 \"GET //sport/amateur-hour-returns-as-castle-crumbling-sends-rugby-back-to-the-past-20200424-p54mtn.html HTTP/1.1\" 200 50206\n",
      "2020-04-24 21:17:10 [urllib3.connectionpool] DEBUG: Starting new HTTPS connection (1): www.smh.com.au:443\n",
      "2020-04-24 21:17:11 [urllib3.connectionpool] DEBUG: https://www.smh.com.au:443 \"GET //sport/amateur-hour-returns-as-castle-crumbling-sends-rugby-back-to-the-past-20200424-p54mtn.html HTTP/1.1\" 200 50206\n"
     ]
    },
    {
     "name": "stdout",
     "output_type": "stream",
     "text": [
      "/topic/rugby-australia--1mxj\n",
      "/sport/amateur-hour-returns-as-castle-crumbling-sends-rugby-back-to-the-past-20200424-p54mtn.html\n"
     ]
    },
    {
     "name": "stderr",
     "output_type": "stream",
     "text": [
      "2020-04-24 21:17:11 [urllib3.connectionpool] DEBUG: Starting new HTTPS connection (1): www.smh.com.au:443\n"
     ]
    },
    {
     "name": "stdout",
     "output_type": "stream",
     "text": [
      "/sport/nrl/is-this-the-way-it-s-gonna-be-forever-why-a-league-tsar-must-be-born-20200424-p54mx6.html\n"
     ]
    },
    {
     "name": "stderr",
     "output_type": "stream",
     "text": [
      "2020-04-24 21:17:11 [urllib3.connectionpool] DEBUG: https://www.smh.com.au:443 \"GET //sport/nrl/is-this-the-way-it-s-gonna-be-forever-why-a-league-tsar-must-be-born-20200424-p54mx6.html HTTP/1.1\" 200 50559\n",
      "2020-04-24 21:17:11 [urllib3.connectionpool] DEBUG: Starting new HTTPS connection (1): www.smh.com.au:443\n"
     ]
    },
    {
     "name": "stdout",
     "output_type": "stream",
     "text": [
      "/sport/nrl/is-this-the-way-it-s-gonna-be-forever-why-a-league-tsar-must-be-born-20200424-p54mx6.html\n"
     ]
    },
    {
     "name": "stderr",
     "output_type": "stream",
     "text": [
      "2020-04-24 21:17:12 [urllib3.connectionpool] DEBUG: https://www.smh.com.au:443 \"GET //sport/nrl/is-this-the-way-it-s-gonna-be-forever-why-a-league-tsar-must-be-born-20200424-p54mx6.html HTTP/1.1\" 200 50559\n",
      "2020-04-24 21:17:13 [urllib3.connectionpool] DEBUG: Starting new HTTPS connection (1): www.smh.com.au:443\n"
     ]
    },
    {
     "name": "stdout",
     "output_type": "stream",
     "text": [
      "/sport/rugby-union\n",
      "/sport/rugby-union/disappointed-but-committed-rennie-to-stick-with-wallabies-despite-castle-exit-20200424-p54n2z.html\n"
     ]
    },
    {
     "name": "stderr",
     "output_type": "stream",
     "text": [
      "2020-04-24 21:17:13 [urllib3.connectionpool] DEBUG: https://www.smh.com.au:443 \"GET //sport/rugby-union/disappointed-but-committed-rennie-to-stick-with-wallabies-despite-castle-exit-20200424-p54n2z.html HTTP/1.1\" 200 44099\n",
      "2020-04-24 21:17:13 [urllib3.connectionpool] DEBUG: Starting new HTTPS connection (1): www.smh.com.au:443\n"
     ]
    },
    {
     "name": "stdout",
     "output_type": "stream",
     "text": [
      "/sport/nrl\n",
      "/sport/nrl/lest-we-forget-what-a-difference-100-years-can-make-20200424-p54myv.html\n"
     ]
    },
    {
     "name": "stderr",
     "output_type": "stream",
     "text": [
      "2020-04-24 21:17:14 [urllib3.connectionpool] DEBUG: https://www.smh.com.au:443 \"GET //sport/nrl/lest-we-forget-what-a-difference-100-years-can-make-20200424-p54myv.html HTTP/1.1\" 200 45309\n",
      "2020-04-24 21:17:15 [urllib3.connectionpool] DEBUG: Starting new HTTPS connection (1): www.smh.com.au:443\n"
     ]
    },
    {
     "name": "stdout",
     "output_type": "stream",
     "text": [
      "/sport/rugby-union\n",
      "/sport/rugby-union/dark-forces-mclean-slams-castle-abusers-20200424-p54mvi.html\n"
     ]
    },
    {
     "name": "stderr",
     "output_type": "stream",
     "text": [
      "2020-04-24 21:17:15 [urllib3.connectionpool] DEBUG: https://www.smh.com.au:443 \"GET //sport/rugby-union/dark-forces-mclean-slams-castle-abusers-20200424-p54mvi.html HTTP/1.1\" 200 42957\n",
      "2020-04-24 21:17:16 [urllib3.connectionpool] DEBUG: Starting new HTTPS connection (1): www.smh.com.au:443\n"
     ]
    },
    {
     "name": "stdout",
     "output_type": "stream",
     "text": [
      "/sport/rugby-union\n",
      "/sport/rugby-union/knows-nothing-about-the-game-jones-sends-castle-on-her-way-20200424-p54mut.html\n"
     ]
    },
    {
     "name": "stderr",
     "output_type": "stream",
     "text": [
      "2020-04-24 21:17:16 [urllib3.connectionpool] DEBUG: https://www.smh.com.au:443 \"GET //sport/rugby-union/knows-nothing-about-the-game-jones-sends-castle-on-her-way-20200424-p54mut.html HTTP/1.1\" 200 43738\n",
      "2020-04-24 21:17:17 [urllib3.connectionpool] DEBUG: Starting new HTTPS connection (1): www.smh.com.au:443\n"
     ]
    },
    {
     "name": "stdout",
     "output_type": "stream",
     "text": [
      "/sport/rugby-union\n",
      "/sport/rugby-union/castle-s-end-a-mix-of-poor-judgment-fatal-missteps-and-rotten-luck-20200423-p54mrd.html\n"
     ]
    },
    {
     "name": "stderr",
     "output_type": "stream",
     "text": [
      "2020-04-24 21:17:17 [urllib3.connectionpool] DEBUG: https://www.smh.com.au:443 \"GET //sport/rugby-union/castle-s-end-a-mix-of-poor-judgment-fatal-missteps-and-rotten-luck-20200423-p54mrd.html HTTP/1.1\" 200 50788\n",
      "2020-04-24 21:17:17 [urllib3.connectionpool] DEBUG: Starting new HTTPS connection (1): www.smh.com.au:443\n"
     ]
    },
    {
     "name": "stdout",
     "output_type": "stream",
     "text": [
      "/sport/nrl\n",
      "/sport/nrl/scaremongering-and-alarmist-nrl-boss-fires-back-at-channel-nine-20200424-p54mug.html\n"
     ]
    },
    {
     "name": "stderr",
     "output_type": "stream",
     "text": [
      "2020-04-24 21:17:18 [urllib3.connectionpool] DEBUG: https://www.smh.com.au:443 \"GET //sport/nrl/scaremongering-and-alarmist-nrl-boss-fires-back-at-channel-nine-20200424-p54mug.html HTTP/1.1\" 200 44754\n",
      "2020-04-24 21:17:18 [urllib3.connectionpool] DEBUG: Starting new HTTPS connection (1): www.smh.com.au:443\n"
     ]
    },
    {
     "name": "stdout",
     "output_type": "stream",
     "text": [
      "/sport/tennis\n",
      "/sport/tennis/tennis-australia-on-verge-of-rolling-out-new-domestic-competition-20200424-p54myd.html\n"
     ]
    },
    {
     "name": "stderr",
     "output_type": "stream",
     "text": [
      "2020-04-24 21:17:18 [urllib3.connectionpool] DEBUG: https://www.smh.com.au:443 \"GET //sport/tennis/tennis-australia-on-verge-of-rolling-out-new-domestic-competition-20200424-p54myd.html HTTP/1.1\" 200 43761\n",
      "2020-04-24 21:17:18 [urllib3.connectionpool] DEBUG: Starting new HTTPS connection (1): www.smh.com.au:443\n"
     ]
    },
    {
     "name": "stdout",
     "output_type": "stream",
     "text": [
      "/sport/rugby-union\n",
      "/sport/rugby-union/the-mystery-man-who-could-step-in-to-fill-rugby-s-leadership-void-20200423-p54mk5.html\n"
     ]
    },
    {
     "name": "stderr",
     "output_type": "stream",
     "text": [
      "2020-04-24 21:17:19 [urllib3.connectionpool] DEBUG: https://www.smh.com.au:443 \"GET //sport/rugby-union/the-mystery-man-who-could-step-in-to-fill-rugby-s-leadership-void-20200423-p54mk5.html HTTP/1.1\" 200 41175\n",
      "2020-04-24 21:17:19 [urllib3.connectionpool] DEBUG: Starting new HTTPS connection (1): www.smh.com.au:443\n"
     ]
    },
    {
     "name": "stdout",
     "output_type": "stream",
     "text": [
      "/sport/nrl/gus-reacts-to-greenberg-exit-20200420-p54lkz.html\n"
     ]
    },
    {
     "name": "stderr",
     "output_type": "stream",
     "text": [
      "2020-04-24 21:17:19 [urllib3.connectionpool] DEBUG: https://www.smh.com.au:443 \"GET //sport/nrl/gus-reacts-to-greenberg-exit-20200420-p54lkz.html HTTP/1.1\" 200 34738\n",
      "2020-04-24 21:17:20 [urllib3.connectionpool] DEBUG: Starting new HTTPS connection (1): www.smh.com.au:443\n"
     ]
    },
    {
     "name": "stdout",
     "output_type": "stream",
     "text": [
      "/sport/nrl\n",
      "/sport/nrl/gus-reacts-to-greenberg-exit-20200420-p54lkz.html\n"
     ]
    },
    {
     "name": "stderr",
     "output_type": "stream",
     "text": [
      "2020-04-24 21:17:20 [urllib3.connectionpool] DEBUG: https://www.smh.com.au:443 \"GET //sport/nrl/gus-reacts-to-greenberg-exit-20200420-p54lkz.html HTTP/1.1\" 200 34738\n",
      "2020-04-24 21:17:21 [urllib3.connectionpool] DEBUG: Starting new HTTPS connection (1): www.smh.com.au:443\n"
     ]
    },
    {
     "name": "stdout",
     "output_type": "stream",
     "text": [
      "/sport/racing\n",
      "/sport/racing/race-by-race-tips-and-preview-for-rosehill-on-saturday-20200424-p54mua.html\n"
     ]
    },
    {
     "name": "stderr",
     "output_type": "stream",
     "text": [
      "2020-04-24 21:17:23 [urllib3.connectionpool] DEBUG: https://www.smh.com.au:443 \"GET //sport/racing/race-by-race-tips-and-preview-for-rosehill-on-saturday-20200424-p54mua.html HTTP/1.1\" 200 42777\n",
      "2020-04-24 21:17:23 [urllib3.connectionpool] DEBUG: Starting new HTTPS connection (1): www.smh.com.au:443\n"
     ]
    },
    {
     "name": "stdout",
     "output_type": "stream",
     "text": [
      "/topic/horse-racing-1n6g\n",
      "/sport/racing/race-by-race-tips-and-preview-for-rosehill-on-saturday-20200424-p54mua.html\n"
     ]
    },
    {
     "name": "stderr",
     "output_type": "stream",
     "text": [
      "2020-04-24 21:17:23 [urllib3.connectionpool] DEBUG: https://www.smh.com.au:443 \"GET //sport/racing/race-by-race-tips-and-preview-for-rosehill-on-saturday-20200424-p54mua.html HTTP/1.1\" 200 42777\n",
      "2020-04-24 21:17:24 [urllib3.connectionpool] DEBUG: Starting new HTTPS connection (1): www.smh.com.au:443\n"
     ]
    },
    {
     "name": "stdout",
     "output_type": "stream",
     "text": [
      "/sport/racing/sun-sets-on-autumn-carnival-and-star-trio-but-intrigue-still-on-horizon-20200424-p54mya.html\n"
     ]
    },
    {
     "name": "stderr",
     "output_type": "stream",
     "text": [
      "2020-04-24 21:17:24 [urllib3.connectionpool] DEBUG: https://www.smh.com.au:443 \"GET //sport/racing/sun-sets-on-autumn-carnival-and-star-trio-but-intrigue-still-on-horizon-20200424-p54mya.html HTTP/1.1\" 200 41731\n",
      "2020-04-24 21:17:24 [urllib3.connectionpool] DEBUG: Starting new HTTPS connection (1): www.smh.com.au:443\n"
     ]
    },
    {
     "name": "stdout",
     "output_type": "stream",
     "text": [
      "/topic/horse-racing-1n6g\n",
      "/sport/racing/sun-sets-on-autumn-carnival-and-star-trio-but-intrigue-still-on-horizon-20200424-p54mya.html\n"
     ]
    },
    {
     "name": "stderr",
     "output_type": "stream",
     "text": [
      "2020-04-24 21:17:25 [urllib3.connectionpool] DEBUG: https://www.smh.com.au:443 \"GET //sport/racing/sun-sets-on-autumn-carnival-and-star-trio-but-intrigue-still-on-horizon-20200424-p54mya.html HTTP/1.1\" 200 41731\n",
      "2020-04-24 21:17:25 [urllib3.connectionpool] DEBUG: Starting new HTTPS connection (1): www.smh.com.au:443\n"
     ]
    },
    {
     "name": "stdout",
     "output_type": "stream",
     "text": [
      "/sport/racing/boss-the-key-to-hawkesbury-cup-hopes-for-live-and-free-20200424-p54mzm.html\n"
     ]
    },
    {
     "name": "stderr",
     "output_type": "stream",
     "text": [
      "2020-04-24 21:17:26 [urllib3.connectionpool] DEBUG: https://www.smh.com.au:443 \"GET //sport/racing/boss-the-key-to-hawkesbury-cup-hopes-for-live-and-free-20200424-p54mzm.html HTTP/1.1\" 200 40056\n",
      "2020-04-24 21:17:26 [urllib3.connectionpool] DEBUG: Starting new HTTPS connection (1): www.smh.com.au:443\n",
      "2020-04-24 21:17:26 [urllib3.connectionpool] DEBUG: https://www.smh.com.au:443 \"GET //sport/racing/boss-the-key-to-hawkesbury-cup-hopes-for-live-and-free-20200424-p54mzm.html HTTP/1.1\" 200 40056\n"
     ]
    },
    {
     "name": "stdout",
     "output_type": "stream",
     "text": [
      "/topic/horse-racing-1n6g\n",
      "/sport/racing/boss-the-key-to-hawkesbury-cup-hopes-for-live-and-free-20200424-p54mzm.html\n"
     ]
    },
    {
     "name": "stderr",
     "output_type": "stream",
     "text": [
      "2020-04-24 21:17:26 [urllib3.connectionpool] DEBUG: Starting new HTTPS connection (1): www.smh.com.au:443\n"
     ]
    },
    {
     "name": "stdout",
     "output_type": "stream",
     "text": [
      "/\n",
      "https://twitter.com/smh\n",
      "http://www.facebook.com/sydneymorningherald\n",
      "https://www.instagram.com/sydneymorningherald\n",
      "/rssheadlines\n",
      "javascript:void(0)\n",
      "https://www.smh.com.au\n",
      "https://www.theage.com.au\n",
      "https://www.brisbanetimes.com.au\n",
      "https://www.watoday.com.au\n",
      "https://www.afr.com\n",
      "https://www.domain.com.au\n",
      "http://www.traveller.com.au\n",
      "https://www.goodfood.com.au\n",
      "http://www.executivestyle.com.au\n",
      "https://www.thestore.com.au\n",
      "https://www.drive.com.au\n",
      "https://www.caradvice.com.au\n",
      "https://www.rsvp.com.au\n",
      "http://www.weatherzone.com.au\n",
      "javascript:void(0)\n",
      "http://tributes.smh.com.au/obituaries/smh-au/\n",
      "http://celebrations.smh.com.au/celebration/smh-au/\n",
      "https://advertisers.com.au\n",
      "https://www.commercialrealestate.com.au\n",
      "https://www.oneflare.com.au\n",
      "javascript:void(0)\n",
      "/contact-us\n",
      "https://www.adcentre.com.au/brands/the-sydney-morning-herald\n",
      "https://smh.myfairfax.com.au/members/lite_session/new?callback_uri=https%3A%2F%2Fsmh.myfairfax.com.au%2Fbeta%2Fmembers%2Fmy_account%2Fnewsletters%3Fchannel_key%3DzHE9EWDHf1XPuz3Phk0YIg%26callback_uri%3Dhttps%253a%252f%252fwww.smh.com.au&channel_key=zHE9EWDHf1XPuz3Phk0YIg\n",
      "/siteguide/accessibility\n",
      "/siteguide\n",
      "https://consumer.fairfaxsyndication.com/C.aspx?VP3=CMS3&VF=FXJFX2_2_VForm\n",
      "https://frontpages.fairfaxsyndication.com/C.aspx?VP3=CMS3&VF=FXJFX2_3_VForm\n",
      "https://www.fairfaxsyndication.com/C.aspx?VP3=CMS3&VF=FXJO50_1\n",
      "/our-events\n",
      "https://www.nineforbrands.com.au/about/careers/\n",
      "/conditions-of-use\n",
      "/privacy\n",
      "https://www.presscouncil.org.au/what-we-do\n",
      "javascript:void(0)\n",
      "https://subscribe.smh.com.au/?promote_channel=HI_SMH_GNL_FT\n",
      "https://subscribers.smh.com.au\n",
      "https://www.smh.com.au/myaccount\n",
      "https://subscribers.smh.com.au/support-centre/overview\n",
      "/todays-newspaper\n",
      "/puzzles/crosswords\n",
      "https://www.thesmhinsider.com.au/c/a/5dAvszx5Lm7C4GDU21EWmQ?dPanel=2\n",
      "https://subscribe.smh.com.au/?promote_channel=HI_SMH_GNL_FT\n",
      "                                                link  \\\n",
      "0  /national/coronavirus-updates-live-scott-morri...   \n",
      "1  /national/coronavirus-updates-live-scott-morri...   \n",
      "2  /national/coronavirus-updates-live-scott-morri...   \n",
      "3  /politics/federal/australia-rejected-huge-offe...   \n",
      "4  /national/back-to-school-plan-gives-private-st...   \n",
      "\n",
      "                                              header  \\\n",
      "0  Coronavirus updates LIVE: Scott Morrison says ...   \n",
      "1  Coronavirus updates LIVE: Scott Morrison says ...   \n",
      "2  Coronavirus updates LIVE: Scott Morrison says ...   \n",
      "3  Australia rejected huge offers for medical sup...   \n",
      "4  Back-to-school plan gives private students HSC...   \n",
      "\n",
      "                                             article  \\\n",
      "0  The death toll from coronavirus in the United ...   \n",
      "1  The death toll from coronavirus in the United ...   \n",
      "2  The death toll from coronavirus in the United ...   \n",
      "3  A major Australian company paid for masks in a...   \n",
      "4  The NSW government's back-to-school plan has c...   \n",
      "\n",
      "                              author            date  \n",
      "0                     Latika Bourke   April 25, 2020  \n",
      "1                     Latika Bourke   April 25, 2020  \n",
      "2                     Latika Bourke   April 25, 2020  \n",
      "3   Anthony Galloway , Eryk Bagshaw   April 24, 2020  \n",
      "4                      Jordan Baker   April 24, 2020  \n",
      "processing : sydney\n"
     ]
    },
    {
     "name": "stderr",
     "output_type": "stream",
     "text": [
      "2020-04-24 21:17:27 [urllib3.connectionpool] DEBUG: https://www.smh.com.au:443 \"GET /sydney HTTP/1.1\" 301 63\n",
      "2020-04-24 21:17:27 [urllib3.connectionpool] DEBUG: Starting new HTTPS connection (1): subscribe.smh.com.au:443\n",
      "2020-04-24 21:17:28 [urllib3.connectionpool] DEBUG: https://subscribe.smh.com.au:443 \"GET / HTTP/1.1\" 200 5490\n",
      "2020-04-24 21:17:29 [urllib3.connectionpool] DEBUG: Starting new HTTPS connection (1): www.smh.com.au:443\n"
     ]
    },
    {
     "name": "stdout",
     "output_type": "stream",
     "text": [
      "https://smh.myfairfax.com.au/members/lite_session/new?callback_uri=http%3A%2F%2Fwww.smh.com.au&channel_key=zHE9EWDHf1XPuz3Phk0YIg&single_use_token=true\n",
      "http://smh.com.au\n",
      "https://smh.myfairfax.com.au/members/subscriptions/new?brand=&bundle_key=smh_webonly&callback_uri=http%3A%2F%2Fwww.smh.com.au&channel_key=zHE9EWDHf1XPuz3Phk0YIg&plain_token=true\n",
      "https://smh.myfairfax.com.au/members/subscriptions/new?bundle_key=smh_webonly_12m&callback_uri=http%3A%2F%2Fwww.smh.com.au%2F&channel_key=zHE9EWDHf1XPuz3Phk0YIg&show_promotion=true&promotion_code=smhwebonly12m10p-7syc6g&_ga=2.142316210.1017507673.1548824878-570806097.1548824878\n",
      "https://smh.myfairfax.com.au/members/subscriptions/new?brand=&bundle_key=smh_alldig&callback_uri=http%3A%2F%2Fwww.smh.com.au&channel_key=zHE9EWDHf1XPuz3Phk0YIg&plain_token=true\n",
      "https://smh.myfairfax.com.au/members/subscriptions/new?bundle_key=smh_alldig_12m&callback_uri=http%3A%2F%2Fwww.smh.com.au%2F&channel_key=zHE9EWDHf1XPuz3Phk0YIg&show_promotion=true&promotion_code=smhalldig12m10p-wt8yiw&_ga=2.142316210.1017507673.1548824878-570806097.1548824878\n",
      "https://smh.myfairfax.com.au/members/subscriptions/new?brand=&bundle_key=smh_alldigwkend&callback_uri=http%3A%2F%2Fwww.smh.com.au&channel_key=zHE9EWDHf1XPuz3Phk0YIg\n",
      "https://smh.myfairfax.com.au/members/subscriptions/new?bundle_key=smh_alldigwkend_12m&callback_uri=http%3A%2F%2Fwww.smh.com.au%2F&channel_key=zHE9EWDHf1XPuz3Phk0YIg&show_promotion=true&promotion_code=smhalldigwkend12m10p-b7dyrw\n",
      "https://smh.myfairfax.com.au/members/subscriptions/new?brand=&bundle_key=smh_alldig7day&callback_uri=http%3A%2F%2Fwww.smh.com.au&channel_key=zHE9EWDHf1XPuz3Phk0YIg&plain_token=true\n",
      "https://smh.myfairfax.com.au/members/subscriptions/new?bundle_key=smh_alldig7day_12m&callback_uri=http%3A%2F%2Fwww.smh.com.au%2F&channel_key=zHE9EWDHf1XPuz3Phk0YIg\n",
      "https://smh.myfairfax.com.au/members/subscriptions/new?bundle_key=smh_webonly_12m&callback_uri=http%3A%2F%2Fwww.smh.com.au%2F&channel_key=zHE9EWDHf1XPuz3Phk0YIg&show_promotion=true&promotion_code=smhwebonly12m10p-7syc6g\n",
      "https://smh.myfairfax.com.au/members/subscriptions/new?bundle_key=smh_alldig_12m&callback_uri=http%3A%2F%2Fwww.smh.com.au%2F&channel_key=zHE9EWDHf1XPuz3Phk0YIg&show_promotion=true&promotion_code=smhalldig12m10p-wt8yiw\n",
      "https://smh.myfairfax.com.au/members/subscriptions/new?bundle_key=smh_alldigwkend_12m&callback_uri=http%3A%2F%2Fwww.smh.com.au%2F&channel_key=zHE9EWDHf1XPuz3Phk0YIg&show_promotion=true&promotion_code=smhalldigwkend12m10p-b7dyrw\n",
      "https://smh.myfairfax.com.au/members/subscriptions/new?bundle_key=smh_alldig7day_12m&callback_uri=http%3A%2F%2Fwww.smh.com.au%2F&channel_key=zHE9EWDHf1XPuz3Phk0YIg\n",
      "https://www.corporatesubscriptions.com.au/smh\n",
      "http://your.smh.com.au/student-offer/?promote_channel=HI_SMH_STU&utm_source=smh.com.au&utm_medium=HouseInventory&utm_campaign=Student\n",
      "https://smh.myfairfax.com.au/members/print_subscriptions/activate?callback_uri=http%3A%2F%2Fwww.smh.com.au&channel_key=Dks89-tJMqw6zsOGPU5c5Q&plain_token=true&_ga=2.235428481.1655627987.1548714157-1900607740.1542090632\n",
      "https://www.smh.com.au/digital-subscription-terms\n",
      "http://www.smh.com.au/\n",
      "https://www.smh.com.au/privacy\n",
      "https://www.smh.com.au/conditions-of-use\n",
      "http://www.smh.com.au/support/digitalsubscriptionterms\n",
      "https://subscribers.smh.com.au/support-centre/overview/\n",
      "https://www.smh.com.au/\n",
      "Empty DataFrame\n",
      "Columns: [link, header, article, author, date]\n",
      "Index: []\n",
      "processing : nsw\n"
     ]
    },
    {
     "name": "stderr",
     "output_type": "stream",
     "text": [
      "2020-04-24 21:17:29 [urllib3.connectionpool] DEBUG: https://www.smh.com.au:443 \"GET /nsw HTTP/1.1\" 301 47\n",
      "2020-04-24 21:17:29 [urllib3.connectionpool] DEBUG: https://www.smh.com.au:443 \"GET /national/nsw HTTP/1.1\" 200 58452\n",
      "2020-04-24 21:17:29 [urllib3.connectionpool] DEBUG: Starting new HTTPS connection (1): www.smh.com.au:443\n"
     ]
    },
    {
     "name": "stdout",
     "output_type": "stream",
     "text": [
      "#sections\n",
      "#content\n",
      "#footer\n",
      "javascript:void(0);\n",
      "https://subscribe.smh.com.au/?promote_channel=HI_SMH_GNL_HL\n",
      "/\n",
      "https://subscribe.smh.com.au/?promote_channel=HI_SMH_GNL_HL\n",
      "/\n",
      "#sections\n",
      "#network\n",
      "/\n",
      "/sydney-news\n",
      "/national/nsw\n",
      "/politics\n",
      "/politics/federal\n",
      "/politics/nsw\n",
      "/politics/victoria\n",
      "/politics/queensland\n",
      "/politics/western-australia\n",
      "/business\n",
      "/business/companies\n",
      "/business/markets\n",
      "/business/the-economy\n",
      "/business/banking-and-finance\n",
      "/business/small-business\n",
      "/business/consumer-affairs\n",
      "/business/workplace\n",
      "/world\n",
      "/world/north-america\n",
      "/world/europe\n",
      "/world/asia\n",
      "/world/middle-east\n",
      "/world/oceania\n",
      "/world/central-america\n",
      "/world/south-america\n",
      "/world/africa\n",
      "/national\n",
      "/national/victoria\n",
      "/national/queensland\n",
      "/national/western-australia\n",
      "/opinion\n",
      "http://www.domain.com.au\n",
      "/sport\n",
      "/sport/nrl\n",
      "/sport/rugby-union\n",
      "/sport/cricket\n",
      "/sport/soccer\n",
      "/sport/afl\n",
      "/sport/racing\n",
      "/sport/tennis\n",
      "/sport/netball\n",
      "/sport/basketball\n",
      "/sport/motorsport\n",
      "/sport/cycling\n",
      "/sport/golf\n",
      "/sport/nfl\n",
      "/sport/athletics\n",
      "/sport/swimming\n",
      "/sport/boxing\n",
      "/culture\n",
      "/culture/movies\n",
      "/culture/tv-and-radio\n",
      "/culture/music\n",
      "/culture/celebrity\n",
      "/culture/books\n",
      "/culture/comedy\n",
      "/culture/dance\n",
      "/culture/musicals\n",
      "/culture/opera\n",
      "/culture/theatre\n",
      "/culture/art-and-design\n",
      "https://tvguide.smh.com.au\n",
      "/lifestyle\n",
      "/lifestyle/life-and-relationships\n",
      "/lifestyle/health-and-wellness\n",
      "/lifestyle/gender\n",
      "/lifestyle/fashion\n",
      "/lifestyle/beauty\n",
      "/topic/horoscopes-5yc\n",
      "/topic/good-weekend-1qq\n",
      "/money\n",
      "/money/super-and-retirement\n",
      "/money/investing\n",
      "/money/banking\n",
      "/money/borrowing\n",
      "/money/saving\n",
      "/money/tax\n",
      "/money/planning-and-budgeting\n",
      "/money/insurance\n",
      "/education\n",
      "/healthcare\n",
      "/environment\n",
      "/environment/conservation\n",
      "/environment/climate-change\n",
      "/environment/sustainability\n",
      "/environment/weather\n",
      "/technology\n",
      "/technology/video-games\n",
      "/topic/home-technology-hqq\n",
      "/topic/phones-5zt\n",
      "/topic/gadgets-hqp\n",
      "http://www.drive.com.au\n",
      "http://www.traveller.com.au\n",
      "http://www.goodfood.com.au\n",
      "http://www.executivestyle.com.au\n",
      "https://subscribe.smh.com.au/2?promote_channel=HI_IPL_GNL&utm_source=PremiumIndex&utm_medium=HouseInventory&utm_campaign=General\n",
      "/todays-newspaper\n",
      "/puzzles/crosswords\n",
      "/topic/smh-letters-1r7\n",
      "/topic/smh-editorial-1r6\n",
      "/topic/column-8-1r4\n",
      "/topic/obituaries-1qv\n",
      "/topic/explainers-1lz9\n",
      "/topic/quizzes-1qx\n",
      "http://weather.smh.com.au/local-forecast/nsw/sydney\n",
      "https://www.theage.com.au\n",
      "https://www.brisbanetimes.com.au\n",
      "https://www.watoday.com.au\n",
      "https://www.afr.com\n",
      "https://www.domain.com.au\n",
      "https://www.commercialrealestate.com.au\n",
      "https://www.drive.com.au\n",
      "https://www.goodfood.com.au\n",
      "http://www.traveller.com.au\n",
      "http://www.executivestyle.com.au\n",
      "https://www.findababysitter.com.au\n",
      "https://www.thestore.com.au\n",
      "http://www.weatherzone.com.au\n",
      "https://www.rsvp.com.au\n",
      "/national/nsw/give-it-a-whirl-regional-cities-call-for-trial-of-relaxed-restrictions-20200424-p54n1p.html\n"
     ]
    },
    {
     "name": "stderr",
     "output_type": "stream",
     "text": [
      "2020-04-24 21:17:29 [urllib3.connectionpool] DEBUG: https://www.smh.com.au:443 \"GET //national/nsw/give-it-a-whirl-regional-cities-call-for-trial-of-relaxed-restrictions-20200424-p54n1p.html HTTP/1.1\" 200 40662\n",
      "2020-04-24 21:17:30 [urllib3.connectionpool] DEBUG: Starting new HTTPS connection (1): www.smh.com.au:443\n"
     ]
    },
    {
     "name": "stdout",
     "output_type": "stream",
     "text": [
      "/coronavirus-pandemic\n",
      "/national/nsw/give-it-a-whirl-regional-cities-call-for-trial-of-relaxed-restrictions-20200424-p54n1p.html\n"
     ]
    },
    {
     "name": "stderr",
     "output_type": "stream",
     "text": [
      "2020-04-24 21:17:30 [urllib3.connectionpool] DEBUG: https://www.smh.com.au:443 \"GET //national/nsw/give-it-a-whirl-regional-cities-call-for-trial-of-relaxed-restrictions-20200424-p54n1p.html HTTP/1.1\" 200 40660\n",
      "2020-04-24 21:17:30 [urllib3.connectionpool] DEBUG: Starting new HTTPS connection (1): www.smh.com.au:443\n"
     ]
    },
    {
     "name": "stdout",
     "output_type": "stream",
     "text": [
      "/national/nsw/to-those-lost-in-and-after-wars-thank-you-for-your-sacrifice-20200423-p54mn8.html\n"
     ]
    },
    {
     "name": "stderr",
     "output_type": "stream",
     "text": [
      "2020-04-24 21:17:31 [urllib3.connectionpool] DEBUG: https://www.smh.com.au:443 \"GET //national/nsw/to-those-lost-in-and-after-wars-thank-you-for-your-sacrifice-20200423-p54mn8.html HTTP/1.1\" 200 53373\n",
      "2020-04-24 21:17:31 [urllib3.connectionpool] DEBUG: Starting new HTTPS connection (1): www.smh.com.au:443\n"
     ]
    },
    {
     "name": "stdout",
     "output_type": "stream",
     "text": [
      "/topic/smh-letters-1r7\n",
      "/national/nsw/to-those-lost-in-and-after-wars-thank-you-for-your-sacrifice-20200423-p54mn8.html\n"
     ]
    },
    {
     "name": "stderr",
     "output_type": "stream",
     "text": [
      "2020-04-24 21:17:32 [urllib3.connectionpool] DEBUG: https://www.smh.com.au:443 \"GET //national/nsw/to-those-lost-in-and-after-wars-thank-you-for-your-sacrifice-20200423-p54mn8.html HTTP/1.1\" 200 53373\n",
      "2020-04-24 21:17:33 [urllib3.connectionpool] DEBUG: Starting new HTTPS connection (1): www.smh.com.au:443\n"
     ]
    },
    {
     "name": "stdout",
     "output_type": "stream",
     "text": [
      "/national/nsw/photos-of-the-week-20190525-h1erbt.html\n"
     ]
    },
    {
     "name": "stderr",
     "output_type": "stream",
     "text": [
      "2020-04-24 21:17:33 [urllib3.connectionpool] DEBUG: https://www.smh.com.au:443 \"GET //national/nsw/photos-of-the-week-20190525-h1erbt.html HTTP/1.1\" 200 35033\n",
      "2020-04-24 21:17:33 [urllib3.connectionpool] DEBUG: Starting new HTTPS connection (1): www.smh.com.au:443\n"
     ]
    },
    {
     "name": "stdout",
     "output_type": "stream",
     "text": [
      "/national/nsw\n",
      "/national/nsw/photos-of-the-week-20190525-h1erbt.html\n"
     ]
    },
    {
     "name": "stderr",
     "output_type": "stream",
     "text": [
      "2020-04-24 21:17:33 [urllib3.connectionpool] DEBUG: https://www.smh.com.au:443 \"GET //national/nsw/photos-of-the-week-20190525-h1erbt.html HTTP/1.1\" 200 35033\n",
      "2020-04-24 21:17:34 [urllib3.connectionpool] DEBUG: Starting new HTTPS connection (1): www.smh.com.au:443\n"
     ]
    },
    {
     "name": "stdout",
     "output_type": "stream",
     "text": [
      "/national/nsw/sydney-living-with-coronavirus-april-24-2020-20200424-h1nlep.html\n"
     ]
    },
    {
     "name": "stderr",
     "output_type": "stream",
     "text": [
      "2020-04-24 21:17:34 [urllib3.connectionpool] DEBUG: https://www.smh.com.au:443 \"GET //national/nsw/sydney-living-with-coronavirus-april-24-2020-20200424-h1nlep.html HTTP/1.1\" 200 43090\n",
      "2020-04-24 21:17:35 [urllib3.connectionpool] DEBUG: Starting new HTTPS connection (1): www.smh.com.au:443\n"
     ]
    },
    {
     "name": "stdout",
     "output_type": "stream",
     "text": [
      "/national/nsw\n",
      "/national/nsw/sydney-living-with-coronavirus-april-24-2020-20200424-h1nlep.html\n"
     ]
    },
    {
     "name": "stderr",
     "output_type": "stream",
     "text": [
      "2020-04-24 21:17:35 [urllib3.connectionpool] DEBUG: https://www.smh.com.au:443 \"GET //national/nsw/sydney-living-with-coronavirus-april-24-2020-20200424-h1nlep.html HTTP/1.1\" 200 43090\n",
      "2020-04-24 21:17:35 [urllib3.connectionpool] DEBUG: Starting new HTTPS connection (1): www.smh.com.au:443\n"
     ]
    },
    {
     "name": "stdout",
     "output_type": "stream",
     "text": [
      "/national/nsw/convicted-solicitor-michael-croke-deserves-everything-he-gets-says-ex-client-20200424-p54n30.html\n"
     ]
    },
    {
     "name": "stderr",
     "output_type": "stream",
     "text": [
      "2020-04-24 21:17:35 [urllib3.connectionpool] DEBUG: https://www.smh.com.au:443 \"GET //national/nsw/convicted-solicitor-michael-croke-deserves-everything-he-gets-says-ex-client-20200424-p54n30.html HTTP/1.1\" 200 43329\n",
      "2020-04-24 21:17:35 [urllib3.connectionpool] DEBUG: Starting new HTTPS connection (1): www.smh.com.au:443\n",
      "2020-04-24 21:17:36 [urllib3.connectionpool] DEBUG: https://www.smh.com.au:443 \"GET //national/nsw/convicted-solicitor-michael-croke-deserves-everything-he-gets-says-ex-client-20200424-p54n30.html HTTP/1.1\" 200 43393\n"
     ]
    },
    {
     "name": "stdout",
     "output_type": "stream",
     "text": [
      "/topic/sydney-courts-62m\n",
      "/national/nsw/convicted-solicitor-michael-croke-deserves-everything-he-gets-says-ex-client-20200424-p54n30.html\n"
     ]
    },
    {
     "name": "stderr",
     "output_type": "stream",
     "text": [
      "2020-04-24 21:17:36 [urllib3.connectionpool] DEBUG: Starting new HTTPS connection (1): www.smh.com.au:443\n"
     ]
    },
    {
     "name": "stdout",
     "output_type": "stream",
     "text": [
      "/politics/nsw\n",
      "/politics/nsw/the-lucky-group-enjoying-fewer-constraints-under-covid-developers-20200423-p54mqg.html\n"
     ]
    },
    {
     "name": "stderr",
     "output_type": "stream",
     "text": [
      "2020-04-24 21:17:36 [urllib3.connectionpool] DEBUG: https://www.smh.com.au:443 \"GET //politics/nsw/the-lucky-group-enjoying-fewer-constraints-under-covid-developers-20200423-p54mqg.html HTTP/1.1\" 200 47830\n",
      "2020-04-24 21:17:36 [urllib3.connectionpool] DEBUG: Starting new HTTPS connection (1): www.smh.com.au:443\n",
      "2020-04-24 21:17:36 [urllib3.connectionpool] DEBUG: https://www.smh.com.au:443 \"GET //politics/nsw/the-lucky-group-enjoying-fewer-constraints-under-covid-developers-20200423-p54mqg.html HTTP/1.1\" 200 47830\n"
     ]
    },
    {
     "name": "stdout",
     "output_type": "stream",
     "text": [
      "/topic/urban-development-63l\n",
      "/politics/nsw/the-lucky-group-enjoying-fewer-constraints-under-covid-developers-20200423-p54mqg.html\n"
     ]
    },
    {
     "name": "stderr",
     "output_type": "stream",
     "text": [
      "2020-04-24 21:17:37 [urllib3.connectionpool] DEBUG: Starting new HTTPS connection (1): www.smh.com.au:443\n"
     ]
    },
    {
     "name": "stdout",
     "output_type": "stream",
     "text": [
      "/politics/nsw/andrew-constance-i-was-incredibly-traumatised-i-have-zero-filters-towards-political-work-now-20200401-p54g61.html\n"
     ]
    },
    {
     "name": "stderr",
     "output_type": "stream",
     "text": [
      "2020-04-24 21:17:37 [urllib3.connectionpool] DEBUG: https://www.smh.com.au:443 \"GET //politics/nsw/andrew-constance-i-was-incredibly-traumatised-i-have-zero-filters-towards-political-work-now-20200401-p54g61.html HTTP/1.1\" 200 47096\n",
      "2020-04-24 21:17:37 [urllib3.connectionpool] DEBUG: Starting new HTTPS connection (1): www.smh.com.au:443\n"
     ]
    },
    {
     "name": "stdout",
     "output_type": "stream",
     "text": [
      "/topic/good-weekend-1qq\n",
      "/politics/nsw/andrew-constance-i-was-incredibly-traumatised-i-have-zero-filters-towards-political-work-now-20200401-p54g61.html\n"
     ]
    },
    {
     "name": "stderr",
     "output_type": "stream",
     "text": [
      "2020-04-24 21:17:37 [urllib3.connectionpool] DEBUG: https://www.smh.com.au:443 \"GET //politics/nsw/andrew-constance-i-was-incredibly-traumatised-i-have-zero-filters-towards-political-work-now-20200401-p54g61.html HTTP/1.1\" 200 47096\n",
      "2020-04-24 21:17:38 [urllib3.connectionpool] DEBUG: Starting new HTTPS connection (1): www.smh.com.au:443\n"
     ]
    },
    {
     "name": "stdout",
     "output_type": "stream",
     "text": [
      "/politics/nsw/mums-reclaim-their-sleep-with-access-to-parenting-app-20200423-p54moo.html\n"
     ]
    },
    {
     "name": "stderr",
     "output_type": "stream",
     "text": [
      "2020-04-24 21:17:38 [urllib3.connectionpool] DEBUG: https://www.smh.com.au:443 \"GET //politics/nsw/mums-reclaim-their-sleep-with-access-to-parenting-app-20200423-p54moo.html HTTP/1.1\" 200 40763\n",
      "2020-04-24 21:17:38 [urllib3.connectionpool] DEBUG: Starting new HTTPS connection (1): www.smh.com.au:443\n"
     ]
    },
    {
     "name": "stdout",
     "output_type": "stream",
     "text": [
      "/coronavirus-pandemic\n",
      "/politics/nsw/mums-reclaim-their-sleep-with-access-to-parenting-app-20200423-p54moo.html\n"
     ]
    },
    {
     "name": "stderr",
     "output_type": "stream",
     "text": [
      "2020-04-24 21:17:38 [urllib3.connectionpool] DEBUG: https://www.smh.com.au:443 \"GET //politics/nsw/mums-reclaim-their-sleep-with-access-to-parenting-app-20200423-p54moo.html HTTP/1.1\" 200 40763\n",
      "2020-04-24 21:17:38 [urllib3.connectionpool] DEBUG: Starting new HTTPS connection (1): www.smh.com.au:443\n"
     ]
    },
    {
     "name": "stdout",
     "output_type": "stream",
     "text": [
      "/politics/nsw/former-nsw-minister-selling-sydney-unit-prompting-retirement-talk-20200423-p54mph.html\n"
     ]
    },
    {
     "name": "stderr",
     "output_type": "stream",
     "text": [
      "2020-04-24 21:17:39 [urllib3.connectionpool] DEBUG: https://www.smh.com.au:443 \"GET //politics/nsw/former-nsw-minister-selling-sydney-unit-prompting-retirement-talk-20200423-p54mph.html HTTP/1.1\" 200 42899\n",
      "2020-04-24 21:17:39 [urllib3.connectionpool] DEBUG: Starting new HTTPS connection (1): www.smh.com.au:443\n"
     ]
    },
    {
     "name": "stdout",
     "output_type": "stream",
     "text": [
      "/coronavirus-pandemic\n",
      "/politics/nsw/former-nsw-minister-selling-sydney-unit-prompting-retirement-talk-20200423-p54mph.html\n"
     ]
    },
    {
     "name": "stderr",
     "output_type": "stream",
     "text": [
      "2020-04-24 21:17:39 [urllib3.connectionpool] DEBUG: https://www.smh.com.au:443 \"GET //politics/nsw/former-nsw-minister-selling-sydney-unit-prompting-retirement-talk-20200423-p54mph.html HTTP/1.1\" 200 42899\n",
      "2020-04-24 21:17:39 [urllib3.connectionpool] DEBUG: Starting new HTTPS connection (1): www.smh.com.au:443\n"
     ]
    },
    {
     "name": "stdout",
     "output_type": "stream",
     "text": [
      "/politics/nsw/symbols-of-hatred-nsw-seeks-to-ban-nazi-flags-20200423-p54mm4.html\n"
     ]
    },
    {
     "name": "stderr",
     "output_type": "stream",
     "text": [
      "2020-04-24 21:17:40 [urllib3.connectionpool] DEBUG: https://www.smh.com.au:443 \"GET //politics/nsw/symbols-of-hatred-nsw-seeks-to-ban-nazi-flags-20200423-p54mm4.html HTTP/1.1\" 200 40298\n",
      "2020-04-24 21:17:40 [urllib3.connectionpool] DEBUG: Starting new HTTPS connection (1): www.smh.com.au:443\n"
     ]
    },
    {
     "name": "stdout",
     "output_type": "stream",
     "text": [
      "/topic/discrimination-hna\n",
      "/politics/nsw/symbols-of-hatred-nsw-seeks-to-ban-nazi-flags-20200423-p54mm4.html\n"
     ]
    },
    {
     "name": "stderr",
     "output_type": "stream",
     "text": [
      "2020-04-24 21:17:40 [urllib3.connectionpool] DEBUG: https://www.smh.com.au:443 \"GET //politics/nsw/symbols-of-hatred-nsw-seeks-to-ban-nazi-flags-20200423-p54mm4.html HTTP/1.1\" 200 40298\n",
      "2020-04-24 21:17:40 [urllib3.connectionpool] DEBUG: Starting new HTTPS connection (1): www.smh.com.au:443\n"
     ]
    },
    {
     "name": "stdout",
     "output_type": "stream",
     "text": [
      "/national/nsw/convicted-solicitor-michael-croke-deserves-everything-he-gets-says-ex-client-20200424-p54n30.html\n"
     ]
    },
    {
     "name": "stderr",
     "output_type": "stream",
     "text": [
      "2020-04-24 21:17:41 [urllib3.connectionpool] DEBUG: https://www.smh.com.au:443 \"GET //national/nsw/convicted-solicitor-michael-croke-deserves-everything-he-gets-says-ex-client-20200424-p54n30.html HTTP/1.1\" 200 43393\n",
      "2020-04-24 21:17:41 [urllib3.connectionpool] DEBUG: Starting new HTTPS connection (1): www.smh.com.au:443\n"
     ]
    },
    {
     "name": "stdout",
     "output_type": "stream",
     "text": [
      "/topic/sydney-courts-62m\n",
      "/national/nsw/convicted-solicitor-michael-croke-deserves-everything-he-gets-says-ex-client-20200424-p54n30.html\n"
     ]
    },
    {
     "name": "stderr",
     "output_type": "stream",
     "text": [
      "2020-04-24 21:17:41 [urllib3.connectionpool] DEBUG: https://www.smh.com.au:443 \"GET //national/nsw/convicted-solicitor-michael-croke-deserves-everything-he-gets-says-ex-client-20200424-p54n30.html HTTP/1.1\" 200 43393\n",
      "2020-04-24 21:17:41 [urllib3.connectionpool] DEBUG: Starting new HTTPS connection (1): www.smh.com.au:443\n",
      "2020-04-24 21:17:41 [urllib3.connectionpool] DEBUG: https://www.smh.com.au:443 \"GET //national/nsw/two-charged-after-80-million-of-liquid-meth-found-inside-bottles-of-mineral-water-20200424-p54mtw.html HTTP/1.1\" 200 41797\n"
     ]
    },
    {
     "name": "stdout",
     "output_type": "stream",
     "text": [
      "/national/nsw/two-charged-after-80-million-of-liquid-meth-found-inside-bottles-of-mineral-water-20200424-p54mtw.html\n"
     ]
    },
    {
     "name": "stderr",
     "output_type": "stream",
     "text": [
      "2020-04-24 21:17:41 [urllib3.connectionpool] DEBUG: Starting new HTTPS connection (1): www.smh.com.au:443\n",
      "2020-04-24 21:17:42 [urllib3.connectionpool] DEBUG: https://www.smh.com.au:443 \"GET //national/nsw/two-charged-after-80-million-of-liquid-meth-found-inside-bottles-of-mineral-water-20200424-p54mtw.html HTTP/1.1\" 200 41794\n"
     ]
    },
    {
     "name": "stdout",
     "output_type": "stream",
     "text": [
      "/topic/crime-5w4\n",
      "/national/nsw/two-charged-after-80-million-of-liquid-meth-found-inside-bottles-of-mineral-water-20200424-p54mtw.html\n"
     ]
    },
    {
     "name": "stderr",
     "output_type": "stream",
     "text": [
      "2020-04-24 21:17:42 [urllib3.connectionpool] DEBUG: Starting new HTTPS connection (1): www.smh.com.au:443\n"
     ]
    },
    {
     "name": "stdout",
     "output_type": "stream",
     "text": [
      "/national/nsw/former-scout-leader-jailed-for-31-years-for-decades-of-child-sex-abuse-20200422-p54mdc.html\n"
     ]
    },
    {
     "name": "stderr",
     "output_type": "stream",
     "text": [
      "2020-04-24 21:17:42 [urllib3.connectionpool] DEBUG: https://www.smh.com.au:443 \"GET //national/nsw/former-scout-leader-jailed-for-31-years-for-decades-of-child-sex-abuse-20200422-p54mdc.html HTTP/1.1\" 200 40616\n",
      "2020-04-24 21:17:42 [urllib3.connectionpool] DEBUG: Starting new HTTPS connection (1): www.smh.com.au:443\n"
     ]
    },
    {
     "name": "stdout",
     "output_type": "stream",
     "text": [
      "/topic/sydney-courts-62m\n",
      "/national/nsw/former-scout-leader-jailed-for-31-years-for-decades-of-child-sex-abuse-20200422-p54mdc.html\n"
     ]
    },
    {
     "name": "stderr",
     "output_type": "stream",
     "text": [
      "2020-04-24 21:17:43 [urllib3.connectionpool] DEBUG: https://www.smh.com.au:443 \"GET //national/nsw/former-scout-leader-jailed-for-31-years-for-decades-of-child-sex-abuse-20200422-p54mdc.html HTTP/1.1\" 200 40616\n",
      "2020-04-24 21:17:43 [urllib3.connectionpool] DEBUG: Starting new HTTPS connection (1): www.smh.com.au:443\n"
     ]
    },
    {
     "name": "stdout",
     "output_type": "stream",
     "text": [
      "/national/nsw/two-charged-over-alleged-attempt-to-kidnap-sydney-party-boat-operator-for-ransom-20200423-p54mjx.html\n"
     ]
    },
    {
     "name": "stderr",
     "output_type": "stream",
     "text": [
      "2020-04-24 21:17:43 [urllib3.connectionpool] DEBUG: https://www.smh.com.au:443 \"GET //national/nsw/two-charged-over-alleged-attempt-to-kidnap-sydney-party-boat-operator-for-ransom-20200423-p54mjx.html HTTP/1.1\" 200 40144\n",
      "2020-04-24 21:17:43 [urllib3.connectionpool] DEBUG: Starting new HTTPS connection (1): www.smh.com.au:443\n",
      "2020-04-24 21:17:44 [urllib3.connectionpool] DEBUG: https://www.smh.com.au:443 \"GET //national/nsw/two-charged-over-alleged-attempt-to-kidnap-sydney-party-boat-operator-for-ransom-20200423-p54mjx.html HTTP/1.1\" 200 40144\n"
     ]
    },
    {
     "name": "stdout",
     "output_type": "stream",
     "text": [
      "/topic/sydney-courts-62m\n",
      "/national/nsw/two-charged-over-alleged-attempt-to-kidnap-sydney-party-boat-operator-for-ransom-20200423-p54mjx.html\n"
     ]
    },
    {
     "name": "stderr",
     "output_type": "stream",
     "text": [
      "2020-04-24 21:17:44 [urllib3.connectionpool] DEBUG: Starting new HTTPS connection (1): www.smh.com.au:443\n"
     ]
    },
    {
     "name": "stdout",
     "output_type": "stream",
     "text": [
      "/national/nsw/no-untoward-event-befell-me-silks-on-the-case-of-mistaken-identity-20200422-p54m3c.html\n"
     ]
    },
    {
     "name": "stderr",
     "output_type": "stream",
     "text": [
      "2020-04-24 21:17:44 [urllib3.connectionpool] DEBUG: https://www.smh.com.au:443 \"GET //national/nsw/no-untoward-event-befell-me-silks-on-the-case-of-mistaken-identity-20200422-p54m3c.html HTTP/1.1\" 200 39060\n",
      "2020-04-24 21:17:44 [urllib3.connectionpool] DEBUG: Starting new HTTPS connection (1): www.smh.com.au:443\n"
     ]
    },
    {
     "name": "stdout",
     "output_type": "stream",
     "text": [
      "/topic/sydney-city-life-62j\n",
      "/national/nsw/no-untoward-event-befell-me-silks-on-the-case-of-mistaken-identity-20200422-p54m3c.html\n"
     ]
    },
    {
     "name": "stderr",
     "output_type": "stream",
     "text": [
      "2020-04-24 21:17:44 [urllib3.connectionpool] DEBUG: https://www.smh.com.au:443 \"GET //national/nsw/no-untoward-event-befell-me-silks-on-the-case-of-mistaken-identity-20200422-p54m3c.html HTTP/1.1\" 200 39060\n",
      "2020-04-24 21:17:44 [urllib3.connectionpool] DEBUG: Starting new HTTPS connection (1): www.smh.com.au:443\n"
     ]
    },
    {
     "name": "stdout",
     "output_type": "stream",
     "text": [
      "/national/nsw/ridiculously-dodgy-lawyer-michael-croke-found-guilty-20200420-p54ljo.html\n"
     ]
    },
    {
     "name": "stderr",
     "output_type": "stream",
     "text": [
      "2020-04-24 21:17:45 [urllib3.connectionpool] DEBUG: https://www.smh.com.au:443 \"GET //national/nsw/ridiculously-dodgy-lawyer-michael-croke-found-guilty-20200420-p54ljo.html HTTP/1.1\" 200 47126\n",
      "2020-04-24 21:17:45 [urllib3.connectionpool] DEBUG: Starting new HTTPS connection (1): www.smh.com.au:443\n",
      "2020-04-24 21:17:45 [urllib3.connectionpool] DEBUG: https://www.smh.com.au:443 \"GET //national/nsw/ridiculously-dodgy-lawyer-michael-croke-found-guilty-20200420-p54ljo.html HTTP/1.1\" 200 47126\n"
     ]
    },
    {
     "name": "stdout",
     "output_type": "stream",
     "text": [
      "/topic/sydney-courts-62m\n",
      "/national/nsw/ridiculously-dodgy-lawyer-michael-croke-found-guilty-20200420-p54ljo.html\n"
     ]
    },
    {
     "name": "stderr",
     "output_type": "stream",
     "text": [
      "2020-04-24 21:17:45 [urllib3.connectionpool] DEBUG: Starting new HTTPS connection (1): www.smh.com.au:443\n"
     ]
    },
    {
     "name": "stdout",
     "output_type": "stream",
     "text": [
      "/education\n",
      "/national/nsw/this-is-not-a-one-off-hit-sydney-universities-cut-courses-and-casual-staff-20200423-p54mmy.html\n"
     ]
    },
    {
     "name": "stderr",
     "output_type": "stream",
     "text": [
      "2020-04-24 21:17:46 [urllib3.connectionpool] DEBUG: https://www.smh.com.au:443 \"GET //national/nsw/this-is-not-a-one-off-hit-sydney-universities-cut-courses-and-casual-staff-20200423-p54mmy.html HTTP/1.1\" 200 43346\n",
      "2020-04-24 21:17:46 [urllib3.connectionpool] DEBUG: Starting new HTTPS connection (1): www.smh.com.au:443\n"
     ]
    },
    {
     "name": "stdout",
     "output_type": "stream",
     "text": [
      "/topic/university-63k\n",
      "/national/nsw/this-is-not-a-one-off-hit-sydney-universities-cut-courses-and-casual-staff-20200423-p54mmy.html\n"
     ]
    },
    {
     "name": "stderr",
     "output_type": "stream",
     "text": [
      "2020-04-24 21:17:46 [urllib3.connectionpool] DEBUG: https://www.smh.com.au:443 \"GET //national/nsw/this-is-not-a-one-off-hit-sydney-universities-cut-courses-and-casual-staff-20200423-p54mmy.html HTTP/1.1\" 200 43346\n",
      "2020-04-24 21:17:46 [urllib3.connectionpool] DEBUG: Starting new HTTPS connection (1): www.smh.com.au:443\n"
     ]
    },
    {
     "name": "stdout",
     "output_type": "stream",
     "text": [
      "/education\n",
      "/national/nsw/teaching-has-been-a-lifelong-vocation-for-this-headmaster-20200422-p54m5m.html\n"
     ]
    },
    {
     "name": "stderr",
     "output_type": "stream",
     "text": [
      "2020-04-24 21:17:47 [urllib3.connectionpool] DEBUG: https://www.smh.com.au:443 \"GET //national/nsw/teaching-has-been-a-lifelong-vocation-for-this-headmaster-20200422-p54m5m.html HTTP/1.1\" 200 40892\n",
      "2020-04-24 21:17:47 [urllib3.connectionpool] DEBUG: Starting new HTTPS connection (1): www.smh.com.au:443\n"
     ]
    },
    {
     "name": "stdout",
     "output_type": "stream",
     "text": [
      "/coronavirus-pandemic\n",
      "/national/nsw/premier-accuses-teachers-union-of-wanting-kids-home-indefinitely-20200423-p54moi.html\n"
     ]
    },
    {
     "name": "stderr",
     "output_type": "stream",
     "text": [
      "2020-04-24 21:17:48 [urllib3.connectionpool] DEBUG: https://www.smh.com.au:443 \"GET //national/nsw/premier-accuses-teachers-union-of-wanting-kids-home-indefinitely-20200423-p54moi.html HTTP/1.1\" 200 44140\n",
      "2020-04-24 21:17:48 [urllib3.connectionpool] DEBUG: Starting new HTTPS connection (1): www.smh.com.au:443\n"
     ]
    },
    {
     "name": "stdout",
     "output_type": "stream",
     "text": [
      "/healthcare\n",
      "/national/nsw/nsw-records-seven-new-coronavirus-cases-aims-to-carry-out-8000-tests-per-day-20200424-p54mt6.html\n"
     ]
    },
    {
     "name": "stderr",
     "output_type": "stream",
     "text": [
      "2020-04-24 21:17:48 [urllib3.connectionpool] DEBUG: https://www.smh.com.au:443 \"GET //national/nsw/nsw-records-seven-new-coronavirus-cases-aims-to-carry-out-8000-tests-per-day-20200424-p54mt6.html HTTP/1.1\" 200 47255\n",
      "2020-04-24 21:17:49 [urllib3.connectionpool] DEBUG: Starting new HTTPS connection (1): www.smh.com.au:443\n"
     ]
    },
    {
     "name": "stdout",
     "output_type": "stream",
     "text": [
      "/coronavirus-pandemic\n",
      "/national/nsw/nsw-records-seven-new-coronavirus-cases-aims-to-carry-out-8000-tests-per-day-20200424-p54mt6.html\n"
     ]
    },
    {
     "name": "stderr",
     "output_type": "stream",
     "text": [
      "2020-04-24 21:17:49 [urllib3.connectionpool] DEBUG: https://www.smh.com.au:443 \"GET //national/nsw/nsw-records-seven-new-coronavirus-cases-aims-to-carry-out-8000-tests-per-day-20200424-p54mt6.html HTTP/1.1\" 200 47255\n",
      "2020-04-24 21:17:49 [urllib3.connectionpool] DEBUG: Starting new HTTPS connection (1): www.smh.com.au:443\n"
     ]
    },
    {
     "name": "stdout",
     "output_type": "stream",
     "text": [
      "/coronavirus-pandemic\n",
      "/national/nsw/terrible-situation-fourth-death-as-nursing-home-struggles-with-staffing-20200423-p54mnp.html\n"
     ]
    },
    {
     "name": "stderr",
     "output_type": "stream",
     "text": [
      "2020-04-24 21:17:50 [urllib3.connectionpool] DEBUG: https://www.smh.com.au:443 \"GET //national/nsw/terrible-situation-fourth-death-as-nursing-home-struggles-with-staffing-20200423-p54mnp.html HTTP/1.1\" 200 43996\n",
      "2020-04-24 21:17:50 [urllib3.connectionpool] DEBUG: Starting new HTTPS connection (1): www.smh.com.au:443\n"
     ]
    },
    {
     "name": "stdout",
     "output_type": "stream",
     "text": [
      "/coronavirus-pandemic\n",
      "/national/nsw/paramedic-and-nurse-among-five-new-coronavirus-cases-in-nsw-20200423-p54mez.html\n"
     ]
    },
    {
     "name": "stderr",
     "output_type": "stream",
     "text": [
      "2020-04-24 21:17:50 [urllib3.connectionpool] DEBUG: https://www.smh.com.au:443 \"GET //national/nsw/paramedic-and-nurse-among-five-new-coronavirus-cases-in-nsw-20200423-p54mez.html HTTP/1.1\" 200 42920\n",
      "2020-04-24 21:17:51 [urllib3.connectionpool] DEBUG: Starting new HTTPS connection (1): www.smh.com.au:443\n"
     ]
    },
    {
     "name": "stdout",
     "output_type": "stream",
     "text": [
      "/\n",
      "https://twitter.com/smh\n",
      "http://www.facebook.com/sydneymorningherald\n",
      "https://www.instagram.com/sydneymorningherald\n",
      "/rssheadlines\n",
      "javascript:void(0)\n",
      "https://www.smh.com.au\n",
      "https://www.theage.com.au\n",
      "https://www.brisbanetimes.com.au\n",
      "https://www.watoday.com.au\n",
      "https://www.afr.com\n",
      "https://www.domain.com.au\n",
      "http://www.traveller.com.au\n",
      "https://www.goodfood.com.au\n",
      "http://www.executivestyle.com.au\n",
      "https://www.thestore.com.au\n",
      "https://www.drive.com.au\n",
      "https://www.caradvice.com.au\n",
      "https://www.rsvp.com.au\n",
      "http://www.weatherzone.com.au\n",
      "javascript:void(0)\n",
      "http://tributes.smh.com.au/obituaries/smh-au/\n",
      "http://celebrations.smh.com.au/celebration/smh-au/\n",
      "https://advertisers.com.au\n",
      "https://www.commercialrealestate.com.au\n",
      "https://www.oneflare.com.au\n",
      "javascript:void(0)\n",
      "/contact-us\n",
      "https://www.adcentre.com.au/brands/the-sydney-morning-herald\n",
      "https://smh.myfairfax.com.au/members/lite_session/new?callback_uri=https%3A%2F%2Fsmh.myfairfax.com.au%2Fbeta%2Fmembers%2Fmy_account%2Fnewsletters%3Fchannel_key%3DzHE9EWDHf1XPuz3Phk0YIg%26callback_uri%3Dhttps%253a%252f%252fwww.smh.com.au&channel_key=zHE9EWDHf1XPuz3Phk0YIg\n",
      "/siteguide/accessibility\n",
      "/siteguide\n",
      "https://consumer.fairfaxsyndication.com/C.aspx?VP3=CMS3&VF=FXJFX2_2_VForm\n",
      "https://frontpages.fairfaxsyndication.com/C.aspx?VP3=CMS3&VF=FXJFX2_3_VForm\n",
      "https://www.fairfaxsyndication.com/C.aspx?VP3=CMS3&VF=FXJO50_1\n",
      "/our-events\n",
      "https://www.nineforbrands.com.au/about/careers/\n",
      "/conditions-of-use\n",
      "/privacy\n",
      "https://www.presscouncil.org.au/what-we-do\n",
      "javascript:void(0)\n",
      "https://subscribe.smh.com.au/?promote_channel=HI_SMH_GNL_FT\n",
      "https://subscribers.smh.com.au\n",
      "https://www.smh.com.au/myaccount\n",
      "https://subscribers.smh.com.au/support-centre/overview\n",
      "/todays-newspaper\n",
      "/puzzles/crosswords\n",
      "https://www.thesmhinsider.com.au/c/a/5dAvszx5Lm7C4GDU21EWmQ?dPanel=2\n",
      "https://subscribe.smh.com.au/?promote_channel=HI_SMH_GNL_FT\n",
      "                                                link  \\\n",
      "0  /national/nsw/give-it-a-whirl-regional-cities-...   \n",
      "1  /national/nsw/give-it-a-whirl-regional-cities-...   \n",
      "2  /national/nsw/to-those-lost-in-and-after-wars-...   \n",
      "3  /national/nsw/to-those-lost-in-and-after-wars-...   \n",
      "4  /national/nsw/photos-of-the-week-20190525-h1er...   \n",
      "\n",
      "                                              header  \\\n",
      "0  'Give it a whirl': regional cities call for tr...   \n",
      "1  'Give it a whirl': regional cities call for tr...   \n",
      "2  To those lost in and after wars: thank you for...   \n",
      "3  To those lost in and after wars: thank you for...   \n",
      "4                                 Photos of the week   \n",
      "\n",
      "                                             article            author  \\\n",
      "0  Major cities in NSW are angling to become a te...   Carrie Fellner    \n",
      "1  Major cities in NSW are angling to become a te...   Carrie Fellner    \n",
      "2  Illustration: Alan MoirCredit:  In recent mont...                     \n",
      "3  Illustration: Alan MoirCredit:  In recent mont...                     \n",
      "4  The week in photos from award-winning Sydney M...                     \n",
      "\n",
      "             date  \n",
      "0  April 25, 2020  \n",
      "1  April 25, 2020  \n",
      "2  April 25, 2020  \n",
      "3  April 25, 2020  \n",
      "4  April 25, 2020  \n",
      "processing : politics\n"
     ]
    },
    {
     "name": "stderr",
     "output_type": "stream",
     "text": [
      "2020-04-24 21:17:51 [urllib3.connectionpool] DEBUG: https://www.smh.com.au:443 \"GET /politics HTTP/1.1\" 200 66063\n",
      "2020-04-24 21:17:52 [urllib3.connectionpool] DEBUG: Starting new HTTPS connection (1): www.smh.com.au:443\n"
     ]
    },
    {
     "name": "stdout",
     "output_type": "stream",
     "text": [
      "#sections\n",
      "#content\n",
      "#footer\n",
      "javascript:void(0);\n",
      "https://subscribe.smh.com.au/?promote_channel=HI_SMH_GNL_HL\n",
      "/\n",
      "https://subscribe.smh.com.au/?promote_channel=HI_SMH_GNL_HL\n",
      "/\n",
      "#sections\n",
      "#network\n",
      "/\n",
      "/sydney-news\n",
      "/national/nsw\n",
      "/politics\n",
      "/politics/federal\n",
      "/politics/nsw\n",
      "/politics/victoria\n",
      "/politics/queensland\n",
      "/politics/western-australia\n",
      "/business\n",
      "/business/companies\n",
      "/business/markets\n",
      "/business/the-economy\n",
      "/business/banking-and-finance\n",
      "/business/small-business\n",
      "/business/consumer-affairs\n",
      "/business/workplace\n",
      "/world\n",
      "/world/north-america\n",
      "/world/europe\n",
      "/world/asia\n",
      "/world/middle-east\n",
      "/world/oceania\n",
      "/world/central-america\n",
      "/world/south-america\n",
      "/world/africa\n",
      "/national\n",
      "/national/victoria\n",
      "/national/queensland\n",
      "/national/western-australia\n",
      "/opinion\n",
      "http://www.domain.com.au\n",
      "/sport\n",
      "/sport/nrl\n",
      "/sport/rugby-union\n",
      "/sport/cricket\n",
      "/sport/soccer\n",
      "/sport/afl\n",
      "/sport/racing\n",
      "/sport/tennis\n",
      "/sport/netball\n",
      "/sport/basketball\n",
      "/sport/motorsport\n",
      "/sport/cycling\n",
      "/sport/golf\n",
      "/sport/nfl\n",
      "/sport/athletics\n",
      "/sport/swimming\n",
      "/sport/boxing\n",
      "/culture\n",
      "/culture/movies\n",
      "/culture/tv-and-radio\n",
      "/culture/music\n",
      "/culture/celebrity\n",
      "/culture/books\n",
      "/culture/comedy\n",
      "/culture/dance\n",
      "/culture/musicals\n",
      "/culture/opera\n",
      "/culture/theatre\n",
      "/culture/art-and-design\n",
      "https://tvguide.smh.com.au\n",
      "/lifestyle\n",
      "/lifestyle/life-and-relationships\n",
      "/lifestyle/health-and-wellness\n",
      "/lifestyle/gender\n",
      "/lifestyle/fashion\n",
      "/lifestyle/beauty\n",
      "/topic/horoscopes-5yc\n",
      "/topic/good-weekend-1qq\n",
      "/money\n",
      "/money/super-and-retirement\n",
      "/money/investing\n",
      "/money/banking\n",
      "/money/borrowing\n",
      "/money/saving\n",
      "/money/tax\n",
      "/money/planning-and-budgeting\n",
      "/money/insurance\n",
      "/education\n",
      "/healthcare\n",
      "/environment\n",
      "/environment/conservation\n",
      "/environment/climate-change\n",
      "/environment/sustainability\n",
      "/environment/weather\n",
      "/technology\n",
      "/technology/video-games\n",
      "/topic/home-technology-hqq\n",
      "/topic/phones-5zt\n",
      "/topic/gadgets-hqp\n",
      "http://www.drive.com.au\n",
      "http://www.traveller.com.au\n",
      "http://www.goodfood.com.au\n",
      "http://www.executivestyle.com.au\n",
      "https://subscribe.smh.com.au/2?promote_channel=HI_IPL_GNL&utm_source=PremiumIndex&utm_medium=HouseInventory&utm_campaign=General\n",
      "/todays-newspaper\n",
      "/puzzles/crosswords\n",
      "/topic/smh-letters-1r7\n",
      "/topic/smh-editorial-1r6\n",
      "/topic/column-8-1r4\n",
      "/topic/obituaries-1qv\n",
      "/topic/explainers-1lz9\n",
      "/topic/quizzes-1qx\n",
      "http://weather.smh.com.au/local-forecast/nsw/sydney\n",
      "https://www.theage.com.au\n",
      "https://www.brisbanetimes.com.au\n",
      "https://www.watoday.com.au\n",
      "https://www.afr.com\n",
      "https://www.domain.com.au\n",
      "https://www.commercialrealestate.com.au\n",
      "https://www.drive.com.au\n",
      "https://www.goodfood.com.au\n",
      "http://www.traveller.com.au\n",
      "http://www.executivestyle.com.au\n",
      "https://www.findababysitter.com.au\n",
      "https://www.thestore.com.au\n",
      "http://www.weatherzone.com.au\n",
      "https://www.rsvp.com.au\n",
      "/politics/federal\n",
      "/politics/nsw\n",
      "/politics/victoria\n",
      "/politics/queensland\n",
      "/politics/western-australia\n",
      "/politics/federal/australia-rejected-huge-offers-for-medical-supplies-20200424-p54mw7.html\n"
     ]
    },
    {
     "name": "stderr",
     "output_type": "stream",
     "text": [
      "2020-04-24 21:17:53 [urllib3.connectionpool] DEBUG: https://www.smh.com.au:443 \"GET //politics/federal/australia-rejected-huge-offers-for-medical-supplies-20200424-p54mw7.html HTTP/1.1\" 200 46690\n",
      "2020-04-24 21:17:53 [urllib3.connectionpool] DEBUG: Starting new HTTPS connection (1): www.smh.com.au:443\n"
     ]
    },
    {
     "name": "stdout",
     "output_type": "stream",
     "text": [
      "/coronavirus-pandemic\n",
      "/politics/federal/australia-rejected-huge-offers-for-medical-supplies-20200424-p54mw7.html\n"
     ]
    },
    {
     "name": "stderr",
     "output_type": "stream",
     "text": [
      "2020-04-24 21:17:54 [urllib3.connectionpool] DEBUG: https://www.smh.com.au:443 \"GET //politics/federal/australia-rejected-huge-offers-for-medical-supplies-20200424-p54mw7.html HTTP/1.1\" 200 46690\n",
      "2020-04-24 21:17:54 [urllib3.connectionpool] DEBUG: Starting new HTTPS connection (1): www.smh.com.au:443\n"
     ]
    },
    {
     "name": "stdout",
     "output_type": "stream",
     "text": [
      "/politics/federal/gas-revival-key-to-renewables-push-energy-minister-says-20200424-p54n2n.html\n"
     ]
    },
    {
     "name": "stderr",
     "output_type": "stream",
     "text": [
      "2020-04-24 21:17:55 [urllib3.connectionpool] DEBUG: https://www.smh.com.au:443 \"GET //politics/federal/gas-revival-key-to-renewables-push-energy-minister-says-20200424-p54n2n.html HTTP/1.1\" 200 41816\n",
      "2020-04-24 21:17:55 [urllib3.connectionpool] DEBUG: Starting new HTTPS connection (1): www.smh.com.au:443\n"
     ]
    },
    {
     "name": "stdout",
     "output_type": "stream",
     "text": [
      "/topic/energy-5wp\n",
      "/politics/federal/gas-revival-key-to-renewables-push-energy-minister-says-20200424-p54n2n.html\n"
     ]
    },
    {
     "name": "stderr",
     "output_type": "stream",
     "text": [
      "2020-04-24 21:17:55 [urllib3.connectionpool] DEBUG: https://www.smh.com.au:443 \"GET //politics/federal/gas-revival-key-to-renewables-push-energy-minister-says-20200424-p54n2n.html HTTP/1.1\" 200 41816\n",
      "2020-04-24 21:17:56 [urllib3.connectionpool] DEBUG: Starting new HTTPS connection (1): www.smh.com.au:443\n"
     ]
    },
    {
     "name": "stdout",
     "output_type": "stream",
     "text": [
      "/politics/federal/schools-safe-say-commonwealth-medical-experts-20200424-p54n25.html\n"
     ]
    },
    {
     "name": "stderr",
     "output_type": "stream",
     "text": [
      "2020-04-24 21:17:56 [urllib3.connectionpool] DEBUG: https://www.smh.com.au:443 \"GET //politics/federal/schools-safe-say-commonwealth-medical-experts-20200424-p54n25.html HTTP/1.1\" 200 44471\n",
      "2020-04-24 21:17:56 [urllib3.connectionpool] DEBUG: Starting new HTTPS connection (1): www.smh.com.au:443\n"
     ]
    },
    {
     "name": "stdout",
     "output_type": "stream",
     "text": [
      "/topic/schools-1lzt\n",
      "/politics/federal/schools-safe-say-commonwealth-medical-experts-20200424-p54n25.html\n"
     ]
    },
    {
     "name": "stderr",
     "output_type": "stream",
     "text": [
      "2020-04-24 21:17:57 [urllib3.connectionpool] DEBUG: https://www.smh.com.au:443 \"GET //politics/federal/schools-safe-say-commonwealth-medical-experts-20200424-p54n25.html HTTP/1.1\" 200 44471\n",
      "2020-04-24 21:17:57 [urllib3.connectionpool] DEBUG: Starting new HTTPS connection (1): www.smh.com.au:443\n"
     ]
    },
    {
     "name": "stdout",
     "output_type": "stream",
     "text": [
      "/politics/federal/systematic-failing-children-need-special-services-in-bushfire-aftermath-20200424-p54mux.html\n"
     ]
    },
    {
     "name": "stderr",
     "output_type": "stream",
     "text": [
      "2020-04-24 21:17:57 [urllib3.connectionpool] DEBUG: https://www.smh.com.au:443 \"GET //politics/federal/systematic-failing-children-need-special-services-in-bushfire-aftermath-20200424-p54mux.html HTTP/1.1\" 200 43791\n",
      "2020-04-24 21:17:58 [urllib3.connectionpool] DEBUG: Starting new HTTPS connection (1): www.smh.com.au:443\n"
     ]
    },
    {
     "name": "stdout",
     "output_type": "stream",
     "text": [
      "/topic/royal-commission-into-national-natural-disaster-arrangements-1nfn\n",
      "/politics/federal/systematic-failing-children-need-special-services-in-bushfire-aftermath-20200424-p54mux.html\n"
     ]
    },
    {
     "name": "stderr",
     "output_type": "stream",
     "text": [
      "2020-04-24 21:17:58 [urllib3.connectionpool] DEBUG: https://www.smh.com.au:443 \"GET //politics/federal/systematic-failing-children-need-special-services-in-bushfire-aftermath-20200424-p54mux.html HTTP/1.1\" 200 43791\n",
      "2020-04-24 21:17:58 [urllib3.connectionpool] DEBUG: Starting new HTTPS connection (1): www.smh.com.au:443\n"
     ]
    },
    {
     "name": "stdout",
     "output_type": "stream",
     "text": [
      "/politics/federal/treasurer-closes-loopholes-fixes-problems-with-jobkeeper-20200424-p54mzb.html\n"
     ]
    },
    {
     "name": "stderr",
     "output_type": "stream",
     "text": [
      "2020-04-24 21:17:59 [urllib3.connectionpool] DEBUG: https://www.smh.com.au:443 \"GET //politics/federal/treasurer-closes-loopholes-fixes-problems-with-jobkeeper-20200424-p54mzb.html HTTP/1.1\" 200 42942\n",
      "2020-04-24 21:17:59 [urllib3.connectionpool] DEBUG: Starting new HTTPS connection (1): www.smh.com.au:443\n"
     ]
    },
    {
     "name": "stdout",
     "output_type": "stream",
     "text": [
      "/coronavirus-pandemic\n",
      "/politics/federal/treasurer-closes-loopholes-fixes-problems-with-jobkeeper-20200424-p54mzb.html\n"
     ]
    },
    {
     "name": "stderr",
     "output_type": "stream",
     "text": [
      "2020-04-24 21:17:59 [urllib3.connectionpool] DEBUG: https://www.smh.com.au:443 \"GET //politics/federal/treasurer-closes-loopholes-fixes-problems-with-jobkeeper-20200424-p54mzb.html HTTP/1.1\" 200 42942\n",
      "2020-04-24 21:17:59 [urllib3.connectionpool] DEBUG: Starting new HTTPS connection (1): www.smh.com.au:443\n"
     ]
    },
    {
     "name": "stdout",
     "output_type": "stream",
     "text": [
      "/politics/nsw/the-lucky-group-enjoying-fewer-constraints-under-covid-developers-20200423-p54mqg.html\n"
     ]
    },
    {
     "name": "stderr",
     "output_type": "stream",
     "text": [
      "2020-04-24 21:18:00 [urllib3.connectionpool] DEBUG: https://www.smh.com.au:443 \"GET //politics/nsw/the-lucky-group-enjoying-fewer-constraints-under-covid-developers-20200423-p54mqg.html HTTP/1.1\" 200 47830\n",
      "2020-04-24 21:18:00 [urllib3.connectionpool] DEBUG: Starting new HTTPS connection (1): www.smh.com.au:443\n"
     ]
    },
    {
     "name": "stdout",
     "output_type": "stream",
     "text": [
      "/politics/federal/the-week-australia-stood-up-to-china-and-global-giants-20200424-p54n3c.html\n"
     ]
    },
    {
     "name": "stderr",
     "output_type": "stream",
     "text": [
      "2020-04-24 21:18:00 [urllib3.connectionpool] DEBUG: https://www.smh.com.au:443 \"GET //politics/federal/the-week-australia-stood-up-to-china-and-global-giants-20200424-p54n3c.html HTTP/1.1\" 200 50557\n",
      "2020-04-24 21:18:01 [urllib3.connectionpool] DEBUG: Starting new HTTPS connection (1): www.smh.com.au:443\n"
     ]
    },
    {
     "name": "stdout",
     "output_type": "stream",
     "text": [
      "/politics/federal/a-quieter-anzac-day-can-be-just-as-heartfelt-20200424-p54mz1.html\n"
     ]
    },
    {
     "name": "stderr",
     "output_type": "stream",
     "text": [
      "2020-04-24 21:18:01 [urllib3.connectionpool] DEBUG: https://www.smh.com.au:443 \"GET //politics/federal/a-quieter-anzac-day-can-be-just-as-heartfelt-20200424-p54mz1.html HTTP/1.1\" 200 40164\n",
      "2020-04-24 21:18:01 [urllib3.connectionpool] DEBUG: Starting new HTTPS connection (1): www.smh.com.au:443\n"
     ]
    },
    {
     "name": "stdout",
     "output_type": "stream",
     "text": [
      "/politics/federal\n",
      "/politics/federal/systematic-failing-children-need-special-services-in-bushfire-aftermath-20200424-p54mux.html\n"
     ]
    },
    {
     "name": "stderr",
     "output_type": "stream",
     "text": [
      "2020-04-24 21:18:02 [urllib3.connectionpool] DEBUG: https://www.smh.com.au:443 \"GET //politics/federal/systematic-failing-children-need-special-services-in-bushfire-aftermath-20200424-p54mux.html HTTP/1.1\" 200 43791\n",
      "2020-04-24 21:18:02 [urllib3.connectionpool] DEBUG: Starting new HTTPS connection (1): www.smh.com.au:443\n"
     ]
    },
    {
     "name": "stdout",
     "output_type": "stream",
     "text": [
      "/topic/royal-commission-into-national-natural-disaster-arrangements-1nfn\n",
      "/politics/federal/systematic-failing-children-need-special-services-in-bushfire-aftermath-20200424-p54mux.html\n"
     ]
    },
    {
     "name": "stderr",
     "output_type": "stream",
     "text": [
      "2020-04-24 21:18:02 [urllib3.connectionpool] DEBUG: https://www.smh.com.au:443 \"GET //politics/federal/systematic-failing-children-need-special-services-in-bushfire-aftermath-20200424-p54mux.html HTTP/1.1\" 200 43791\n",
      "2020-04-24 21:18:02 [urllib3.connectionpool] DEBUG: Starting new HTTPS connection (1): www.smh.com.au:443\n"
     ]
    },
    {
     "name": "stdout",
     "output_type": "stream",
     "text": [
      "/politics/federal/the-quiet-diplomacy-of-marise-payne-20200424-p54muk.html\n"
     ]
    },
    {
     "name": "stderr",
     "output_type": "stream",
     "text": [
      "2020-04-24 21:18:03 [urllib3.connectionpool] DEBUG: https://www.smh.com.au:443 \"GET //politics/federal/the-quiet-diplomacy-of-marise-payne-20200424-p54muk.html HTTP/1.1\" 200 52130\n",
      "2020-04-24 21:18:04 [urllib3.connectionpool] DEBUG: Starting new HTTPS connection (1): www.smh.com.au:443\n"
     ]
    },
    {
     "name": "stdout",
     "output_type": "stream",
     "text": [
      "/coronavirus-pandemic\n",
      "/politics/federal/the-quiet-diplomacy-of-marise-payne-20200424-p54muk.html\n"
     ]
    },
    {
     "name": "stderr",
     "output_type": "stream",
     "text": [
      "2020-04-24 21:18:04 [urllib3.connectionpool] DEBUG: https://www.smh.com.au:443 \"GET //politics/federal/the-quiet-diplomacy-of-marise-payne-20200424-p54muk.html HTTP/1.1\" 200 52130\n",
      "2020-04-24 21:18:04 [urllib3.connectionpool] DEBUG: Starting new HTTPS connection (1): www.smh.com.au:443\n"
     ]
    },
    {
     "name": "stdout",
     "output_type": "stream",
     "text": [
      "/politics/federal/todays-cartoons-the-illustrated-news-20200419-h1nh0c.html\n"
     ]
    },
    {
     "name": "stderr",
     "output_type": "stream",
     "text": [
      "2020-04-24 21:18:05 [urllib3.connectionpool] DEBUG: https://www.smh.com.au:443 \"GET //politics/federal/todays-cartoons-the-illustrated-news-20200419-h1nh0c.html HTTP/1.1\" 200 36417\n",
      "2020-04-24 21:18:05 [urllib3.connectionpool] DEBUG: Starting new HTTPS connection (1): www.smh.com.au:443\n"
     ]
    },
    {
     "name": "stdout",
     "output_type": "stream",
     "text": [
      "/politics/federal\n",
      "/politics/federal/todays-cartoons-the-illustrated-news-20200419-h1nh0c.html\n"
     ]
    },
    {
     "name": "stderr",
     "output_type": "stream",
     "text": [
      "2020-04-24 21:18:05 [urllib3.connectionpool] DEBUG: https://www.smh.com.au:443 \"GET //politics/federal/todays-cartoons-the-illustrated-news-20200419-h1nh0c.html HTTP/1.1\" 200 36417\n",
      "2020-04-24 21:18:06 [urllib3.connectionpool] DEBUG: Starting new HTTPS connection (1): www.smh.com.au:443\n"
     ]
    },
    {
     "name": "stdout",
     "output_type": "stream",
     "text": [
      "/politics/federal\n",
      "/politics/federal/best-of-cartoons-april-25-2020-20200424-h1nm4b.html\n"
     ]
    },
    {
     "name": "stderr",
     "output_type": "stream",
     "text": [
      "2020-04-24 21:18:06 [urllib3.connectionpool] DEBUG: https://www.smh.com.au:443 \"GET //politics/federal/best-of-cartoons-april-25-2020-20200424-h1nm4b.html HTTP/1.1\" 200 33477\n",
      "2020-04-24 21:18:06 [urllib3.connectionpool] DEBUG: Starting new HTTPS connection (1): www.smh.com.au:443\n"
     ]
    },
    {
     "name": "stdout",
     "output_type": "stream",
     "text": [
      "/politics/federal/schools-safe-say-commonwealth-medical-experts-20200424-p54n25.html\n"
     ]
    },
    {
     "name": "stderr",
     "output_type": "stream",
     "text": [
      "2020-04-24 21:18:07 [urllib3.connectionpool] DEBUG: https://www.smh.com.au:443 \"GET //politics/federal/schools-safe-say-commonwealth-medical-experts-20200424-p54n25.html HTTP/1.1\" 200 44471\n",
      "2020-04-24 21:18:07 [urllib3.connectionpool] DEBUG: Starting new HTTPS connection (1): www.smh.com.au:443\n"
     ]
    },
    {
     "name": "stdout",
     "output_type": "stream",
     "text": [
      "/topic/schools-1lzt\n",
      "/politics/federal/schools-safe-say-commonwealth-medical-experts-20200424-p54n25.html\n"
     ]
    },
    {
     "name": "stderr",
     "output_type": "stream",
     "text": [
      "2020-04-24 21:18:07 [urllib3.connectionpool] DEBUG: https://www.smh.com.au:443 \"GET //politics/federal/schools-safe-say-commonwealth-medical-experts-20200424-p54n25.html HTTP/1.1\" 200 44471\n",
      "2020-04-24 21:18:07 [urllib3.connectionpool] DEBUG: Starting new HTTPS connection (1): www.smh.com.au:443\n"
     ]
    },
    {
     "name": "stdout",
     "output_type": "stream",
     "text": [
      "/politics/nsw\n",
      "/politics/nsw/the-lucky-group-enjoying-fewer-constraints-under-covid-developers-20200423-p54mqg.html\n"
     ]
    },
    {
     "name": "stderr",
     "output_type": "stream",
     "text": [
      "2020-04-24 21:18:08 [urllib3.connectionpool] DEBUG: https://www.smh.com.au:443 \"GET //politics/nsw/the-lucky-group-enjoying-fewer-constraints-under-covid-developers-20200423-p54mqg.html HTTP/1.1\" 200 47830\n",
      "2020-04-24 21:18:08 [urllib3.connectionpool] DEBUG: Starting new HTTPS connection (1): www.smh.com.au:443\n"
     ]
    },
    {
     "name": "stdout",
     "output_type": "stream",
     "text": [
      "/topic/urban-development-63l\n",
      "/politics/nsw/the-lucky-group-enjoying-fewer-constraints-under-covid-developers-20200423-p54mqg.html\n"
     ]
    },
    {
     "name": "stderr",
     "output_type": "stream",
     "text": [
      "2020-04-24 21:18:08 [urllib3.connectionpool] DEBUG: https://www.smh.com.au:443 \"GET //politics/nsw/the-lucky-group-enjoying-fewer-constraints-under-covid-developers-20200423-p54mqg.html HTTP/1.1\" 200 47793\n",
      "2020-04-24 21:18:09 [urllib3.connectionpool] DEBUG: Starting new HTTPS connection (1): www.smh.com.au:443\n"
     ]
    },
    {
     "name": "stdout",
     "output_type": "stream",
     "text": [
      "/politics/nsw/andrew-constance-i-was-incredibly-traumatised-i-have-zero-filters-towards-political-work-now-20200401-p54g61.html\n"
     ]
    },
    {
     "name": "stderr",
     "output_type": "stream",
     "text": [
      "2020-04-24 21:18:09 [urllib3.connectionpool] DEBUG: https://www.smh.com.au:443 \"GET //politics/nsw/andrew-constance-i-was-incredibly-traumatised-i-have-zero-filters-towards-political-work-now-20200401-p54g61.html HTTP/1.1\" 200 47096\n",
      "2020-04-24 21:18:09 [urllib3.connectionpool] DEBUG: Starting new HTTPS connection (1): www.smh.com.au:443\n"
     ]
    },
    {
     "name": "stdout",
     "output_type": "stream",
     "text": [
      "/topic/good-weekend-1qq\n",
      "/politics/nsw/andrew-constance-i-was-incredibly-traumatised-i-have-zero-filters-towards-political-work-now-20200401-p54g61.html\n"
     ]
    },
    {
     "name": "stderr",
     "output_type": "stream",
     "text": [
      "2020-04-24 21:18:09 [urllib3.connectionpool] DEBUG: https://www.smh.com.au:443 \"GET //politics/nsw/andrew-constance-i-was-incredibly-traumatised-i-have-zero-filters-towards-political-work-now-20200401-p54g61.html HTTP/1.1\" 200 47095\n",
      "2020-04-24 21:18:09 [urllib3.connectionpool] DEBUG: Starting new HTTPS connection (1): www.smh.com.au:443\n"
     ]
    },
    {
     "name": "stdout",
     "output_type": "stream",
     "text": [
      "/politics/nsw/mums-reclaim-their-sleep-with-access-to-parenting-app-20200423-p54moo.html\n"
     ]
    },
    {
     "name": "stderr",
     "output_type": "stream",
     "text": [
      "2020-04-24 21:18:10 [urllib3.connectionpool] DEBUG: https://www.smh.com.au:443 \"GET //politics/nsw/mums-reclaim-their-sleep-with-access-to-parenting-app-20200423-p54moo.html HTTP/1.1\" 200 40763\n",
      "2020-04-24 21:18:10 [urllib3.connectionpool] DEBUG: Starting new HTTPS connection (1): www.smh.com.au:443\n"
     ]
    },
    {
     "name": "stdout",
     "output_type": "stream",
     "text": [
      "/coronavirus-pandemic\n",
      "/politics/nsw/mums-reclaim-their-sleep-with-access-to-parenting-app-20200423-p54moo.html\n"
     ]
    },
    {
     "name": "stderr",
     "output_type": "stream",
     "text": [
      "2020-04-24 21:18:10 [urllib3.connectionpool] DEBUG: https://www.smh.com.au:443 \"GET //politics/nsw/mums-reclaim-their-sleep-with-access-to-parenting-app-20200423-p54moo.html HTTP/1.1\" 200 40780\n",
      "2020-04-24 21:18:10 [urllib3.connectionpool] DEBUG: Starting new HTTPS connection (1): www.smh.com.au:443\n"
     ]
    },
    {
     "name": "stdout",
     "output_type": "stream",
     "text": [
      "/politics/nsw/former-nsw-minister-selling-sydney-unit-prompting-retirement-talk-20200423-p54mph.html\n"
     ]
    },
    {
     "name": "stderr",
     "output_type": "stream",
     "text": [
      "2020-04-24 21:18:11 [urllib3.connectionpool] DEBUG: https://www.smh.com.au:443 \"GET //politics/nsw/former-nsw-minister-selling-sydney-unit-prompting-retirement-talk-20200423-p54mph.html HTTP/1.1\" 200 42899\n",
      "2020-04-24 21:18:11 [urllib3.connectionpool] DEBUG: Starting new HTTPS connection (1): www.smh.com.au:443\n"
     ]
    },
    {
     "name": "stdout",
     "output_type": "stream",
     "text": [
      "/coronavirus-pandemic\n",
      "/politics/nsw/former-nsw-minister-selling-sydney-unit-prompting-retirement-talk-20200423-p54mph.html\n"
     ]
    },
    {
     "name": "stderr",
     "output_type": "stream",
     "text": [
      "2020-04-24 21:18:11 [urllib3.connectionpool] DEBUG: https://www.smh.com.au:443 \"GET //politics/nsw/former-nsw-minister-selling-sydney-unit-prompting-retirement-talk-20200423-p54mph.html HTTP/1.1\" 200 42899\n",
      "2020-04-24 21:18:11 [urllib3.connectionpool] DEBUG: Starting new HTTPS connection (1): www.smh.com.au:443\n"
     ]
    },
    {
     "name": "stdout",
     "output_type": "stream",
     "text": [
      "/politics/nsw/symbols-of-hatred-nsw-seeks-to-ban-nazi-flags-20200423-p54mm4.html\n"
     ]
    },
    {
     "name": "stderr",
     "output_type": "stream",
     "text": [
      "2020-04-24 21:18:12 [urllib3.connectionpool] DEBUG: https://www.smh.com.au:443 \"GET //politics/nsw/symbols-of-hatred-nsw-seeks-to-ban-nazi-flags-20200423-p54mm4.html HTTP/1.1\" 200 40298\n",
      "2020-04-24 21:18:12 [urllib3.connectionpool] DEBUG: Starting new HTTPS connection (1): www.smh.com.au:443\n"
     ]
    },
    {
     "name": "stdout",
     "output_type": "stream",
     "text": [
      "/topic/discrimination-hna\n",
      "/politics/nsw/symbols-of-hatred-nsw-seeks-to-ban-nazi-flags-20200423-p54mm4.html\n"
     ]
    },
    {
     "name": "stderr",
     "output_type": "stream",
     "text": [
      "2020-04-24 21:18:12 [urllib3.connectionpool] DEBUG: https://www.smh.com.au:443 \"GET //politics/nsw/symbols-of-hatred-nsw-seeks-to-ban-nazi-flags-20200423-p54mm4.html HTTP/1.1\" 200 40298\n",
      "2020-04-24 21:18:12 [urllib3.connectionpool] DEBUG: Starting new HTTPS connection (1): www.smh.com.au:443\n"
     ]
    },
    {
     "name": "stdout",
     "output_type": "stream",
     "text": [
      "/politics/nsw/i-still-hope-to-serve-mike-baird-s-new-role-is-close-to-his-heart-20200421-p54lxc.html\n"
     ]
    },
    {
     "name": "stderr",
     "output_type": "stream",
     "text": [
      "2020-04-24 21:18:13 [urllib3.connectionpool] DEBUG: https://www.smh.com.au:443 \"GET //politics/nsw/i-still-hope-to-serve-mike-baird-s-new-role-is-close-to-his-heart-20200421-p54lxc.html HTTP/1.1\" 200 41025\n",
      "2020-04-24 21:18:13 [urllib3.connectionpool] DEBUG: Starting new HTTPS connection (1): www.smh.com.au:443\n"
     ]
    },
    {
     "name": "stdout",
     "output_type": "stream",
     "text": [
      "/topic/aged-care-5zx\n",
      "/politics/nsw/i-still-hope-to-serve-mike-baird-s-new-role-is-close-to-his-heart-20200421-p54lxc.html\n"
     ]
    },
    {
     "name": "stderr",
     "output_type": "stream",
     "text": [
      "2020-04-24 21:18:14 [urllib3.connectionpool] DEBUG: https://www.smh.com.au:443 \"GET //politics/nsw/i-still-hope-to-serve-mike-baird-s-new-role-is-close-to-his-heart-20200421-p54lxc.html HTTP/1.1\" 200 41025\n",
      "2020-04-24 21:18:14 [urllib3.connectionpool] DEBUG: Starting new HTTPS connection (1): www.smh.com.au:443\n"
     ]
    },
    {
     "name": "stdout",
     "output_type": "stream",
     "text": [
      "/politics/victoria\n",
      "/politics/victoria/the-road-to-recovery-are-victoria-s-mega-projects-still-worth-it-20200423-p54mja.html\n"
     ]
    },
    {
     "name": "stderr",
     "output_type": "stream",
     "text": [
      "2020-04-24 21:18:15 [urllib3.connectionpool] DEBUG: https://www.smh.com.au:443 \"GET //politics/victoria/the-road-to-recovery-are-victoria-s-mega-projects-still-worth-it-20200423-p54mja.html HTTP/1.1\" 200 56856\n",
      "2020-04-24 21:18:15 [urllib3.connectionpool] DEBUG: Starting new HTTPS connection (1): www.smh.com.au:443\n"
     ]
    },
    {
     "name": "stdout",
     "output_type": "stream",
     "text": [
      "/coronavirus-pandemic\n",
      "/politics/victoria/the-road-to-recovery-are-victoria-s-mega-projects-still-worth-it-20200423-p54mja.html\n"
     ]
    },
    {
     "name": "stderr",
     "output_type": "stream",
     "text": [
      "2020-04-24 21:18:15 [urllib3.connectionpool] DEBUG: https://www.smh.com.au:443 \"GET //politics/victoria/the-road-to-recovery-are-victoria-s-mega-projects-still-worth-it-20200423-p54mja.html HTTP/1.1\" 200 56856\n",
      "2020-04-24 21:18:16 [urllib3.connectionpool] DEBUG: Starting new HTTPS connection (1): www.smh.com.au:443\n"
     ]
    },
    {
     "name": "stdout",
     "output_type": "stream",
     "text": [
      "/coronavirus-pandemic\n",
      "/politics/victoria/state-liberals-may-apply-for-jobkeeper-as-virus-leaves-party-finances-ailing-20200424-p54n2o.html\n"
     ]
    },
    {
     "name": "stderr",
     "output_type": "stream",
     "text": [
      "2020-04-24 21:18:16 [urllib3.connectionpool] DEBUG: https://www.smh.com.au:443 \"GET //politics/victoria/state-liberals-may-apply-for-jobkeeper-as-virus-leaves-party-finances-ailing-20200424-p54n2o.html HTTP/1.1\" 200 40410\n",
      "2020-04-24 21:18:16 [urllib3.connectionpool] DEBUG: Starting new HTTPS connection (1): www.smh.com.au:443\n"
     ]
    },
    {
     "name": "stdout",
     "output_type": "stream",
     "text": [
      "/coronavirus-pandemic\n",
      "/politics/victoria/north-east-link-doubts-rise-as-councils-supreme-court-case-on-road-begins-20200424-p54n0g.html\n"
     ]
    },
    {
     "name": "stderr",
     "output_type": "stream",
     "text": [
      "2020-04-24 21:18:17 [urllib3.connectionpool] DEBUG: https://www.smh.com.au:443 \"GET //politics/victoria/north-east-link-doubts-rise-as-councils-supreme-court-case-on-road-begins-20200424-p54n0g.html HTTP/1.1\" 200 43083\n",
      "2020-04-24 21:18:17 [urllib3.connectionpool] DEBUG: Starting new HTTPS connection (1): www.smh.com.au:443\n"
     ]
    },
    {
     "name": "stdout",
     "output_type": "stream",
     "text": [
      "/politics/queensland\n",
      "/politics/queensland/queensland-students-could-head-back-to-classroom-following-new-advice-20200424-p54mzl.html\n"
     ]
    },
    {
     "name": "stderr",
     "output_type": "stream",
     "text": [
      "2020-04-24 21:18:17 [urllib3.connectionpool] DEBUG: https://www.smh.com.au:443 \"GET //politics/queensland/queensland-students-could-head-back-to-classroom-following-new-advice-20200424-p54mzl.html HTTP/1.1\" 200 43339\n",
      "2020-04-24 21:18:18 [urllib3.connectionpool] DEBUG: Starting new HTTPS connection (1): www.smh.com.au:443\n"
     ]
    },
    {
     "name": "stdout",
     "output_type": "stream",
     "text": [
      "/coronavirus-pandemic\n",
      "/politics/queensland/queensland-students-could-head-back-to-classroom-following-new-advice-20200424-p54mzl.html\n"
     ]
    },
    {
     "name": "stderr",
     "output_type": "stream",
     "text": [
      "2020-04-24 21:18:18 [urllib3.connectionpool] DEBUG: https://www.smh.com.au:443 \"GET //politics/queensland/queensland-students-could-head-back-to-classroom-following-new-advice-20200424-p54mzl.html HTTP/1.1\" 200 43339\n",
      "2020-04-24 21:18:18 [urllib3.connectionpool] DEBUG: Starting new HTTPS connection (1): www.smh.com.au:443\n"
     ]
    },
    {
     "name": "stdout",
     "output_type": "stream",
     "text": [
      "/coronavirus-pandemic\n",
      "/politics/queensland/power-hungry-lnp-slams-queensland-top-doctor-s-coronavirus-advice-20200424-p54mxo.html\n"
     ]
    },
    {
     "name": "stderr",
     "output_type": "stream",
     "text": [
      "2020-04-24 21:18:19 [urllib3.connectionpool] DEBUG: https://www.smh.com.au:443 \"GET //politics/queensland/power-hungry-lnp-slams-queensland-top-doctor-s-coronavirus-advice-20200424-p54mxo.html HTTP/1.1\" 200 41257\n",
      "2020-04-24 21:18:20 [urllib3.connectionpool] DEBUG: Starting new HTTPS connection (1): www.smh.com.au:443\n"
     ]
    },
    {
     "name": "stdout",
     "output_type": "stream",
     "text": [
      "/coronavirus-pandemic\n",
      "/politics/queensland/queensland-health-scraps-68-million-it-project-20200424-p54mw9.html\n"
     ]
    },
    {
     "name": "stderr",
     "output_type": "stream",
     "text": [
      "2020-04-24 21:18:20 [urllib3.connectionpool] DEBUG: https://www.smh.com.au:443 \"GET //politics/queensland/queensland-health-scraps-68-million-it-project-20200424-p54mw9.html HTTP/1.1\" 200 40293\n",
      "2020-04-24 21:18:21 [urllib3.connectionpool] DEBUG: Starting new HTTPS connection (1): www.smh.com.au:443\n"
     ]
    },
    {
     "name": "stdout",
     "output_type": "stream",
     "text": [
      "/politics/western-australia\n",
      "/politics/western-australia/wa-government-offers-to-pay-rent-for-struggling-households-and-land-tax-for-landlords-20200423-p54mou.html\n"
     ]
    },
    {
     "name": "stderr",
     "output_type": "stream",
     "text": [
      "2020-04-24 21:18:23 [urllib3.connectionpool] DEBUG: https://www.smh.com.au:443 \"GET //politics/western-australia/wa-government-offers-to-pay-rent-for-struggling-households-and-land-tax-for-landlords-20200423-p54mou.html HTTP/1.1\" 200 41309\n",
      "2020-04-24 21:18:24 [urllib3.connectionpool] DEBUG: Starting new HTTPS connection (1): www.smh.com.au:443\n"
     ]
    },
    {
     "name": "stdout",
     "output_type": "stream",
     "text": [
      "/coronavirus-pandemic\n",
      "/politics/western-australia/wa-government-offers-to-pay-rent-for-struggling-households-and-land-tax-for-landlords-20200423-p54mou.html\n"
     ]
    },
    {
     "name": "stderr",
     "output_type": "stream",
     "text": [
      "2020-04-24 21:18:25 [urllib3.connectionpool] DEBUG: https://www.smh.com.au:443 \"GET //politics/western-australia/wa-government-offers-to-pay-rent-for-struggling-households-and-land-tax-for-landlords-20200423-p54mou.html HTTP/1.1\" 200 41309\n",
      "2020-04-24 21:18:25 [urllib3.connectionpool] DEBUG: Starting new HTTPS connection (1): www.smh.com.au:443\n"
     ]
    },
    {
     "name": "stdout",
     "output_type": "stream",
     "text": [
      "/topic/australian-labor-party-5uo\n",
      "/politics/western-australia/wa-labor-targets-taxpayer-funded-political-staff-to-raise-campaign-cash-20200420-p54lh3.html\n"
     ]
    },
    {
     "name": "stderr",
     "output_type": "stream",
     "text": [
      "2020-04-24 21:18:27 [urllib3.connectionpool] DEBUG: https://www.smh.com.au:443 \"GET //politics/western-australia/wa-labor-targets-taxpayer-funded-political-staff-to-raise-campaign-cash-20200420-p54lh3.html HTTP/1.1\" 200 40783\n",
      "2020-04-24 21:18:27 [urllib3.connectionpool] DEBUG: Starting new HTTPS connection (1): www.smh.com.au:443\n"
     ]
    },
    {
     "name": "stdout",
     "output_type": "stream",
     "text": [
      "/topic/corruption-5w1\n",
      "/politics/western-australia/goiran-calls-for-labor-mp-to-quit-ccc-committee-over-facebook-post-20200417-p54kou.html\n"
     ]
    },
    {
     "name": "stderr",
     "output_type": "stream",
     "text": [
      "2020-04-24 21:18:28 [urllib3.connectionpool] DEBUG: https://www.smh.com.au:443 \"GET //politics/western-australia/goiran-calls-for-labor-mp-to-quit-ccc-committee-over-facebook-post-20200417-p54kou.html HTTP/1.1\" 200 41150\n",
      "2020-04-24 21:18:28 [urllib3.connectionpool] DEBUG: Starting new HTTPS connection (1): www.smh.com.au:443\n"
     ]
    },
    {
     "name": "stdout",
     "output_type": "stream",
     "text": [
      "/\n",
      "https://twitter.com/smh\n",
      "http://www.facebook.com/sydneymorningherald\n",
      "https://www.instagram.com/sydneymorningherald\n",
      "/rssheadlines\n",
      "javascript:void(0)\n",
      "https://www.smh.com.au\n",
      "https://www.theage.com.au\n",
      "https://www.brisbanetimes.com.au\n",
      "https://www.watoday.com.au\n",
      "https://www.afr.com\n",
      "https://www.domain.com.au\n",
      "http://www.traveller.com.au\n",
      "https://www.goodfood.com.au\n",
      "http://www.executivestyle.com.au\n",
      "https://www.thestore.com.au\n",
      "https://www.drive.com.au\n",
      "https://www.caradvice.com.au\n",
      "https://www.rsvp.com.au\n",
      "http://www.weatherzone.com.au\n",
      "javascript:void(0)\n",
      "http://tributes.smh.com.au/obituaries/smh-au/\n",
      "http://celebrations.smh.com.au/celebration/smh-au/\n",
      "https://advertisers.com.au\n",
      "https://www.commercialrealestate.com.au\n",
      "https://www.oneflare.com.au\n",
      "javascript:void(0)\n",
      "/contact-us\n",
      "https://www.adcentre.com.au/brands/the-sydney-morning-herald\n",
      "https://smh.myfairfax.com.au/members/lite_session/new?callback_uri=https%3A%2F%2Fsmh.myfairfax.com.au%2Fbeta%2Fmembers%2Fmy_account%2Fnewsletters%3Fchannel_key%3DzHE9EWDHf1XPuz3Phk0YIg%26callback_uri%3Dhttps%253a%252f%252fwww.smh.com.au&channel_key=zHE9EWDHf1XPuz3Phk0YIg\n",
      "/siteguide/accessibility\n",
      "/siteguide\n",
      "https://consumer.fairfaxsyndication.com/C.aspx?VP3=CMS3&VF=FXJFX2_2_VForm\n",
      "https://frontpages.fairfaxsyndication.com/C.aspx?VP3=CMS3&VF=FXJFX2_3_VForm\n",
      "https://www.fairfaxsyndication.com/C.aspx?VP3=CMS3&VF=FXJO50_1\n",
      "/our-events\n",
      "https://www.nineforbrands.com.au/about/careers/\n",
      "/conditions-of-use\n",
      "/privacy\n",
      "https://www.presscouncil.org.au/what-we-do\n",
      "javascript:void(0)\n",
      "https://subscribe.smh.com.au/?promote_channel=HI_SMH_GNL_FT\n",
      "https://subscribers.smh.com.au\n",
      "https://www.smh.com.au/myaccount\n",
      "https://subscribers.smh.com.au/support-centre/overview\n",
      "/todays-newspaper\n",
      "/puzzles/crosswords\n",
      "https://www.thesmhinsider.com.au/c/a/5dAvszx5Lm7C4GDU21EWmQ?dPanel=2\n",
      "https://subscribe.smh.com.au/?promote_channel=HI_SMH_GNL_FT\n",
      "                                                link  \\\n",
      "0  /politics/federal/australia-rejected-huge-offe...   \n",
      "1  /politics/federal/australia-rejected-huge-offe...   \n",
      "2  /politics/federal/gas-revival-key-to-renewable...   \n",
      "3  /politics/federal/gas-revival-key-to-renewable...   \n",
      "4  /politics/federal/schools-safe-say-commonwealt...   \n",
      "\n",
      "                                              header  \\\n",
      "0  Australia rejected huge offers for medical sup...   \n",
      "1  Australia rejected huge offers for medical sup...   \n",
      "2  Gas revival key to renewables push, Energy Min...   \n",
      "3  Gas revival key to renewables push, Energy Min...   \n",
      "4     Schools safe, say commonwealth medical experts   \n",
      "\n",
      "                                             article  \\\n",
      "0  A major Australian company paid for masks in a...   \n",
      "1  A major Australian company paid for masks in a...   \n",
      "2  Energy Minister Angus Taylor wants Australia t...   \n",
      "3  Energy Minister Angus Taylor wants Australia t...   \n",
      "4  The nation's peak health advisers have backed ...   \n",
      "\n",
      "                              author            date  \n",
      "0   Anthony Galloway , Eryk Bagshaw   April 24, 2020  \n",
      "1   Anthony Galloway , Eryk Bagshaw   April 24, 2020  \n",
      "2                        Mike Foley   April 24, 2020  \n",
      "3                        Mike Foley   April 24, 2020  \n",
      "4                       David Crowe   April 24, 2020  \n",
      "processing : business\n"
     ]
    },
    {
     "name": "stderr",
     "output_type": "stream",
     "text": [
      "2020-04-24 21:18:29 [urllib3.connectionpool] DEBUG: https://www.smh.com.au:443 \"GET /business HTTP/1.1\" 200 80197\n",
      "2020-04-24 21:18:29 [urllib3.connectionpool] DEBUG: Starting new HTTPS connection (1): www.smh.com.au:443\n"
     ]
    },
    {
     "name": "stdout",
     "output_type": "stream",
     "text": [
      "#sections\n",
      "#content\n",
      "#footer\n",
      "javascript:void(0);\n",
      "https://subscribe.smh.com.au/?promote_channel=HI_SMH_GNL_HL\n",
      "/\n",
      "https://subscribe.smh.com.au/?promote_channel=HI_SMH_GNL_HL\n",
      "/\n",
      "#sections\n",
      "#network\n",
      "/\n",
      "/sydney-news\n",
      "/national/nsw\n",
      "/politics\n",
      "/politics/federal\n",
      "/politics/nsw\n",
      "/politics/victoria\n",
      "/politics/queensland\n",
      "/politics/western-australia\n",
      "/business\n",
      "/business/companies\n",
      "/business/markets\n",
      "/business/the-economy\n",
      "/business/banking-and-finance\n",
      "/business/small-business\n",
      "/business/consumer-affairs\n",
      "/business/workplace\n",
      "/world\n",
      "/world/north-america\n",
      "/world/europe\n",
      "/world/asia\n",
      "/world/middle-east\n",
      "/world/oceania\n",
      "/world/central-america\n",
      "/world/south-america\n",
      "/world/africa\n",
      "/national\n",
      "/national/victoria\n",
      "/national/queensland\n",
      "/national/western-australia\n",
      "/opinion\n",
      "http://www.domain.com.au\n",
      "/sport\n",
      "/sport/nrl\n",
      "/sport/rugby-union\n",
      "/sport/cricket\n",
      "/sport/soccer\n",
      "/sport/afl\n",
      "/sport/racing\n",
      "/sport/tennis\n",
      "/sport/netball\n",
      "/sport/basketball\n",
      "/sport/motorsport\n",
      "/sport/cycling\n",
      "/sport/golf\n",
      "/sport/nfl\n",
      "/sport/athletics\n",
      "/sport/swimming\n",
      "/sport/boxing\n",
      "/culture\n",
      "/culture/movies\n",
      "/culture/tv-and-radio\n",
      "/culture/music\n",
      "/culture/celebrity\n",
      "/culture/books\n",
      "/culture/comedy\n",
      "/culture/dance\n",
      "/culture/musicals\n",
      "/culture/opera\n",
      "/culture/theatre\n",
      "/culture/art-and-design\n",
      "https://tvguide.smh.com.au\n",
      "/lifestyle\n",
      "/lifestyle/life-and-relationships\n",
      "/lifestyle/health-and-wellness\n",
      "/lifestyle/gender\n",
      "/lifestyle/fashion\n",
      "/lifestyle/beauty\n",
      "/topic/horoscopes-5yc\n",
      "/topic/good-weekend-1qq\n",
      "/money\n",
      "/money/super-and-retirement\n",
      "/money/investing\n",
      "/money/banking\n",
      "/money/borrowing\n",
      "/money/saving\n",
      "/money/tax\n",
      "/money/planning-and-budgeting\n",
      "/money/insurance\n",
      "/education\n",
      "/healthcare\n",
      "/environment\n",
      "/environment/conservation\n",
      "/environment/climate-change\n",
      "/environment/sustainability\n",
      "/environment/weather\n",
      "/technology\n",
      "/technology/video-games\n",
      "/topic/home-technology-hqq\n",
      "/topic/phones-5zt\n",
      "/topic/gadgets-hqp\n",
      "http://www.drive.com.au\n",
      "http://www.traveller.com.au\n",
      "http://www.goodfood.com.au\n",
      "http://www.executivestyle.com.au\n",
      "https://subscribe.smh.com.au/2?promote_channel=HI_IPL_GNL&utm_source=PremiumIndex&utm_medium=HouseInventory&utm_campaign=General\n",
      "/todays-newspaper\n",
      "/puzzles/crosswords\n",
      "/topic/smh-letters-1r7\n",
      "/topic/smh-editorial-1r6\n",
      "/topic/column-8-1r4\n",
      "/topic/obituaries-1qv\n",
      "/topic/explainers-1lz9\n",
      "/topic/quizzes-1qx\n",
      "http://weather.smh.com.au/local-forecast/nsw/sydney\n",
      "https://www.theage.com.au\n",
      "https://www.brisbanetimes.com.au\n",
      "https://www.watoday.com.au\n",
      "https://www.afr.com\n",
      "https://www.domain.com.au\n",
      "https://www.commercialrealestate.com.au\n",
      "https://www.drive.com.au\n",
      "https://www.goodfood.com.au\n",
      "http://www.traveller.com.au\n",
      "http://www.executivestyle.com.au\n",
      "https://www.findababysitter.com.au\n",
      "https://www.thestore.com.au\n",
      "http://www.weatherzone.com.au\n",
      "https://www.rsvp.com.au\n",
      "/business/companies\n",
      "/business/markets\n",
      "/business/the-economy\n",
      "/business/banking-and-finance\n",
      "/business/small-business\n",
      "javascript:void(0);\n",
      "/business/consumer-affairs\n",
      "/business/workplace\n",
      "https://www.ig.com/au?CHID=11&QPID=&QPPID=1&CrID=69766826&PlID=129606701\n",
      "/business/companies/csl-s-blood-payments-in-us-under-the-microscope-20200423-p54mnu.html\n"
     ]
    },
    {
     "name": "stderr",
     "output_type": "stream",
     "text": [
      "2020-04-24 21:18:30 [urllib3.connectionpool] DEBUG: https://www.smh.com.au:443 \"GET //business/companies/csl-s-blood-payments-in-us-under-the-microscope-20200423-p54mnu.html HTTP/1.1\" 200 47431\n",
      "2020-04-24 21:18:30 [urllib3.connectionpool] DEBUG: Starting new HTTPS connection (1): www.smh.com.au:443\n"
     ]
    },
    {
     "name": "stdout",
     "output_type": "stream",
     "text": [
      "/healthcare\n",
      "/business/companies/csl-s-blood-payments-in-us-under-the-microscope-20200423-p54mnu.html\n"
     ]
    },
    {
     "name": "stderr",
     "output_type": "stream",
     "text": [
      "2020-04-24 21:18:30 [urllib3.connectionpool] DEBUG: https://www.smh.com.au:443 \"GET //business/companies/csl-s-blood-payments-in-us-under-the-microscope-20200423-p54mnu.html HTTP/1.1\" 200 47431\n",
      "2020-04-24 21:18:31 [urllib3.connectionpool] DEBUG: Starting new HTTPS connection (1): www.smh.com.au:443\n"
     ]
    },
    {
     "name": "stdout",
     "output_type": "stream",
     "text": [
      "/business/companies/the-week-that-virgin-australia-hit-the-ground-hard-20200423-p54mhp.html\n"
     ]
    },
    {
     "name": "stderr",
     "output_type": "stream",
     "text": [
      "2020-04-24 21:18:31 [urllib3.connectionpool] DEBUG: https://www.smh.com.au:443 \"GET //business/companies/the-week-that-virgin-australia-hit-the-ground-hard-20200423-p54mhp.html HTTP/1.1\" 200 55983\n",
      "2020-04-24 21:18:32 [urllib3.connectionpool] DEBUG: Starting new HTTPS connection (1): www.smh.com.au:443\n"
     ]
    },
    {
     "name": "stdout",
     "output_type": "stream",
     "text": [
      "/topic/aviation-5ut\n",
      "/business/companies/the-week-that-virgin-australia-hit-the-ground-hard-20200423-p54mhp.html\n"
     ]
    },
    {
     "name": "stderr",
     "output_type": "stream",
     "text": [
      "2020-04-24 21:18:32 [urllib3.connectionpool] DEBUG: https://www.smh.com.au:443 \"GET //business/companies/the-week-that-virgin-australia-hit-the-ground-hard-20200423-p54mhp.html HTTP/1.1\" 200 55983\n",
      "2020-04-24 21:18:32 [urllib3.connectionpool] DEBUG: Starting new HTTPS connection (1): www.smh.com.au:443\n"
     ]
    },
    {
     "name": "stdout",
     "output_type": "stream",
     "text": [
      "/business/the-economy/australia-s-china-challenge-in-the-post-coronavirus-world-20200422-p54mbp.html\n"
     ]
    },
    {
     "name": "stderr",
     "output_type": "stream",
     "text": [
      "2020-04-24 21:18:33 [urllib3.connectionpool] DEBUG: https://www.smh.com.au:443 \"GET //business/the-economy/australia-s-china-challenge-in-the-post-coronavirus-world-20200422-p54mbp.html HTTP/1.1\" 200 48863\n",
      "2020-04-24 21:18:33 [urllib3.connectionpool] DEBUG: Starting new HTTPS connection (1): www.smh.com.au:443\n"
     ]
    },
    {
     "name": "stdout",
     "output_type": "stream",
     "text": [
      "/coronavirus-pandemic\n",
      "/business/the-economy/australia-s-china-challenge-in-the-post-coronavirus-world-20200422-p54mbp.html\n"
     ]
    },
    {
     "name": "stderr",
     "output_type": "stream",
     "text": [
      "2020-04-24 21:18:33 [urllib3.connectionpool] DEBUG: https://www.smh.com.au:443 \"GET //business/the-economy/australia-s-china-challenge-in-the-post-coronavirus-world-20200422-p54mbp.html HTTP/1.1\" 200 48863\n",
      "2020-04-24 21:18:34 [urllib3.connectionpool] DEBUG: Starting new HTTPS connection (1): www.smh.com.au:443\n"
     ]
    },
    {
     "name": "stdout",
     "output_type": "stream",
     "text": [
      "/business/banking-and-finance/westpac-freezes-credit-card-charges-for-covid-19-hit-customers-20200424-p54n12.html\n"
     ]
    },
    {
     "name": "stderr",
     "output_type": "stream",
     "text": [
      "2020-04-24 21:18:34 [urllib3.connectionpool] DEBUG: https://www.smh.com.au:443 \"GET //business/banking-and-finance/westpac-freezes-credit-card-charges-for-covid-19-hit-customers-20200424-p54n12.html HTTP/1.1\" 200 43540\n",
      "2020-04-24 21:18:34 [urllib3.connectionpool] DEBUG: Starting new HTTPS connection (1): www.smh.com.au:443\n"
     ]
    },
    {
     "name": "stdout",
     "output_type": "stream",
     "text": [
      "/topic/big-four-banks-5ux\n",
      "/business/banking-and-finance/westpac-freezes-credit-card-charges-for-covid-19-hit-customers-20200424-p54n12.html\n"
     ]
    },
    {
     "name": "stderr",
     "output_type": "stream",
     "text": [
      "2020-04-24 21:18:35 [urllib3.connectionpool] DEBUG: https://www.smh.com.au:443 \"GET //business/banking-and-finance/westpac-freezes-credit-card-charges-for-covid-19-hit-customers-20200424-p54n12.html HTTP/1.1\" 200 43540\n",
      "2020-04-24 21:18:35 [urllib3.connectionpool] DEBUG: Starting new HTTPS connection (1): www.smh.com.au:443\n"
     ]
    },
    {
     "name": "stdout",
     "output_type": "stream",
     "text": [
      "/business/banking-and-finance/amp-faces-an-investor-revolt-over-excessive-remuneration-package-20200424-p54n2i.html\n"
     ]
    },
    {
     "name": "stderr",
     "output_type": "stream",
     "text": [
      "2020-04-24 21:18:36 [urllib3.connectionpool] DEBUG: https://www.smh.com.au:443 \"GET //business/banking-and-finance/amp-faces-an-investor-revolt-over-excessive-remuneration-package-20200424-p54n2i.html HTTP/1.1\" 200 47422\n",
      "2020-04-24 21:18:37 [urllib3.connectionpool] DEBUG: Starting new HTTPS connection (1): www.smh.com.au:443\n"
     ]
    },
    {
     "name": "stdout",
     "output_type": "stream",
     "text": [
      "/topic/francesco-de-ferrari-1mnt\n",
      "/business/banking-and-finance/amp-faces-an-investor-revolt-over-excessive-remuneration-package-20200424-p54n2i.html\n"
     ]
    },
    {
     "name": "stderr",
     "output_type": "stream",
     "text": [
      "2020-04-24 21:18:37 [urllib3.connectionpool] DEBUG: https://www.smh.com.au:443 \"GET //business/banking-and-finance/amp-faces-an-investor-revolt-over-excessive-remuneration-package-20200424-p54n2i.html HTTP/1.1\" 200 47422\n",
      "2020-04-24 21:18:37 [urllib3.connectionpool] DEBUG: Starting new HTTPS connection (1): www.smh.com.au:443\n"
     ]
    },
    {
     "name": "stdout",
     "output_type": "stream",
     "text": [
      "https://www.ig.com/au?CHID=11&QPID=&QPPID=1&CrID=69766826&PlID=129606701\n",
      "/business/companies\n",
      "/business/companies/the-week-that-virgin-australia-hit-the-ground-hard-20200423-p54mhp.html\n"
     ]
    },
    {
     "name": "stderr",
     "output_type": "stream",
     "text": [
      "2020-04-24 21:18:37 [urllib3.connectionpool] DEBUG: https://www.smh.com.au:443 \"GET //business/companies/the-week-that-virgin-australia-hit-the-ground-hard-20200423-p54mhp.html HTTP/1.1\" 200 55983\n",
      "2020-04-24 21:18:38 [urllib3.connectionpool] DEBUG: Starting new HTTPS connection (1): www.smh.com.au:443\n"
     ]
    },
    {
     "name": "stdout",
     "output_type": "stream",
     "text": [
      "/topic/aviation-5ut\n",
      "/business/companies/the-week-that-virgin-australia-hit-the-ground-hard-20200423-p54mhp.html\n"
     ]
    },
    {
     "name": "stderr",
     "output_type": "stream",
     "text": [
      "2020-04-24 21:18:39 [urllib3.connectionpool] DEBUG: https://www.smh.com.au:443 \"GET //business/companies/the-week-that-virgin-australia-hit-the-ground-hard-20200423-p54mhp.html HTTP/1.1\" 200 55983\n",
      "2020-04-24 21:18:39 [urllib3.connectionpool] DEBUG: Starting new HTTPS connection (1): www.smh.com.au:443\n"
     ]
    },
    {
     "name": "stdout",
     "output_type": "stream",
     "text": [
      "/business/companies/csl-s-blood-payments-in-us-under-the-microscope-20200423-p54mnu.html\n"
     ]
    },
    {
     "name": "stderr",
     "output_type": "stream",
     "text": [
      "2020-04-24 21:18:40 [urllib3.connectionpool] DEBUG: https://www.smh.com.au:443 \"GET //business/companies/csl-s-blood-payments-in-us-under-the-microscope-20200423-p54mnu.html HTTP/1.1\" 200 47431\n",
      "2020-04-24 21:18:40 [urllib3.connectionpool] DEBUG: Starting new HTTPS connection (1): www.smh.com.au:443\n"
     ]
    },
    {
     "name": "stdout",
     "output_type": "stream",
     "text": [
      "/healthcare\n",
      "/business/companies/csl-s-blood-payments-in-us-under-the-microscope-20200423-p54mnu.html\n"
     ]
    },
    {
     "name": "stderr",
     "output_type": "stream",
     "text": [
      "2020-04-24 21:18:40 [urllib3.connectionpool] DEBUG: https://www.smh.com.au:443 \"GET //business/companies/csl-s-blood-payments-in-us-under-the-microscope-20200423-p54mnu.html HTTP/1.1\" 200 47431\n",
      "2020-04-24 21:18:40 [urllib3.connectionpool] DEBUG: Starting new HTTPS connection (1): www.smh.com.au:443\n"
     ]
    },
    {
     "name": "stdout",
     "output_type": "stream",
     "text": [
      "/business/companies/back-to-uni-for-st-ali-coffee-graduate-20200423-p54mmh.html\n"
     ]
    },
    {
     "name": "stderr",
     "output_type": "stream",
     "text": [
      "2020-04-24 21:18:41 [urllib3.connectionpool] DEBUG: https://www.smh.com.au:443 \"GET //business/companies/back-to-uni-for-st-ali-coffee-graduate-20200423-p54mmh.html HTTP/1.1\" 200 42387\n",
      "2020-04-24 21:18:41 [urllib3.connectionpool] DEBUG: Starting new HTTPS connection (1): www.smh.com.au:443\n"
     ]
    },
    {
     "name": "stdout",
     "output_type": "stream",
     "text": [
      "/topic/commercial-real-estate-5vu\n",
      "/business/companies/back-to-uni-for-st-ali-coffee-graduate-20200423-p54mmh.html\n"
     ]
    },
    {
     "name": "stderr",
     "output_type": "stream",
     "text": [
      "2020-04-24 21:18:41 [urllib3.connectionpool] DEBUG: https://www.smh.com.au:443 \"GET //business/companies/back-to-uni-for-st-ali-coffee-graduate-20200423-p54mmh.html HTTP/1.1\" 200 42387\n",
      "2020-04-24 21:18:42 [urllib3.connectionpool] DEBUG: Starting new HTTPS connection (1): www.smh.com.au:443\n"
     ]
    },
    {
     "name": "stdout",
     "output_type": "stream",
     "text": [
      "/business/companies/expect-sharp-rise-in-office-vacancies-as-jobs-disappear-20200423-p54mk8.html\n"
     ]
    },
    {
     "name": "stderr",
     "output_type": "stream",
     "text": [
      "2020-04-24 21:18:43 [urllib3.connectionpool] DEBUG: https://www.smh.com.au:443 \"GET //business/companies/expect-sharp-rise-in-office-vacancies-as-jobs-disappear-20200423-p54mk8.html HTTP/1.1\" 200 44897\n",
      "2020-04-24 21:18:43 [urllib3.connectionpool] DEBUG: Starting new HTTPS connection (1): www.smh.com.au:443\n"
     ]
    },
    {
     "name": "stdout",
     "output_type": "stream",
     "text": [
      "/topic/commercial-real-estate-5vu\n",
      "/business/companies/expect-sharp-rise-in-office-vacancies-as-jobs-disappear-20200423-p54mk8.html\n"
     ]
    },
    {
     "name": "stderr",
     "output_type": "stream",
     "text": [
      "2020-04-24 21:18:44 [urllib3.connectionpool] DEBUG: https://www.smh.com.au:443 \"GET //business/companies/expect-sharp-rise-in-office-vacancies-as-jobs-disappear-20200423-p54mk8.html HTTP/1.1\" 200 44897\n",
      "2020-04-24 21:18:44 [urllib3.connectionpool] DEBUG: Starting new HTTPS connection (1): www.smh.com.au:443\n"
     ]
    },
    {
     "name": "stdout",
     "output_type": "stream",
     "text": [
      "/business/companies/architecture-that-seeks-to-empower-young-women-20200423-p54mjm.html\n"
     ]
    },
    {
     "name": "stderr",
     "output_type": "stream",
     "text": [
      "2020-04-24 21:18:44 [urllib3.connectionpool] DEBUG: https://www.smh.com.au:443 \"GET //business/companies/architecture-that-seeks-to-empower-young-women-20200423-p54mjm.html HTTP/1.1\" 200 42684\n",
      "2020-04-24 21:18:45 [urllib3.connectionpool] DEBUG: Starting new HTTPS connection (1): www.smh.com.au:443\n"
     ]
    },
    {
     "name": "stdout",
     "output_type": "stream",
     "text": [
      "/topic/commercial-real-estate-5vu\n",
      "/business/companies/architecture-that-seeks-to-empower-young-women-20200423-p54mjm.html\n"
     ]
    },
    {
     "name": "stderr",
     "output_type": "stream",
     "text": [
      "2020-04-24 21:18:45 [urllib3.connectionpool] DEBUG: https://www.smh.com.au:443 \"GET //business/companies/architecture-that-seeks-to-empower-young-women-20200423-p54mjm.html HTTP/1.1\" 200 42684\n",
      "2020-04-24 21:18:45 [urllib3.connectionpool] DEBUG: Starting new HTTPS connection (1): www.smh.com.au:443\n"
     ]
    },
    {
     "name": "stdout",
     "output_type": "stream",
     "text": [
      "/business/markets\n",
      "/business/markets/murray-five-solar-farms-get-approval-to-resume-full-energy-output-20200424-p54n2b.html\n"
     ]
    },
    {
     "name": "stderr",
     "output_type": "stream",
     "text": [
      "2020-04-24 21:18:46 [urllib3.connectionpool] DEBUG: https://www.smh.com.au:443 \"GET //business/markets/murray-five-solar-farms-get-approval-to-resume-full-energy-output-20200424-p54n2b.html HTTP/1.1\" 200 42774\n",
      "2020-04-24 21:18:46 [urllib3.connectionpool] DEBUG: Starting new HTTPS connection (1): www.smh.com.au:443\n"
     ]
    },
    {
     "name": "stdout",
     "output_type": "stream",
     "text": [
      "/topic/renewable-energy-617\n",
      "/business/markets/murray-five-solar-farms-get-approval-to-resume-full-energy-output-20200424-p54n2b.html\n"
     ]
    },
    {
     "name": "stderr",
     "output_type": "stream",
     "text": [
      "2020-04-24 21:18:46 [urllib3.connectionpool] DEBUG: https://www.smh.com.au:443 \"GET //business/markets/murray-five-solar-farms-get-approval-to-resume-full-energy-output-20200424-p54n2b.html HTTP/1.1\" 200 42774\n",
      "2020-04-24 21:18:46 [urllib3.connectionpool] DEBUG: Starting new HTTPS connection (1): www.smh.com.au:443\n"
     ]
    },
    {
     "name": "stdout",
     "output_type": "stream",
     "text": [
      "/topic/oil-huo\n",
      "/business/markets/as-crude-prices-collapsed-the-oil-glut-produced-one-big-winner-20200424-p54mrp.html\n"
     ]
    },
    {
     "name": "stderr",
     "output_type": "stream",
     "text": [
      "2020-04-24 21:18:47 [urllib3.connectionpool] DEBUG: https://www.smh.com.au:443 \"GET //business/markets/as-crude-prices-collapsed-the-oil-glut-produced-one-big-winner-20200424-p54mrp.html HTTP/1.1\" 200 42693\n",
      "2020-04-24 21:18:47 [urllib3.connectionpool] DEBUG: Starting new HTTPS connection (1): www.smh.com.au:443\n"
     ]
    },
    {
     "name": "stdout",
     "output_type": "stream",
     "text": [
      "/topic/foreign-relations-1m35\n",
      "/business/markets/us-gives-greenland-19-million-but-denies-it-s-an-offer-to-buy-it-20200424-p54mrx.html\n"
     ]
    },
    {
     "name": "stderr",
     "output_type": "stream",
     "text": [
      "2020-04-24 21:18:48 [urllib3.connectionpool] DEBUG: https://www.smh.com.au:443 \"GET //business/markets/us-gives-greenland-19-million-but-denies-it-s-an-offer-to-buy-it-20200424-p54mrx.html HTTP/1.1\" 200 41517\n",
      "2020-04-24 21:18:49 [urllib3.connectionpool] DEBUG: Starting new HTTPS connection (1): www.smh.com.au:443\n"
     ]
    },
    {
     "name": "stdout",
     "output_type": "stream",
     "text": [
      "/business/the-economy\n",
      "/business/the-economy/australia-s-china-challenge-in-the-post-coronavirus-world-20200422-p54mbp.html\n"
     ]
    },
    {
     "name": "stderr",
     "output_type": "stream",
     "text": [
      "2020-04-24 21:18:50 [urllib3.connectionpool] DEBUG: https://www.smh.com.au:443 \"GET //business/the-economy/australia-s-china-challenge-in-the-post-coronavirus-world-20200422-p54mbp.html HTTP/1.1\" 200 48863\n",
      "2020-04-24 21:18:50 [urllib3.connectionpool] DEBUG: Starting new HTTPS connection (1): www.smh.com.au:443\n"
     ]
    },
    {
     "name": "stdout",
     "output_type": "stream",
     "text": [
      "/coronavirus-pandemic\n",
      "/business/the-economy/australia-s-china-challenge-in-the-post-coronavirus-world-20200422-p54mbp.html\n"
     ]
    },
    {
     "name": "stderr",
     "output_type": "stream",
     "text": [
      "2020-04-24 21:18:50 [urllib3.connectionpool] DEBUG: https://www.smh.com.au:443 \"GET //business/the-economy/australia-s-china-challenge-in-the-post-coronavirus-world-20200422-p54mbp.html HTTP/1.1\" 200 48863\n",
      "2020-04-24 21:18:51 [urllib3.connectionpool] DEBUG: Starting new HTTPS connection (1): www.smh.com.au:443\n"
     ]
    },
    {
     "name": "stdout",
     "output_type": "stream",
     "text": [
      "/topic/tax-reform-1mpw\n",
      "/business/the-economy/our-roadmap-out-of-this-economic-crisis-was-delivered-12-years-ago-20200422-p54m2y.html\n"
     ]
    },
    {
     "name": "stderr",
     "output_type": "stream",
     "text": [
      "2020-04-24 21:18:51 [urllib3.connectionpool] DEBUG: https://www.smh.com.au:443 \"GET //business/the-economy/our-roadmap-out-of-this-economic-crisis-was-delivered-12-years-ago-20200422-p54m2y.html HTTP/1.1\" 200 44978\n",
      "2020-04-24 21:18:52 [urllib3.connectionpool] DEBUG: Starting new HTTPS connection (1): www.smh.com.au:443\n"
     ]
    },
    {
     "name": "stdout",
     "output_type": "stream",
     "text": [
      "/coronavirus-pandemic\n",
      "/business/the-economy/australians-forked-out-an-extra-2-7b-stocking-their-pantries-in-march-20200422-p54m75.html\n"
     ]
    },
    {
     "name": "stderr",
     "output_type": "stream",
     "text": [
      "2020-04-24 21:18:52 [urllib3.connectionpool] DEBUG: https://www.smh.com.au:443 \"GET //business/the-economy/australians-forked-out-an-extra-2-7b-stocking-their-pantries-in-march-20200422-p54m75.html HTTP/1.1\" 200 42505\n",
      "2020-04-24 21:18:52 [urllib3.connectionpool] DEBUG: Starting new HTTPS connection (1): www.smh.com.au:443\n"
     ]
    },
    {
     "name": "stdout",
     "output_type": "stream",
     "text": [
      "/business/banking-and-finance\n",
      "/business/banking-and-finance/amp-faces-an-investor-revolt-over-excessive-remuneration-package-20200424-p54n2i.html\n"
     ]
    },
    {
     "name": "stderr",
     "output_type": "stream",
     "text": [
      "2020-04-24 21:18:52 [urllib3.connectionpool] DEBUG: https://www.smh.com.au:443 \"GET //business/banking-and-finance/amp-faces-an-investor-revolt-over-excessive-remuneration-package-20200424-p54n2i.html HTTP/1.1\" 200 47422\n",
      "2020-04-24 21:18:53 [urllib3.connectionpool] DEBUG: Starting new HTTPS connection (1): www.smh.com.au:443\n"
     ]
    },
    {
     "name": "stdout",
     "output_type": "stream",
     "text": [
      "/topic/francesco-de-ferrari-1mnt\n",
      "/business/banking-and-finance/amp-faces-an-investor-revolt-over-excessive-remuneration-package-20200424-p54n2i.html\n"
     ]
    },
    {
     "name": "stderr",
     "output_type": "stream",
     "text": [
      "2020-04-24 21:18:53 [urllib3.connectionpool] DEBUG: https://www.smh.com.au:443 \"GET //business/banking-and-finance/amp-faces-an-investor-revolt-over-excessive-remuneration-package-20200424-p54n2i.html HTTP/1.1\" 200 47422\n",
      "2020-04-24 21:18:54 [urllib3.connectionpool] DEBUG: Starting new HTTPS connection (1): www.smh.com.au:443\n"
     ]
    },
    {
     "name": "stdout",
     "output_type": "stream",
     "text": [
      "/business/banking-and-finance/westpac-freezes-credit-card-charges-for-covid-19-hit-customers-20200424-p54n12.html\n"
     ]
    },
    {
     "name": "stderr",
     "output_type": "stream",
     "text": [
      "2020-04-24 21:18:54 [urllib3.connectionpool] DEBUG: https://www.smh.com.au:443 \"GET //business/banking-and-finance/westpac-freezes-credit-card-charges-for-covid-19-hit-customers-20200424-p54n12.html HTTP/1.1\" 200 43540\n",
      "2020-04-24 21:18:54 [urllib3.connectionpool] DEBUG: Starting new HTTPS connection (1): www.smh.com.au:443\n"
     ]
    },
    {
     "name": "stdout",
     "output_type": "stream",
     "text": [
      "/topic/big-four-banks-5ux\n",
      "/business/banking-and-finance/westpac-freezes-credit-card-charges-for-covid-19-hit-customers-20200424-p54n12.html\n"
     ]
    },
    {
     "name": "stderr",
     "output_type": "stream",
     "text": [
      "2020-04-24 21:18:55 [urllib3.connectionpool] DEBUG: https://www.smh.com.au:443 \"GET //business/banking-and-finance/westpac-freezes-credit-card-charges-for-covid-19-hit-customers-20200424-p54n12.html HTTP/1.1\" 200 43540\n",
      "2020-04-24 21:18:55 [urllib3.connectionpool] DEBUG: Starting new HTTPS connection (1): www.smh.com.au:443\n"
     ]
    },
    {
     "name": "stdout",
     "output_type": "stream",
     "text": [
      "/business/banking-and-finance/market-mayhem-whacks-19b-hole-in-amp-s-funds-under-management-20200423-p54ml3.html\n"
     ]
    },
    {
     "name": "stderr",
     "output_type": "stream",
     "text": [
      "2020-04-24 21:18:55 [urllib3.connectionpool] DEBUG: https://www.smh.com.au:443 \"GET //business/banking-and-finance/market-mayhem-whacks-19b-hole-in-amp-s-funds-under-management-20200423-p54ml3.html HTTP/1.1\" 200 44413\n",
      "2020-04-24 21:18:56 [urllib3.connectionpool] DEBUG: Starting new HTTPS connection (1): www.smh.com.au:443\n"
     ]
    },
    {
     "name": "stdout",
     "output_type": "stream",
     "text": [
      "/topic/financial-planning-hz8\n",
      "/business/banking-and-finance/market-mayhem-whacks-19b-hole-in-amp-s-funds-under-management-20200423-p54ml3.html\n"
     ]
    },
    {
     "name": "stderr",
     "output_type": "stream",
     "text": [
      "2020-04-24 21:18:56 [urllib3.connectionpool] DEBUG: https://www.smh.com.au:443 \"GET //business/banking-and-finance/market-mayhem-whacks-19b-hole-in-amp-s-funds-under-management-20200423-p54ml3.html HTTP/1.1\" 200 44413\n",
      "2020-04-24 21:18:57 [urllib3.connectionpool] DEBUG: Starting new HTTPS connection (1): www.smh.com.au:443\n"
     ]
    },
    {
     "name": "stdout",
     "output_type": "stream",
     "text": [
      "/business/banking-and-finance/coronavirus-will-be-largest-event-in-insurance-history-chubb-says-20200423-p54mdv.html\n"
     ]
    },
    {
     "name": "stderr",
     "output_type": "stream",
     "text": [
      "2020-04-24 21:18:57 [urllib3.connectionpool] DEBUG: https://www.smh.com.au:443 \"GET //business/banking-and-finance/coronavirus-will-be-largest-event-in-insurance-history-chubb-says-20200423-p54mdv.html HTTP/1.1\" 200 41713\n",
      "2020-04-24 21:18:57 [urllib3.connectionpool] DEBUG: Starting new HTTPS connection (1): www.smh.com.au:443\n"
     ]
    },
    {
     "name": "stdout",
     "output_type": "stream",
     "text": [
      "/coronavirus-pandemic\n",
      "/business/banking-and-finance/coronavirus-will-be-largest-event-in-insurance-history-chubb-says-20200423-p54mdv.html\n"
     ]
    },
    {
     "name": "stderr",
     "output_type": "stream",
     "text": [
      "2020-04-24 21:18:58 [urllib3.connectionpool] DEBUG: https://www.smh.com.au:443 \"GET //business/banking-and-finance/coronavirus-will-be-largest-event-in-insurance-history-chubb-says-20200423-p54mdv.html HTTP/1.1\" 200 41713\n",
      "2020-04-24 21:18:58 [urllib3.connectionpool] DEBUG: Starting new HTTPS connection (1): www.smh.com.au:443\n"
     ]
    },
    {
     "name": "stdout",
     "output_type": "stream",
     "text": [
      "/business/banking-and-finance/coronavirus-could-be-catalyst-for-fund-mergers-says-first-state-chief-20200422-p54m3r.html\n"
     ]
    },
    {
     "name": "stderr",
     "output_type": "stream",
     "text": [
      "2020-04-24 21:18:58 [urllib3.connectionpool] DEBUG: https://www.smh.com.au:443 \"GET //business/banking-and-finance/coronavirus-could-be-catalyst-for-fund-mergers-says-first-state-chief-20200422-p54m3r.html HTTP/1.1\" 200 45001\n",
      "2020-04-24 21:18:58 [urllib3.connectionpool] DEBUG: Starting new HTTPS connection (1): www.smh.com.au:443\n"
     ]
    },
    {
     "name": "stdout",
     "output_type": "stream",
     "text": [
      "/topic/superannuation-62e\n",
      "/business/banking-and-finance/coronavirus-could-be-catalyst-for-fund-mergers-says-first-state-chief-20200422-p54m3r.html\n"
     ]
    },
    {
     "name": "stderr",
     "output_type": "stream",
     "text": [
      "2020-04-24 21:18:59 [urllib3.connectionpool] DEBUG: https://www.smh.com.au:443 \"GET //business/banking-and-finance/coronavirus-could-be-catalyst-for-fund-mergers-says-first-state-chief-20200422-p54m3r.html HTTP/1.1\" 200 45001\n",
      "2020-04-24 21:18:59 [urllib3.connectionpool] DEBUG: Starting new HTTPS connection (1): www.smh.com.au:443\n"
     ]
    },
    {
     "name": "stdout",
     "output_type": "stream",
     "text": [
      "/business/banking-and-finance/challenger-reports-hit-to-funds-under-management-20200422-p54m2u.html\n"
     ]
    },
    {
     "name": "stderr",
     "output_type": "stream",
     "text": [
      "2020-04-24 21:18:59 [urllib3.connectionpool] DEBUG: https://www.smh.com.au:443 \"GET //business/banking-and-finance/challenger-reports-hit-to-funds-under-management-20200422-p54m2u.html HTTP/1.1\" 200 42661\n",
      "2020-04-24 21:19:00 [urllib3.connectionpool] DEBUG: Starting new HTTPS connection (1): www.smh.com.au:443\n"
     ]
    },
    {
     "name": "stdout",
     "output_type": "stream",
     "text": [
      "/topic/challenger-1n5p\n",
      "/business/banking-and-finance/challenger-reports-hit-to-funds-under-management-20200422-p54m2u.html\n"
     ]
    },
    {
     "name": "stderr",
     "output_type": "stream",
     "text": [
      "2020-04-24 21:19:00 [urllib3.connectionpool] DEBUG: https://www.smh.com.au:443 \"GET //business/banking-and-finance/challenger-reports-hit-to-funds-under-management-20200422-p54m2u.html HTTP/1.1\" 200 42661\n",
      "2020-04-24 21:19:00 [urllib3.connectionpool] DEBUG: Starting new HTTPS connection (1): www.smh.com.au:443\n"
     ]
    },
    {
     "name": "stdout",
     "output_type": "stream",
     "text": [
      "/business/small-business\n",
      "/business/small-business/when-entrepreneurs-are-seriously-ill-20200423-p54mmm.html\n"
     ]
    },
    {
     "name": "stderr",
     "output_type": "stream",
     "text": [
      "2020-04-24 21:19:01 [urllib3.connectionpool] DEBUG: https://www.smh.com.au:443 \"GET //business/small-business/when-entrepreneurs-are-seriously-ill-20200423-p54mmm.html HTTP/1.1\" 200 43593\n",
      "2020-04-24 21:19:01 [urllib3.connectionpool] DEBUG: Starting new HTTPS connection (1): www.smh.com.au:443\n"
     ]
    },
    {
     "name": "stdout",
     "output_type": "stream",
     "text": [
      "/topic/work-in-progress-1pu\n",
      "/business/small-business/when-entrepreneurs-are-seriously-ill-20200423-p54mmm.html\n"
     ]
    },
    {
     "name": "stderr",
     "output_type": "stream",
     "text": [
      "2020-04-24 21:19:01 [urllib3.connectionpool] DEBUG: https://www.smh.com.au:443 \"GET //business/small-business/when-entrepreneurs-are-seriously-ill-20200423-p54mmm.html HTTP/1.1\" 200 43593\n",
      "2020-04-24 21:19:01 [urllib3.connectionpool] DEBUG: Starting new HTTPS connection (1): www.smh.com.au:443\n"
     ]
    },
    {
     "name": "stdout",
     "output_type": "stream",
     "text": [
      "/business/small-business/priceline-boss-not-afraid-to-close-stores-if-landlords-don-t-budge-20200423-p54mgy.html\n"
     ]
    },
    {
     "name": "stderr",
     "output_type": "stream",
     "text": [
      "2020-04-24 21:19:02 [urllib3.connectionpool] DEBUG: https://www.smh.com.au:443 \"GET //business/small-business/priceline-boss-not-afraid-to-close-stores-if-landlords-don-t-budge-20200423-p54mgy.html HTTP/1.1\" 200 39885\n",
      "2020-04-24 21:19:02 [urllib3.connectionpool] DEBUG: Starting new HTTPS connection (1): www.smh.com.au:443\n"
     ]
    },
    {
     "name": "stdout",
     "output_type": "stream",
     "text": [
      "/coronavirus-pandemic\n",
      "/business/small-business/priceline-boss-not-afraid-to-close-stores-if-landlords-don-t-budge-20200423-p54mgy.html\n"
     ]
    },
    {
     "name": "stderr",
     "output_type": "stream",
     "text": [
      "2020-04-24 21:19:02 [urllib3.connectionpool] DEBUG: https://www.smh.com.au:443 \"GET //business/small-business/priceline-boss-not-afraid-to-close-stores-if-landlords-don-t-budge-20200423-p54mgy.html HTTP/1.1\" 200 39885\n",
      "2020-04-24 21:19:03 [urllib3.connectionpool] DEBUG: Starting new HTTPS connection (1): www.smh.com.au:443\n"
     ]
    },
    {
     "name": "stdout",
     "output_type": "stream",
     "text": [
      "/business/small-business/local-tech-leaders-say-contact-tracing-app-will-save-lives-20200421-p54lu8.html\n"
     ]
    },
    {
     "name": "stderr",
     "output_type": "stream",
     "text": [
      "2020-04-24 21:19:03 [urllib3.connectionpool] DEBUG: https://www.smh.com.au:443 \"GET //business/small-business/local-tech-leaders-say-contact-tracing-app-will-save-lives-20200421-p54lu8.html HTTP/1.1\" 200 44190\n",
      "2020-04-24 21:19:04 [urllib3.connectionpool] DEBUG: Starting new HTTPS connection (1): www.smh.com.au:443\n"
     ]
    },
    {
     "name": "stdout",
     "output_type": "stream",
     "text": [
      "/coronavirus-pandemic\n",
      "/business/small-business/local-tech-leaders-say-contact-tracing-app-will-save-lives-20200421-p54lu8.html\n"
     ]
    },
    {
     "name": "stderr",
     "output_type": "stream",
     "text": [
      "2020-04-24 21:19:04 [urllib3.connectionpool] DEBUG: https://www.smh.com.au:443 \"GET //business/small-business/local-tech-leaders-say-contact-tracing-app-will-save-lives-20200421-p54lu8.html HTTP/1.1\" 200 44190\n",
      "2020-04-24 21:19:04 [urllib3.connectionpool] DEBUG: Starting new HTTPS connection (1): www.smh.com.au:443\n"
     ]
    },
    {
     "name": "stdout",
     "output_type": "stream",
     "text": [
      "/business/small-business/australian-online-learning-startup-eyes-global-audience-with-un-tie-up-20200421-p54loz.html\n"
     ]
    },
    {
     "name": "stderr",
     "output_type": "stream",
     "text": [
      "2020-04-24 21:19:05 [urllib3.connectionpool] DEBUG: https://www.smh.com.au:443 \"GET //business/small-business/australian-online-learning-startup-eyes-global-audience-with-un-tie-up-20200421-p54loz.html HTTP/1.1\" 200 42830\n",
      "2020-04-24 21:19:05 [urllib3.connectionpool] DEBUG: Starting new HTTPS connection (1): www.smh.com.au:443\n"
     ]
    },
    {
     "name": "stdout",
     "output_type": "stream",
     "text": [
      "/topic/start-ups-629\n",
      "/business/small-business/australian-online-learning-startup-eyes-global-audience-with-un-tie-up-20200421-p54loz.html\n"
     ]
    },
    {
     "name": "stderr",
     "output_type": "stream",
     "text": [
      "2020-04-24 21:19:05 [urllib3.connectionpool] DEBUG: https://www.smh.com.au:443 \"GET //business/small-business/australian-online-learning-startup-eyes-global-audience-with-un-tie-up-20200421-p54loz.html HTTP/1.1\" 200 42830\n",
      "2020-04-24 21:19:05 [urllib3.connectionpool] DEBUG: Starting new HTTPS connection (1): www.smh.com.au:443\n"
     ]
    },
    {
     "name": "stdout",
     "output_type": "stream",
     "text": [
      "/business/small-business/coronavirus-focus-tipped-to-mothball-biotech-research-20200417-p54ks7.html\n"
     ]
    },
    {
     "name": "stderr",
     "output_type": "stream",
     "text": [
      "2020-04-24 21:19:06 [urllib3.connectionpool] DEBUG: https://www.smh.com.au:443 \"GET //business/small-business/coronavirus-focus-tipped-to-mothball-biotech-research-20200417-p54ks7.html HTTP/1.1\" 200 45745\n",
      "2020-04-24 21:19:06 [urllib3.connectionpool] DEBUG: Starting new HTTPS connection (1): www.smh.com.au:443\n"
     ]
    },
    {
     "name": "stdout",
     "output_type": "stream",
     "text": [
      "/coronavirus-pandemic\n",
      "/business/small-business/coronavirus-focus-tipped-to-mothball-biotech-research-20200417-p54ks7.html\n"
     ]
    },
    {
     "name": "stderr",
     "output_type": "stream",
     "text": [
      "2020-04-24 21:19:06 [urllib3.connectionpool] DEBUG: https://www.smh.com.au:443 \"GET //business/small-business/coronavirus-focus-tipped-to-mothball-biotech-research-20200417-p54ks7.html HTTP/1.1\" 200 45745\n",
      "2020-04-24 21:19:07 [urllib3.connectionpool] DEBUG: Starting new HTTPS connection (1): www.smh.com.au:443\n"
     ]
    },
    {
     "name": "stdout",
     "output_type": "stream",
     "text": [
      "/business/consumer-affairs\n",
      "/business/consumer-affairs/flight-centre-caps-cancellation-fees-in-bid-to-soothe-customer-rage-20200424-p54mtz.html\n"
     ]
    },
    {
     "name": "stderr",
     "output_type": "stream",
     "text": [
      "2020-04-24 21:19:07 [urllib3.connectionpool] DEBUG: https://www.smh.com.au:443 \"GET //business/consumer-affairs/flight-centre-caps-cancellation-fees-in-bid-to-soothe-customer-rage-20200424-p54mtz.html HTTP/1.1\" 200 42849\n",
      "2020-04-24 21:19:07 [urllib3.connectionpool] DEBUG: Starting new HTTPS connection (1): www.smh.com.au:443\n"
     ]
    },
    {
     "name": "stdout",
     "output_type": "stream",
     "text": [
      "/coronavirus-pandemic\n",
      "/business/consumer-affairs/flight-centre-caps-cancellation-fees-in-bid-to-soothe-customer-rage-20200424-p54mtz.html\n"
     ]
    },
    {
     "name": "stderr",
     "output_type": "stream",
     "text": [
      "2020-04-24 21:19:08 [urllib3.connectionpool] DEBUG: https://www.smh.com.au:443 \"GET //business/consumer-affairs/flight-centre-caps-cancellation-fees-in-bid-to-soothe-customer-rage-20200424-p54mtz.html HTTP/1.1\" 200 42849\n",
      "2020-04-24 21:19:08 [urllib3.connectionpool] DEBUG: Starting new HTTPS connection (1): www.smh.com.au:443\n"
     ]
    },
    {
     "name": "stdout",
     "output_type": "stream",
     "text": [
      "/topic/consumer-rights-hpf\n",
      "/business/consumer-affairs/fuming-flight-centre-customers-plan-legal-action-over-300-cancellation-fee-20200422-p54m8r.html\n"
     ]
    },
    {
     "name": "stderr",
     "output_type": "stream",
     "text": [
      "2020-04-24 21:19:08 [urllib3.connectionpool] DEBUG: https://www.smh.com.au:443 \"GET //business/consumer-affairs/fuming-flight-centre-customers-plan-legal-action-over-300-cancellation-fee-20200422-p54m8r.html HTTP/1.1\" 200 45225\n",
      "2020-04-24 21:19:09 [urllib3.connectionpool] DEBUG: Starting new HTTPS connection (1): www.smh.com.au:443\n"
     ]
    },
    {
     "name": "stdout",
     "output_type": "stream",
     "text": [
      "/topic/petrol-prices-60m\n",
      "/business/consumer-affairs/accc-directs-petrol-stations-to-pass-on-record-low-oil-prices-20200422-p54m2f.html\n"
     ]
    },
    {
     "name": "stderr",
     "output_type": "stream",
     "text": [
      "2020-04-24 21:19:09 [urllib3.connectionpool] DEBUG: https://www.smh.com.au:443 \"GET //business/consumer-affairs/accc-directs-petrol-stations-to-pass-on-record-low-oil-prices-20200422-p54m2f.html HTTP/1.1\" 200 44428\n",
      "2020-04-24 21:19:10 [urllib3.connectionpool] DEBUG: Starting new HTTPS connection (1): www.smh.com.au:443\n"
     ]
    },
    {
     "name": "stdout",
     "output_type": "stream",
     "text": [
      "/business/workplace\n",
      "/business/workplace/me-and-my-moggy-just-another-day-not-at-the-office-20200421-p54lwd.html\n"
     ]
    },
    {
     "name": "stderr",
     "output_type": "stream",
     "text": [
      "2020-04-24 21:19:10 [urllib3.connectionpool] DEBUG: https://www.smh.com.au:443 \"GET //business/workplace/me-and-my-moggy-just-another-day-not-at-the-office-20200421-p54lwd.html HTTP/1.1\" 200 39842\n",
      "2020-04-24 21:19:10 [urllib3.connectionpool] DEBUG: Starting new HTTPS connection (1): www.smh.com.au:443\n"
     ]
    },
    {
     "name": "stdout",
     "output_type": "stream",
     "text": [
      "/topic/careers-645\n",
      "/business/workplace/me-and-my-moggy-just-another-day-not-at-the-office-20200421-p54lwd.html\n"
     ]
    },
    {
     "name": "stderr",
     "output_type": "stream",
     "text": [
      "2020-04-24 21:19:11 [urllib3.connectionpool] DEBUG: https://www.smh.com.au:443 \"GET //business/workplace/me-and-my-moggy-just-another-day-not-at-the-office-20200421-p54lwd.html HTTP/1.1\" 200 39842\n",
      "2020-04-24 21:19:11 [urllib3.connectionpool] DEBUG: Starting new HTTPS connection (1): www.smh.com.au:443\n"
     ]
    },
    {
     "name": "stdout",
     "output_type": "stream",
     "text": [
      "/topic/work-therapy-1mor\n",
      "/business/workplace/it-s-the-economy-and-you-are-not-stupid-20200422-p54ma1.html\n"
     ]
    },
    {
     "name": "stderr",
     "output_type": "stream",
     "text": [
      "2020-04-24 21:19:11 [urllib3.connectionpool] DEBUG: https://www.smh.com.au:443 \"GET //business/workplace/it-s-the-economy-and-you-are-not-stupid-20200422-p54ma1.html HTTP/1.1\" 200 40578\n",
      "2020-04-24 21:19:12 [urllib3.connectionpool] DEBUG: Starting new HTTPS connection (1): www.smh.com.au:443\n"
     ]
    },
    {
     "name": "stdout",
     "output_type": "stream",
     "text": [
      "/topic/industrial-relations-5yl\n",
      "/business/workplace/know-your-rights-and-stand-up-to-unjustified-staff-stand-downs-20200422-p54m7o.html\n"
     ]
    },
    {
     "name": "stderr",
     "output_type": "stream",
     "text": [
      "2020-04-24 21:19:12 [urllib3.connectionpool] DEBUG: https://www.smh.com.au:443 \"GET //business/workplace/know-your-rights-and-stand-up-to-unjustified-staff-stand-downs-20200422-p54m7o.html HTTP/1.1\" 200 40946\n",
      "2020-04-24 21:19:13 [urllib3.connectionpool] DEBUG: Starting new HTTPS connection (1): www.smh.com.au:443\n"
     ]
    },
    {
     "name": "stdout",
     "output_type": "stream",
     "text": [
      "/topic/commercial-real-estate-5vu\n",
      "/business/companies/back-to-uni-for-st-ali-coffee-graduate-20200423-p54mmh.html\n"
     ]
    },
    {
     "name": "stderr",
     "output_type": "stream",
     "text": [
      "2020-04-24 21:19:13 [urllib3.connectionpool] DEBUG: https://www.smh.com.au:443 \"GET //business/companies/back-to-uni-for-st-ali-coffee-graduate-20200423-p54mmh.html HTTP/1.1\" 200 42387\n",
      "2020-04-24 21:19:13 [urllib3.connectionpool] DEBUG: Starting new HTTPS connection (1): www.smh.com.au:443\n"
     ]
    },
    {
     "name": "stdout",
     "output_type": "stream",
     "text": [
      "/topic/commercial-real-estate-5vu\n",
      "/business/companies/back-to-uni-for-st-ali-coffee-graduate-20200423-p54mmh.html\n"
     ]
    },
    {
     "name": "stderr",
     "output_type": "stream",
     "text": [
      "2020-04-24 21:19:13 [urllib3.connectionpool] DEBUG: https://www.smh.com.au:443 \"GET //business/companies/back-to-uni-for-st-ali-coffee-graduate-20200423-p54mmh.html HTTP/1.1\" 200 42385\n",
      "2020-04-24 21:19:14 [urllib3.connectionpool] DEBUG: Starting new HTTPS connection (1): www.smh.com.au:443\n"
     ]
    },
    {
     "name": "stdout",
     "output_type": "stream",
     "text": [
      "/topic/commercial-real-estate-5vu\n",
      "/business/companies/expect-sharp-rise-in-office-vacancies-as-jobs-disappear-20200423-p54mk8.html\n"
     ]
    },
    {
     "name": "stderr",
     "output_type": "stream",
     "text": [
      "2020-04-24 21:19:14 [urllib3.connectionpool] DEBUG: https://www.smh.com.au:443 \"GET //business/companies/expect-sharp-rise-in-office-vacancies-as-jobs-disappear-20200423-p54mk8.html HTTP/1.1\" 200 44897\n",
      "2020-04-24 21:19:14 [urllib3.connectionpool] DEBUG: Starting new HTTPS connection (1): www.smh.com.au:443\n"
     ]
    },
    {
     "name": "stdout",
     "output_type": "stream",
     "text": [
      "/topic/commercial-real-estate-5vu\n",
      "/business/companies/architecture-that-seeks-to-empower-young-women-20200423-p54mjm.html\n"
     ]
    },
    {
     "name": "stderr",
     "output_type": "stream",
     "text": [
      "2020-04-24 21:19:14 [urllib3.connectionpool] DEBUG: https://www.smh.com.au:443 \"GET //business/companies/architecture-that-seeks-to-empower-young-women-20200423-p54mjm.html HTTP/1.1\" 200 42684\n",
      "2020-04-24 21:19:15 [urllib3.connectionpool] DEBUG: Starting new HTTPS connection (1): www.smh.com.au:443\n"
     ]
    },
    {
     "name": "stdout",
     "output_type": "stream",
     "text": [
      "/topic/mining-5zq\n",
      "/business/companies/wa-vanadium-hopeful-gets-state-government-tick-20200421-p54lyr.html\n"
     ]
    },
    {
     "name": "stderr",
     "output_type": "stream",
     "text": [
      "2020-04-24 21:19:15 [urllib3.connectionpool] DEBUG: https://www.smh.com.au:443 \"GET //business/companies/wa-vanadium-hopeful-gets-state-government-tick-20200421-p54lyr.html HTTP/1.1\" 200 40905\n",
      "2020-04-24 21:19:15 [urllib3.connectionpool] DEBUG: Starting new HTTPS connection (1): www.smh.com.au:443\n"
     ]
    },
    {
     "name": "stdout",
     "output_type": "stream",
     "text": [
      "/topic/mining-5zq\n",
      "/business/companies/wa-vanadium-hopeful-gets-state-government-tick-20200421-p54lyr.html\n"
     ]
    },
    {
     "name": "stderr",
     "output_type": "stream",
     "text": [
      "2020-04-24 21:19:16 [urllib3.connectionpool] DEBUG: https://www.smh.com.au:443 \"GET //business/companies/wa-vanadium-hopeful-gets-state-government-tick-20200421-p54lyr.html HTTP/1.1\" 200 40905\n",
      "2020-04-24 21:19:16 [urllib3.connectionpool] DEBUG: Starting new HTTPS connection (1): www.smh.com.au:443\n"
     ]
    },
    {
     "name": "stdout",
     "output_type": "stream",
     "text": [
      "/coronavirus-pandemic\n",
      "/business/companies/bhp-flags-sharp-drop-in-demand-as-covid-19-clouds-commodity-outlook-20200420-p54lcs.html\n"
     ]
    },
    {
     "name": "stderr",
     "output_type": "stream",
     "text": [
      "2020-04-24 21:19:16 [urllib3.connectionpool] DEBUG: https://www.smh.com.au:443 \"GET //business/companies/bhp-flags-sharp-drop-in-demand-as-covid-19-clouds-commodity-outlook-20200420-p54lcs.html HTTP/1.1\" 200 43093\n",
      "2020-04-24 21:19:16 [urllib3.connectionpool] DEBUG: Starting new HTTPS connection (1): www.smh.com.au:443\n"
     ]
    },
    {
     "name": "stdout",
     "output_type": "stream",
     "text": [
      "/topic/mining-5zq\n",
      "/business/companies/south32-cuts-costs-as-virus-lockdowns-hit-output-20200420-p54ljl.html\n"
     ]
    },
    {
     "name": "stderr",
     "output_type": "stream",
     "text": [
      "2020-04-24 21:19:17 [urllib3.connectionpool] DEBUG: https://www.smh.com.au:443 \"GET //business/companies/south32-cuts-costs-as-virus-lockdowns-hit-output-20200420-p54ljl.html HTTP/1.1\" 200 41012\n",
      "2020-04-24 21:19:17 [urllib3.connectionpool] DEBUG: Starting new HTTPS connection (1): www.smh.com.au:443\n"
     ]
    },
    {
     "name": "stdout",
     "output_type": "stream",
     "text": [
      "/\n",
      "https://twitter.com/smh\n",
      "http://www.facebook.com/sydneymorningherald\n",
      "https://www.instagram.com/sydneymorningherald\n",
      "/rssheadlines\n",
      "javascript:void(0)\n",
      "https://www.smh.com.au\n",
      "https://www.theage.com.au\n",
      "https://www.brisbanetimes.com.au\n",
      "https://www.watoday.com.au\n",
      "https://www.afr.com\n",
      "https://www.domain.com.au\n",
      "http://www.traveller.com.au\n",
      "https://www.goodfood.com.au\n",
      "http://www.executivestyle.com.au\n",
      "https://www.thestore.com.au\n",
      "https://www.drive.com.au\n",
      "https://www.caradvice.com.au\n",
      "https://www.rsvp.com.au\n",
      "http://www.weatherzone.com.au\n",
      "javascript:void(0)\n",
      "http://tributes.smh.com.au/obituaries/smh-au/\n",
      "http://celebrations.smh.com.au/celebration/smh-au/\n",
      "https://advertisers.com.au\n",
      "https://www.commercialrealestate.com.au\n",
      "https://www.oneflare.com.au\n",
      "javascript:void(0)\n",
      "/contact-us\n",
      "https://www.adcentre.com.au/brands/the-sydney-morning-herald\n",
      "https://smh.myfairfax.com.au/members/lite_session/new?callback_uri=https%3A%2F%2Fsmh.myfairfax.com.au%2Fbeta%2Fmembers%2Fmy_account%2Fnewsletters%3Fchannel_key%3DzHE9EWDHf1XPuz3Phk0YIg%26callback_uri%3Dhttps%253a%252f%252fwww.smh.com.au&channel_key=zHE9EWDHf1XPuz3Phk0YIg\n",
      "/siteguide/accessibility\n",
      "/siteguide\n",
      "https://consumer.fairfaxsyndication.com/C.aspx?VP3=CMS3&VF=FXJFX2_2_VForm\n",
      "https://frontpages.fairfaxsyndication.com/C.aspx?VP3=CMS3&VF=FXJFX2_3_VForm\n",
      "https://www.fairfaxsyndication.com/C.aspx?VP3=CMS3&VF=FXJO50_1\n",
      "/our-events\n",
      "https://www.nineforbrands.com.au/about/careers/\n",
      "/conditions-of-use\n",
      "/privacy\n",
      "https://www.presscouncil.org.au/what-we-do\n",
      "javascript:void(0)\n",
      "https://subscribe.smh.com.au/?promote_channel=HI_SMH_GNL_FT\n",
      "https://subscribers.smh.com.au\n",
      "https://www.smh.com.au/myaccount\n",
      "https://subscribers.smh.com.au/support-centre/overview\n",
      "/todays-newspaper\n",
      "/puzzles/crosswords\n",
      "https://www.thesmhinsider.com.au/c/a/5dAvszx5Lm7C4GDU21EWmQ?dPanel=2\n",
      "https://subscribe.smh.com.au/?promote_channel=HI_SMH_GNL_FT\n",
      "                                                link  \\\n",
      "0  /business/companies/csl-s-blood-payments-in-us...   \n",
      "1  /business/companies/csl-s-blood-payments-in-us...   \n",
      "2  /business/companies/the-week-that-virgin-austr...   \n",
      "3  /business/companies/the-week-that-virgin-austr...   \n",
      "4  /business/the-economy/australia-s-china-challe...   \n",
      "\n",
      "                                              header  \\\n",
      "0    CSL's blood payments in US under the microscope   \n",
      "1    CSL's blood payments in US under the microscope   \n",
      "2  The week that Virgin Australia hit the ground ...   \n",
      "3  The week that Virgin Australia hit the ground ...   \n",
      "4  Australia's China challenge in the post-corona...   \n",
      "\n",
      "                                             article  \\\n",
      "0  CSL has been forced to defend the way it runs ...   \n",
      "1  CSL has been forced to defend the way it runs ...   \n",
      "2  It was getting close to 8pm on Thursday night ...   \n",
      "3  It was getting close to 8pm on Thursday night ...   \n",
      "4  The coronavirus was a health story. It is now ...   \n",
      "\n",
      "                             author            date  \n",
      "0                       Emma Koehn   April 25, 2020  \n",
      "1                       Emma Koehn   April 25, 2020  \n",
      "2   Patrick Hatch , Sarah Danckert   April 25, 2020  \n",
      "3   Patrick Hatch , Sarah Danckert   April 25, 2020  \n",
      "4                                    April 25, 2020  \n",
      "processing : world\n"
     ]
    },
    {
     "name": "stderr",
     "output_type": "stream",
     "text": [
      "2020-04-24 21:19:18 [urllib3.connectionpool] DEBUG: https://www.smh.com.au:443 \"GET /world HTTP/1.1\" 200 70305\n",
      "2020-04-24 21:19:18 [urllib3.connectionpool] DEBUG: Starting new HTTPS connection (1): www.smh.com.au:443\n"
     ]
    },
    {
     "name": "stdout",
     "output_type": "stream",
     "text": [
      "#sections\n",
      "#content\n",
      "#footer\n",
      "javascript:void(0);\n",
      "https://subscribe.smh.com.au/?promote_channel=HI_SMH_GNL_HL\n",
      "/\n",
      "https://subscribe.smh.com.au/?promote_channel=HI_SMH_GNL_HL\n",
      "/\n",
      "#sections\n",
      "#network\n",
      "/\n",
      "/sydney-news\n",
      "/national/nsw\n",
      "/politics\n",
      "/politics/federal\n",
      "/politics/nsw\n",
      "/politics/victoria\n",
      "/politics/queensland\n",
      "/politics/western-australia\n",
      "/business\n",
      "/business/companies\n",
      "/business/markets\n",
      "/business/the-economy\n",
      "/business/banking-and-finance\n",
      "/business/small-business\n",
      "/business/consumer-affairs\n",
      "/business/workplace\n",
      "/world\n",
      "/world/north-america\n",
      "/world/europe\n",
      "/world/asia\n",
      "/world/middle-east\n",
      "/world/oceania\n",
      "/world/central-america\n",
      "/world/south-america\n",
      "/world/africa\n",
      "/national\n",
      "/national/victoria\n",
      "/national/queensland\n",
      "/national/western-australia\n",
      "/opinion\n",
      "http://www.domain.com.au\n",
      "/sport\n",
      "/sport/nrl\n",
      "/sport/rugby-union\n",
      "/sport/cricket\n",
      "/sport/soccer\n",
      "/sport/afl\n",
      "/sport/racing\n",
      "/sport/tennis\n",
      "/sport/netball\n",
      "/sport/basketball\n",
      "/sport/motorsport\n",
      "/sport/cycling\n",
      "/sport/golf\n",
      "/sport/nfl\n",
      "/sport/athletics\n",
      "/sport/swimming\n",
      "/sport/boxing\n",
      "/culture\n",
      "/culture/movies\n",
      "/culture/tv-and-radio\n",
      "/culture/music\n",
      "/culture/celebrity\n",
      "/culture/books\n",
      "/culture/comedy\n",
      "/culture/dance\n",
      "/culture/musicals\n",
      "/culture/opera\n",
      "/culture/theatre\n",
      "/culture/art-and-design\n",
      "https://tvguide.smh.com.au\n",
      "/lifestyle\n",
      "/lifestyle/life-and-relationships\n",
      "/lifestyle/health-and-wellness\n",
      "/lifestyle/gender\n",
      "/lifestyle/fashion\n",
      "/lifestyle/beauty\n",
      "/topic/horoscopes-5yc\n",
      "/topic/good-weekend-1qq\n",
      "/money\n",
      "/money/super-and-retirement\n",
      "/money/investing\n",
      "/money/banking\n",
      "/money/borrowing\n",
      "/money/saving\n",
      "/money/tax\n",
      "/money/planning-and-budgeting\n",
      "/money/insurance\n",
      "/education\n",
      "/healthcare\n",
      "/environment\n",
      "/environment/conservation\n",
      "/environment/climate-change\n",
      "/environment/sustainability\n",
      "/environment/weather\n",
      "/technology\n",
      "/technology/video-games\n",
      "/topic/home-technology-hqq\n",
      "/topic/phones-5zt\n",
      "/topic/gadgets-hqp\n",
      "http://www.drive.com.au\n",
      "http://www.traveller.com.au\n",
      "http://www.goodfood.com.au\n",
      "http://www.executivestyle.com.au\n",
      "https://subscribe.smh.com.au/2?promote_channel=HI_IPL_GNL&utm_source=PremiumIndex&utm_medium=HouseInventory&utm_campaign=General\n",
      "/todays-newspaper\n",
      "/puzzles/crosswords\n",
      "/topic/smh-letters-1r7\n",
      "/topic/smh-editorial-1r6\n",
      "/topic/column-8-1r4\n",
      "/topic/obituaries-1qv\n",
      "/topic/explainers-1lz9\n",
      "/topic/quizzes-1qx\n",
      "http://weather.smh.com.au/local-forecast/nsw/sydney\n",
      "https://www.theage.com.au\n",
      "https://www.brisbanetimes.com.au\n",
      "https://www.watoday.com.au\n",
      "https://www.afr.com\n",
      "https://www.domain.com.au\n",
      "https://www.commercialrealestate.com.au\n",
      "https://www.drive.com.au\n",
      "https://www.goodfood.com.au\n",
      "http://www.traveller.com.au\n",
      "http://www.executivestyle.com.au\n",
      "https://www.findababysitter.com.au\n",
      "https://www.thestore.com.au\n",
      "http://www.weatherzone.com.au\n",
      "https://www.rsvp.com.au\n",
      "/world/north-america\n",
      "/world/europe\n",
      "/world/asia\n",
      "/world/middle-east\n",
      "/world/oceania\n",
      "javascript:void(0);\n",
      "/world/central-america\n",
      "/world/south-america\n",
      "/world/africa\n",
      "/world/asia/not-dead-just-at-the-beach-reports-kim-jong-un-seen-at-tourist-resort-20200424-p54mvu.html\n"
     ]
    },
    {
     "name": "stderr",
     "output_type": "stream",
     "text": [
      "2020-04-24 21:19:18 [urllib3.connectionpool] DEBUG: https://www.smh.com.au:443 \"GET //world/asia/not-dead-just-at-the-beach-reports-kim-jong-un-seen-at-tourist-resort-20200424-p54mvu.html HTTP/1.1\" 200 40271\n",
      "2020-04-24 21:19:19 [urllib3.connectionpool] DEBUG: Starting new HTTPS connection (1): www.smh.com.au:443\n"
     ]
    },
    {
     "name": "stdout",
     "output_type": "stream",
     "text": [
      "/topic/democratic-peoples-republic-of-korea-91j\n",
      "/world/asia/not-dead-just-at-the-beach-reports-kim-jong-un-seen-at-tourist-resort-20200424-p54mvu.html\n"
     ]
    },
    {
     "name": "stderr",
     "output_type": "stream",
     "text": [
      "2020-04-24 21:19:19 [urllib3.connectionpool] DEBUG: https://www.smh.com.au:443 \"GET //world/asia/not-dead-just-at-the-beach-reports-kim-jong-un-seen-at-tourist-resort-20200424-p54mvu.html HTTP/1.1\" 200 40271\n",
      "2020-04-24 21:19:19 [urllib3.connectionpool] DEBUG: Starting new HTTPS connection (1): www.smh.com.au:443\n"
     ]
    },
    {
     "name": "stdout",
     "output_type": "stream",
     "text": [
      "/world/europe/i-want-justice-italian-families-want-to-hold-someone-accountable-20200424-p54n2f.html\n"
     ]
    },
    {
     "name": "stderr",
     "output_type": "stream",
     "text": [
      "2020-04-24 21:19:20 [urllib3.connectionpool] DEBUG: https://www.smh.com.au:443 \"GET //world/europe/i-want-justice-italian-families-want-to-hold-someone-accountable-20200424-p54n2f.html HTTP/1.1\" 200 47548\n",
      "2020-04-24 21:19:20 [urllib3.connectionpool] DEBUG: Starting new HTTPS connection (1): www.smh.com.au:443\n"
     ]
    },
    {
     "name": "stdout",
     "output_type": "stream",
     "text": [
      "/topic/coronavirus-pandemic-live-1nf0\n",
      "/world/europe/i-want-justice-italian-families-want-to-hold-someone-accountable-20200424-p54n2f.html\n"
     ]
    },
    {
     "name": "stderr",
     "output_type": "stream",
     "text": [
      "2020-04-24 21:19:20 [urllib3.connectionpool] DEBUG: https://www.smh.com.au:443 \"GET //world/europe/i-want-justice-italian-families-want-to-hold-someone-accountable-20200424-p54n2f.html HTTP/1.1\" 200 47548\n",
      "2020-04-24 21:19:20 [urllib3.connectionpool] DEBUG: Starting new HTTPS connection (1): www.smh.com.au:443\n"
     ]
    },
    {
     "name": "stdout",
     "output_type": "stream",
     "text": [
      "/world/north-america/bugged-earth-s-land-insects-are-disappearing-20200424-p54n1n.html\n"
     ]
    },
    {
     "name": "stderr",
     "output_type": "stream",
     "text": [
      "2020-04-24 21:19:21 [urllib3.connectionpool] DEBUG: https://www.smh.com.au:443 \"GET //world/north-america/bugged-earth-s-land-insects-are-disappearing-20200424-p54n1n.html HTTP/1.1\" 200 40054\n",
      "2020-04-24 21:19:21 [urllib3.connectionpool] DEBUG: Starting new HTTPS connection (1): www.smh.com.au:443\n"
     ]
    },
    {
     "name": "stdout",
     "output_type": "stream",
     "text": [
      "/topic/insects-jbg\n",
      "/world/north-america/bugged-earth-s-land-insects-are-disappearing-20200424-p54n1n.html\n"
     ]
    },
    {
     "name": "stderr",
     "output_type": "stream",
     "text": [
      "2020-04-24 21:19:21 [urllib3.connectionpool] DEBUG: https://www.smh.com.au:443 \"GET //world/north-america/bugged-earth-s-land-insects-are-disappearing-20200424-p54n1n.html HTTP/1.1\" 200 40054\n",
      "2020-04-24 21:19:22 [urllib3.connectionpool] DEBUG: Starting new HTTPS connection (1): www.smh.com.au:443\n"
     ]
    },
    {
     "name": "stdout",
     "output_type": "stream",
     "text": [
      "/world/north-america/coronavirus-struggles-to-survive-in-sunlight-heat-white-house-20200424-p54mtg.html\n"
     ]
    },
    {
     "name": "stderr",
     "output_type": "stream",
     "text": [
      "2020-04-24 21:19:22 [urllib3.connectionpool] DEBUG: https://www.smh.com.au:443 \"GET //world/north-america/coronavirus-struggles-to-survive-in-sunlight-heat-white-house-20200424-p54mtg.html HTTP/1.1\" 200 46252\n",
      "2020-04-24 21:19:22 [urllib3.connectionpool] DEBUG: Starting new HTTPS connection (1): www.smh.com.au:443\n"
     ]
    },
    {
     "name": "stdout",
     "output_type": "stream",
     "text": [
      "/coronavirus-pandemic\n",
      "/world/north-america/coronavirus-struggles-to-survive-in-sunlight-heat-white-house-20200424-p54mtg.html\n"
     ]
    },
    {
     "name": "stderr",
     "output_type": "stream",
     "text": [
      "2020-04-24 21:19:22 [urllib3.connectionpool] DEBUG: https://www.smh.com.au:443 \"GET //world/north-america/coronavirus-struggles-to-survive-in-sunlight-heat-white-house-20200424-p54mtg.html HTTP/1.1\" 200 46252\n",
      "2020-04-24 21:19:23 [urllib3.connectionpool] DEBUG: Starting new HTTPS connection (1): www.smh.com.au:443\n"
     ]
    },
    {
     "name": "stdout",
     "output_type": "stream",
     "text": [
      "/world/africa/jump-in-cases-raises-fears-africa-could-become-new-centre-of-pandemic-20200424-p54mtl.html\n"
     ]
    },
    {
     "name": "stderr",
     "output_type": "stream",
     "text": [
      "2020-04-24 21:19:23 [urllib3.connectionpool] DEBUG: https://www.smh.com.au:443 \"GET //world/africa/jump-in-cases-raises-fears-africa-could-become-new-centre-of-pandemic-20200424-p54mtl.html HTTP/1.1\" 200 41967\n",
      "2020-04-24 21:19:24 [urllib3.connectionpool] DEBUG: Starting new HTTPS connection (1): www.smh.com.au:443\n"
     ]
    },
    {
     "name": "stdout",
     "output_type": "stream",
     "text": [
      "/coronavirus-pandemic\n",
      "/world/africa/jump-in-cases-raises-fears-africa-could-become-new-centre-of-pandemic-20200424-p54mtl.html\n"
     ]
    },
    {
     "name": "stderr",
     "output_type": "stream",
     "text": [
      "2020-04-24 21:19:24 [urllib3.connectionpool] DEBUG: https://www.smh.com.au:443 \"GET //world/africa/jump-in-cases-raises-fears-africa-could-become-new-centre-of-pandemic-20200424-p54mtl.html HTTP/1.1\" 200 41967\n",
      "2020-04-24 21:19:24 [urllib3.connectionpool] DEBUG: Starting new HTTPS connection (1): www.smh.com.au:443\n"
     ]
    },
    {
     "name": "stdout",
     "output_type": "stream",
     "text": [
      "/world/europe/britain-has-a-credible-opposition-again-and-just-in-time-too-20200423-p54mdk.html\n"
     ]
    },
    {
     "name": "stderr",
     "output_type": "stream",
     "text": [
      "2020-04-24 21:19:25 [urllib3.connectionpool] DEBUG: https://www.smh.com.au:443 \"GET //world/europe/britain-has-a-credible-opposition-again-and-just-in-time-too-20200423-p54mdk.html HTTP/1.1\" 200 47307\n",
      "2020-04-24 21:19:25 [urllib3.connectionpool] DEBUG: Starting new HTTPS connection (1): www.smh.com.au:443\n"
     ]
    },
    {
     "name": "stdout",
     "output_type": "stream",
     "text": [
      "/world/north-america/trump-joins-ostrich-alliance-of-loser-leaders-20200422-p54ma8.html\n"
     ]
    },
    {
     "name": "stderr",
     "output_type": "stream",
     "text": [
      "2020-04-24 21:19:25 [urllib3.connectionpool] DEBUG: https://www.smh.com.au:443 \"GET //world/north-america/trump-joins-ostrich-alliance-of-loser-leaders-20200422-p54ma8.html HTTP/1.1\" 200 50909\n",
      "2020-04-24 21:19:25 [urllib3.connectionpool] DEBUG: Starting new HTTPS connection (1): www.smh.com.au:443\n"
     ]
    },
    {
     "name": "stdout",
     "output_type": "stream",
     "text": [
      "/world/europe/coronavirus-is-accelerating-eight-distributing-mega-trends-20200421-p54lnn.html\n"
     ]
    },
    {
     "name": "stderr",
     "output_type": "stream",
     "text": [
      "2020-04-24 21:19:26 [urllib3.connectionpool] DEBUG: https://www.smh.com.au:443 \"GET //world/europe/coronavirus-is-accelerating-eight-distributing-mega-trends-20200421-p54lnn.html HTTP/1.1\" 200 49015\n",
      "2020-04-24 21:19:26 [urllib3.connectionpool] DEBUG: Starting new HTTPS connection (1): www.smh.com.au:443\n"
     ]
    },
    {
     "name": "stdout",
     "output_type": "stream",
     "text": [
      "/world/north-america\n",
      "/world/north-america/don-t-inject-disinfectants-dettol-warns-as-trump-raises-the-idea-20200425-p54n4m.html\n"
     ]
    },
    {
     "name": "stderr",
     "output_type": "stream",
     "text": [
      "2020-04-24 21:19:27 [urllib3.connectionpool] DEBUG: https://www.smh.com.au:443 \"GET //world/north-america/don-t-inject-disinfectants-dettol-warns-as-trump-raises-the-idea-20200425-p54n4m.html HTTP/1.1\" 200 44971\n",
      "2020-04-24 21:19:27 [urllib3.connectionpool] DEBUG: Starting new HTTPS connection (1): www.smh.com.au:443\n"
     ]
    },
    {
     "name": "stdout",
     "output_type": "stream",
     "text": [
      "/coronavirus-pandemic\n",
      "/world/north-america/don-t-inject-disinfectants-dettol-warns-as-trump-raises-the-idea-20200425-p54n4m.html\n"
     ]
    },
    {
     "name": "stderr",
     "output_type": "stream",
     "text": [
      "2020-04-24 21:19:28 [urllib3.connectionpool] DEBUG: https://www.smh.com.au:443 \"GET //world/north-america/don-t-inject-disinfectants-dettol-warns-as-trump-raises-the-idea-20200425-p54n4m.html HTTP/1.1\" 200 44971\n",
      "2020-04-24 21:19:28 [urllib3.connectionpool] DEBUG: Starting new HTTPS connection (1): www.smh.com.au:443\n"
     ]
    },
    {
     "name": "stdout",
     "output_type": "stream",
     "text": [
      "/world/north-america/bugged-earth-s-land-insects-are-disappearing-20200424-p54n1n.html\n"
     ]
    },
    {
     "name": "stderr",
     "output_type": "stream",
     "text": [
      "2020-04-24 21:19:28 [urllib3.connectionpool] DEBUG: https://www.smh.com.au:443 \"GET //world/north-america/bugged-earth-s-land-insects-are-disappearing-20200424-p54n1n.html HTTP/1.1\" 200 40054\n",
      "2020-04-24 21:19:28 [urllib3.connectionpool] DEBUG: Starting new HTTPS connection (1): www.smh.com.au:443\n"
     ]
    },
    {
     "name": "stdout",
     "output_type": "stream",
     "text": [
      "/topic/insects-jbg\n",
      "/world/north-america/bugged-earth-s-land-insects-are-disappearing-20200424-p54n1n.html\n"
     ]
    },
    {
     "name": "stderr",
     "output_type": "stream",
     "text": [
      "2020-04-24 21:19:29 [urllib3.connectionpool] DEBUG: https://www.smh.com.au:443 \"GET //world/north-america/bugged-earth-s-land-insects-are-disappearing-20200424-p54n1n.html HTTP/1.1\" 200 40054\n",
      "2020-04-24 21:19:29 [urllib3.connectionpool] DEBUG: Starting new HTTPS connection (1): www.smh.com.au:443\n"
     ]
    },
    {
     "name": "stdout",
     "output_type": "stream",
     "text": [
      "/world/north-america/biden-backs-postal-vote-says-trump-s-opposition-un-american-20200424-p54mxh.html\n"
     ]
    },
    {
     "name": "stderr",
     "output_type": "stream",
     "text": [
      "2020-04-24 21:19:29 [urllib3.connectionpool] DEBUG: https://www.smh.com.au:443 \"GET //world/north-america/biden-backs-postal-vote-says-trump-s-opposition-un-american-20200424-p54mxh.html HTTP/1.1\" 200 42100\n",
      "2020-04-24 21:19:30 [urllib3.connectionpool] DEBUG: Starting new HTTPS connection (1): www.smh.com.au:443\n"
     ]
    },
    {
     "name": "stdout",
     "output_type": "stream",
     "text": [
      "/topic/us-votes-2020-1mkz\n",
      "/world/north-america/biden-backs-postal-vote-says-trump-s-opposition-un-american-20200424-p54mxh.html\n"
     ]
    },
    {
     "name": "stderr",
     "output_type": "stream",
     "text": [
      "2020-04-24 21:19:30 [urllib3.connectionpool] DEBUG: https://www.smh.com.au:443 \"GET //world/north-america/biden-backs-postal-vote-says-trump-s-opposition-un-american-20200424-p54mxh.html HTTP/1.1\" 200 42100\n",
      "2020-04-24 21:19:30 [urllib3.connectionpool] DEBUG: Starting new HTTPS connection (1): www.smh.com.au:443\n"
     ]
    },
    {
     "name": "stdout",
     "output_type": "stream",
     "text": [
      "/world/north-america/a-partisan-pandemic-how-fox-news-shaped-trump-s-coronavirus-response-20200423-p54mre.html\n"
     ]
    },
    {
     "name": "stderr",
     "output_type": "stream",
     "text": [
      "2020-04-24 21:19:31 [urllib3.connectionpool] DEBUG: https://www.smh.com.au:443 \"GET //world/north-america/a-partisan-pandemic-how-fox-news-shaped-trump-s-coronavirus-response-20200423-p54mre.html HTTP/1.1\" 200 53048\n",
      "2020-04-24 21:19:31 [urllib3.connectionpool] DEBUG: Starting new HTTPS connection (1): www.smh.com.au:443\n"
     ]
    },
    {
     "name": "stdout",
     "output_type": "stream",
     "text": [
      "/coronavirus-pandemic\n",
      "/world/north-america/a-partisan-pandemic-how-fox-news-shaped-trump-s-coronavirus-response-20200423-p54mre.html\n"
     ]
    },
    {
     "name": "stderr",
     "output_type": "stream",
     "text": [
      "2020-04-24 21:19:31 [urllib3.connectionpool] DEBUG: https://www.smh.com.au:443 \"GET //world/north-america/a-partisan-pandemic-how-fox-news-shaped-trump-s-coronavirus-response-20200423-p54mre.html HTTP/1.1\" 200 53048\n",
      "2020-04-24 21:19:31 [urllib3.connectionpool] DEBUG: Starting new HTTPS connection (1): www.smh.com.au:443\n"
     ]
    },
    {
     "name": "stdout",
     "output_type": "stream",
     "text": [
      "/world/north-america/coronavirus-struggles-to-survive-in-sunlight-heat-white-house-20200424-p54mtg.html\n"
     ]
    },
    {
     "name": "stderr",
     "output_type": "stream",
     "text": [
      "2020-04-24 21:19:32 [urllib3.connectionpool] DEBUG: https://www.smh.com.au:443 \"GET //world/north-america/coronavirus-struggles-to-survive-in-sunlight-heat-white-house-20200424-p54mtg.html HTTP/1.1\" 200 46252\n",
      "2020-04-24 21:19:32 [urllib3.connectionpool] DEBUG: Starting new HTTPS connection (1): www.smh.com.au:443\n"
     ]
    },
    {
     "name": "stdout",
     "output_type": "stream",
     "text": [
      "/coronavirus-pandemic\n",
      "/world/north-america/coronavirus-struggles-to-survive-in-sunlight-heat-white-house-20200424-p54mtg.html\n"
     ]
    },
    {
     "name": "stderr",
     "output_type": "stream",
     "text": [
      "2020-04-24 21:19:32 [urllib3.connectionpool] DEBUG: https://www.smh.com.au:443 \"GET //world/north-america/coronavirus-struggles-to-survive-in-sunlight-heat-white-house-20200424-p54mtg.html HTTP/1.1\" 200 46252\n",
      "2020-04-24 21:19:33 [urllib3.connectionpool] DEBUG: Starting new HTTPS connection (1): www.smh.com.au:443\n"
     ]
    },
    {
     "name": "stdout",
     "output_type": "stream",
     "text": [
      "/world/europe\n",
      "/world/europe/i-want-justice-italian-families-want-to-hold-someone-accountable-20200424-p54n2f.html\n"
     ]
    },
    {
     "name": "stderr",
     "output_type": "stream",
     "text": [
      "2020-04-24 21:19:33 [urllib3.connectionpool] DEBUG: https://www.smh.com.au:443 \"GET //world/europe/i-want-justice-italian-families-want-to-hold-someone-accountable-20200424-p54n2f.html HTTP/1.1\" 200 47548\n",
      "2020-04-24 21:19:33 [urllib3.connectionpool] DEBUG: Starting new HTTPS connection (1): www.smh.com.au:443\n"
     ]
    },
    {
     "name": "stdout",
     "output_type": "stream",
     "text": [
      "/topic/coronavirus-pandemic-live-1nf0\n",
      "/world/europe/i-want-justice-italian-families-want-to-hold-someone-accountable-20200424-p54n2f.html\n"
     ]
    },
    {
     "name": "stderr",
     "output_type": "stream",
     "text": [
      "2020-04-24 21:19:33 [urllib3.connectionpool] DEBUG: https://www.smh.com.au:443 \"GET //world/europe/i-want-justice-italian-families-want-to-hold-someone-accountable-20200424-p54n2f.html HTTP/1.1\" 200 47548\n",
      "2020-04-24 21:19:34 [urllib3.connectionpool] DEBUG: Starting new HTTPS connection (1): www.smh.com.au:443\n"
     ]
    },
    {
     "name": "stdout",
     "output_type": "stream",
     "text": [
      "/world/europe/boris-johnson-back-at-the-controls-early-as-monday-20200424-p54mu3.html\n"
     ]
    },
    {
     "name": "stderr",
     "output_type": "stream",
     "text": [
      "2020-04-24 21:19:34 [urllib3.connectionpool] DEBUG: https://www.smh.com.au:443 \"GET //world/europe/boris-johnson-back-at-the-controls-early-as-monday-20200424-p54mu3.html HTTP/1.1\" 200 43869\n",
      "2020-04-24 21:19:34 [urllib3.connectionpool] DEBUG: Starting new HTTPS connection (1): www.smh.com.au:443\n"
     ]
    },
    {
     "name": "stdout",
     "output_type": "stream",
     "text": [
      "/coronavirus-pandemic\n",
      "/world/europe/boris-johnson-back-at-the-controls-early-as-monday-20200424-p54mu3.html\n"
     ]
    },
    {
     "name": "stderr",
     "output_type": "stream",
     "text": [
      "2020-04-24 21:19:35 [urllib3.connectionpool] DEBUG: https://www.smh.com.au:443 \"GET //world/europe/boris-johnson-back-at-the-controls-early-as-monday-20200424-p54mu3.html HTTP/1.1\" 200 43869\n",
      "2020-04-24 21:19:35 [urllib3.connectionpool] DEBUG: Starting new HTTPS connection (1): www.smh.com.au:443\n"
     ]
    },
    {
     "name": "stdout",
     "output_type": "stream",
     "text": [
      "/world/europe/all-in-this-together-eu-agrees-budget-recovery-plan-to-beat-virus-impact-20200424-p54msl.html\n"
     ]
    },
    {
     "name": "stderr",
     "output_type": "stream",
     "text": [
      "2020-04-24 21:19:36 [urllib3.connectionpool] DEBUG: https://www.smh.com.au:443 \"GET //world/europe/all-in-this-together-eu-agrees-budget-recovery-plan-to-beat-virus-impact-20200424-p54msl.html HTTP/1.1\" 200 45473\n",
      "2020-04-24 21:19:36 [urllib3.connectionpool] DEBUG: Starting new HTTPS connection (1): www.smh.com.au:443\n"
     ]
    },
    {
     "name": "stdout",
     "output_type": "stream",
     "text": [
      "/coronavirus-pandemic\n",
      "/world/europe/all-in-this-together-eu-agrees-budget-recovery-plan-to-beat-virus-impact-20200424-p54msl.html\n"
     ]
    },
    {
     "name": "stderr",
     "output_type": "stream",
     "text": [
      "2020-04-24 21:19:36 [urllib3.connectionpool] DEBUG: https://www.smh.com.au:443 \"GET //world/europe/all-in-this-together-eu-agrees-budget-recovery-plan-to-beat-virus-impact-20200424-p54msl.html HTTP/1.1\" 200 45473\n",
      "2020-04-24 21:19:37 [urllib3.connectionpool] DEBUG: Starting new HTTPS connection (1): www.smh.com.au:443\n"
     ]
    },
    {
     "name": "stdout",
     "output_type": "stream",
     "text": [
      "/world/europe/half-of-coronavirus-deaths-in-europe-linked-to-nursing-homes-who-says-20200424-p54mse.html\n"
     ]
    },
    {
     "name": "stderr",
     "output_type": "stream",
     "text": [
      "2020-04-24 21:19:38 [urllib3.connectionpool] DEBUG: https://www.smh.com.au:443 \"GET //world/europe/half-of-coronavirus-deaths-in-europe-linked-to-nursing-homes-who-says-20200424-p54mse.html HTTP/1.1\" 200 50788\n",
      "2020-04-24 21:19:38 [urllib3.connectionpool] DEBUG: Starting new HTTPS connection (1): www.smh.com.au:443\n"
     ]
    },
    {
     "name": "stdout",
     "output_type": "stream",
     "text": [
      "/coronavirus-pandemic\n",
      "/world/europe/half-of-coronavirus-deaths-in-europe-linked-to-nursing-homes-who-says-20200424-p54mse.html\n"
     ]
    },
    {
     "name": "stderr",
     "output_type": "stream",
     "text": [
      "2020-04-24 21:19:38 [urllib3.connectionpool] DEBUG: https://www.smh.com.au:443 \"GET //world/europe/half-of-coronavirus-deaths-in-europe-linked-to-nursing-homes-who-says-20200424-p54mse.html HTTP/1.1\" 200 50788\n",
      "2020-04-24 21:19:38 [urllib3.connectionpool] DEBUG: Starting new HTTPS connection (1): www.smh.com.au:443\n"
     ]
    },
    {
     "name": "stdout",
     "output_type": "stream",
     "text": [
      "/world/europe/all-quiet-on-the-european-front-for-anzac-day-services-20200423-p54mpy.html\n"
     ]
    },
    {
     "name": "stderr",
     "output_type": "stream",
     "text": [
      "2020-04-24 21:19:39 [urllib3.connectionpool] DEBUG: https://www.smh.com.au:443 \"GET //world/europe/all-quiet-on-the-european-front-for-anzac-day-services-20200423-p54mpy.html HTTP/1.1\" 200 40693\n",
      "2020-04-24 21:19:39 [urllib3.connectionpool] DEBUG: Starting new HTTPS connection (1): www.smh.com.au:443\n"
     ]
    },
    {
     "name": "stdout",
     "output_type": "stream",
     "text": [
      "/topic/anzac-day-5ud\n",
      "/world/europe/all-quiet-on-the-european-front-for-anzac-day-services-20200423-p54mpy.html\n"
     ]
    },
    {
     "name": "stderr",
     "output_type": "stream",
     "text": [
      "2020-04-24 21:19:39 [urllib3.connectionpool] DEBUG: https://www.smh.com.au:443 \"GET //world/europe/all-quiet-on-the-european-front-for-anzac-day-services-20200423-p54mpy.html HTTP/1.1\" 200 40693\n",
      "2020-04-24 21:19:40 [urllib3.connectionpool] DEBUG: Starting new HTTPS connection (1): www.smh.com.au:443\n"
     ]
    },
    {
     "name": "stdout",
     "output_type": "stream",
     "text": [
      "/world/europe/no-lines-no-crowds-and-little-shopping-germans-stay-home-as-stores-reopen-20200423-p54mer.html\n"
     ]
    },
    {
     "name": "stderr",
     "output_type": "stream",
     "text": [
      "2020-04-24 21:19:40 [urllib3.connectionpool] DEBUG: https://www.smh.com.au:443 \"GET //world/europe/no-lines-no-crowds-and-little-shopping-germans-stay-home-as-stores-reopen-20200423-p54mer.html HTTP/1.1\" 200 47662\n",
      "2020-04-24 21:19:40 [urllib3.connectionpool] DEBUG: Starting new HTTPS connection (1): www.smh.com.au:443\n"
     ]
    },
    {
     "name": "stdout",
     "output_type": "stream",
     "text": [
      "/coronavirus-pandemic\n",
      "/world/europe/no-lines-no-crowds-and-little-shopping-germans-stay-home-as-stores-reopen-20200423-p54mer.html\n"
     ]
    },
    {
     "name": "stderr",
     "output_type": "stream",
     "text": [
      "2020-04-24 21:19:41 [urllib3.connectionpool] DEBUG: https://www.smh.com.au:443 \"GET //world/europe/no-lines-no-crowds-and-little-shopping-germans-stay-home-as-stores-reopen-20200423-p54mer.html HTTP/1.1\" 200 47662\n",
      "2020-04-24 21:19:41 [urllib3.connectionpool] DEBUG: Starting new HTTPS connection (1): www.smh.com.au:443\n"
     ]
    },
    {
     "name": "stdout",
     "output_type": "stream",
     "text": [
      "/world/asia\n",
      "/world/asia/not-dead-just-at-the-beach-reports-kim-jong-un-seen-at-tourist-resort-20200424-p54mvu.html\n"
     ]
    },
    {
     "name": "stderr",
     "output_type": "stream",
     "text": [
      "2020-04-24 21:19:41 [urllib3.connectionpool] DEBUG: https://www.smh.com.au:443 \"GET //world/asia/not-dead-just-at-the-beach-reports-kim-jong-un-seen-at-tourist-resort-20200424-p54mvu.html HTTP/1.1\" 200 40271\n",
      "2020-04-24 21:19:41 [urllib3.connectionpool] DEBUG: Starting new HTTPS connection (1): www.smh.com.au:443\n"
     ]
    },
    {
     "name": "stdout",
     "output_type": "stream",
     "text": [
      "/topic/democratic-peoples-republic-of-korea-91j\n",
      "/world/asia/not-dead-just-at-the-beach-reports-kim-jong-un-seen-at-tourist-resort-20200424-p54mvu.html\n"
     ]
    },
    {
     "name": "stderr",
     "output_type": "stream",
     "text": [
      "2020-04-24 21:19:42 [urllib3.connectionpool] DEBUG: https://www.smh.com.au:443 \"GET //world/asia/not-dead-just-at-the-beach-reports-kim-jong-un-seen-at-tourist-resort-20200424-p54mvu.html HTTP/1.1\" 200 40271\n",
      "2020-04-24 21:19:42 [urllib3.connectionpool] DEBUG: Starting new HTTPS connection (1): www.smh.com.au:443\n"
     ]
    },
    {
     "name": "stdout",
     "output_type": "stream",
     "text": [
      "/world/asia/pro-china-trolls-fake-accounts-to-hound-foreign-media-over-coronavirus-20200423-p54mff.html\n"
     ]
    },
    {
     "name": "stderr",
     "output_type": "stream",
     "text": [
      "2020-04-24 21:19:42 [urllib3.connectionpool] DEBUG: https://www.smh.com.au:443 \"GET //world/asia/pro-china-trolls-fake-accounts-to-hound-foreign-media-over-coronavirus-20200423-p54mff.html HTTP/1.1\" 200 44025\n",
      "2020-04-24 21:19:43 [urllib3.connectionpool] DEBUG: Starting new HTTPS connection (1): www.smh.com.au:443\n"
     ]
    },
    {
     "name": "stdout",
     "output_type": "stream",
     "text": [
      "/coronavirus-pandemic\n",
      "/world/asia/pro-china-trolls-fake-accounts-to-hound-foreign-media-over-coronavirus-20200423-p54mff.html\n"
     ]
    },
    {
     "name": "stderr",
     "output_type": "stream",
     "text": [
      "2020-04-24 21:19:43 [urllib3.connectionpool] DEBUG: https://www.smh.com.au:443 \"GET //world/asia/pro-china-trolls-fake-accounts-to-hound-foreign-media-over-coronavirus-20200423-p54mff.html HTTP/1.1\" 200 44025\n",
      "2020-04-24 21:19:43 [urllib3.connectionpool] DEBUG: Starting new HTTPS connection (1): www.smh.com.au:443\n"
     ]
    },
    {
     "name": "stdout",
     "output_type": "stream",
     "text": [
      "/world/asia/quarantine-wristbands-how-some-countries-are-boosting-surveillance-20200423-p54mkm.html\n"
     ]
    },
    {
     "name": "stderr",
     "output_type": "stream",
     "text": [
      "2020-04-24 21:19:44 [urllib3.connectionpool] DEBUG: https://www.smh.com.au:443 \"GET //world/asia/quarantine-wristbands-how-some-countries-are-boosting-surveillance-20200423-p54mkm.html HTTP/1.1\" 200 42392\n",
      "2020-04-24 21:19:44 [urllib3.connectionpool] DEBUG: Starting new HTTPS connection (1): www.smh.com.au:443\n"
     ]
    },
    {
     "name": "stdout",
     "output_type": "stream",
     "text": [
      "/coronavirus-pandemic\n",
      "/world/asia/quarantine-wristbands-how-some-countries-are-boosting-surveillance-20200423-p54mkm.html\n"
     ]
    },
    {
     "name": "stderr",
     "output_type": "stream",
     "text": [
      "2020-04-24 21:19:44 [urllib3.connectionpool] DEBUG: https://www.smh.com.au:443 \"GET //world/asia/quarantine-wristbands-how-some-countries-are-boosting-surveillance-20200423-p54mkm.html HTTP/1.1\" 200 42392\n",
      "2020-04-24 21:19:44 [urllib3.connectionpool] DEBUG: Starting new HTTPS connection (1): www.smh.com.au:443\n"
     ]
    },
    {
     "name": "stdout",
     "output_type": "stream",
     "text": [
      "/world/asia/north-korean-silence-on-kim-jong-un-s-health-raises-succession-speculation-20200423-p54mf2.html\n"
     ]
    },
    {
     "name": "stderr",
     "output_type": "stream",
     "text": [
      "2020-04-24 21:19:45 [urllib3.connectionpool] DEBUG: https://www.smh.com.au:443 \"GET //world/asia/north-korean-silence-on-kim-jong-un-s-health-raises-succession-speculation-20200423-p54mf2.html HTTP/1.1\" 200 45565\n",
      "2020-04-24 21:19:45 [urllib3.connectionpool] DEBUG: Starting new HTTPS connection (1): www.smh.com.au:443\n"
     ]
    },
    {
     "name": "stdout",
     "output_type": "stream",
     "text": [
      "/topic/democratic-peoples-republic-of-korea-91j\n",
      "/world/asia/north-korean-silence-on-kim-jong-un-s-health-raises-succession-speculation-20200423-p54mf2.html\n"
     ]
    },
    {
     "name": "stderr",
     "output_type": "stream",
     "text": [
      "2020-04-24 21:19:45 [urllib3.connectionpool] DEBUG: https://www.smh.com.au:443 \"GET //world/asia/north-korean-silence-on-kim-jong-un-s-health-raises-succession-speculation-20200423-p54mf2.html HTTP/1.1\" 200 45565\n",
      "2020-04-24 21:19:46 [urllib3.connectionpool] DEBUG: Starting new HTTPS connection (1): www.smh.com.au:443\n"
     ]
    },
    {
     "name": "stdout",
     "output_type": "stream",
     "text": [
      "/world/asia/china-stamps-its-authority-on-hong-kong-government-spill-20200422-p54ma4.html\n"
     ]
    },
    {
     "name": "stderr",
     "output_type": "stream",
     "text": [
      "2020-04-24 21:19:46 [urllib3.connectionpool] DEBUG: https://www.smh.com.au:443 \"GET //world/asia/china-stamps-its-authority-on-hong-kong-government-spill-20200422-p54ma4.html HTTP/1.1\" 200 38226\n",
      "2020-04-24 21:19:46 [urllib3.connectionpool] DEBUG: Starting new HTTPS connection (1): www.smh.com.au:443\n"
     ]
    },
    {
     "name": "stdout",
     "output_type": "stream",
     "text": [
      "/topic/hong-kong-protests-1n22\n",
      "/world/asia/china-stamps-its-authority-on-hong-kong-government-spill-20200422-p54ma4.html\n"
     ]
    },
    {
     "name": "stderr",
     "output_type": "stream",
     "text": [
      "2020-04-24 21:19:47 [urllib3.connectionpool] DEBUG: https://www.smh.com.au:443 \"GET //world/asia/china-stamps-its-authority-on-hong-kong-government-spill-20200422-p54ma4.html HTTP/1.1\" 200 38226\n",
      "2020-04-24 21:19:47 [urllib3.connectionpool] DEBUG: Starting new HTTPS connection (1): www.smh.com.au:443\n"
     ]
    },
    {
     "name": "stdout",
     "output_type": "stream",
     "text": [
      "/world/africa/jump-in-cases-raises-fears-africa-could-become-new-centre-of-pandemic-20200424-p54mtl.html\n"
     ]
    },
    {
     "name": "stderr",
     "output_type": "stream",
     "text": [
      "2020-04-24 21:19:47 [urllib3.connectionpool] DEBUG: https://www.smh.com.au:443 \"GET //world/africa/jump-in-cases-raises-fears-africa-could-become-new-centre-of-pandemic-20200424-p54mtl.html HTTP/1.1\" 200 41967\n",
      "2020-04-24 21:19:47 [urllib3.connectionpool] DEBUG: Starting new HTTPS connection (1): www.smh.com.au:443\n"
     ]
    },
    {
     "name": "stdout",
     "output_type": "stream",
     "text": [
      "/coronavirus-pandemic\n",
      "/world/africa/jump-in-cases-raises-fears-africa-could-become-new-centre-of-pandemic-20200424-p54mtl.html\n"
     ]
    },
    {
     "name": "stderr",
     "output_type": "stream",
     "text": [
      "2020-04-24 21:19:48 [urllib3.connectionpool] DEBUG: https://www.smh.com.au:443 \"GET //world/africa/jump-in-cases-raises-fears-africa-could-become-new-centre-of-pandemic-20200424-p54mtl.html HTTP/1.1\" 200 41967\n",
      "2020-04-24 21:19:48 [urllib3.connectionpool] DEBUG: Starting new HTTPS connection (1): www.smh.com.au:443\n"
     ]
    },
    {
     "name": "stdout",
     "output_type": "stream",
     "text": [
      "/world/central-america/el-salvador-student-takes-to-treetops-to-pick-up-signal-for-online-classes-20200424-p54ms7.html\n"
     ]
    },
    {
     "name": "stderr",
     "output_type": "stream",
     "text": [
      "2020-04-24 21:19:48 [urllib3.connectionpool] DEBUG: https://www.smh.com.au:443 \"GET //world/central-america/el-salvador-student-takes-to-treetops-to-pick-up-signal-for-online-classes-20200424-p54ms7.html HTTP/1.1\" 200 42343\n",
      "2020-04-24 21:19:48 [urllib3.connectionpool] DEBUG: Starting new HTTPS connection (1): www.smh.com.au:443\n"
     ]
    },
    {
     "name": "stdout",
     "output_type": "stream",
     "text": [
      "/coronavirus-pandemic\n",
      "/world/central-america/el-salvador-student-takes-to-treetops-to-pick-up-signal-for-online-classes-20200424-p54ms7.html\n"
     ]
    },
    {
     "name": "stderr",
     "output_type": "stream",
     "text": [
      "2020-04-24 21:19:49 [urllib3.connectionpool] DEBUG: https://www.smh.com.au:443 \"GET //world/central-america/el-salvador-student-takes-to-treetops-to-pick-up-signal-for-online-classes-20200424-p54ms7.html HTTP/1.1\" 200 42343\n",
      "2020-04-24 21:19:49 [urllib3.connectionpool] DEBUG: Starting new HTTPS connection (1): www.smh.com.au:443\n"
     ]
    },
    {
     "name": "stdout",
     "output_type": "stream",
     "text": [
      "/world/middle-east/oil-collapse-linked-to-coronavirus-topples-nations-political-plans-20200423-p54mj2.html\n"
     ]
    },
    {
     "name": "stderr",
     "output_type": "stream",
     "text": [
      "2020-04-24 21:19:49 [urllib3.connectionpool] DEBUG: https://www.smh.com.au:443 \"GET //world/middle-east/oil-collapse-linked-to-coronavirus-topples-nations-political-plans-20200423-p54mj2.html HTTP/1.1\" 200 51156\n",
      "2020-04-24 21:19:49 [urllib3.connectionpool] DEBUG: Starting new HTTPS connection (1): www.smh.com.au:443\n"
     ]
    },
    {
     "name": "stdout",
     "output_type": "stream",
     "text": [
      "/coronavirus-pandemic\n",
      "/world/middle-east/oil-collapse-linked-to-coronavirus-topples-nations-political-plans-20200423-p54mj2.html\n"
     ]
    },
    {
     "name": "stderr",
     "output_type": "stream",
     "text": [
      "2020-04-24 21:19:50 [urllib3.connectionpool] DEBUG: https://www.smh.com.au:443 \"GET //world/middle-east/oil-collapse-linked-to-coronavirus-topples-nations-political-plans-20200423-p54mj2.html HTTP/1.1\" 200 51156\n",
      "2020-04-24 21:19:50 [urllib3.connectionpool] DEBUG: Starting new HTTPS connection (1): www.smh.com.au:443\n"
     ]
    },
    {
     "name": "stdout",
     "output_type": "stream",
     "text": [
      "/world/middle-east/revolutionary-guard-launches-iran-s-first-military-satellite-20200422-p54ma9.html\n"
     ]
    },
    {
     "name": "stderr",
     "output_type": "stream",
     "text": [
      "2020-04-24 21:19:50 [urllib3.connectionpool] DEBUG: https://www.smh.com.au:443 \"GET //world/middle-east/revolutionary-guard-launches-iran-s-first-military-satellite-20200422-p54ma9.html HTTP/1.1\" 200 40402\n",
      "2020-04-24 21:19:51 [urllib3.connectionpool] DEBUG: Starting new HTTPS connection (1): www.smh.com.au:443\n"
     ]
    },
    {
     "name": "stdout",
     "output_type": "stream",
     "text": [
      "/topic/iran-sanctions-1mp1\n",
      "/world/middle-east/revolutionary-guard-launches-iran-s-first-military-satellite-20200422-p54ma9.html\n"
     ]
    },
    {
     "name": "stderr",
     "output_type": "stream",
     "text": [
      "2020-04-24 21:19:51 [urllib3.connectionpool] DEBUG: https://www.smh.com.au:443 \"GET //world/middle-east/revolutionary-guard-launches-iran-s-first-military-satellite-20200422-p54ma9.html HTTP/1.1\" 200 40402\n",
      "2020-04-24 21:19:51 [urllib3.connectionpool] DEBUG: Starting new HTTPS connection (1): www.smh.com.au:443\n"
     ]
    },
    {
     "name": "stdout",
     "output_type": "stream",
     "text": [
      "/world/south-america/insiders-say-virus-may-provide-answer-to-venezuela-s-political-crisis-20200422-p54m59.html\n"
     ]
    },
    {
     "name": "stderr",
     "output_type": "stream",
     "text": [
      "2020-04-24 21:19:52 [urllib3.connectionpool] DEBUG: https://www.smh.com.au:443 \"GET //world/south-america/insiders-say-virus-may-provide-answer-to-venezuela-s-political-crisis-20200422-p54m59.html HTTP/1.1\" 200 45745\n",
      "2020-04-24 21:19:52 [urllib3.connectionpool] DEBUG: Starting new HTTPS connection (1): www.smh.com.au:443\n"
     ]
    },
    {
     "name": "stdout",
     "output_type": "stream",
     "text": [
      "/topic/venezuela-crisis-1mlr\n",
      "/world/south-america/insiders-say-virus-may-provide-answer-to-venezuela-s-political-crisis-20200422-p54m59.html\n"
     ]
    },
    {
     "name": "stderr",
     "output_type": "stream",
     "text": [
      "2020-04-24 21:19:53 [urllib3.connectionpool] DEBUG: https://www.smh.com.au:443 \"GET //world/south-america/insiders-say-virus-may-provide-answer-to-venezuela-s-political-crisis-20200422-p54m59.html HTTP/1.1\" 200 45745\n",
      "2020-04-24 21:19:53 [urllib3.connectionpool] DEBUG: Starting new HTTPS connection (1): www.smh.com.au:443\n"
     ]
    },
    {
     "name": "stdout",
     "output_type": "stream",
     "text": [
      "/world/middle-east/seatbelts-off-masks-on-lebanon-s-protesters-shake-fists-from-their-cars-20200422-p54m5g.html\n"
     ]
    },
    {
     "name": "stderr",
     "output_type": "stream",
     "text": [
      "2020-04-24 21:19:53 [urllib3.connectionpool] DEBUG: https://www.smh.com.au:443 \"GET //world/middle-east/seatbelts-off-masks-on-lebanon-s-protesters-shake-fists-from-their-cars-20200422-p54m5g.html HTTP/1.1\" 200 41862\n",
      "2020-04-24 21:19:53 [urllib3.connectionpool] DEBUG: Starting new HTTPS connection (1): www.smh.com.au:443\n"
     ]
    },
    {
     "name": "stdout",
     "output_type": "stream",
     "text": [
      "/coronavirus-pandemic\n",
      "/world/middle-east/seatbelts-off-masks-on-lebanon-s-protesters-shake-fists-from-their-cars-20200422-p54m5g.html\n"
     ]
    },
    {
     "name": "stderr",
     "output_type": "stream",
     "text": [
      "2020-04-24 21:19:54 [urllib3.connectionpool] DEBUG: https://www.smh.com.au:443 \"GET //world/middle-east/seatbelts-off-masks-on-lebanon-s-protesters-shake-fists-from-their-cars-20200422-p54m5g.html HTTP/1.1\" 200 41862\n",
      "2020-04-24 21:19:54 [urllib3.connectionpool] DEBUG: Starting new HTTPS connection (1): www.smh.com.au:443\n"
     ]
    },
    {
     "name": "stdout",
     "output_type": "stream",
     "text": [
      "/world/middle-east/benjamin-netanyahu-reaches-power-sharing-deal-with-rival-to-tackle-virus-20200421-p54llz.html\n"
     ]
    },
    {
     "name": "stderr",
     "output_type": "stream",
     "text": [
      "2020-04-24 21:19:54 [urllib3.connectionpool] DEBUG: https://www.smh.com.au:443 \"GET //world/middle-east/benjamin-netanyahu-reaches-power-sharing-deal-with-rival-to-tackle-virus-20200421-p54llz.html HTTP/1.1\" 200 47085\n",
      "2020-04-24 21:19:55 [urllib3.connectionpool] DEBUG: Starting new HTTPS connection (1): www.smh.com.au:443\n"
     ]
    },
    {
     "name": "stdout",
     "output_type": "stream",
     "text": [
      "/topic/world-politics-ho1\n",
      "/world/middle-east/benjamin-netanyahu-reaches-power-sharing-deal-with-rival-to-tackle-virus-20200421-p54llz.html\n"
     ]
    },
    {
     "name": "stderr",
     "output_type": "stream",
     "text": [
      "2020-04-24 21:19:55 [urllib3.connectionpool] DEBUG: https://www.smh.com.au:443 \"GET //world/middle-east/benjamin-netanyahu-reaches-power-sharing-deal-with-rival-to-tackle-virus-20200421-p54llz.html HTTP/1.1\" 200 47085\n",
      "2020-04-24 21:19:55 [urllib3.connectionpool] DEBUG: Starting new HTTPS connection (1): www.smh.com.au:443\n"
     ]
    },
    {
     "name": "stdout",
     "output_type": "stream",
     "text": [
      "/\n",
      "https://twitter.com/smh\n",
      "http://www.facebook.com/sydneymorningherald\n",
      "https://www.instagram.com/sydneymorningherald\n",
      "/rssheadlines\n",
      "javascript:void(0)\n",
      "https://www.smh.com.au\n",
      "https://www.theage.com.au\n",
      "https://www.brisbanetimes.com.au\n",
      "https://www.watoday.com.au\n",
      "https://www.afr.com\n",
      "https://www.domain.com.au\n",
      "http://www.traveller.com.au\n",
      "https://www.goodfood.com.au\n",
      "http://www.executivestyle.com.au\n",
      "https://www.thestore.com.au\n",
      "https://www.drive.com.au\n",
      "https://www.caradvice.com.au\n",
      "https://www.rsvp.com.au\n",
      "http://www.weatherzone.com.au\n",
      "javascript:void(0)\n",
      "http://tributes.smh.com.au/obituaries/smh-au/\n",
      "http://celebrations.smh.com.au/celebration/smh-au/\n",
      "https://advertisers.com.au\n",
      "https://www.commercialrealestate.com.au\n",
      "https://www.oneflare.com.au\n",
      "javascript:void(0)\n",
      "/contact-us\n",
      "https://www.adcentre.com.au/brands/the-sydney-morning-herald\n",
      "https://smh.myfairfax.com.au/members/lite_session/new?callback_uri=https%3A%2F%2Fsmh.myfairfax.com.au%2Fbeta%2Fmembers%2Fmy_account%2Fnewsletters%3Fchannel_key%3DzHE9EWDHf1XPuz3Phk0YIg%26callback_uri%3Dhttps%253a%252f%252fwww.smh.com.au&channel_key=zHE9EWDHf1XPuz3Phk0YIg\n",
      "/siteguide/accessibility\n",
      "/siteguide\n",
      "https://consumer.fairfaxsyndication.com/C.aspx?VP3=CMS3&VF=FXJFX2_2_VForm\n",
      "https://frontpages.fairfaxsyndication.com/C.aspx?VP3=CMS3&VF=FXJFX2_3_VForm\n",
      "https://www.fairfaxsyndication.com/C.aspx?VP3=CMS3&VF=FXJO50_1\n",
      "/our-events\n",
      "https://www.nineforbrands.com.au/about/careers/\n",
      "/conditions-of-use\n",
      "/privacy\n",
      "https://www.presscouncil.org.au/what-we-do\n",
      "javascript:void(0)\n",
      "https://subscribe.smh.com.au/?promote_channel=HI_SMH_GNL_FT\n",
      "https://subscribers.smh.com.au\n",
      "https://www.smh.com.au/myaccount\n",
      "https://subscribers.smh.com.au/support-centre/overview\n",
      "/todays-newspaper\n",
      "/puzzles/crosswords\n",
      "https://www.thesmhinsider.com.au/c/a/5dAvszx5Lm7C4GDU21EWmQ?dPanel=2\n",
      "https://subscribe.smh.com.au/?promote_channel=HI_SMH_GNL_FT\n",
      "                                                link  \\\n",
      "0  /world/asia/not-dead-just-at-the-beach-reports...   \n",
      "1  /world/asia/not-dead-just-at-the-beach-reports...   \n",
      "2  /world/europe/i-want-justice-italian-families-...   \n",
      "3  /world/europe/i-want-justice-italian-families-...   \n",
      "4  /world/north-america/bugged-earth-s-land-insec...   \n",
      "\n",
      "                                              header  \\\n",
      "0  Not dead, just at the beach: reports Kim Jong-...   \n",
      "1  Not dead, just at the beach: reports Kim Jong-...   \n",
      "2  ‘I want justice’: Italian families want to hol...   \n",
      "3  ‘I want justice’: Italian families want to hol...   \n",
      "4      Bugged: Earth's land insects are disappearing   \n",
      "\n",
      "                                             article         author  \\\n",
      "0  Beijing: North Korean leader Kim Jong-un has b...   Sanghee Liu    \n",
      "1  Beijing: North Korean leader Kim Jong-un has b...   Sanghee Liu    \n",
      "2  Milan: As the infection curve in Italy flatten...   Emma Bubola    \n",
      "3  Milan: As the infection curve in Italy flatten...   Emma Bubola    \n",
      "4  Washington: The world's ants, bees, butterflie...   Will Dunham    \n",
      "\n",
      "             date  \n",
      "0  April 24, 2020  \n",
      "1  April 24, 2020  \n",
      "2  April 24, 2020  \n",
      "3  April 24, 2020  \n",
      "4  April 24, 2020  \n",
      "processing : national\n"
     ]
    },
    {
     "name": "stderr",
     "output_type": "stream",
     "text": [
      "2020-04-24 21:19:56 [urllib3.connectionpool] DEBUG: https://www.smh.com.au:443 \"GET /national HTTP/1.1\" 200 66593\n",
      "2020-04-24 21:19:56 [urllib3.connectionpool] DEBUG: Starting new HTTPS connection (1): www.smh.com.au:443\n"
     ]
    },
    {
     "name": "stdout",
     "output_type": "stream",
     "text": [
      "#sections\n",
      "#content\n",
      "#footer\n",
      "javascript:void(0);\n",
      "https://subscribe.smh.com.au/?promote_channel=HI_SMH_GNL_HL\n",
      "/\n",
      "https://subscribe.smh.com.au/?promote_channel=HI_SMH_GNL_HL\n",
      "/\n",
      "#sections\n",
      "#network\n",
      "/\n",
      "/sydney-news\n",
      "/national/nsw\n",
      "/politics\n",
      "/politics/federal\n",
      "/politics/nsw\n",
      "/politics/victoria\n",
      "/politics/queensland\n",
      "/politics/western-australia\n",
      "/business\n",
      "/business/companies\n",
      "/business/markets\n",
      "/business/the-economy\n",
      "/business/banking-and-finance\n",
      "/business/small-business\n",
      "/business/consumer-affairs\n",
      "/business/workplace\n",
      "/world\n",
      "/world/north-america\n",
      "/world/europe\n",
      "/world/asia\n",
      "/world/middle-east\n",
      "/world/oceania\n",
      "/world/central-america\n",
      "/world/south-america\n",
      "/world/africa\n",
      "/national\n",
      "/national/victoria\n",
      "/national/queensland\n",
      "/national/western-australia\n",
      "/opinion\n",
      "http://www.domain.com.au\n",
      "/sport\n",
      "/sport/nrl\n",
      "/sport/rugby-union\n",
      "/sport/cricket\n",
      "/sport/soccer\n",
      "/sport/afl\n",
      "/sport/racing\n",
      "/sport/tennis\n",
      "/sport/netball\n",
      "/sport/basketball\n",
      "/sport/motorsport\n",
      "/sport/cycling\n",
      "/sport/golf\n",
      "/sport/nfl\n",
      "/sport/athletics\n",
      "/sport/swimming\n",
      "/sport/boxing\n",
      "/culture\n",
      "/culture/movies\n",
      "/culture/tv-and-radio\n",
      "/culture/music\n",
      "/culture/celebrity\n",
      "/culture/books\n",
      "/culture/comedy\n",
      "/culture/dance\n",
      "/culture/musicals\n",
      "/culture/opera\n",
      "/culture/theatre\n",
      "/culture/art-and-design\n",
      "https://tvguide.smh.com.au\n",
      "/lifestyle\n",
      "/lifestyle/life-and-relationships\n",
      "/lifestyle/health-and-wellness\n",
      "/lifestyle/gender\n",
      "/lifestyle/fashion\n",
      "/lifestyle/beauty\n",
      "/topic/horoscopes-5yc\n",
      "/topic/good-weekend-1qq\n",
      "/money\n",
      "/money/super-and-retirement\n",
      "/money/investing\n",
      "/money/banking\n",
      "/money/borrowing\n",
      "/money/saving\n",
      "/money/tax\n",
      "/money/planning-and-budgeting\n",
      "/money/insurance\n",
      "/education\n",
      "/healthcare\n",
      "/environment\n",
      "/environment/conservation\n",
      "/environment/climate-change\n",
      "/environment/sustainability\n",
      "/environment/weather\n",
      "/technology\n",
      "/technology/video-games\n",
      "/topic/home-technology-hqq\n",
      "/topic/phones-5zt\n",
      "/topic/gadgets-hqp\n",
      "http://www.drive.com.au\n",
      "http://www.traveller.com.au\n",
      "http://www.goodfood.com.au\n",
      "http://www.executivestyle.com.au\n",
      "https://subscribe.smh.com.au/2?promote_channel=HI_IPL_GNL&utm_source=PremiumIndex&utm_medium=HouseInventory&utm_campaign=General\n",
      "/todays-newspaper\n",
      "/puzzles/crosswords\n",
      "/topic/smh-letters-1r7\n",
      "/topic/smh-editorial-1r6\n",
      "/topic/column-8-1r4\n",
      "/topic/obituaries-1qv\n",
      "/topic/explainers-1lz9\n",
      "/topic/quizzes-1qx\n",
      "http://weather.smh.com.au/local-forecast/nsw/sydney\n",
      "https://www.theage.com.au\n",
      "https://www.brisbanetimes.com.au\n",
      "https://www.watoday.com.au\n",
      "https://www.afr.com\n",
      "https://www.domain.com.au\n",
      "https://www.commercialrealestate.com.au\n",
      "https://www.drive.com.au\n",
      "https://www.goodfood.com.au\n",
      "http://www.traveller.com.au\n",
      "http://www.executivestyle.com.au\n",
      "https://www.findababysitter.com.au\n",
      "https://www.thestore.com.au\n",
      "http://www.weatherzone.com.au\n",
      "https://www.rsvp.com.au\n",
      "/national/victoria\n",
      "/national/queensland\n",
      "/national/western-australia\n",
      "/national/coronavirus-updates-live-scott-morrison-says-social-distancing-won-t-apply-to-schools-global-covid-19-cases-surpass-2-7-million-australian-death-toll-stands-at-78-20200424-p54n21.html\n"
     ]
    },
    {
     "name": "stderr",
     "output_type": "stream",
     "text": [
      "2020-04-24 21:19:56 [urllib3.connectionpool] DEBUG: https://www.smh.com.au:443 \"GET //national/coronavirus-updates-live-scott-morrison-says-social-distancing-won-t-apply-to-schools-global-covid-19-cases-surpass-2-7-million-australian-death-toll-stands-at-78-20200424-p54n21.html HTTP/1.1\" 200 51479\n",
      "2020-04-24 21:19:59 [chardet.charsetprober] DEBUG: utf-8  confidence = 0.99\n",
      "2020-04-24 21:19:59 [chardet.charsetprober] DEBUG: SHIFT_JIS Japanese confidence = 0.01\n",
      "2020-04-24 21:19:59 [chardet.charsetprober] DEBUG: EUC-JP Japanese confidence = 0.01\n",
      "2020-04-24 21:19:59 [chardet.charsetprober] DEBUG: GB2312 Chinese confidence = 0.01\n",
      "2020-04-24 21:19:59 [chardet.charsetprober] DEBUG: EUC-KR Korean confidence = 0.01\n",
      "2020-04-24 21:19:59 [chardet.charsetprober] DEBUG: CP949 Korean confidence = 0.01\n",
      "2020-04-24 21:19:59 [chardet.charsetprober] DEBUG: Big5 Chinese confidence = 0.01\n",
      "2020-04-24 21:19:59 [chardet.charsetprober] DEBUG: EUC-TW Taiwan confidence = 0.01\n",
      "2020-04-24 21:19:59 [chardet.charsetprober] DEBUG: windows-1251 Russian confidence = 0.01\n",
      "2020-04-24 21:19:59 [chardet.charsetprober] DEBUG: KOI8-R Russian confidence = 0.01\n",
      "2020-04-24 21:19:59 [chardet.charsetprober] DEBUG: ISO-8859-5 Russian confidence = 0.01\n",
      "2020-04-24 21:19:59 [chardet.charsetprober] DEBUG: MacCyrillic Russian confidence = 0.0\n",
      "2020-04-24 21:19:59 [chardet.charsetprober] DEBUG: IBM866 Russian confidence = 0.0\n",
      "2020-04-24 21:19:59 [chardet.charsetprober] DEBUG: IBM855 Russian confidence = 0.01\n",
      "2020-04-24 21:19:59 [chardet.charsetprober] DEBUG: ISO-8859-7 Greek confidence = 0.0\n",
      "2020-04-24 21:19:59 [chardet.charsetprober] DEBUG: windows-1253 Greek confidence = 0.0\n",
      "2020-04-24 21:19:59 [chardet.charsetprober] DEBUG: ISO-8859-5 Bulgairan confidence = 0.01\n",
      "2020-04-24 21:19:59 [chardet.charsetprober] DEBUG: windows-1251 Bulgarian confidence = 0.01\n",
      "2020-04-24 21:19:59 [chardet.charsetprober] DEBUG: TIS-620 Thai confidence = 0.0\n",
      "2020-04-24 21:19:59 [chardet.charsetprober] DEBUG: ISO-8859-9 Turkish confidence = 0.5247122539286744\n",
      "2020-04-24 21:19:59 [chardet.charsetprober] DEBUG: windows-1255 Hebrew confidence = 0.0\n",
      "2020-04-24 21:19:59 [chardet.charsetprober] DEBUG: windows-1255 Hebrew confidence = 0.0\n",
      "2020-04-24 21:19:59 [chardet.charsetprober] DEBUG: windows-1255 Hebrew confidence = 0.0\n",
      "2020-04-24 21:19:59 [chardet.charsetprober] DEBUG: utf-8  confidence = 0.99\n",
      "2020-04-24 21:19:59 [chardet.charsetprober] DEBUG: SHIFT_JIS Japanese confidence = 0.01\n",
      "2020-04-24 21:19:59 [chardet.charsetprober] DEBUG: EUC-JP Japanese confidence = 0.01\n",
      "2020-04-24 21:19:59 [chardet.charsetprober] DEBUG: GB2312 Chinese confidence = 0.01\n",
      "2020-04-24 21:19:59 [chardet.charsetprober] DEBUG: EUC-KR Korean confidence = 0.01\n",
      "2020-04-24 21:19:59 [chardet.charsetprober] DEBUG: CP949 Korean confidence = 0.01\n",
      "2020-04-24 21:19:59 [chardet.charsetprober] DEBUG: Big5 Chinese confidence = 0.01\n",
      "2020-04-24 21:19:59 [chardet.charsetprober] DEBUG: EUC-TW Taiwan confidence = 0.01\n",
      "2020-04-24 21:20:00 [urllib3.connectionpool] DEBUG: Starting new HTTPS connection (1): www.smh.com.au:443\n"
     ]
    },
    {
     "name": "stdout",
     "output_type": "stream",
     "text": [
      "/coronavirus-pandemic\n",
      "/national/coronavirus-updates-live-scott-morrison-says-social-distancing-won-t-apply-to-schools-global-covid-19-cases-surpass-2-7-million-australian-death-toll-stands-at-78-20200424-p54n21.html\n"
     ]
    },
    {
     "name": "stderr",
     "output_type": "stream",
     "text": [
      "2020-04-24 21:20:00 [urllib3.connectionpool] DEBUG: https://www.smh.com.au:443 \"GET //national/coronavirus-updates-live-scott-morrison-says-social-distancing-won-t-apply-to-schools-global-covid-19-cases-surpass-2-7-million-australian-death-toll-stands-at-78-20200424-p54n21.html HTTP/1.1\" 200 51479\n",
      "2020-04-24 21:20:03 [chardet.charsetprober] DEBUG: utf-8  confidence = 0.99\n",
      "2020-04-24 21:20:03 [chardet.charsetprober] DEBUG: SHIFT_JIS Japanese confidence = 0.01\n",
      "2020-04-24 21:20:03 [chardet.charsetprober] DEBUG: EUC-JP Japanese confidence = 0.01\n",
      "2020-04-24 21:20:03 [chardet.charsetprober] DEBUG: GB2312 Chinese confidence = 0.01\n",
      "2020-04-24 21:20:03 [chardet.charsetprober] DEBUG: EUC-KR Korean confidence = 0.01\n",
      "2020-04-24 21:20:03 [chardet.charsetprober] DEBUG: CP949 Korean confidence = 0.01\n",
      "2020-04-24 21:20:03 [chardet.charsetprober] DEBUG: Big5 Chinese confidence = 0.01\n",
      "2020-04-24 21:20:03 [chardet.charsetprober] DEBUG: EUC-TW Taiwan confidence = 0.01\n",
      "2020-04-24 21:20:03 [chardet.charsetprober] DEBUG: windows-1251 Russian confidence = 0.01\n",
      "2020-04-24 21:20:03 [chardet.charsetprober] DEBUG: KOI8-R Russian confidence = 0.01\n",
      "2020-04-24 21:20:03 [chardet.charsetprober] DEBUG: ISO-8859-5 Russian confidence = 0.01\n",
      "2020-04-24 21:20:03 [chardet.charsetprober] DEBUG: MacCyrillic Russian confidence = 0.0\n",
      "2020-04-24 21:20:03 [chardet.charsetprober] DEBUG: IBM866 Russian confidence = 0.0\n",
      "2020-04-24 21:20:03 [chardet.charsetprober] DEBUG: IBM855 Russian confidence = 0.01\n",
      "2020-04-24 21:20:03 [chardet.charsetprober] DEBUG: ISO-8859-7 Greek confidence = 0.0\n",
      "2020-04-24 21:20:03 [chardet.charsetprober] DEBUG: windows-1253 Greek confidence = 0.0\n",
      "2020-04-24 21:20:03 [chardet.charsetprober] DEBUG: ISO-8859-5 Bulgairan confidence = 0.01\n",
      "2020-04-24 21:20:03 [chardet.charsetprober] DEBUG: windows-1251 Bulgarian confidence = 0.01\n",
      "2020-04-24 21:20:03 [chardet.charsetprober] DEBUG: TIS-620 Thai confidence = 0.0\n",
      "2020-04-24 21:20:03 [chardet.charsetprober] DEBUG: ISO-8859-9 Turkish confidence = 0.5247122539286744\n",
      "2020-04-24 21:20:03 [chardet.charsetprober] DEBUG: windows-1255 Hebrew confidence = 0.0\n",
      "2020-04-24 21:20:03 [chardet.charsetprober] DEBUG: windows-1255 Hebrew confidence = 0.0\n",
      "2020-04-24 21:20:03 [chardet.charsetprober] DEBUG: windows-1255 Hebrew confidence = 0.0\n",
      "2020-04-24 21:20:03 [chardet.charsetprober] DEBUG: utf-8  confidence = 0.99\n",
      "2020-04-24 21:20:03 [chardet.charsetprober] DEBUG: SHIFT_JIS Japanese confidence = 0.01\n",
      "2020-04-24 21:20:03 [chardet.charsetprober] DEBUG: EUC-JP Japanese confidence = 0.01\n",
      "2020-04-24 21:20:03 [chardet.charsetprober] DEBUG: GB2312 Chinese confidence = 0.01\n",
      "2020-04-24 21:20:03 [chardet.charsetprober] DEBUG: EUC-KR Korean confidence = 0.01\n",
      "2020-04-24 21:20:03 [chardet.charsetprober] DEBUG: CP949 Korean confidence = 0.01\n",
      "2020-04-24 21:20:03 [chardet.charsetprober] DEBUG: Big5 Chinese confidence = 0.01\n",
      "2020-04-24 21:20:03 [chardet.charsetprober] DEBUG: EUC-TW Taiwan confidence = 0.01\n",
      "2020-04-24 21:20:03 [urllib3.connectionpool] DEBUG: Starting new HTTPS connection (1): www.smh.com.au:443\n"
     ]
    },
    {
     "name": "stdout",
     "output_type": "stream",
     "text": [
      "/national/photos-of-the-week-april-23-2020-20200416-h1nf5c.html\n"
     ]
    },
    {
     "name": "stderr",
     "output_type": "stream",
     "text": [
      "2020-04-24 21:20:03 [urllib3.connectionpool] DEBUG: https://www.smh.com.au:443 \"GET //national/photos-of-the-week-april-23-2020-20200416-h1nf5c.html HTTP/1.1\" 200 41517\n",
      "2020-04-24 21:20:04 [urllib3.connectionpool] DEBUG: Starting new HTTPS connection (1): www.smh.com.au:443\n"
     ]
    },
    {
     "name": "stdout",
     "output_type": "stream",
     "text": [
      "/national\n",
      "/national/photos-of-the-week-april-23-2020-20200416-h1nf5c.html\n"
     ]
    },
    {
     "name": "stderr",
     "output_type": "stream",
     "text": [
      "2020-04-24 21:20:04 [urllib3.connectionpool] DEBUG: https://www.smh.com.au:443 \"GET //national/photos-of-the-week-april-23-2020-20200416-h1nf5c.html HTTP/1.1\" 200 41517\n",
      "2020-04-24 21:20:04 [urllib3.connectionpool] DEBUG: Starting new HTTPS connection (1): www.smh.com.au:443\n"
     ]
    },
    {
     "name": "stdout",
     "output_type": "stream",
     "text": [
      "/national/victoria/who-says-crime-doesn-t-pay-welcome-to-the-naked-city-podcast-20200422-p54m7l.html\n"
     ]
    },
    {
     "name": "stderr",
     "output_type": "stream",
     "text": [
      "2020-04-24 21:20:05 [urllib3.connectionpool] DEBUG: https://www.smh.com.au:443 \"GET //national/victoria/who-says-crime-doesn-t-pay-welcome-to-the-naked-city-podcast-20200422-p54m7l.html HTTP/1.1\" 200 54188\n",
      "2020-04-24 21:20:05 [urllib3.connectionpool] DEBUG: Starting new HTTPS connection (1): www.smh.com.au:443\n"
     ]
    },
    {
     "name": "stdout",
     "output_type": "stream",
     "text": [
      "/topic/naked-city-jbi\n",
      "/national/victoria/who-says-crime-doesn-t-pay-welcome-to-the-naked-city-podcast-20200422-p54m7l.html\n"
     ]
    },
    {
     "name": "stderr",
     "output_type": "stream",
     "text": [
      "2020-04-24 21:20:06 [urllib3.connectionpool] DEBUG: https://www.smh.com.au:443 \"GET //national/victoria/who-says-crime-doesn-t-pay-welcome-to-the-naked-city-podcast-20200422-p54m7l.html HTTP/1.1\" 200 54188\n",
      "2020-04-24 21:20:06 [urllib3.connectionpool] DEBUG: Starting new HTTPS connection (1): www.smh.com.au:443\n"
     ]
    },
    {
     "name": "stdout",
     "output_type": "stream",
     "text": [
      "/national/old-battlefield-falls-silent-as-a-new-struggle-is-fought-in-solitude-20200424-p54mui.html\n"
     ]
    },
    {
     "name": "stderr",
     "output_type": "stream",
     "text": [
      "2020-04-24 21:20:06 [urllib3.connectionpool] DEBUG: https://www.smh.com.au:443 \"GET //national/old-battlefield-falls-silent-as-a-new-struggle-is-fought-in-solitude-20200424-p54mui.html HTTP/1.1\" 200 53028\n",
      "2020-04-24 21:20:07 [urllib3.connectionpool] DEBUG: Starting new HTTPS connection (1): www.smh.com.au:443\n"
     ]
    },
    {
     "name": "stdout",
     "output_type": "stream",
     "text": [
      "/coronavirus-pandemic\n",
      "/national/old-battlefield-falls-silent-as-a-new-struggle-is-fought-in-solitude-20200424-p54mui.html\n"
     ]
    },
    {
     "name": "stderr",
     "output_type": "stream",
     "text": [
      "2020-04-24 21:20:07 [urllib3.connectionpool] DEBUG: https://www.smh.com.au:443 \"GET //national/old-battlefield-falls-silent-as-a-new-struggle-is-fought-in-solitude-20200424-p54mui.html HTTP/1.1\" 200 53028\n",
      "2020-04-24 21:20:07 [urllib3.connectionpool] DEBUG: Starting new HTTPS connection (1): www.smh.com.au:443\n"
     ]
    },
    {
     "name": "stdout",
     "output_type": "stream",
     "text": [
      "/national/how-bluey-met-jo-on-the-very-first-anzac-day-20200422-p54m2o.html\n"
     ]
    },
    {
     "name": "stderr",
     "output_type": "stream",
     "text": [
      "2020-04-24 21:20:07 [urllib3.connectionpool] DEBUG: https://www.smh.com.au:443 \"GET //national/how-bluey-met-jo-on-the-very-first-anzac-day-20200422-p54m2o.html HTTP/1.1\" 200 46522\n",
      "2020-04-24 21:20:08 [urllib3.connectionpool] DEBUG: Starting new HTTPS connection (1): www.smh.com.au:443\n"
     ]
    },
    {
     "name": "stdout",
     "output_type": "stream",
     "text": [
      "/topic/anzac-day-5ud\n",
      "/national/how-bluey-met-jo-on-the-very-first-anzac-day-20200422-p54m2o.html\n"
     ]
    },
    {
     "name": "stderr",
     "output_type": "stream",
     "text": [
      "2020-04-24 21:20:08 [urllib3.connectionpool] DEBUG: https://www.smh.com.au:443 \"GET //national/how-bluey-met-jo-on-the-very-first-anzac-day-20200422-p54m2o.html HTTP/1.1\" 200 46522\n",
      "2020-04-24 21:20:08 [urllib3.connectionpool] DEBUG: Starting new HTTPS connection (1): www.smh.com.au:443\n"
     ]
    },
    {
     "name": "stdout",
     "output_type": "stream",
     "text": [
      "/healthcare\n",
      "/national/the-small-steps-australia-will-take-towards-the-goal-of-easing-the-lockdown-20200423-p54mov.html\n"
     ]
    },
    {
     "name": "stderr",
     "output_type": "stream",
     "text": [
      "2020-04-24 21:20:09 [urllib3.connectionpool] DEBUG: https://www.smh.com.au:443 \"GET //national/the-small-steps-australia-will-take-towards-the-goal-of-easing-the-lockdown-20200423-p54mov.html HTTP/1.1\" 200 57313\n",
      "2020-04-24 21:20:09 [urllib3.connectionpool] DEBUG: Starting new HTTPS connection (1): www.smh.com.au:443\n"
     ]
    },
    {
     "name": "stdout",
     "output_type": "stream",
     "text": [
      "/coronavirus-pandemic\n",
      "/national/the-small-steps-australia-will-take-towards-the-goal-of-easing-the-lockdown-20200423-p54mov.html\n"
     ]
    },
    {
     "name": "stderr",
     "output_type": "stream",
     "text": [
      "2020-04-24 21:20:09 [urllib3.connectionpool] DEBUG: https://www.smh.com.au:443 \"GET //national/the-small-steps-australia-will-take-towards-the-goal-of-easing-the-lockdown-20200423-p54mov.html HTTP/1.1\" 200 57313\n",
      "2020-04-24 21:20:09 [urllib3.connectionpool] DEBUG: Starting new HTTPS connection (1): www.smh.com.au:443\n"
     ]
    },
    {
     "name": "stdout",
     "output_type": "stream",
     "text": [
      "/healthcare\n",
      "/healthcare/testing-times-20200424-h1nlx2.html\n"
     ]
    },
    {
     "name": "stderr",
     "output_type": "stream",
     "text": [
      "2020-04-24 21:20:10 [urllib3.connectionpool] DEBUG: https://www.smh.com.au:443 \"GET //healthcare/testing-times-20200424-h1nlx2.html HTTP/1.1\" 200 35830\n",
      "2020-04-24 21:20:10 [urllib3.connectionpool] DEBUG: Starting new HTTPS connection (1): www.smh.com.au:443\n"
     ]
    },
    {
     "name": "stdout",
     "output_type": "stream",
     "text": [
      "/national/covid-19-testing-for-healthy-frontline-workers-on-the-national-agenda-20200424-p54mwh.html\n"
     ]
    },
    {
     "name": "stderr",
     "output_type": "stream",
     "text": [
      "2020-04-24 21:20:10 [urllib3.connectionpool] DEBUG: https://www.smh.com.au:443 \"GET //national/covid-19-testing-for-healthy-frontline-workers-on-the-national-agenda-20200424-p54mwh.html HTTP/1.1\" 200 44092\n",
      "2020-04-24 21:20:11 [urllib3.connectionpool] DEBUG: Starting new HTTPS connection (1): www.smh.com.au:443\n"
     ]
    },
    {
     "name": "stdout",
     "output_type": "stream",
     "text": [
      "/coronavirus-pandemic\n",
      "/national/covid-19-testing-for-healthy-frontline-workers-on-the-national-agenda-20200424-p54mwh.html\n"
     ]
    },
    {
     "name": "stderr",
     "output_type": "stream",
     "text": [
      "2020-04-24 21:20:11 [urllib3.connectionpool] DEBUG: https://www.smh.com.au:443 \"GET //national/covid-19-testing-for-healthy-frontline-workers-on-the-national-agenda-20200424-p54mwh.html HTTP/1.1\" 200 44092\n",
      "2020-04-24 21:20:11 [urllib3.connectionpool] DEBUG: Starting new HTTPS connection (1): www.smh.com.au:443\n"
     ]
    },
    {
     "name": "stdout",
     "output_type": "stream",
     "text": [
      "/national/lunch-with-raina-macintyre-cautious-coronavirus-communicator-20200420-p54li5.html\n"
     ]
    },
    {
     "name": "stderr",
     "output_type": "stream",
     "text": [
      "2020-04-24 21:20:12 [urllib3.connectionpool] DEBUG: https://www.smh.com.au:443 \"GET //national/lunch-with-raina-macintyre-cautious-coronavirus-communicator-20200420-p54li5.html HTTP/1.1\" 200 54185\n",
      "2020-04-24 21:20:12 [urllib3.connectionpool] DEBUG: Starting new HTTPS connection (1): www.smh.com.au:443\n"
     ]
    },
    {
     "name": "stdout",
     "output_type": "stream",
     "text": [
      "/coronavirus-pandemic\n",
      "/national/lunch-with-raina-macintyre-cautious-coronavirus-communicator-20200420-p54li5.html\n"
     ]
    },
    {
     "name": "stderr",
     "output_type": "stream",
     "text": [
      "2020-04-24 21:20:12 [urllib3.connectionpool] DEBUG: https://www.smh.com.au:443 \"GET //national/lunch-with-raina-macintyre-cautious-coronavirus-communicator-20200420-p54li5.html HTTP/1.1\" 200 54185\n",
      "2020-04-24 21:20:13 [urllib3.connectionpool] DEBUG: Starting new HTTPS connection (1): www.smh.com.au:443\n"
     ]
    },
    {
     "name": "stdout",
     "output_type": "stream",
     "text": [
      "/national/prison-nursing-home-outbreaks-and-re-importations-the-greatest-risk-to-eradicating-coronavirus-experts-20200424-p54mst.html\n"
     ]
    },
    {
     "name": "stderr",
     "output_type": "stream",
     "text": [
      "2020-04-24 21:20:13 [urllib3.connectionpool] DEBUG: https://www.smh.com.au:443 \"GET //national/prison-nursing-home-outbreaks-and-re-importations-the-greatest-risk-to-eradicating-coronavirus-experts-20200424-p54mst.html HTTP/1.1\" 200 46024\n",
      "2020-04-24 21:20:14 [urllib3.connectionpool] DEBUG: Starting new HTTPS connection (1): www.smh.com.au:443\n"
     ]
    },
    {
     "name": "stdout",
     "output_type": "stream",
     "text": [
      "/coronavirus-pandemic\n",
      "/national/prison-nursing-home-outbreaks-and-re-importations-the-greatest-risk-to-eradicating-coronavirus-experts-20200424-p54mst.html\n"
     ]
    },
    {
     "name": "stderr",
     "output_type": "stream",
     "text": [
      "2020-04-24 21:20:14 [urllib3.connectionpool] DEBUG: https://www.smh.com.au:443 \"GET //national/prison-nursing-home-outbreaks-and-re-importations-the-greatest-risk-to-eradicating-coronavirus-experts-20200424-p54mst.html HTTP/1.1\" 200 46024\n",
      "2020-04-24 21:20:14 [urllib3.connectionpool] DEBUG: Starting new HTTPS connection (1): www.smh.com.au:443\n"
     ]
    },
    {
     "name": "stdout",
     "output_type": "stream",
     "text": [
      "/environment\n",
      "/national/the-coronavirus-has-altered-what-australians-worry-about-most-20200415-p54k5q.html\n"
     ]
    },
    {
     "name": "stderr",
     "output_type": "stream",
     "text": [
      "2020-04-24 21:20:15 [urllib3.connectionpool] DEBUG: https://www.smh.com.au:443 \"GET //national/the-coronavirus-has-altered-what-australians-worry-about-most-20200415-p54k5q.html HTTP/1.1\" 200 45207\n",
      "2020-04-24 21:20:15 [urllib3.connectionpool] DEBUG: Starting new HTTPS connection (1): www.smh.com.au:443\n"
     ]
    },
    {
     "name": "stdout",
     "output_type": "stream",
     "text": [
      "/coronavirus-pandemic\n",
      "/national/the-coronavirus-has-altered-what-australians-worry-about-most-20200415-p54k5q.html\n"
     ]
    },
    {
     "name": "stderr",
     "output_type": "stream",
     "text": [
      "2020-04-24 21:20:15 [urllib3.connectionpool] DEBUG: https://www.smh.com.au:443 \"GET //national/the-coronavirus-has-altered-what-australians-worry-about-most-20200415-p54k5q.html HTTP/1.1\" 200 45207\n",
      "2020-04-24 21:20:16 [urllib3.connectionpool] DEBUG: Starting new HTTPS connection (1): www.smh.com.au:443\n"
     ]
    },
    {
     "name": "stdout",
     "output_type": "stream",
     "text": [
      "/national/victoria/gas-fields-seven-times-more-polluting-than-estimate-think-tank-says-20200414-p54ju5.html\n"
     ]
    },
    {
     "name": "stderr",
     "output_type": "stream",
     "text": [
      "2020-04-24 21:20:17 [urllib3.connectionpool] DEBUG: https://www.smh.com.au:443 \"GET //national/victoria/gas-fields-seven-times-more-polluting-than-estimate-think-tank-says-20200414-p54ju5.html HTTP/1.1\" 200 40837\n",
      "2020-04-24 21:20:17 [urllib3.connectionpool] DEBUG: Starting new HTTPS connection (1): www.smh.com.au:443\n"
     ]
    },
    {
     "name": "stdout",
     "output_type": "stream",
     "text": [
      "/topic/gas-hum\n",
      "/national/victoria/gas-fields-seven-times-more-polluting-than-estimate-think-tank-says-20200414-p54ju5.html\n"
     ]
    },
    {
     "name": "stderr",
     "output_type": "stream",
     "text": [
      "2020-04-24 21:20:17 [urllib3.connectionpool] DEBUG: https://www.smh.com.au:443 \"GET //national/victoria/gas-fields-seven-times-more-polluting-than-estimate-think-tank-says-20200414-p54ju5.html HTTP/1.1\" 200 40837\n",
      "2020-04-24 21:20:17 [urllib3.connectionpool] DEBUG: Starting new HTTPS connection (1): www.smh.com.au:443\n"
     ]
    },
    {
     "name": "stdout",
     "output_type": "stream",
     "text": [
      "/national/how-rain-is-transforming-landscapes-and-the-emotions-of-rural-people-20200227-p5450i.html\n"
     ]
    },
    {
     "name": "stderr",
     "output_type": "stream",
     "text": [
      "2020-04-24 21:20:18 [urllib3.connectionpool] DEBUG: https://www.smh.com.au:443 \"GET //national/how-rain-is-transforming-landscapes-and-the-emotions-of-rural-people-20200227-p5450i.html HTTP/1.1\" 200 42397\n",
      "2020-04-24 21:20:18 [urllib3.connectionpool] DEBUG: Starting new HTTPS connection (1): www.smh.com.au:443\n"
     ]
    },
    {
     "name": "stdout",
     "output_type": "stream",
     "text": [
      "/topic/good-weekend-1qq\n",
      "/national/how-rain-is-transforming-landscapes-and-the-emotions-of-rural-people-20200227-p5450i.html\n"
     ]
    },
    {
     "name": "stderr",
     "output_type": "stream",
     "text": [
      "2020-04-24 21:20:19 [urllib3.connectionpool] DEBUG: https://www.smh.com.au:443 \"GET //national/how-rain-is-transforming-landscapes-and-the-emotions-of-rural-people-20200227-p5450i.html HTTP/1.1\" 200 42397\n",
      "2020-04-24 21:20:19 [urllib3.connectionpool] DEBUG: Starting new HTTPS connection (1): www.smh.com.au:443\n"
     ]
    },
    {
     "name": "stdout",
     "output_type": "stream",
     "text": [
      "/national/nsw/thunderstorms-mark-end-of-bushfire-season-20200330-p54f4r.html\n"
     ]
    },
    {
     "name": "stderr",
     "output_type": "stream",
     "text": [
      "2020-04-24 21:20:19 [urllib3.connectionpool] DEBUG: https://www.smh.com.au:443 \"GET //national/nsw/thunderstorms-mark-end-of-bushfire-season-20200330-p54f4r.html HTTP/1.1\" 200 41285\n",
      "2020-04-24 21:20:20 [urllib3.connectionpool] DEBUG: Starting new HTTPS connection (1): www.smh.com.au:443\n"
     ]
    },
    {
     "name": "stdout",
     "output_type": "stream",
     "text": [
      "/topic/sydney-weather-62v\n",
      "/national/nsw/thunderstorms-mark-end-of-bushfire-season-20200330-p54f4r.html\n"
     ]
    },
    {
     "name": "stderr",
     "output_type": "stream",
     "text": [
      "2020-04-24 21:20:20 [urllib3.connectionpool] DEBUG: https://www.smh.com.au:443 \"GET //national/nsw/thunderstorms-mark-end-of-bushfire-season-20200330-p54f4r.html HTTP/1.1\" 200 41285\n",
      "2020-04-24 21:20:20 [urllib3.connectionpool] DEBUG: Starting new HTTPS connection (1): www.smh.com.au:443\n"
     ]
    },
    {
     "name": "stdout",
     "output_type": "stream",
     "text": [
      "/education\n",
      "/national/nsw/this-is-not-a-one-off-hit-sydney-universities-cut-courses-and-casual-staff-20200423-p54mmy.html\n"
     ]
    },
    {
     "name": "stderr",
     "output_type": "stream",
     "text": [
      "2020-04-24 21:20:21 [urllib3.connectionpool] DEBUG: https://www.smh.com.au:443 \"GET //national/nsw/this-is-not-a-one-off-hit-sydney-universities-cut-courses-and-casual-staff-20200423-p54mmy.html HTTP/1.1\" 200 43345\n",
      "2020-04-24 21:20:21 [urllib3.connectionpool] DEBUG: Starting new HTTPS connection (1): www.smh.com.au:443\n"
     ]
    },
    {
     "name": "stdout",
     "output_type": "stream",
     "text": [
      "/topic/university-63k\n",
      "/national/nsw/this-is-not-a-one-off-hit-sydney-universities-cut-courses-and-casual-staff-20200423-p54mmy.html\n"
     ]
    },
    {
     "name": "stderr",
     "output_type": "stream",
     "text": [
      "2020-04-24 21:20:21 [urllib3.connectionpool] DEBUG: https://www.smh.com.au:443 \"GET //national/nsw/this-is-not-a-one-off-hit-sydney-universities-cut-courses-and-casual-staff-20200423-p54mmy.html HTTP/1.1\" 200 43345\n",
      "2020-04-24 21:20:22 [urllib3.connectionpool] DEBUG: Starting new HTTPS connection (1): www.smh.com.au:443\n"
     ]
    },
    {
     "name": "stdout",
     "output_type": "stream",
     "text": [
      "/national/western-australia/wa-students-teachers-encouraged-to-enter-classrooms-1-5m-apart-20200424-p54n1h.html\n"
     ]
    },
    {
     "name": "stderr",
     "output_type": "stream",
     "text": [
      "2020-04-24 21:20:22 [urllib3.connectionpool] DEBUG: https://www.smh.com.au:443 \"GET //national/western-australia/wa-students-teachers-encouraged-to-enter-classrooms-1-5m-apart-20200424-p54n1h.html HTTP/1.1\" 200 42825\n",
      "2020-04-24 21:20:22 [urllib3.connectionpool] DEBUG: Starting new HTTPS connection (1): www.smh.com.au:443\n"
     ]
    },
    {
     "name": "stdout",
     "output_type": "stream",
     "text": [
      "/coronavirus-pandemic\n",
      "/national/western-australia/wa-students-teachers-encouraged-to-enter-classrooms-1-5m-apart-20200424-p54n1h.html\n"
     ]
    },
    {
     "name": "stderr",
     "output_type": "stream",
     "text": [
      "2020-04-24 21:20:23 [urllib3.connectionpool] DEBUG: https://www.smh.com.au:443 \"GET //national/western-australia/wa-students-teachers-encouraged-to-enter-classrooms-1-5m-apart-20200424-p54n1h.html HTTP/1.1\" 200 42825\n",
      "2020-04-24 21:20:23 [urllib3.connectionpool] DEBUG: Starting new HTTPS connection (1): www.smh.com.au:443\n"
     ]
    },
    {
     "name": "stdout",
     "output_type": "stream",
     "text": [
      "/national/western-australia/keep-children-home-so-schools-are-as-safe-as-possible-teachers-union-20200424-p54mvm.html\n"
     ]
    },
    {
     "name": "stderr",
     "output_type": "stream",
     "text": [
      "2020-04-24 21:20:23 [urllib3.connectionpool] DEBUG: https://www.smh.com.au:443 \"GET //national/western-australia/keep-children-home-so-schools-are-as-safe-as-possible-teachers-union-20200424-p54mvm.html HTTP/1.1\" 200 42746\n",
      "2020-04-24 21:20:23 [urllib3.connectionpool] DEBUG: Starting new HTTPS connection (1): www.smh.com.au:443\n"
     ]
    },
    {
     "name": "stdout",
     "output_type": "stream",
     "text": [
      "/coronavirus-pandemic\n",
      "/national/western-australia/keep-children-home-so-schools-are-as-safe-as-possible-teachers-union-20200424-p54mvm.html\n"
     ]
    },
    {
     "name": "stderr",
     "output_type": "stream",
     "text": [
      "2020-04-24 21:20:24 [urllib3.connectionpool] DEBUG: https://www.smh.com.au:443 \"GET //national/western-australia/keep-children-home-so-schools-are-as-safe-as-possible-teachers-union-20200424-p54mvm.html HTTP/1.1\" 200 42746\n",
      "2020-04-24 21:20:24 [urllib3.connectionpool] DEBUG: Starting new HTTPS connection (1): www.smh.com.au:443\n"
     ]
    },
    {
     "name": "stdout",
     "output_type": "stream",
     "text": [
      "/national/sydney-university-urges-staff-to-apply-for-jobkeeper-subsidy-20200424-p54mwj.html\n"
     ]
    },
    {
     "name": "stderr",
     "output_type": "stream",
     "text": [
      "2020-04-24 21:20:24 [urllib3.connectionpool] DEBUG: https://www.smh.com.au:443 \"GET //national/sydney-university-urges-staff-to-apply-for-jobkeeper-subsidy-20200424-p54mwj.html HTTP/1.1\" 200 42923\n",
      "2020-04-24 21:20:25 [urllib3.connectionpool] DEBUG: Starting new HTTPS connection (1): www.smh.com.au:443\n"
     ]
    },
    {
     "name": "stdout",
     "output_type": "stream",
     "text": [
      "/coronavirus-pandemic\n",
      "/national/sydney-university-urges-staff-to-apply-for-jobkeeper-subsidy-20200424-p54mwj.html\n"
     ]
    },
    {
     "name": "stderr",
     "output_type": "stream",
     "text": [
      "2020-04-24 21:20:25 [urllib3.connectionpool] DEBUG: https://www.smh.com.au:443 \"GET //national/sydney-university-urges-staff-to-apply-for-jobkeeper-subsidy-20200424-p54mwj.html HTTP/1.1\" 200 42923\n",
      "2020-04-24 21:20:25 [urllib3.connectionpool] DEBUG: Starting new HTTPS connection (1): www.smh.com.au:443\n"
     ]
    },
    {
     "name": "stdout",
     "output_type": "stream",
     "text": [
      "/national/nsw/teaching-has-been-a-lifelong-vocation-for-this-headmaster-20200422-p54m5m.html\n"
     ]
    },
    {
     "name": "stderr",
     "output_type": "stream",
     "text": [
      "2020-04-24 21:20:26 [urllib3.connectionpool] DEBUG: https://www.smh.com.au:443 \"GET //national/nsw/teaching-has-been-a-lifelong-vocation-for-this-headmaster-20200422-p54m5m.html HTTP/1.1\" 200 40892\n",
      "2020-04-24 21:20:26 [urllib3.connectionpool] DEBUG: Starting new HTTPS connection (1): www.smh.com.au:443\n"
     ]
    },
    {
     "name": "stdout",
     "output_type": "stream",
     "text": [
      "/education\n",
      "/national/nsw/teaching-has-been-a-lifelong-vocation-for-this-headmaster-20200422-p54m5m.html\n"
     ]
    },
    {
     "name": "stderr",
     "output_type": "stream",
     "text": [
      "2020-04-24 21:20:26 [urllib3.connectionpool] DEBUG: https://www.smh.com.au:443 \"GET //national/nsw/teaching-has-been-a-lifelong-vocation-for-this-headmaster-20200422-p54m5m.html HTTP/1.1\" 200 40892\n",
      "2020-04-24 21:20:27 [urllib3.connectionpool] DEBUG: Starting new HTTPS connection (1): www.smh.com.au:443\n"
     ]
    },
    {
     "name": "stdout",
     "output_type": "stream",
     "text": [
      "/national/victoria/schools-left-in-dark-about-how-to-proceed-with-year-12-assessments-20200423-p54mnf.html\n"
     ]
    },
    {
     "name": "stderr",
     "output_type": "stream",
     "text": [
      "2020-04-24 21:20:27 [urllib3.connectionpool] DEBUG: https://www.smh.com.au:443 \"GET //national/victoria/schools-left-in-dark-about-how-to-proceed-with-year-12-assessments-20200423-p54mnf.html HTTP/1.1\" 200 41775\n",
      "2020-04-24 21:20:27 [urllib3.connectionpool] DEBUG: Starting new HTTPS connection (1): www.smh.com.au:443\n"
     ]
    },
    {
     "name": "stdout",
     "output_type": "stream",
     "text": [
      "/education\n",
      "/national/victoria/schools-left-in-dark-about-how-to-proceed-with-year-12-assessments-20200423-p54mnf.html\n"
     ]
    },
    {
     "name": "stderr",
     "output_type": "stream",
     "text": [
      "2020-04-24 21:20:28 [urllib3.connectionpool] DEBUG: https://www.smh.com.au:443 \"GET //national/victoria/schools-left-in-dark-about-how-to-proceed-with-year-12-assessments-20200423-p54mnf.html HTTP/1.1\" 200 41775\n",
      "2020-04-24 21:20:28 [urllib3.connectionpool] DEBUG: Starting new HTTPS connection (1): www.smh.com.au:443\n"
     ]
    },
    {
     "name": "stdout",
     "output_type": "stream",
     "text": [
      "/national/victoria\n",
      "/national/victoria/who-says-crime-doesn-t-pay-welcome-to-the-naked-city-podcast-20200422-p54m7l.html\n"
     ]
    },
    {
     "name": "stderr",
     "output_type": "stream",
     "text": [
      "2020-04-24 21:20:28 [urllib3.connectionpool] DEBUG: https://www.smh.com.au:443 \"GET //national/victoria/who-says-crime-doesn-t-pay-welcome-to-the-naked-city-podcast-20200422-p54m7l.html HTTP/1.1\" 200 54188\n",
      "2020-04-24 21:20:29 [urllib3.connectionpool] DEBUG: Starting new HTTPS connection (1): www.smh.com.au:443\n"
     ]
    },
    {
     "name": "stdout",
     "output_type": "stream",
     "text": [
      "/topic/naked-city-jbi\n",
      "/national/victoria/who-says-crime-doesn-t-pay-welcome-to-the-naked-city-podcast-20200422-p54m7l.html\n"
     ]
    },
    {
     "name": "stderr",
     "output_type": "stream",
     "text": [
      "2020-04-24 21:20:29 [urllib3.connectionpool] DEBUG: https://www.smh.com.au:443 \"GET //national/victoria/who-says-crime-doesn-t-pay-welcome-to-the-naked-city-podcast-20200422-p54m7l.html HTTP/1.1\" 200 54188\n",
      "2020-04-24 21:20:29 [urllib3.connectionpool] DEBUG: Starting new HTTPS connection (1): www.smh.com.au:443\n"
     ]
    },
    {
     "name": "stdout",
     "output_type": "stream",
     "text": [
      "/topic/eastern-freeway-tragedy-1nfs\n",
      "/national/victoria/mortgage-broker-in-protective-custody-after-condemnation-over-deadly-crash-20200424-p54n2c.html\n"
     ]
    },
    {
     "name": "stderr",
     "output_type": "stream",
     "text": [
      "2020-04-24 21:20:30 [urllib3.connectionpool] DEBUG: https://www.smh.com.au:443 \"GET //national/victoria/mortgage-broker-in-protective-custody-after-condemnation-over-deadly-crash-20200424-p54n2c.html HTTP/1.1\" 200 51090\n",
      "2020-04-24 21:20:30 [urllib3.connectionpool] DEBUG: Starting new HTTPS connection (1): www.smh.com.au:443\n"
     ]
    },
    {
     "name": "stdout",
     "output_type": "stream",
     "text": [
      "/topic/industrial-relations-5yl\n",
      "/national/victoria/code-blue-women-healthcare-workers-on-state-s-violent-front-line-20200424-p54n20.html\n"
     ]
    },
    {
     "name": "stderr",
     "output_type": "stream",
     "text": [
      "2020-04-24 21:20:31 [urllib3.connectionpool] DEBUG: https://www.smh.com.au:443 \"GET //national/victoria/code-blue-women-healthcare-workers-on-state-s-violent-front-line-20200424-p54n20.html HTTP/1.1\" 200 40753\n",
      "2020-04-24 21:20:32 [urllib3.connectionpool] DEBUG: Starting new HTTPS connection (1): www.smh.com.au:443\n"
     ]
    },
    {
     "name": "stdout",
     "output_type": "stream",
     "text": [
      "/national/queensland\n",
      "/national/queensland/coronavirus-clears-club-floor-but-saturday-night-dance-fever-stays-20200423-p54mo0.html\n"
     ]
    },
    {
     "name": "stderr",
     "output_type": "stream",
     "text": [
      "2020-04-24 21:20:32 [urllib3.connectionpool] DEBUG: https://www.smh.com.au:443 \"GET //national/queensland/coronavirus-clears-club-floor-but-saturday-night-dance-fever-stays-20200423-p54mo0.html HTTP/1.1\" 200 41628\n",
      "2020-04-24 21:20:32 [urllib3.connectionpool] DEBUG: Starting new HTTPS connection (1): www.smh.com.au:443\n"
     ]
    },
    {
     "name": "stdout",
     "output_type": "stream",
     "text": [
      "/coronavirus-pandemic\n",
      "/national/queensland/coronavirus-clears-club-floor-but-saturday-night-dance-fever-stays-20200423-p54mo0.html\n"
     ]
    },
    {
     "name": "stderr",
     "output_type": "stream",
     "text": [
      "2020-04-24 21:20:33 [urllib3.connectionpool] DEBUG: https://www.smh.com.au:443 \"GET //national/queensland/coronavirus-clears-club-floor-but-saturday-night-dance-fever-stays-20200423-p54mo0.html HTTP/1.1\" 200 41628\n",
      "2020-04-24 21:20:33 [urllib3.connectionpool] DEBUG: Starting new HTTPS connection (1): www.smh.com.au:443\n"
     ]
    },
    {
     "name": "stdout",
     "output_type": "stream",
     "text": [
      "/topic/traffic-incident-1n9f\n",
      "/national/queensland/baby-boy-rushed-to-hospital-after-gold-coast-driveway-car-incident-20200424-p54n3k.html\n"
     ]
    },
    {
     "name": "stderr",
     "output_type": "stream",
     "text": [
      "2020-04-24 21:20:33 [urllib3.connectionpool] DEBUG: https://www.smh.com.au:443 \"GET //national/queensland/baby-boy-rushed-to-hospital-after-gold-coast-driveway-car-incident-20200424-p54n3k.html HTTP/1.1\" 200 37060\n",
      "2020-04-24 21:20:34 [urllib3.connectionpool] DEBUG: Starting new HTTPS connection (1): www.smh.com.au:443\n"
     ]
    },
    {
     "name": "stdout",
     "output_type": "stream",
     "text": [
      "/coronavirus-pandemic\n",
      "/national/queensland/where-to-get-tested-for-coronavirus-in-queensland-20200320-p54cdk.html\n"
     ]
    },
    {
     "name": "stderr",
     "output_type": "stream",
     "text": [
      "2020-04-24 21:20:34 [urllib3.connectionpool] DEBUG: https://www.smh.com.au:443 \"GET //national/queensland/where-to-get-tested-for-coronavirus-in-queensland-20200320-p54cdk.html HTTP/1.1\" 200 39219\n",
      "2020-04-24 21:20:34 [urllib3.connectionpool] DEBUG: Starting new HTTPS connection (1): www.smh.com.au:443\n"
     ]
    },
    {
     "name": "stdout",
     "output_type": "stream",
     "text": [
      "/national/western-australia\n",
      "/national/western-australia/wa-coronavirus-live-2-7-million-new-yorkers-may-have-been-infected-20200424-p54mtf.html\n"
     ]
    },
    {
     "name": "stderr",
     "output_type": "stream",
     "text": [
      "2020-04-24 21:20:35 [urllib3.connectionpool] DEBUG: https://www.smh.com.au:443 \"GET //national/western-australia/wa-coronavirus-live-2-7-million-new-yorkers-may-have-been-infected-20200424-p54mtf.html HTTP/1.1\" 200 60338\n",
      "2020-04-24 21:20:38 [chardet.charsetprober] DEBUG: utf-8  confidence = 0.99\n",
      "2020-04-24 21:20:38 [chardet.charsetprober] DEBUG: SHIFT_JIS Japanese confidence = 0.01\n",
      "2020-04-24 21:20:38 [chardet.charsetprober] DEBUG: EUC-JP Japanese confidence = 0.01\n",
      "2020-04-24 21:20:38 [chardet.charsetprober] DEBUG: GB2312 Chinese confidence = 0.01\n",
      "2020-04-24 21:20:38 [chardet.charsetprober] DEBUG: EUC-KR Korean confidence = 0.01\n",
      "2020-04-24 21:20:38 [chardet.charsetprober] DEBUG: CP949 Korean confidence = 0.01\n",
      "2020-04-24 21:20:38 [chardet.charsetprober] DEBUG: Big5 Chinese confidence = 0.01\n",
      "2020-04-24 21:20:38 [chardet.charsetprober] DEBUG: EUC-TW Taiwan confidence = 0.01\n",
      "2020-04-24 21:20:38 [chardet.charsetprober] DEBUG: windows-1251 Russian confidence = 0.01\n",
      "2020-04-24 21:20:38 [chardet.charsetprober] DEBUG: KOI8-R Russian confidence = 0.01\n",
      "2020-04-24 21:20:38 [chardet.charsetprober] DEBUG: ISO-8859-5 Russian confidence = 0.01\n",
      "2020-04-24 21:20:38 [chardet.charsetprober] DEBUG: MacCyrillic Russian confidence = 0.0\n",
      "2020-04-24 21:20:38 [chardet.charsetprober] DEBUG: IBM866 Russian confidence = 0.0\n",
      "2020-04-24 21:20:38 [chardet.charsetprober] DEBUG: IBM855 Russian confidence = 0.01\n",
      "2020-04-24 21:20:38 [chardet.charsetprober] DEBUG: ISO-8859-7 Greek confidence = 0.0\n",
      "2020-04-24 21:20:38 [chardet.charsetprober] DEBUG: windows-1253 Greek confidence = 0.0\n",
      "2020-04-24 21:20:38 [chardet.charsetprober] DEBUG: ISO-8859-5 Bulgairan confidence = 0.0\n",
      "2020-04-24 21:20:38 [chardet.charsetprober] DEBUG: windows-1251 Bulgarian confidence = 0.0\n",
      "2020-04-24 21:20:38 [chardet.charsetprober] DEBUG: TIS-620 Thai confidence = 0.0\n",
      "2020-04-24 21:20:38 [chardet.charsetprober] DEBUG: ISO-8859-9 Turkish confidence = 0.5340535246957978\n",
      "2020-04-24 21:20:38 [chardet.charsetprober] DEBUG: windows-1255 Hebrew confidence = 0.0\n",
      "2020-04-24 21:20:38 [chardet.charsetprober] DEBUG: windows-1255 Hebrew confidence = 0.0\n",
      "2020-04-24 21:20:38 [chardet.charsetprober] DEBUG: windows-1255 Hebrew confidence = 0.0\n",
      "2020-04-24 21:20:38 [chardet.charsetprober] DEBUG: utf-8  confidence = 0.99\n",
      "2020-04-24 21:20:38 [chardet.charsetprober] DEBUG: SHIFT_JIS Japanese confidence = 0.01\n",
      "2020-04-24 21:20:38 [chardet.charsetprober] DEBUG: EUC-JP Japanese confidence = 0.01\n",
      "2020-04-24 21:20:38 [chardet.charsetprober] DEBUG: GB2312 Chinese confidence = 0.01\n",
      "2020-04-24 21:20:38 [chardet.charsetprober] DEBUG: EUC-KR Korean confidence = 0.01\n",
      "2020-04-24 21:20:38 [chardet.charsetprober] DEBUG: CP949 Korean confidence = 0.01\n",
      "2020-04-24 21:20:38 [chardet.charsetprober] DEBUG: Big5 Chinese confidence = 0.01\n",
      "2020-04-24 21:20:38 [chardet.charsetprober] DEBUG: EUC-TW Taiwan confidence = 0.01\n",
      "2020-04-24 21:20:39 [urllib3.connectionpool] DEBUG: Starting new HTTPS connection (1): www.smh.com.au:443\n"
     ]
    },
    {
     "name": "stdout",
     "output_type": "stream",
     "text": [
      "/topic/coronavirus-pandemic-live-1nf0\n",
      "/national/western-australia/wa-coronavirus-live-2-7-million-new-yorkers-may-have-been-infected-20200424-p54mtf.html\n"
     ]
    },
    {
     "name": "stderr",
     "output_type": "stream",
     "text": [
      "2020-04-24 21:20:39 [urllib3.connectionpool] DEBUG: https://www.smh.com.au:443 \"GET //national/western-australia/wa-coronavirus-live-2-7-million-new-yorkers-may-have-been-infected-20200424-p54mtf.html HTTP/1.1\" 200 60338\n",
      "2020-04-24 21:20:42 [chardet.charsetprober] DEBUG: utf-8  confidence = 0.99\n",
      "2020-04-24 21:20:42 [chardet.charsetprober] DEBUG: SHIFT_JIS Japanese confidence = 0.01\n",
      "2020-04-24 21:20:42 [chardet.charsetprober] DEBUG: EUC-JP Japanese confidence = 0.01\n",
      "2020-04-24 21:20:42 [chardet.charsetprober] DEBUG: GB2312 Chinese confidence = 0.01\n",
      "2020-04-24 21:20:42 [chardet.charsetprober] DEBUG: EUC-KR Korean confidence = 0.01\n",
      "2020-04-24 21:20:42 [chardet.charsetprober] DEBUG: CP949 Korean confidence = 0.01\n",
      "2020-04-24 21:20:42 [chardet.charsetprober] DEBUG: Big5 Chinese confidence = 0.01\n",
      "2020-04-24 21:20:42 [chardet.charsetprober] DEBUG: EUC-TW Taiwan confidence = 0.01\n",
      "2020-04-24 21:20:42 [chardet.charsetprober] DEBUG: windows-1251 Russian confidence = 0.01\n",
      "2020-04-24 21:20:42 [chardet.charsetprober] DEBUG: KOI8-R Russian confidence = 0.01\n",
      "2020-04-24 21:20:42 [chardet.charsetprober] DEBUG: ISO-8859-5 Russian confidence = 0.01\n",
      "2020-04-24 21:20:42 [chardet.charsetprober] DEBUG: MacCyrillic Russian confidence = 0.0\n",
      "2020-04-24 21:20:42 [chardet.charsetprober] DEBUG: IBM866 Russian confidence = 0.0\n",
      "2020-04-24 21:20:42 [chardet.charsetprober] DEBUG: IBM855 Russian confidence = 0.01\n",
      "2020-04-24 21:20:42 [chardet.charsetprober] DEBUG: ISO-8859-7 Greek confidence = 0.0\n",
      "2020-04-24 21:20:42 [chardet.charsetprober] DEBUG: windows-1253 Greek confidence = 0.0\n",
      "2020-04-24 21:20:42 [chardet.charsetprober] DEBUG: ISO-8859-5 Bulgairan confidence = 0.0\n",
      "2020-04-24 21:20:42 [chardet.charsetprober] DEBUG: windows-1251 Bulgarian confidence = 0.0\n",
      "2020-04-24 21:20:42 [chardet.charsetprober] DEBUG: TIS-620 Thai confidence = 0.0\n",
      "2020-04-24 21:20:42 [chardet.charsetprober] DEBUG: ISO-8859-9 Turkish confidence = 0.5340535246957978\n",
      "2020-04-24 21:20:42 [chardet.charsetprober] DEBUG: windows-1255 Hebrew confidence = 0.0\n",
      "2020-04-24 21:20:42 [chardet.charsetprober] DEBUG: windows-1255 Hebrew confidence = 0.0\n",
      "2020-04-24 21:20:42 [chardet.charsetprober] DEBUG: windows-1255 Hebrew confidence = 0.0\n",
      "2020-04-24 21:20:42 [chardet.charsetprober] DEBUG: utf-8  confidence = 0.99\n",
      "2020-04-24 21:20:42 [chardet.charsetprober] DEBUG: SHIFT_JIS Japanese confidence = 0.01\n",
      "2020-04-24 21:20:42 [chardet.charsetprober] DEBUG: EUC-JP Japanese confidence = 0.01\n",
      "2020-04-24 21:20:42 [chardet.charsetprober] DEBUG: GB2312 Chinese confidence = 0.01\n",
      "2020-04-24 21:20:42 [chardet.charsetprober] DEBUG: EUC-KR Korean confidence = 0.01\n",
      "2020-04-24 21:20:42 [chardet.charsetprober] DEBUG: CP949 Korean confidence = 0.01\n",
      "2020-04-24 21:20:42 [chardet.charsetprober] DEBUG: Big5 Chinese confidence = 0.01\n",
      "2020-04-24 21:20:42 [chardet.charsetprober] DEBUG: EUC-TW Taiwan confidence = 0.01\n",
      "2020-04-24 21:20:42 [urllib3.connectionpool] DEBUG: Starting new HTTPS connection (1): www.smh.com.au:443\n"
     ]
    },
    {
     "name": "stdout",
     "output_type": "stream",
     "text": [
      "/coronavirus-pandemic\n",
      "/national/western-australia/why-your-home-is-the-hottest-place-in-perth-to-eat-right-now-20200424-p54n1a.html\n"
     ]
    },
    {
     "name": "stderr",
     "output_type": "stream",
     "text": [
      "2020-04-24 21:20:43 [urllib3.connectionpool] DEBUG: https://www.smh.com.au:443 \"GET //national/western-australia/why-your-home-is-the-hottest-place-in-perth-to-eat-right-now-20200424-p54n1a.html HTTP/1.1\" 200 43713\n",
      "2020-04-24 21:20:43 [urllib3.connectionpool] DEBUG: Starting new HTTPS connection (1): www.smh.com.au:443\n"
     ]
    },
    {
     "name": "stdout",
     "output_type": "stream",
     "text": [
      "/topic/perth-courts-60h\n",
      "/national/western-australia/bail-denied-for-man-accused-of-leaving-perth-hotel-quarantine-for-alcohol-and-meth-binge-20200424-p54n23.html\n"
     ]
    },
    {
     "name": "stderr",
     "output_type": "stream",
     "text": [
      "2020-04-24 21:20:44 [urllib3.connectionpool] DEBUG: https://www.smh.com.au:443 \"GET //national/western-australia/bail-denied-for-man-accused-of-leaving-perth-hotel-quarantine-for-alcohol-and-meth-binge-20200424-p54n23.html HTTP/1.1\" 200 40790\n",
      "2020-04-24 21:20:44 [urllib3.connectionpool] DEBUG: Starting new HTTPS connection (1): www.smh.com.au:443\n"
     ]
    },
    {
     "name": "stdout",
     "output_type": "stream",
     "text": [
      "/\n",
      "https://twitter.com/smh\n",
      "http://www.facebook.com/sydneymorningherald\n",
      "https://www.instagram.com/sydneymorningherald\n",
      "/rssheadlines\n",
      "javascript:void(0)\n",
      "https://www.smh.com.au\n",
      "https://www.theage.com.au\n",
      "https://www.brisbanetimes.com.au\n",
      "https://www.watoday.com.au\n",
      "https://www.afr.com\n",
      "https://www.domain.com.au\n",
      "http://www.traveller.com.au\n",
      "https://www.goodfood.com.au\n",
      "http://www.executivestyle.com.au\n",
      "https://www.thestore.com.au\n",
      "https://www.drive.com.au\n",
      "https://www.caradvice.com.au\n",
      "https://www.rsvp.com.au\n",
      "http://www.weatherzone.com.au\n",
      "javascript:void(0)\n",
      "http://tributes.smh.com.au/obituaries/smh-au/\n",
      "http://celebrations.smh.com.au/celebration/smh-au/\n",
      "https://advertisers.com.au\n",
      "https://www.commercialrealestate.com.au\n",
      "https://www.oneflare.com.au\n",
      "javascript:void(0)\n",
      "/contact-us\n",
      "https://www.adcentre.com.au/brands/the-sydney-morning-herald\n",
      "https://smh.myfairfax.com.au/members/lite_session/new?callback_uri=https%3A%2F%2Fsmh.myfairfax.com.au%2Fbeta%2Fmembers%2Fmy_account%2Fnewsletters%3Fchannel_key%3DzHE9EWDHf1XPuz3Phk0YIg%26callback_uri%3Dhttps%253a%252f%252fwww.smh.com.au&channel_key=zHE9EWDHf1XPuz3Phk0YIg\n",
      "/siteguide/accessibility\n",
      "/siteguide\n",
      "https://consumer.fairfaxsyndication.com/C.aspx?VP3=CMS3&VF=FXJFX2_2_VForm\n",
      "https://frontpages.fairfaxsyndication.com/C.aspx?VP3=CMS3&VF=FXJFX2_3_VForm\n",
      "https://www.fairfaxsyndication.com/C.aspx?VP3=CMS3&VF=FXJO50_1\n",
      "/our-events\n",
      "https://www.nineforbrands.com.au/about/careers/\n",
      "/conditions-of-use\n",
      "/privacy\n",
      "https://www.presscouncil.org.au/what-we-do\n",
      "javascript:void(0)\n",
      "https://subscribe.smh.com.au/?promote_channel=HI_SMH_GNL_FT\n",
      "https://subscribers.smh.com.au\n",
      "https://www.smh.com.au/myaccount\n",
      "https://subscribers.smh.com.au/support-centre/overview\n",
      "/todays-newspaper\n",
      "/puzzles/crosswords\n",
      "https://www.thesmhinsider.com.au/c/a/5dAvszx5Lm7C4GDU21EWmQ?dPanel=2\n",
      "https://subscribe.smh.com.au/?promote_channel=HI_SMH_GNL_FT\n",
      "                                                link  \\\n",
      "0  /national/coronavirus-updates-live-scott-morri...   \n",
      "1  /national/coronavirus-updates-live-scott-morri...   \n",
      "2  /national/photos-of-the-week-april-23-2020-202...   \n",
      "3  /national/photos-of-the-week-april-23-2020-202...   \n",
      "4  /national/victoria/who-says-crime-doesn-t-pay-...   \n",
      "\n",
      "                                              header  \\\n",
      "0  Coronavirus updates LIVE: Scott Morrison says ...   \n",
      "1  Coronavirus updates LIVE: Scott Morrison says ...   \n",
      "2                 Photos of the week, April 23, 2020   \n",
      "3                 Photos of the week, April 23, 2020   \n",
      "4  Who says crime doesn't pay? Welcome to the Nak...   \n",
      "\n",
      "                                             article            author  \\\n",
      "0  The death toll from coronavirus in the United ...    Latika Bourke    \n",
      "1  The death toll from coronavirus in the United ...    Latika Bourke    \n",
      "2  Follow us on Twitter @photosSMH and @theage_ph...                     \n",
      "3  Follow us on Twitter @photosSMH and @theage_ph...                     \n",
      "4  Some people say I talk too much. This is most ...   John Silvester    \n",
      "\n",
      "             date  \n",
      "0  April 25, 2020  \n",
      "1  April 25, 2020  \n",
      "2                  \n",
      "3                  \n",
      "4  April 25, 2020  \n",
      "processing : sport\n"
     ]
    },
    {
     "name": "stderr",
     "output_type": "stream",
     "text": [
      "2020-04-24 21:20:44 [urllib3.connectionpool] DEBUG: https://www.smh.com.au:443 \"GET /sport HTTP/1.1\" 200 78960\n",
      "2020-04-24 21:20:45 [urllib3.connectionpool] DEBUG: Starting new HTTPS connection (1): www.smh.com.au:443\n"
     ]
    },
    {
     "name": "stdout",
     "output_type": "stream",
     "text": [
      "#sections\n",
      "#content\n",
      "#footer\n",
      "javascript:void(0);\n",
      "https://subscribe.smh.com.au/?promote_channel=HI_SMH_GNL_HL\n",
      "/\n",
      "https://subscribe.smh.com.au/?promote_channel=HI_SMH_GNL_HL\n",
      "/\n",
      "#sections\n",
      "#network\n",
      "/\n",
      "/sydney-news\n",
      "/national/nsw\n",
      "/politics\n",
      "/politics/federal\n",
      "/politics/nsw\n",
      "/politics/victoria\n",
      "/politics/queensland\n",
      "/politics/western-australia\n",
      "/business\n",
      "/business/companies\n",
      "/business/markets\n",
      "/business/the-economy\n",
      "/business/banking-and-finance\n",
      "/business/small-business\n",
      "/business/consumer-affairs\n",
      "/business/workplace\n",
      "/world\n",
      "/world/north-america\n",
      "/world/europe\n",
      "/world/asia\n",
      "/world/middle-east\n",
      "/world/oceania\n",
      "/world/central-america\n",
      "/world/south-america\n",
      "/world/africa\n",
      "/national\n",
      "/national/victoria\n",
      "/national/queensland\n",
      "/national/western-australia\n",
      "/opinion\n",
      "http://www.domain.com.au\n",
      "/sport\n",
      "/sport/nrl\n",
      "/sport/rugby-union\n",
      "/sport/cricket\n",
      "/sport/soccer\n",
      "/sport/afl\n",
      "/sport/racing\n",
      "/sport/tennis\n",
      "/sport/netball\n",
      "/sport/basketball\n",
      "/sport/motorsport\n",
      "/sport/cycling\n",
      "/sport/golf\n",
      "/sport/nfl\n",
      "/sport/athletics\n",
      "/sport/swimming\n",
      "/sport/boxing\n",
      "/culture\n",
      "/culture/movies\n",
      "/culture/tv-and-radio\n",
      "/culture/music\n",
      "/culture/celebrity\n",
      "/culture/books\n",
      "/culture/comedy\n",
      "/culture/dance\n",
      "/culture/musicals\n",
      "/culture/opera\n",
      "/culture/theatre\n",
      "/culture/art-and-design\n",
      "https://tvguide.smh.com.au\n",
      "/lifestyle\n",
      "/lifestyle/life-and-relationships\n",
      "/lifestyle/health-and-wellness\n",
      "/lifestyle/gender\n",
      "/lifestyle/fashion\n",
      "/lifestyle/beauty\n",
      "/topic/horoscopes-5yc\n",
      "/topic/good-weekend-1qq\n",
      "/money\n",
      "/money/super-and-retirement\n",
      "/money/investing\n",
      "/money/banking\n",
      "/money/borrowing\n",
      "/money/saving\n",
      "/money/tax\n",
      "/money/planning-and-budgeting\n",
      "/money/insurance\n",
      "/education\n",
      "/healthcare\n",
      "/environment\n",
      "/environment/conservation\n",
      "/environment/climate-change\n",
      "/environment/sustainability\n",
      "/environment/weather\n",
      "/technology\n",
      "/technology/video-games\n",
      "/topic/home-technology-hqq\n",
      "/topic/phones-5zt\n",
      "/topic/gadgets-hqp\n",
      "http://www.drive.com.au\n",
      "http://www.traveller.com.au\n",
      "http://www.goodfood.com.au\n",
      "http://www.executivestyle.com.au\n",
      "https://subscribe.smh.com.au/2?promote_channel=HI_IPL_GNL&utm_source=PremiumIndex&utm_medium=HouseInventory&utm_campaign=General\n",
      "/todays-newspaper\n",
      "/puzzles/crosswords\n",
      "/topic/smh-letters-1r7\n",
      "/topic/smh-editorial-1r6\n",
      "/topic/column-8-1r4\n",
      "/topic/obituaries-1qv\n",
      "/topic/explainers-1lz9\n",
      "/topic/quizzes-1qx\n",
      "http://weather.smh.com.au/local-forecast/nsw/sydney\n",
      "https://www.theage.com.au\n",
      "https://www.brisbanetimes.com.au\n",
      "https://www.watoday.com.au\n",
      "https://www.afr.com\n",
      "https://www.domain.com.au\n",
      "https://www.commercialrealestate.com.au\n",
      "https://www.drive.com.au\n",
      "https://www.goodfood.com.au\n",
      "http://www.traveller.com.au\n",
      "http://www.executivestyle.com.au\n",
      "https://www.findababysitter.com.au\n",
      "https://www.thestore.com.au\n",
      "http://www.weatherzone.com.au\n",
      "https://www.rsvp.com.au\n",
      "/sport/nrl\n",
      "/sport/rugby-union\n",
      "/sport/cricket\n",
      "/sport/soccer\n",
      "/sport/afl\n",
      "javascript:void(0);\n",
      "/sport/racing\n",
      "/sport/tennis\n",
      "/sport/netball\n",
      "/sport/basketball\n",
      "/sport/motorsport\n",
      "/sport/cycling\n",
      "/sport/golf\n",
      "/sport/nfl\n",
      "/sport/athletics\n",
      "/sport/swimming\n",
      "/sport/boxing\n",
      "/sport/nrl/broadcast-partners-agree-to-nrl-s-may-28-restart-date-20200424-p54n27.html\n"
     ]
    },
    {
     "name": "stderr",
     "output_type": "stream",
     "text": [
      "2020-04-24 21:20:46 [urllib3.connectionpool] DEBUG: https://www.smh.com.au:443 \"GET //sport/nrl/broadcast-partners-agree-to-nrl-s-may-28-restart-date-20200424-p54n27.html HTTP/1.1\" 200 44740\n",
      "2020-04-24 21:20:46 [urllib3.connectionpool] DEBUG: Starting new HTTPS connection (1): www.smh.com.au:443\n"
     ]
    },
    {
     "name": "stdout",
     "output_type": "stream",
     "text": [
      "/topic/nrl-2020-1n9q\n",
      "/sport/nrl/broadcast-partners-agree-to-nrl-s-may-28-restart-date-20200424-p54n27.html\n"
     ]
    },
    {
     "name": "stderr",
     "output_type": "stream",
     "text": [
      "2020-04-24 21:20:46 [urllib3.connectionpool] DEBUG: https://www.smh.com.au:443 \"GET //sport/nrl/broadcast-partners-agree-to-nrl-s-may-28-restart-date-20200424-p54n27.html HTTP/1.1\" 200 44740\n",
      "2020-04-24 21:20:46 [urllib3.connectionpool] DEBUG: Starting new HTTPS connection (1): www.smh.com.au:443\n"
     ]
    },
    {
     "name": "stdout",
     "output_type": "stream",
     "text": [
      "/sport/rugby-union/the-final-betrayal-that-caused-castle-to-crumble-20200424-p54n2u.html\n"
     ]
    },
    {
     "name": "stderr",
     "output_type": "stream",
     "text": [
      "2020-04-24 21:20:47 [urllib3.connectionpool] DEBUG: https://www.smh.com.au:443 \"GET //sport/rugby-union/the-final-betrayal-that-caused-castle-to-crumble-20200424-p54n2u.html HTTP/1.1\" 200 47605\n",
      "2020-04-24 21:20:47 [urllib3.connectionpool] DEBUG: Starting new HTTPS connection (1): www.smh.com.au:443\n"
     ]
    },
    {
     "name": "stdout",
     "output_type": "stream",
     "text": [
      "/topic/raelene-castle-1n7l\n",
      "/sport/rugby-union/the-final-betrayal-that-caused-castle-to-crumble-20200424-p54n2u.html\n"
     ]
    },
    {
     "name": "stderr",
     "output_type": "stream",
     "text": [
      "2020-04-24 21:20:47 [urllib3.connectionpool] DEBUG: https://www.smh.com.au:443 \"GET //sport/rugby-union/the-final-betrayal-that-caused-castle-to-crumble-20200424-p54n2u.html HTTP/1.1\" 200 47605\n",
      "2020-04-24 21:20:48 [urllib3.connectionpool] DEBUG: Starting new HTTPS connection (1): www.smh.com.au:443\n"
     ]
    },
    {
     "name": "stdout",
     "output_type": "stream",
     "text": [
      "/sport/cricket/howzat-possible-cricket-australia-says-big-hits-will-keep-coming-20200424-p54n00.html\n"
     ]
    },
    {
     "name": "stderr",
     "output_type": "stream",
     "text": [
      "2020-04-24 21:20:48 [urllib3.connectionpool] DEBUG: https://www.smh.com.au:443 \"GET //sport/cricket/howzat-possible-cricket-australia-says-big-hits-will-keep-coming-20200424-p54n00.html HTTP/1.1\" 200 49889\n",
      "2020-04-24 21:20:49 [urllib3.connectionpool] DEBUG: Starting new HTTPS connection (1): www.smh.com.au:443\n"
     ]
    },
    {
     "name": "stdout",
     "output_type": "stream",
     "text": [
      "/topic/australian-cricket-jf3\n",
      "/sport/cricket/howzat-possible-cricket-australia-says-big-hits-will-keep-coming-20200424-p54n00.html\n"
     ]
    },
    {
     "name": "stderr",
     "output_type": "stream",
     "text": [
      "2020-04-24 21:20:49 [urllib3.connectionpool] DEBUG: https://www.smh.com.au:443 \"GET //sport/cricket/howzat-possible-cricket-australia-says-big-hits-will-keep-coming-20200424-p54n00.html HTTP/1.1\" 200 49889\n",
      "2020-04-24 21:20:50 [urllib3.connectionpool] DEBUG: Starting new HTTPS connection (1): www.smh.com.au:443\n"
     ]
    },
    {
     "name": "stdout",
     "output_type": "stream",
     "text": [
      "/sport/basketball/it-just-exploded-how-jordan-s-stardom-changed-australia-s-sporting-culture-20200424-p54mvf.html\n"
     ]
    },
    {
     "name": "stderr",
     "output_type": "stream",
     "text": [
      "2020-04-24 21:20:50 [urllib3.connectionpool] DEBUG: https://www.smh.com.au:443 \"GET //sport/basketball/it-just-exploded-how-jordan-s-stardom-changed-australia-s-sporting-culture-20200424-p54mvf.html HTTP/1.1\" 200 47724\n",
      "2020-04-24 21:20:50 [urllib3.connectionpool] DEBUG: Starting new HTTPS connection (1): www.smh.com.au:443\n"
     ]
    },
    {
     "name": "stdout",
     "output_type": "stream",
     "text": [
      "/topic/national-basketball-association-649\n",
      "/sport/basketball/it-just-exploded-how-jordan-s-stardom-changed-australia-s-sporting-culture-20200424-p54mvf.html\n"
     ]
    },
    {
     "name": "stderr",
     "output_type": "stream",
     "text": [
      "2020-04-24 21:20:51 [urllib3.connectionpool] DEBUG: https://www.smh.com.au:443 \"GET //sport/basketball/it-just-exploded-how-jordan-s-stardom-changed-australia-s-sporting-culture-20200424-p54mvf.html HTTP/1.1\" 200 47724\n",
      "2020-04-24 21:20:51 [urllib3.connectionpool] DEBUG: Starting new HTTPS connection (1): www.smh.com.au:443\n"
     ]
    },
    {
     "name": "stdout",
     "output_type": "stream",
     "text": [
      "/sport/why-it-s-high-time-gladys-put-the-nrl-in-its-place-20200424-p54n1f.html\n"
     ]
    },
    {
     "name": "stderr",
     "output_type": "stream",
     "text": [
      "2020-04-24 21:20:51 [urllib3.connectionpool] DEBUG: https://www.smh.com.au:443 \"GET //sport/why-it-s-high-time-gladys-put-the-nrl-in-its-place-20200424-p54n1f.html HTTP/1.1\" 200 53928\n",
      "2020-04-24 21:20:52 [urllib3.connectionpool] DEBUG: Starting new HTTPS connection (1): www.smh.com.au:443\n"
     ]
    },
    {
     "name": "stdout",
     "output_type": "stream",
     "text": [
      "/sport\n",
      "/sport/why-it-s-high-time-gladys-put-the-nrl-in-its-place-20200424-p54n1f.html\n"
     ]
    },
    {
     "name": "stderr",
     "output_type": "stream",
     "text": [
      "2020-04-24 21:20:53 [urllib3.connectionpool] DEBUG: https://www.smh.com.au:443 \"GET //sport/why-it-s-high-time-gladys-put-the-nrl-in-its-place-20200424-p54n1f.html HTTP/1.1\" 200 53928\n",
      "2020-04-24 21:20:53 [urllib3.connectionpool] DEBUG: Starting new HTTPS connection (1): www.smh.com.au:443\n"
     ]
    },
    {
     "name": "stdout",
     "output_type": "stream",
     "text": [
      "/sport/nrl\n",
      "/sport/nrl/scaremongering-and-alarmist-nrl-boss-fires-back-at-channel-nine-20200424-p54mug.html\n"
     ]
    },
    {
     "name": "stderr",
     "output_type": "stream",
     "text": [
      "2020-04-24 21:20:53 [urllib3.connectionpool] DEBUG: https://www.smh.com.au:443 \"GET //sport/nrl/scaremongering-and-alarmist-nrl-boss-fires-back-at-channel-nine-20200424-p54mug.html HTTP/1.1\" 200 44754\n",
      "2020-04-24 21:20:54 [urllib3.connectionpool] DEBUG: Starting new HTTPS connection (1): www.smh.com.au:443\n"
     ]
    },
    {
     "name": "stdout",
     "output_type": "stream",
     "text": [
      "/topic/nrl-2020-1n9q\n",
      "/sport/nrl/scaremongering-and-alarmist-nrl-boss-fires-back-at-channel-nine-20200424-p54mug.html\n"
     ]
    },
    {
     "name": "stderr",
     "output_type": "stream",
     "text": [
      "2020-04-24 21:20:54 [urllib3.connectionpool] DEBUG: https://www.smh.com.au:443 \"GET //sport/nrl/scaremongering-and-alarmist-nrl-boss-fires-back-at-channel-nine-20200424-p54mug.html HTTP/1.1\" 200 44754\n",
      "2020-04-24 21:20:54 [urllib3.connectionpool] DEBUG: Starting new HTTPS connection (1): www.smh.com.au:443\n"
     ]
    },
    {
     "name": "stdout",
     "output_type": "stream",
     "text": [
      "/sport/nrl/channel-nine-slams-brakes-on-premature-may-28-nrl-restart-20200423-p54mi8.html\n"
     ]
    },
    {
     "name": "stderr",
     "output_type": "stream",
     "text": [
      "2020-04-24 21:20:55 [urllib3.connectionpool] DEBUG: https://www.smh.com.au:443 \"GET //sport/nrl/channel-nine-slams-brakes-on-premature-may-28-nrl-restart-20200423-p54mi8.html HTTP/1.1\" 200 46352\n",
      "2020-04-24 21:20:56 [urllib3.connectionpool] DEBUG: Starting new HTTPS connection (1): www.smh.com.au:443\n"
     ]
    },
    {
     "name": "stdout",
     "output_type": "stream",
     "text": [
      "/topic/nrl-2020-1n9q\n",
      "/sport/nrl/channel-nine-slams-brakes-on-premature-may-28-nrl-restart-20200423-p54mi8.html\n"
     ]
    },
    {
     "name": "stderr",
     "output_type": "stream",
     "text": [
      "2020-04-24 21:20:56 [urllib3.connectionpool] DEBUG: https://www.smh.com.au:443 \"GET //sport/nrl/channel-nine-slams-brakes-on-premature-may-28-nrl-restart-20200423-p54mi8.html HTTP/1.1\" 200 46352\n",
      "2020-04-24 21:20:56 [urllib3.connectionpool] DEBUG: Starting new HTTPS connection (1): www.smh.com.au:443\n"
     ]
    },
    {
     "name": "stdout",
     "output_type": "stream",
     "text": [
      "/sport/nrl/the-comp-has-to-be-aspirational-mal-says-shortened-nrl-ruins-chances-20200424-p54msr.html\n"
     ]
    },
    {
     "name": "stderr",
     "output_type": "stream",
     "text": [
      "2020-04-24 21:20:58 [urllib3.connectionpool] DEBUG: https://www.smh.com.au:443 \"GET //sport/nrl/the-comp-has-to-be-aspirational-mal-says-shortened-nrl-ruins-chances-20200424-p54msr.html HTTP/1.1\" 200 41637\n",
      "2020-04-24 21:20:58 [urllib3.connectionpool] DEBUG: Starting new HTTPS connection (1): www.smh.com.au:443\n"
     ]
    },
    {
     "name": "stdout",
     "output_type": "stream",
     "text": [
      "/topic/nrl-2020-1n9q\n",
      "/sport/nrl/the-comp-has-to-be-aspirational-mal-says-shortened-nrl-ruins-chances-20200424-p54msr.html\n"
     ]
    },
    {
     "name": "stderr",
     "output_type": "stream",
     "text": [
      "2020-04-24 21:20:59 [urllib3.connectionpool] DEBUG: https://www.smh.com.au:443 \"GET //sport/nrl/the-comp-has-to-be-aspirational-mal-says-shortened-nrl-ruins-chances-20200424-p54msr.html HTTP/1.1\" 200 41637\n",
      "2020-04-24 21:20:59 [urllib3.connectionpool] DEBUG: Starting new HTTPS connection (1): www.smh.com.au:443\n"
     ]
    },
    {
     "name": "stdout",
     "output_type": "stream",
     "text": [
      "/sport/nrl/football-is-not-an-essential-service-experts-divided-on-nrl-return-20200423-p54mnw.html\n"
     ]
    },
    {
     "name": "stderr",
     "output_type": "stream",
     "text": [
      "2020-04-24 21:21:00 [urllib3.connectionpool] DEBUG: https://www.smh.com.au:443 \"GET //sport/nrl/football-is-not-an-essential-service-experts-divided-on-nrl-return-20200423-p54mnw.html HTTP/1.1\" 200 46526\n",
      "2020-04-24 21:21:00 [urllib3.connectionpool] DEBUG: Starting new HTTPS connection (1): www.smh.com.au:443\n"
     ]
    },
    {
     "name": "stdout",
     "output_type": "stream",
     "text": [
      "/topic/nrl-2020-1n9q\n",
      "/sport/nrl/football-is-not-an-essential-service-experts-divided-on-nrl-return-20200423-p54mnw.html\n"
     ]
    },
    {
     "name": "stderr",
     "output_type": "stream",
     "text": [
      "2020-04-24 21:21:01 [urllib3.connectionpool] DEBUG: https://www.smh.com.au:443 \"GET //sport/nrl/football-is-not-an-essential-service-experts-divided-on-nrl-return-20200423-p54mnw.html HTTP/1.1\" 200 46526\n",
      "2020-04-24 21:21:01 [urllib3.connectionpool] DEBUG: Starting new HTTPS connection (1): www.smh.com.au:443\n"
     ]
    },
    {
     "name": "stdout",
     "output_type": "stream",
     "text": [
      "/sport/nrl/it-s-probably-not-fair-sydney-clubs-to-get-an-advantage-says-green-20200423-p54mib.html\n"
     ]
    },
    {
     "name": "stderr",
     "output_type": "stream",
     "text": [
      "2020-04-24 21:21:01 [urllib3.connectionpool] DEBUG: https://www.smh.com.au:443 \"GET //sport/nrl/it-s-probably-not-fair-sydney-clubs-to-get-an-advantage-says-green-20200423-p54mib.html HTTP/1.1\" 200 45186\n",
      "2020-04-24 21:21:02 [urllib3.connectionpool] DEBUG: Starting new HTTPS connection (1): www.smh.com.au:443\n"
     ]
    },
    {
     "name": "stdout",
     "output_type": "stream",
     "text": [
      "/topic/nrl-2020-1n9q\n",
      "/sport/nrl/it-s-probably-not-fair-sydney-clubs-to-get-an-advantage-says-green-20200423-p54mib.html\n"
     ]
    },
    {
     "name": "stderr",
     "output_type": "stream",
     "text": [
      "2020-04-24 21:21:03 [urllib3.connectionpool] DEBUG: https://www.smh.com.au:443 \"GET //sport/nrl/it-s-probably-not-fair-sydney-clubs-to-get-an-advantage-says-green-20200423-p54mib.html HTTP/1.1\" 200 45186\n",
      "2020-04-24 21:21:04 [urllib3.connectionpool] DEBUG: Starting new HTTPS connection (1): www.smh.com.au:443\n"
     ]
    },
    {
     "name": "stdout",
     "output_type": "stream",
     "text": [
      "/sport/basketball/it-just-exploded-how-jordan-s-stardom-changed-australia-s-sporting-culture-20200424-p54mvf.html\n"
     ]
    },
    {
     "name": "stderr",
     "output_type": "stream",
     "text": [
      "2020-04-24 21:21:04 [urllib3.connectionpool] DEBUG: https://www.smh.com.au:443 \"GET //sport/basketball/it-just-exploded-how-jordan-s-stardom-changed-australia-s-sporting-culture-20200424-p54mvf.html HTTP/1.1\" 200 47724\n",
      "2020-04-24 21:21:04 [urllib3.connectionpool] DEBUG: Starting new HTTPS connection (1): www.smh.com.au:443\n"
     ]
    },
    {
     "name": "stdout",
     "output_type": "stream",
     "text": [
      "/sport/why-it-s-high-time-gladys-put-the-nrl-in-its-place-20200424-p54n1f.html\n"
     ]
    },
    {
     "name": "stderr",
     "output_type": "stream",
     "text": [
      "2020-04-24 21:21:05 [urllib3.connectionpool] DEBUG: https://www.smh.com.au:443 \"GET //sport/why-it-s-high-time-gladys-put-the-nrl-in-its-place-20200424-p54n1f.html HTTP/1.1\" 200 53928\n",
      "2020-04-24 21:21:05 [urllib3.connectionpool] DEBUG: Starting new HTTPS connection (1): www.smh.com.au:443\n"
     ]
    },
    {
     "name": "stdout",
     "output_type": "stream",
     "text": [
      "/sport/amateur-hour-returns-as-castle-crumbling-sends-rugby-back-to-the-past-20200424-p54mtn.html\n"
     ]
    },
    {
     "name": "stderr",
     "output_type": "stream",
     "text": [
      "2020-04-24 21:21:06 [urllib3.connectionpool] DEBUG: https://www.smh.com.au:443 \"GET //sport/amateur-hour-returns-as-castle-crumbling-sends-rugby-back-to-the-past-20200424-p54mtn.html HTTP/1.1\" 200 50163\n",
      "2020-04-24 21:21:06 [urllib3.connectionpool] DEBUG: Starting new HTTPS connection (1): www.smh.com.au:443\n"
     ]
    },
    {
     "name": "stdout",
     "output_type": "stream",
     "text": [
      "/sport/rugby-union\n",
      "/sport/rugby-union/the-final-betrayal-that-caused-castle-to-crumble-20200424-p54n2u.html\n"
     ]
    },
    {
     "name": "stderr",
     "output_type": "stream",
     "text": [
      "2020-04-24 21:21:08 [urllib3.connectionpool] DEBUG: https://www.smh.com.au:443 \"GET //sport/rugby-union/the-final-betrayal-that-caused-castle-to-crumble-20200424-p54n2u.html HTTP/1.1\" 200 47605\n",
      "2020-04-24 21:21:08 [urllib3.connectionpool] DEBUG: Starting new HTTPS connection (1): www.smh.com.au:443\n"
     ]
    },
    {
     "name": "stdout",
     "output_type": "stream",
     "text": [
      "/topic/raelene-castle-1n7l\n",
      "/sport/rugby-union/the-final-betrayal-that-caused-castle-to-crumble-20200424-p54n2u.html\n"
     ]
    },
    {
     "name": "stderr",
     "output_type": "stream",
     "text": [
      "2020-04-24 21:21:08 [urllib3.connectionpool] DEBUG: https://www.smh.com.au:443 \"GET //sport/rugby-union/the-final-betrayal-that-caused-castle-to-crumble-20200424-p54n2u.html HTTP/1.1\" 200 47605\n",
      "2020-04-24 21:21:08 [urllib3.connectionpool] DEBUG: Starting new HTTPS connection (1): www.smh.com.au:443\n"
     ]
    },
    {
     "name": "stdout",
     "output_type": "stream",
     "text": [
      "/sport/rugby-union/disappointed-but-committed-rennie-to-stick-with-wallabies-despite-castle-exit-20200424-p54n2z.html\n"
     ]
    },
    {
     "name": "stderr",
     "output_type": "stream",
     "text": [
      "2020-04-24 21:21:09 [urllib3.connectionpool] DEBUG: https://www.smh.com.au:443 \"GET //sport/rugby-union/disappointed-but-committed-rennie-to-stick-with-wallabies-despite-castle-exit-20200424-p54n2z.html HTTP/1.1\" 200 44099\n",
      "2020-04-24 21:21:09 [urllib3.connectionpool] DEBUG: Starting new HTTPS connection (1): www.smh.com.au:443\n"
     ]
    },
    {
     "name": "stdout",
     "output_type": "stream",
     "text": [
      "/topic/dave-rennie-1nbb\n",
      "/sport/rugby-union/disappointed-but-committed-rennie-to-stick-with-wallabies-despite-castle-exit-20200424-p54n2z.html\n"
     ]
    },
    {
     "name": "stderr",
     "output_type": "stream",
     "text": [
      "2020-04-24 21:21:09 [urllib3.connectionpool] DEBUG: https://www.smh.com.au:443 \"GET //sport/rugby-union/disappointed-but-committed-rennie-to-stick-with-wallabies-despite-castle-exit-20200424-p54n2z.html HTTP/1.1\" 200 44099\n",
      "2020-04-24 21:21:10 [urllib3.connectionpool] DEBUG: Starting new HTTPS connection (1): www.smh.com.au:443\n"
     ]
    },
    {
     "name": "stdout",
     "output_type": "stream",
     "text": [
      "/sport/rugby-union/dark-forces-mclean-slams-castle-abusers-20200424-p54mvi.html\n"
     ]
    },
    {
     "name": "stderr",
     "output_type": "stream",
     "text": [
      "2020-04-24 21:21:10 [urllib3.connectionpool] DEBUG: https://www.smh.com.au:443 \"GET //sport/rugby-union/dark-forces-mclean-slams-castle-abusers-20200424-p54mvi.html HTTP/1.1\" 200 42957\n",
      "2020-04-24 21:21:10 [urllib3.connectionpool] DEBUG: Starting new HTTPS connection (1): www.smh.com.au:443\n"
     ]
    },
    {
     "name": "stdout",
     "output_type": "stream",
     "text": [
      "/topic/australian-rugby-5um\n",
      "/sport/rugby-union/dark-forces-mclean-slams-castle-abusers-20200424-p54mvi.html\n"
     ]
    },
    {
     "name": "stderr",
     "output_type": "stream",
     "text": [
      "2020-04-24 21:21:11 [urllib3.connectionpool] DEBUG: https://www.smh.com.au:443 \"GET //sport/rugby-union/dark-forces-mclean-slams-castle-abusers-20200424-p54mvi.html HTTP/1.1\" 200 42957\n",
      "2020-04-24 21:21:11 [urllib3.connectionpool] DEBUG: Starting new HTTPS connection (1): www.smh.com.au:443\n"
     ]
    },
    {
     "name": "stdout",
     "output_type": "stream",
     "text": [
      "/sport/rugby-union/knows-nothing-about-the-game-jones-sends-castle-on-her-way-20200424-p54mut.html\n"
     ]
    },
    {
     "name": "stderr",
     "output_type": "stream",
     "text": [
      "2020-04-24 21:21:11 [urllib3.connectionpool] DEBUG: https://www.smh.com.au:443 \"GET //sport/rugby-union/knows-nothing-about-the-game-jones-sends-castle-on-her-way-20200424-p54mut.html HTTP/1.1\" 200 43692\n",
      "2020-04-24 21:21:12 [urllib3.connectionpool] DEBUG: Starting new HTTPS connection (1): www.smh.com.au:443\n"
     ]
    },
    {
     "name": "stdout",
     "output_type": "stream",
     "text": [
      "/topic/australian-rugby-5um\n",
      "/sport/rugby-union/knows-nothing-about-the-game-jones-sends-castle-on-her-way-20200424-p54mut.html\n"
     ]
    },
    {
     "name": "stderr",
     "output_type": "stream",
     "text": [
      "2020-04-24 21:21:12 [urllib3.connectionpool] DEBUG: https://www.smh.com.au:443 \"GET //sport/rugby-union/knows-nothing-about-the-game-jones-sends-castle-on-her-way-20200424-p54mut.html HTTP/1.1\" 200 43692\n",
      "2020-04-24 21:21:12 [urllib3.connectionpool] DEBUG: Starting new HTTPS connection (1): www.smh.com.au:443\n"
     ]
    },
    {
     "name": "stdout",
     "output_type": "stream",
     "text": [
      "/sport/amateur-hour-returns-as-castle-crumbling-sends-rugby-back-to-the-past-20200424-p54mtn.html\n"
     ]
    },
    {
     "name": "stderr",
     "output_type": "stream",
     "text": [
      "2020-04-24 21:21:12 [urllib3.connectionpool] DEBUG: https://www.smh.com.au:443 \"GET //sport/amateur-hour-returns-as-castle-crumbling-sends-rugby-back-to-the-past-20200424-p54mtn.html HTTP/1.1\" 200 50163\n",
      "2020-04-24 21:21:13 [urllib3.connectionpool] DEBUG: Starting new HTTPS connection (1): www.smh.com.au:443\n"
     ]
    },
    {
     "name": "stdout",
     "output_type": "stream",
     "text": [
      "/topic/rugby-australia--1mxj\n",
      "/sport/amateur-hour-returns-as-castle-crumbling-sends-rugby-back-to-the-past-20200424-p54mtn.html\n"
     ]
    },
    {
     "name": "stderr",
     "output_type": "stream",
     "text": [
      "2020-04-24 21:21:13 [urllib3.connectionpool] DEBUG: https://www.smh.com.au:443 \"GET //sport/amateur-hour-returns-as-castle-crumbling-sends-rugby-back-to-the-past-20200424-p54mtn.html HTTP/1.1\" 200 50163\n",
      "2020-04-24 21:21:13 [urllib3.connectionpool] DEBUG: Starting new HTTPS connection (1): www.smh.com.au:443\n"
     ]
    },
    {
     "name": "stdout",
     "output_type": "stream",
     "text": [
      "/sport/rugby-union/castle-s-end-a-mix-of-poor-judgment-fatal-missteps-and-rotten-luck-20200423-p54mrd.html\n"
     ]
    },
    {
     "name": "stderr",
     "output_type": "stream",
     "text": [
      "2020-04-24 21:21:14 [urllib3.connectionpool] DEBUG: https://www.smh.com.au:443 \"GET //sport/rugby-union/castle-s-end-a-mix-of-poor-judgment-fatal-missteps-and-rotten-luck-20200423-p54mrd.html HTTP/1.1\" 200 50783\n",
      "2020-04-24 21:21:14 [urllib3.connectionpool] DEBUG: Starting new HTTPS connection (1): www.smh.com.au:443\n"
     ]
    },
    {
     "name": "stdout",
     "output_type": "stream",
     "text": [
      "/topic/rugby-australia--1mxj\n",
      "/sport/rugby-union/castle-s-end-a-mix-of-poor-judgment-fatal-missteps-and-rotten-luck-20200423-p54mrd.html\n"
     ]
    },
    {
     "name": "stderr",
     "output_type": "stream",
     "text": [
      "2020-04-24 21:21:14 [urllib3.connectionpool] DEBUG: https://www.smh.com.au:443 \"GET //sport/rugby-union/castle-s-end-a-mix-of-poor-judgment-fatal-missteps-and-rotten-luck-20200423-p54mrd.html HTTP/1.1\" 200 50783\n",
      "2020-04-24 21:21:14 [urllib3.connectionpool] DEBUG: Starting new HTTPS connection (1): www.smh.com.au:443\n"
     ]
    },
    {
     "name": "stdout",
     "output_type": "stream",
     "text": [
      "/sport/cricket\n",
      "/sport/cricket/howzat-possible-cricket-australia-says-big-hits-will-keep-coming-20200424-p54n00.html\n"
     ]
    },
    {
     "name": "stderr",
     "output_type": "stream",
     "text": [
      "2020-04-24 21:21:15 [urllib3.connectionpool] DEBUG: https://www.smh.com.au:443 \"GET //sport/cricket/howzat-possible-cricket-australia-says-big-hits-will-keep-coming-20200424-p54n00.html HTTP/1.1\" 200 49889\n",
      "2020-04-24 21:21:15 [urllib3.connectionpool] DEBUG: Starting new HTTPS connection (1): www.smh.com.au:443\n"
     ]
    },
    {
     "name": "stdout",
     "output_type": "stream",
     "text": [
      "/topic/australian-cricket-jf3\n",
      "/sport/cricket/howzat-possible-cricket-australia-says-big-hits-will-keep-coming-20200424-p54n00.html\n"
     ]
    },
    {
     "name": "stderr",
     "output_type": "stream",
     "text": [
      "2020-04-24 21:21:15 [urllib3.connectionpool] DEBUG: https://www.smh.com.au:443 \"GET //sport/cricket/howzat-possible-cricket-australia-says-big-hits-will-keep-coming-20200424-p54n00.html HTTP/1.1\" 200 49889\n",
      "2020-04-24 21:21:16 [urllib3.connectionpool] DEBUG: Starting new HTTPS connection (1): www.smh.com.au:443\n"
     ]
    },
    {
     "name": "stdout",
     "output_type": "stream",
     "text": [
      "/sport/cricket/roberts-to-take-back-seat-in-pay-talks-with-players-20200424-p54n2t.html\n"
     ]
    },
    {
     "name": "stderr",
     "output_type": "stream",
     "text": [
      "2020-04-24 21:21:16 [urllib3.connectionpool] DEBUG: https://www.smh.com.au:443 \"GET //sport/cricket/roberts-to-take-back-seat-in-pay-talks-with-players-20200424-p54n2t.html HTTP/1.1\" 200 42681\n",
      "2020-04-24 21:21:17 [urllib3.connectionpool] DEBUG: Starting new HTTPS connection (1): www.smh.com.au:443\n"
     ]
    },
    {
     "name": "stdout",
     "output_type": "stream",
     "text": [
      "/topic/australian-cricket-jf3\n",
      "/sport/cricket/roberts-to-take-back-seat-in-pay-talks-with-players-20200424-p54n2t.html\n"
     ]
    },
    {
     "name": "stderr",
     "output_type": "stream",
     "text": [
      "2020-04-24 21:21:17 [urllib3.connectionpool] DEBUG: https://www.smh.com.au:443 \"GET //sport/cricket/roberts-to-take-back-seat-in-pay-talks-with-players-20200424-p54n2t.html HTTP/1.1\" 200 42681\n",
      "2020-04-24 21:21:18 [urllib3.connectionpool] DEBUG: Starting new HTTPS connection (1): www.smh.com.au:443\n"
     ]
    },
    {
     "name": "stdout",
     "output_type": "stream",
     "text": [
      "/sport/cricket/cricket-australia-players-in-stand-off-over-potential-pay-cuts-20200423-p54mox.html\n"
     ]
    },
    {
     "name": "stderr",
     "output_type": "stream",
     "text": [
      "2020-04-24 21:21:18 [urllib3.connectionpool] DEBUG: https://www.smh.com.au:443 \"GET //sport/cricket/cricket-australia-players-in-stand-off-over-potential-pay-cuts-20200423-p54mox.html HTTP/1.1\" 200 43568\n",
      "2020-04-24 21:21:19 [urllib3.connectionpool] DEBUG: Starting new HTTPS connection (1): www.smh.com.au:443\n"
     ]
    },
    {
     "name": "stdout",
     "output_type": "stream",
     "text": [
      "/topic/australian-cricket-jf3\n",
      "/sport/cricket/cricket-australia-players-in-stand-off-over-potential-pay-cuts-20200423-p54mox.html\n"
     ]
    },
    {
     "name": "stderr",
     "output_type": "stream",
     "text": [
      "2020-04-24 21:21:19 [urllib3.connectionpool] DEBUG: https://www.smh.com.au:443 \"GET //sport/cricket/cricket-australia-players-in-stand-off-over-potential-pay-cuts-20200423-p54mox.html HTTP/1.1\" 200 43568\n",
      "2020-04-24 21:21:19 [urllib3.connectionpool] DEBUG: Starting new HTTPS connection (1): www.smh.com.au:443\n"
     ]
    },
    {
     "name": "stdout",
     "output_type": "stream",
     "text": [
      "/sport/cricket/icc-keep-planning-on-twenty20-world-cup-in-australia-this-year-20200424-p54mur.html\n"
     ]
    },
    {
     "name": "stderr",
     "output_type": "stream",
     "text": [
      "2020-04-24 21:21:20 [urllib3.connectionpool] DEBUG: https://www.smh.com.au:443 \"GET //sport/cricket/icc-keep-planning-on-twenty20-world-cup-in-australia-this-year-20200424-p54mur.html HTTP/1.1\" 200 38910\n",
      "2020-04-24 21:21:20 [urllib3.connectionpool] DEBUG: Starting new HTTPS connection (1): www.smh.com.au:443\n"
     ]
    },
    {
     "name": "stdout",
     "output_type": "stream",
     "text": [
      "/topic/cricket-world-cup-5w3\n",
      "/sport/cricket/icc-keep-planning-on-twenty20-world-cup-in-australia-this-year-20200424-p54mur.html\n"
     ]
    },
    {
     "name": "stderr",
     "output_type": "stream",
     "text": [
      "2020-04-24 21:21:20 [urllib3.connectionpool] DEBUG: https://www.smh.com.au:443 \"GET //sport/cricket/icc-keep-planning-on-twenty20-world-cup-in-australia-this-year-20200424-p54mur.html HTTP/1.1\" 200 38910\n",
      "2020-04-24 21:21:21 [urllib3.connectionpool] DEBUG: Starting new HTTPS connection (1): www.smh.com.au:443\n"
     ]
    },
    {
     "name": "stdout",
     "output_type": "stream",
     "text": [
      "/sport/cricket/twenty20-world-cup-could-be-pushed-back-until-next-february-20200422-p54maw.html\n"
     ]
    },
    {
     "name": "stderr",
     "output_type": "stream",
     "text": [
      "2020-04-24 21:21:21 [urllib3.connectionpool] DEBUG: https://www.smh.com.au:443 \"GET //sport/cricket/twenty20-world-cup-could-be-pushed-back-until-next-february-20200422-p54maw.html HTTP/1.1\" 200 44160\n",
      "2020-04-24 21:21:22 [urllib3.connectionpool] DEBUG: Starting new HTTPS connection (1): www.smh.com.au:443\n"
     ]
    },
    {
     "name": "stdout",
     "output_type": "stream",
     "text": [
      "/topic/australian-cricket-jf3\n",
      "/sport/cricket/twenty20-world-cup-could-be-pushed-back-until-next-february-20200422-p54maw.html\n"
     ]
    },
    {
     "name": "stderr",
     "output_type": "stream",
     "text": [
      "2020-04-24 21:21:22 [urllib3.connectionpool] DEBUG: https://www.smh.com.au:443 \"GET //sport/cricket/twenty20-world-cup-could-be-pushed-back-until-next-february-20200422-p54maw.html HTTP/1.1\" 200 44160\n",
      "2020-04-24 21:21:22 [urllib3.connectionpool] DEBUG: Starting new HTTPS connection (1): www.smh.com.au:443\n"
     ]
    },
    {
     "name": "stdout",
     "output_type": "stream",
     "text": [
      "/sport/soccer\n",
      "/sport/soccer/plans-for-private-ownership-of-a-league-still-on-table-after-ffa-talks-with-us-firm-20200424-p54n1g.html\n"
     ]
    },
    {
     "name": "stderr",
     "output_type": "stream",
     "text": [
      "2020-04-24 21:21:23 [urllib3.connectionpool] DEBUG: https://www.smh.com.au:443 \"GET //sport/soccer/plans-for-private-ownership-of-a-league-still-on-table-after-ffa-talks-with-us-firm-20200424-p54n1g.html HTTP/1.1\" 200 40659\n",
      "2020-04-24 21:21:23 [urllib3.connectionpool] DEBUG: Starting new HTTPS connection (1): www.smh.com.au:443\n"
     ]
    },
    {
     "name": "stdout",
     "output_type": "stream",
     "text": [
      "/topic/a-league-5tz\n",
      "/sport/soccer/plans-for-private-ownership-of-a-league-still-on-table-after-ffa-talks-with-us-firm-20200424-p54n1g.html\n"
     ]
    },
    {
     "name": "stderr",
     "output_type": "stream",
     "text": [
      "2020-04-24 21:21:23 [urllib3.connectionpool] DEBUG: https://www.smh.com.au:443 \"GET //sport/soccer/plans-for-private-ownership-of-a-league-still-on-table-after-ffa-talks-with-us-firm-20200424-p54n1g.html HTTP/1.1\" 200 40659\n",
      "2020-04-24 21:21:24 [urllib3.connectionpool] DEBUG: Starting new HTTPS connection (1): www.smh.com.au:443\n"
     ]
    },
    {
     "name": "stdout",
     "output_type": "stream",
     "text": [
      "/sport/soccer/uefa-ruling-puts-liverpool-on-course-for-premier-league-title-20200424-p54mta.html\n"
     ]
    },
    {
     "name": "stderr",
     "output_type": "stream",
     "text": [
      "2020-04-24 21:21:24 [urllib3.connectionpool] DEBUG: https://www.smh.com.au:443 \"GET //sport/soccer/uefa-ruling-puts-liverpool-on-course-for-premier-league-title-20200424-p54mta.html HTTP/1.1\" 200 40203\n",
      "2020-04-24 21:21:24 [urllib3.connectionpool] DEBUG: Starting new HTTPS connection (1): www.smh.com.au:443\n"
     ]
    },
    {
     "name": "stdout",
     "output_type": "stream",
     "text": [
      "/topic/english-premier-league-5wr\n",
      "/sport/soccer/uefa-ruling-puts-liverpool-on-course-for-premier-league-title-20200424-p54mta.html\n"
     ]
    },
    {
     "name": "stderr",
     "output_type": "stream",
     "text": [
      "2020-04-24 21:21:25 [urllib3.connectionpool] DEBUG: https://www.smh.com.au:443 \"GET //sport/soccer/uefa-ruling-puts-liverpool-on-course-for-premier-league-title-20200424-p54mta.html HTTP/1.1\" 200 40203\n",
      "2020-04-24 21:21:25 [urllib3.connectionpool] DEBUG: Starting new HTTPS connection (1): www.smh.com.au:443\n"
     ]
    },
    {
     "name": "stdout",
     "output_type": "stream",
     "text": [
      "/sport/soccer/follow-the-rules-italian-a-league-star-s-impassioned-plea-to-australians-20200423-p54mie.html\n"
     ]
    },
    {
     "name": "stderr",
     "output_type": "stream",
     "text": [
      "2020-04-24 21:21:25 [urllib3.connectionpool] DEBUG: https://www.smh.com.au:443 \"GET //sport/soccer/follow-the-rules-italian-a-league-star-s-impassioned-plea-to-australians-20200423-p54mie.html HTTP/1.1\" 200 41399\n",
      "2020-04-24 21:21:26 [urllib3.connectionpool] DEBUG: Starting new HTTPS connection (1): www.smh.com.au:443\n"
     ]
    },
    {
     "name": "stdout",
     "output_type": "stream",
     "text": [
      "/topic/a-league-5tz\n",
      "/sport/soccer/follow-the-rules-italian-a-league-star-s-impassioned-plea-to-australians-20200423-p54mie.html\n"
     ]
    },
    {
     "name": "stderr",
     "output_type": "stream",
     "text": [
      "2020-04-24 21:21:26 [urllib3.connectionpool] DEBUG: https://www.smh.com.au:443 \"GET //sport/soccer/follow-the-rules-italian-a-league-star-s-impassioned-plea-to-australians-20200423-p54mie.html HTTP/1.1\" 200 41399\n",
      "2020-04-24 21:21:26 [urllib3.connectionpool] DEBUG: Starting new HTTPS connection (1): www.smh.com.au:443\n"
     ]
    },
    {
     "name": "stdout",
     "output_type": "stream",
     "text": [
      "/sport/soccer/a-league-to-resume-only-after-government-approval-is-given-20200423-p54mg9.html\n"
     ]
    },
    {
     "name": "stderr",
     "output_type": "stream",
     "text": [
      "2020-04-24 21:21:27 [urllib3.connectionpool] DEBUG: https://www.smh.com.au:443 \"GET //sport/soccer/a-league-to-resume-only-after-government-approval-is-given-20200423-p54mg9.html HTTP/1.1\" 200 40946\n",
      "2020-04-24 21:21:27 [urllib3.connectionpool] DEBUG: Starting new HTTPS connection (1): www.smh.com.au:443\n"
     ]
    },
    {
     "name": "stdout",
     "output_type": "stream",
     "text": [
      "/topic/a-league-5tz\n",
      "/sport/soccer/a-league-to-resume-only-after-government-approval-is-given-20200423-p54mg9.html\n"
     ]
    },
    {
     "name": "stderr",
     "output_type": "stream",
     "text": [
      "2020-04-24 21:21:28 [urllib3.connectionpool] DEBUG: https://www.smh.com.au:443 \"GET //sport/soccer/a-league-to-resume-only-after-government-approval-is-given-20200423-p54mg9.html HTTP/1.1\" 200 40946\n",
      "2020-04-24 21:21:28 [urllib3.connectionpool] DEBUG: Starting new HTTPS connection (1): www.smh.com.au:443\n"
     ]
    },
    {
     "name": "stdout",
     "output_type": "stream",
     "text": [
      "/sport/afl\n",
      "/sport/afl/there-s-a-chance-afl-return-in-june-is-possible-says-victoria-s-chief-health-officer-20200424-p54mw1.html\n"
     ]
    },
    {
     "name": "stderr",
     "output_type": "stream",
     "text": [
      "2020-04-24 21:21:29 [urllib3.connectionpool] DEBUG: https://www.smh.com.au:443 \"GET //sport/afl/there-s-a-chance-afl-return-in-june-is-possible-says-victoria-s-chief-health-officer-20200424-p54mw1.html HTTP/1.1\" 200 44856\n",
      "2020-04-24 21:21:29 [urllib3.connectionpool] DEBUG: Starting new HTTPS connection (1): www.smh.com.au:443\n"
     ]
    },
    {
     "name": "stdout",
     "output_type": "stream",
     "text": [
      "/topic/afl-2020-1n9r\n",
      "/sport/afl/there-s-a-chance-afl-return-in-june-is-possible-says-victoria-s-chief-health-officer-20200424-p54mw1.html\n"
     ]
    },
    {
     "name": "stderr",
     "output_type": "stream",
     "text": [
      "2020-04-24 21:21:30 [urllib3.connectionpool] DEBUG: https://www.smh.com.au:443 \"GET //sport/afl/there-s-a-chance-afl-return-in-june-is-possible-says-victoria-s-chief-health-officer-20200424-p54mw1.html HTTP/1.1\" 200 44856\n",
      "2020-04-24 21:21:31 [urllib3.connectionpool] DEBUG: Starting new HTTPS connection (1): www.smh.com.au:443\n"
     ]
    },
    {
     "name": "stdout",
     "output_type": "stream",
     "text": [
      "/sport/afl/ben-cousins-arrested-again-in-perth-20200423-p54mgs.html\n"
     ]
    },
    {
     "name": "stderr",
     "output_type": "stream",
     "text": [
      "2020-04-24 21:21:31 [urllib3.connectionpool] DEBUG: https://www.smh.com.au:443 \"GET //sport/afl/ben-cousins-arrested-again-in-perth-20200423-p54mgs.html HTTP/1.1\" 200 42077\n",
      "2020-04-24 21:21:32 [urllib3.connectionpool] DEBUG: Starting new HTTPS connection (1): www.smh.com.au:443\n"
     ]
    },
    {
     "name": "stdout",
     "output_type": "stream",
     "text": [
      "/topic/afl-off-field-behaviour-1mv0\n",
      "/sport/afl/ben-cousins-arrested-again-in-perth-20200423-p54mgs.html\n"
     ]
    },
    {
     "name": "stderr",
     "output_type": "stream",
     "text": [
      "2020-04-24 21:21:32 [urllib3.connectionpool] DEBUG: https://www.smh.com.au:443 \"GET //sport/afl/ben-cousins-arrested-again-in-perth-20200423-p54mgs.html HTTP/1.1\" 200 42077\n",
      "2020-04-24 21:21:32 [urllib3.connectionpool] DEBUG: Starting new HTTPS connection (1): www.smh.com.au:443\n"
     ]
    },
    {
     "name": "stdout",
     "output_type": "stream",
     "text": [
      "/sport/afl/blacktown-could-host-afl-games-under-joint-giants-swans-proposal-20200422-p54m96.html\n"
     ]
    },
    {
     "name": "stderr",
     "output_type": "stream",
     "text": [
      "2020-04-24 21:21:33 [urllib3.connectionpool] DEBUG: https://www.smh.com.au:443 \"GET //sport/afl/blacktown-could-host-afl-games-under-joint-giants-swans-proposal-20200422-p54m96.html HTTP/1.1\" 200 42363\n",
      "2020-04-24 21:21:33 [urllib3.connectionpool] DEBUG: Starting new HTTPS connection (1): www.smh.com.au:443\n"
     ]
    },
    {
     "name": "stdout",
     "output_type": "stream",
     "text": [
      "/topic/afl-2020-1n9r\n",
      "/sport/afl/blacktown-could-host-afl-games-under-joint-giants-swans-proposal-20200422-p54m96.html\n"
     ]
    },
    {
     "name": "stderr",
     "output_type": "stream",
     "text": [
      "2020-04-24 21:21:33 [urllib3.connectionpool] DEBUG: https://www.smh.com.au:443 \"GET //sport/afl/blacktown-could-host-afl-games-under-joint-giants-swans-proposal-20200422-p54m96.html HTTP/1.1\" 200 42363\n",
      "2020-04-24 21:21:34 [urllib3.connectionpool] DEBUG: Starting new HTTPS connection (1): www.smh.com.au:443\n"
     ]
    },
    {
     "name": "stdout",
     "output_type": "stream",
     "text": [
      "/sport/nfl/call-came-out-of-the-blue-interest-in-former-saint-ahead-of-nfl-draft-20200422-p54m7c.html\n"
     ]
    },
    {
     "name": "stderr",
     "output_type": "stream",
     "text": [
      "2020-04-24 21:21:34 [urllib3.connectionpool] DEBUG: https://www.smh.com.au:443 \"GET //sport/nfl/call-came-out-of-the-blue-interest-in-former-saint-ahead-of-nfl-draft-20200422-p54m7c.html HTTP/1.1\" 200 39287\n",
      "2020-04-24 21:21:34 [urllib3.connectionpool] DEBUG: Starting new HTTPS connection (1): www.smh.com.au:443\n"
     ]
    },
    {
     "name": "stdout",
     "output_type": "stream",
     "text": [
      "/topic/nfl-2020-1nd4\n",
      "/sport/nfl/call-came-out-of-the-blue-interest-in-former-saint-ahead-of-nfl-draft-20200422-p54m7c.html\n"
     ]
    },
    {
     "name": "stderr",
     "output_type": "stream",
     "text": [
      "2020-04-24 21:21:35 [urllib3.connectionpool] DEBUG: https://www.smh.com.au:443 \"GET //sport/nfl/call-came-out-of-the-blue-interest-in-former-saint-ahead-of-nfl-draft-20200422-p54m7c.html HTTP/1.1\" 200 39287\n",
      "2020-04-24 21:21:35 [urllib3.connectionpool] DEBUG: Starting new HTTPS connection (1): www.smh.com.au:443\n"
     ]
    },
    {
     "name": "stdout",
     "output_type": "stream",
     "text": [
      "/sport/afl/hubs-to-be-ready-across-the-country-20200421-p54lw7.html\n"
     ]
    },
    {
     "name": "stderr",
     "output_type": "stream",
     "text": [
      "2020-04-24 21:21:36 [urllib3.connectionpool] DEBUG: https://www.smh.com.au:443 \"GET //sport/afl/hubs-to-be-ready-across-the-country-20200421-p54lw7.html HTTP/1.1\" 200 44058\n",
      "2020-04-24 21:21:36 [urllib3.connectionpool] DEBUG: Starting new HTTPS connection (1): www.smh.com.au:443\n"
     ]
    },
    {
     "name": "stdout",
     "output_type": "stream",
     "text": [
      "/topic/afl-2020-1n9r\n",
      "/sport/afl/hubs-to-be-ready-across-the-country-20200421-p54lw7.html\n"
     ]
    },
    {
     "name": "stderr",
     "output_type": "stream",
     "text": [
      "2020-04-24 21:21:36 [urllib3.connectionpool] DEBUG: https://www.smh.com.au:443 \"GET //sport/afl/hubs-to-be-ready-across-the-country-20200421-p54lw7.html HTTP/1.1\" 200 44058\n",
      "2020-04-24 21:21:36 [urllib3.connectionpool] DEBUG: Starting new HTTPS connection (1): www.smh.com.au:443\n"
     ]
    },
    {
     "name": "stdout",
     "output_type": "stream",
     "text": [
      "/sport/racing\n",
      "/sport/racing/race-by-race-tips-and-preview-for-rosehill-on-saturday-20200424-p54mua.html\n"
     ]
    },
    {
     "name": "stderr",
     "output_type": "stream",
     "text": [
      "2020-04-24 21:21:38 [urllib3.connectionpool] DEBUG: https://www.smh.com.au:443 \"GET //sport/racing/race-by-race-tips-and-preview-for-rosehill-on-saturday-20200424-p54mua.html HTTP/1.1\" 200 42794\n",
      "2020-04-24 21:21:38 [urllib3.connectionpool] DEBUG: Starting new HTTPS connection (1): www.smh.com.au:443\n"
     ]
    },
    {
     "name": "stdout",
     "output_type": "stream",
     "text": [
      "/topic/horse-racing-1n6g\n",
      "/sport/racing/race-by-race-tips-and-preview-for-rosehill-on-saturday-20200424-p54mua.html\n"
     ]
    },
    {
     "name": "stderr",
     "output_type": "stream",
     "text": [
      "2020-04-24 21:21:39 [urllib3.connectionpool] DEBUG: https://www.smh.com.au:443 \"GET //sport/racing/race-by-race-tips-and-preview-for-rosehill-on-saturday-20200424-p54mua.html HTTP/1.1\" 200 42794\n",
      "2020-04-24 21:21:39 [urllib3.connectionpool] DEBUG: Starting new HTTPS connection (1): www.smh.com.au:443\n"
     ]
    },
    {
     "name": "stdout",
     "output_type": "stream",
     "text": [
      "/sport/racing/sun-sets-on-autumn-carnival-and-star-trio-but-intrigue-still-on-horizon-20200424-p54mya.html\n"
     ]
    },
    {
     "name": "stderr",
     "output_type": "stream",
     "text": [
      "2020-04-24 21:21:40 [urllib3.connectionpool] DEBUG: https://www.smh.com.au:443 \"GET //sport/racing/sun-sets-on-autumn-carnival-and-star-trio-but-intrigue-still-on-horizon-20200424-p54mya.html HTTP/1.1\" 200 41732\n",
      "2020-04-24 21:21:41 [urllib3.connectionpool] DEBUG: Starting new HTTPS connection (1): www.smh.com.au:443\n"
     ]
    },
    {
     "name": "stdout",
     "output_type": "stream",
     "text": [
      "/topic/horse-racing-1n6g\n",
      "/sport/racing/sun-sets-on-autumn-carnival-and-star-trio-but-intrigue-still-on-horizon-20200424-p54mya.html\n"
     ]
    },
    {
     "name": "stderr",
     "output_type": "stream",
     "text": [
      "2020-04-24 21:21:41 [urllib3.connectionpool] DEBUG: https://www.smh.com.au:443 \"GET //sport/racing/sun-sets-on-autumn-carnival-and-star-trio-but-intrigue-still-on-horizon-20200424-p54mya.html HTTP/1.1\" 200 41732\n",
      "2020-04-24 21:21:41 [urllib3.connectionpool] DEBUG: Starting new HTTPS connection (1): www.smh.com.au:443\n"
     ]
    },
    {
     "name": "stdout",
     "output_type": "stream",
     "text": [
      "/sport/racing/boss-the-key-to-hawkesbury-cup-hopes-for-live-and-free-20200424-p54mzm.html\n"
     ]
    },
    {
     "name": "stderr",
     "output_type": "stream",
     "text": [
      "2020-04-24 21:21:42 [urllib3.connectionpool] DEBUG: https://www.smh.com.au:443 \"GET //sport/racing/boss-the-key-to-hawkesbury-cup-hopes-for-live-and-free-20200424-p54mzm.html HTTP/1.1\" 200 40055\n",
      "2020-04-24 21:21:42 [urllib3.connectionpool] DEBUG: Starting new HTTPS connection (1): www.smh.com.au:443\n"
     ]
    },
    {
     "name": "stdout",
     "output_type": "stream",
     "text": [
      "/topic/horse-racing-1n6g\n",
      "/sport/racing/boss-the-key-to-hawkesbury-cup-hopes-for-live-and-free-20200424-p54mzm.html\n"
     ]
    },
    {
     "name": "stderr",
     "output_type": "stream",
     "text": [
      "2020-04-24 21:21:42 [urllib3.connectionpool] DEBUG: https://www.smh.com.au:443 \"GET //sport/racing/boss-the-key-to-hawkesbury-cup-hopes-for-live-and-free-20200424-p54mzm.html HTTP/1.1\" 200 40055\n",
      "2020-04-24 21:21:42 [urllib3.connectionpool] DEBUG: Starting new HTTPS connection (1): www.smh.com.au:443\n"
     ]
    },
    {
     "name": "stdout",
     "output_type": "stream",
     "text": [
      "/sport/racing/patient-ryan-puts-bandersnatch-to-guineas-test-20200424-p54n02.html\n"
     ]
    },
    {
     "name": "stderr",
     "output_type": "stream",
     "text": [
      "2020-04-24 21:21:43 [urllib3.connectionpool] DEBUG: https://www.smh.com.au:443 \"GET //sport/racing/patient-ryan-puts-bandersnatch-to-guineas-test-20200424-p54n02.html HTTP/1.1\" 200 39969\n",
      "2020-04-24 21:21:43 [urllib3.connectionpool] DEBUG: Starting new HTTPS connection (1): www.smh.com.au:443\n"
     ]
    },
    {
     "name": "stdout",
     "output_type": "stream",
     "text": [
      "/topic/horse-racing-1n6g\n",
      "/sport/racing/patient-ryan-puts-bandersnatch-to-guineas-test-20200424-p54n02.html\n"
     ]
    },
    {
     "name": "stderr",
     "output_type": "stream",
     "text": [
      "2020-04-24 21:21:44 [urllib3.connectionpool] DEBUG: https://www.smh.com.au:443 \"GET //sport/racing/patient-ryan-puts-bandersnatch-to-guineas-test-20200424-p54n02.html HTTP/1.1\" 200 39969\n",
      "2020-04-24 21:21:44 [urllib3.connectionpool] DEBUG: Starting new HTTPS connection (1): www.smh.com.au:443\n"
     ]
    },
    {
     "name": "stdout",
     "output_type": "stream",
     "text": [
      "/sport/tennis/tennis-australia-s-pandemic-cover-set-to-expire-20200424-p54n2a.html\n"
     ]
    },
    {
     "name": "stderr",
     "output_type": "stream",
     "text": [
      "2020-04-24 21:21:44 [urllib3.connectionpool] DEBUG: https://www.smh.com.au:443 \"GET //sport/tennis/tennis-australia-s-pandemic-cover-set-to-expire-20200424-p54n2a.html HTTP/1.1\" 200 40875\n",
      "2020-04-24 21:21:44 [urllib3.connectionpool] DEBUG: Starting new HTTPS connection (1): www.smh.com.au:443\n"
     ]
    },
    {
     "name": "stdout",
     "output_type": "stream",
     "text": [
      "/topic/australian-open-tennis-5up\n",
      "/sport/tennis/tennis-australia-s-pandemic-cover-set-to-expire-20200424-p54n2a.html\n"
     ]
    },
    {
     "name": "stderr",
     "output_type": "stream",
     "text": [
      "2020-04-24 21:21:45 [urllib3.connectionpool] DEBUG: https://www.smh.com.au:443 \"GET //sport/tennis/tennis-australia-s-pandemic-cover-set-to-expire-20200424-p54n2a.html HTTP/1.1\" 200 40875\n",
      "2020-04-24 21:21:45 [urllib3.connectionpool] DEBUG: Starting new HTTPS connection (1): www.smh.com.au:443\n"
     ]
    },
    {
     "name": "stdout",
     "output_type": "stream",
     "text": [
      "/sport/tennis/tennis-australia-on-verge-of-rolling-out-new-domestic-competition-20200424-p54myd.html\n"
     ]
    },
    {
     "name": "stderr",
     "output_type": "stream",
     "text": [
      "2020-04-24 21:21:46 [urllib3.connectionpool] DEBUG: https://www.smh.com.au:443 \"GET //sport/tennis/tennis-australia-on-verge-of-rolling-out-new-domestic-competition-20200424-p54myd.html HTTP/1.1\" 200 43763\n",
      "2020-04-24 21:21:46 [urllib3.connectionpool] DEBUG: Starting new HTTPS connection (1): www.smh.com.au:443\n"
     ]
    },
    {
     "name": "stdout",
     "output_type": "stream",
     "text": [
      "/topic/tennis-australia-1nac\n",
      "/sport/tennis/tennis-australia-on-verge-of-rolling-out-new-domestic-competition-20200424-p54myd.html\n"
     ]
    },
    {
     "name": "stderr",
     "output_type": "stream",
     "text": [
      "2020-04-24 21:21:46 [urllib3.connectionpool] DEBUG: https://www.smh.com.au:443 \"GET //sport/tennis/tennis-australia-on-verge-of-rolling-out-new-domestic-competition-20200424-p54myd.html HTTP/1.1\" 200 43763\n",
      "2020-04-24 21:21:47 [urllib3.connectionpool] DEBUG: Starting new HTTPS connection (1): www.smh.com.au:443\n"
     ]
    },
    {
     "name": "stdout",
     "output_type": "stream",
     "text": [
      "/sport/basketball/no-bull-missing-a-new-york-dance-with-jordan-a-regret-20200423-p54mml.html\n"
     ]
    },
    {
     "name": "stderr",
     "output_type": "stream",
     "text": [
      "2020-04-24 21:21:47 [urllib3.connectionpool] DEBUG: https://www.smh.com.au:443 \"GET //sport/basketball/no-bull-missing-a-new-york-dance-with-jordan-a-regret-20200423-p54mml.html HTTP/1.1\" 200 44912\n",
      "2020-04-24 21:21:48 [urllib3.connectionpool] DEBUG: Starting new HTTPS connection (1): www.smh.com.au:443\n"
     ]
    },
    {
     "name": "stdout",
     "output_type": "stream",
     "text": [
      "/topic/national-basketball-association-649\n",
      "/sport/basketball/no-bull-missing-a-new-york-dance-with-jordan-a-regret-20200423-p54mml.html\n"
     ]
    },
    {
     "name": "stderr",
     "output_type": "stream",
     "text": [
      "2020-04-24 21:21:48 [urllib3.connectionpool] DEBUG: https://www.smh.com.au:443 \"GET //sport/basketball/no-bull-missing-a-new-york-dance-with-jordan-a-regret-20200423-p54mml.html HTTP/1.1\" 200 44912\n",
      "2020-04-24 21:21:49 [urllib3.connectionpool] DEBUG: Starting new HTTPS connection (1): www.smh.com.au:443\n"
     ]
    },
    {
     "name": "stdout",
     "output_type": "stream",
     "text": [
      "/sport/nfl/bengals-take-quarterback-burrow-at-no-1-in-nfl-draft-20200424-p54mvs.html\n"
     ]
    },
    {
     "name": "stderr",
     "output_type": "stream",
     "text": [
      "2020-04-24 21:21:49 [urllib3.connectionpool] DEBUG: https://www.smh.com.au:443 \"GET //sport/nfl/bengals-take-quarterback-burrow-at-no-1-in-nfl-draft-20200424-p54mvs.html HTTP/1.1\" 200 38836\n",
      "2020-04-24 21:21:49 [urllib3.connectionpool] DEBUG: Starting new HTTPS connection (1): www.smh.com.au:443\n"
     ]
    },
    {
     "name": "stdout",
     "output_type": "stream",
     "text": [
      "/topic/nfl-2020-1nd4\n",
      "/sport/nfl/bengals-take-quarterback-burrow-at-no-1-in-nfl-draft-20200424-p54mvs.html\n"
     ]
    },
    {
     "name": "stderr",
     "output_type": "stream",
     "text": [
      "2020-04-24 21:21:50 [urllib3.connectionpool] DEBUG: https://www.smh.com.au:443 \"GET //sport/nfl/bengals-take-quarterback-burrow-at-no-1-in-nfl-draft-20200424-p54mvs.html HTTP/1.1\" 200 38836\n",
      "2020-04-24 21:21:50 [urllib3.connectionpool] DEBUG: Starting new HTTPS connection (1): www.smh.com.au:443\n"
     ]
    },
    {
     "name": "stdout",
     "output_type": "stream",
     "text": [
      "/sport/basketball/australian-basketball-forms-expert-panel-to-plan-post-covid-19-recovery-20200423-p54mob.html\n"
     ]
    },
    {
     "name": "stderr",
     "output_type": "stream",
     "text": [
      "2020-04-24 21:21:50 [urllib3.connectionpool] DEBUG: https://www.smh.com.au:443 \"GET //sport/basketball/australian-basketball-forms-expert-panel-to-plan-post-covid-19-recovery-20200423-p54mob.html HTTP/1.1\" 200 41010\n",
      "2020-04-24 21:21:51 [urllib3.connectionpool] DEBUG: Starting new HTTPS connection (1): www.smh.com.au:443\n"
     ]
    },
    {
     "name": "stdout",
     "output_type": "stream",
     "text": [
      "/coronavirus-pandemic\n",
      "/sport/basketball/australian-basketball-forms-expert-panel-to-plan-post-covid-19-recovery-20200423-p54mob.html\n"
     ]
    },
    {
     "name": "stderr",
     "output_type": "stream",
     "text": [
      "2020-04-24 21:21:51 [urllib3.connectionpool] DEBUG: https://www.smh.com.au:443 \"GET //sport/basketball/australian-basketball-forms-expert-panel-to-plan-post-covid-19-recovery-20200423-p54mob.html HTTP/1.1\" 200 41010\n",
      "2020-04-24 21:21:51 [urllib3.connectionpool] DEBUG: Starting new HTTPS connection (1): www.smh.com.au:443\n"
     ]
    },
    {
     "name": "stdout",
     "output_type": "stream",
     "text": [
      "/\n",
      "https://twitter.com/smh\n",
      "http://www.facebook.com/sydneymorningherald\n",
      "https://www.instagram.com/sydneymorningherald\n",
      "/rssheadlines\n",
      "javascript:void(0)\n",
      "https://www.smh.com.au\n",
      "https://www.theage.com.au\n",
      "https://www.brisbanetimes.com.au\n",
      "https://www.watoday.com.au\n",
      "https://www.afr.com\n",
      "https://www.domain.com.au\n",
      "http://www.traveller.com.au\n",
      "https://www.goodfood.com.au\n",
      "http://www.executivestyle.com.au\n",
      "https://www.thestore.com.au\n",
      "https://www.drive.com.au\n",
      "https://www.caradvice.com.au\n",
      "https://www.rsvp.com.au\n",
      "http://www.weatherzone.com.au\n",
      "javascript:void(0)\n",
      "http://tributes.smh.com.au/obituaries/smh-au/\n",
      "http://celebrations.smh.com.au/celebration/smh-au/\n",
      "https://advertisers.com.au\n",
      "https://www.commercialrealestate.com.au\n",
      "https://www.oneflare.com.au\n",
      "javascript:void(0)\n",
      "/contact-us\n",
      "https://www.adcentre.com.au/brands/the-sydney-morning-herald\n",
      "https://smh.myfairfax.com.au/members/lite_session/new?callback_uri=https%3A%2F%2Fsmh.myfairfax.com.au%2Fbeta%2Fmembers%2Fmy_account%2Fnewsletters%3Fchannel_key%3DzHE9EWDHf1XPuz3Phk0YIg%26callback_uri%3Dhttps%253a%252f%252fwww.smh.com.au&channel_key=zHE9EWDHf1XPuz3Phk0YIg\n",
      "/siteguide/accessibility\n",
      "/siteguide\n",
      "https://consumer.fairfaxsyndication.com/C.aspx?VP3=CMS3&VF=FXJFX2_2_VForm\n",
      "https://frontpages.fairfaxsyndication.com/C.aspx?VP3=CMS3&VF=FXJFX2_3_VForm\n",
      "https://www.fairfaxsyndication.com/C.aspx?VP3=CMS3&VF=FXJO50_1\n",
      "/our-events\n",
      "https://www.nineforbrands.com.au/about/careers/\n",
      "/conditions-of-use\n",
      "/privacy\n",
      "https://www.presscouncil.org.au/what-we-do\n",
      "javascript:void(0)\n",
      "https://subscribe.smh.com.au/?promote_channel=HI_SMH_GNL_FT\n",
      "https://subscribers.smh.com.au\n",
      "https://www.smh.com.au/myaccount\n",
      "https://subscribers.smh.com.au/support-centre/overview\n",
      "/todays-newspaper\n",
      "/puzzles/crosswords\n",
      "https://www.thesmhinsider.com.au/c/a/5dAvszx5Lm7C4GDU21EWmQ?dPanel=2\n",
      "https://subscribe.smh.com.au/?promote_channel=HI_SMH_GNL_FT\n",
      "                                                link  \\\n",
      "0  /sport/nrl/broadcast-partners-agree-to-nrl-s-m...   \n",
      "1  /sport/nrl/broadcast-partners-agree-to-nrl-s-m...   \n",
      "2  /sport/rugby-union/the-final-betrayal-that-cau...   \n",
      "3  /sport/rugby-union/the-final-betrayal-that-cau...   \n",
      "4  /sport/cricket/howzat-possible-cricket-austral...   \n",
      "\n",
      "                                              header  \\\n",
      "0  Broadcast partners agree to NRL's May 28 resta...   \n",
      "1  Broadcast partners agree to NRL's May 28 resta...   \n",
      "2   The final betrayal that caused Castle to crumble   \n",
      "3   The final betrayal that caused Castle to crumble   \n",
      "4  Howzat possible? Cricket Australia says big hi...   \n",
      "\n",
      "                                             article               author  \\\n",
      "0  The NRL has reached an agreement with its broa...     Michael Chammas    \n",
      "1  The NRL has reached an agreement with its broa...     Michael Chammas    \n",
      "2  Sometime on Thursday morning Raelene Castle ca...   Georgina Robinson    \n",
      "3  Sometime on Thursday morning Raelene Castle ca...   Georgina Robinson    \n",
      "4  The nation was on the brink of COVID lockdown,...         Chip Le Gr,    \n",
      "\n",
      "             date  \n",
      "0  April 24, 2020  \n",
      "1  April 24, 2020  \n",
      "2  April 24, 2020  \n",
      "3  April 24, 2020  \n",
      "4  April 24, 2020  \n",
      "processing : culture\n"
     ]
    },
    {
     "name": "stderr",
     "output_type": "stream",
     "text": [
      "2020-04-24 21:21:52 [urllib3.connectionpool] DEBUG: https://www.smh.com.au:443 \"GET /culture HTTP/1.1\" 200 73531\n",
      "2020-04-24 21:21:52 [urllib3.connectionpool] DEBUG: Starting new HTTPS connection (1): www.smh.com.au:443\n"
     ]
    },
    {
     "name": "stdout",
     "output_type": "stream",
     "text": [
      "#sections\n",
      "#content\n",
      "#footer\n",
      "javascript:void(0);\n",
      "https://subscribe.smh.com.au/?promote_channel=HI_SMH_GNL_HL\n",
      "/\n",
      "https://subscribe.smh.com.au/?promote_channel=HI_SMH_GNL_HL\n",
      "/\n",
      "#sections\n",
      "#network\n",
      "/\n",
      "/sydney-news\n",
      "/national/nsw\n",
      "/politics\n",
      "/politics/federal\n",
      "/politics/nsw\n",
      "/politics/victoria\n",
      "/politics/queensland\n",
      "/politics/western-australia\n",
      "/business\n",
      "/business/companies\n",
      "/business/markets\n",
      "/business/the-economy\n",
      "/business/banking-and-finance\n",
      "/business/small-business\n",
      "/business/consumer-affairs\n",
      "/business/workplace\n",
      "/world\n",
      "/world/north-america\n",
      "/world/europe\n",
      "/world/asia\n",
      "/world/middle-east\n",
      "/world/oceania\n",
      "/world/central-america\n",
      "/world/south-america\n",
      "/world/africa\n",
      "/national\n",
      "/national/victoria\n",
      "/national/queensland\n",
      "/national/western-australia\n",
      "/opinion\n",
      "http://www.domain.com.au\n",
      "/sport\n",
      "/sport/nrl\n",
      "/sport/rugby-union\n",
      "/sport/cricket\n",
      "/sport/soccer\n",
      "/sport/afl\n",
      "/sport/racing\n",
      "/sport/tennis\n",
      "/sport/netball\n",
      "/sport/basketball\n",
      "/sport/motorsport\n",
      "/sport/cycling\n",
      "/sport/golf\n",
      "/sport/nfl\n",
      "/sport/athletics\n",
      "/sport/swimming\n",
      "/sport/boxing\n",
      "/culture\n",
      "/culture/movies\n",
      "/culture/tv-and-radio\n",
      "/culture/music\n",
      "/culture/celebrity\n",
      "/culture/books\n",
      "/culture/comedy\n",
      "/culture/dance\n",
      "/culture/musicals\n",
      "/culture/opera\n",
      "/culture/theatre\n",
      "/culture/art-and-design\n",
      "https://tvguide.smh.com.au\n",
      "/lifestyle\n",
      "/lifestyle/life-and-relationships\n",
      "/lifestyle/health-and-wellness\n",
      "/lifestyle/gender\n",
      "/lifestyle/fashion\n",
      "/lifestyle/beauty\n",
      "/topic/horoscopes-5yc\n",
      "/topic/good-weekend-1qq\n",
      "/money\n",
      "/money/super-and-retirement\n",
      "/money/investing\n",
      "/money/banking\n",
      "/money/borrowing\n",
      "/money/saving\n",
      "/money/tax\n",
      "/money/planning-and-budgeting\n",
      "/money/insurance\n",
      "/education\n",
      "/healthcare\n",
      "/environment\n",
      "/environment/conservation\n",
      "/environment/climate-change\n",
      "/environment/sustainability\n",
      "/environment/weather\n",
      "/technology\n",
      "/technology/video-games\n",
      "/topic/home-technology-hqq\n",
      "/topic/phones-5zt\n",
      "/topic/gadgets-hqp\n",
      "http://www.drive.com.au\n",
      "http://www.traveller.com.au\n",
      "http://www.goodfood.com.au\n",
      "http://www.executivestyle.com.au\n",
      "https://subscribe.smh.com.au/2?promote_channel=HI_IPL_GNL&utm_source=PremiumIndex&utm_medium=HouseInventory&utm_campaign=General\n",
      "/todays-newspaper\n",
      "/puzzles/crosswords\n",
      "/topic/smh-letters-1r7\n",
      "/topic/smh-editorial-1r6\n",
      "/topic/column-8-1r4\n",
      "/topic/obituaries-1qv\n",
      "/topic/explainers-1lz9\n",
      "/topic/quizzes-1qx\n",
      "http://weather.smh.com.au/local-forecast/nsw/sydney\n",
      "https://www.theage.com.au\n",
      "https://www.brisbanetimes.com.au\n",
      "https://www.watoday.com.au\n",
      "https://www.afr.com\n",
      "https://www.domain.com.au\n",
      "https://www.commercialrealestate.com.au\n",
      "https://www.drive.com.au\n",
      "https://www.goodfood.com.au\n",
      "http://www.traveller.com.au\n",
      "http://www.executivestyle.com.au\n",
      "https://www.findababysitter.com.au\n",
      "https://www.thestore.com.au\n",
      "http://www.weatherzone.com.au\n",
      "https://www.rsvp.com.au\n",
      "/culture/movies\n",
      "/culture/tv-and-radio\n",
      "/culture/music\n",
      "/culture/celebrity\n",
      "/culture/books\n",
      "javascript:void(0);\n",
      "/culture/comedy\n",
      "/culture/dance\n",
      "/culture/musicals\n",
      "/culture/opera\n",
      "/culture/theatre\n",
      "/culture/art-and-design\n",
      "https://tvguide.smh.com.au\n",
      "/culture/books/school-activist-daisy-jeffrey-s-first-book-is-aimed-at-adults-not-teens-20200420-p54lfu.html\n"
     ]
    },
    {
     "name": "stderr",
     "output_type": "stream",
     "text": [
      "2020-04-24 21:21:53 [urllib3.connectionpool] DEBUG: https://www.smh.com.au:443 \"GET //culture/books/school-activist-daisy-jeffrey-s-first-book-is-aimed-at-adults-not-teens-20200420-p54lfu.html HTTP/1.1\" 200 48514\n",
      "2020-04-24 21:21:53 [urllib3.connectionpool] DEBUG: Starting new HTTPS connection (1): www.smh.com.au:443\n"
     ]
    },
    {
     "name": "stdout",
     "output_type": "stream",
     "text": [
      "/topic/book-reviews-1q4\n",
      "/culture/books/school-activist-daisy-jeffrey-s-first-book-is-aimed-at-adults-not-teens-20200420-p54lfu.html\n"
     ]
    },
    {
     "name": "stderr",
     "output_type": "stream",
     "text": [
      "2020-04-24 21:21:53 [urllib3.connectionpool] DEBUG: https://www.smh.com.au:443 \"GET //culture/books/school-activist-daisy-jeffrey-s-first-book-is-aimed-at-adults-not-teens-20200420-p54lfu.html HTTP/1.1\" 200 48514\n",
      "2020-04-24 21:21:54 [urllib3.connectionpool] DEBUG: Starting new HTTPS connection (1): www.smh.com.au:443\n"
     ]
    },
    {
     "name": "stdout",
     "output_type": "stream",
     "text": [
      "/culture/tv-and-radio/how-to-observe-anzac-day-while-self-isolating-20200424-p54mu6.html\n"
     ]
    },
    {
     "name": "stderr",
     "output_type": "stream",
     "text": [
      "2020-04-24 21:21:54 [urllib3.connectionpool] DEBUG: https://www.smh.com.au:443 \"GET //culture/tv-and-radio/how-to-observe-anzac-day-while-self-isolating-20200424-p54mu6.html HTTP/1.1\" 200 45197\n",
      "2020-04-24 21:21:54 [urllib3.connectionpool] DEBUG: Starting new HTTPS connection (1): www.smh.com.au:443\n"
     ]
    },
    {
     "name": "stdout",
     "output_type": "stream",
     "text": [
      "/topic/anzac-day-5ud\n",
      "/culture/tv-and-radio/how-to-observe-anzac-day-while-self-isolating-20200424-p54mu6.html\n"
     ]
    },
    {
     "name": "stderr",
     "output_type": "stream",
     "text": [
      "2020-04-24 21:21:54 [urllib3.connectionpool] DEBUG: https://www.smh.com.au:443 \"GET //culture/tv-and-radio/how-to-observe-anzac-day-while-self-isolating-20200424-p54mu6.html HTTP/1.1\" 200 45197\n",
      "2020-04-24 21:21:55 [urllib3.connectionpool] DEBUG: Starting new HTTPS connection (1): www.smh.com.au:443\n"
     ]
    },
    {
     "name": "stdout",
     "output_type": "stream",
     "text": [
      "/culture/celebrity/tom-hanks-sends-letter-to-bullied-australian-boy-named-corona-20200424-p54mrl.html\n"
     ]
    },
    {
     "name": "stderr",
     "output_type": "stream",
     "text": [
      "2020-04-24 21:21:55 [urllib3.connectionpool] DEBUG: https://www.smh.com.au:443 \"GET //culture/celebrity/tom-hanks-sends-letter-to-bullied-australian-boy-named-corona-20200424-p54mrl.html HTTP/1.1\" 200 41893\n",
      "2020-04-24 21:21:55 [urllib3.connectionpool] DEBUG: Starting new HTTPS connection (1): www.smh.com.au:443\n"
     ]
    },
    {
     "name": "stdout",
     "output_type": "stream",
     "text": [
      "/coronavirus-pandemic\n",
      "/culture/celebrity/tom-hanks-sends-letter-to-bullied-australian-boy-named-corona-20200424-p54mrl.html\n"
     ]
    },
    {
     "name": "stderr",
     "output_type": "stream",
     "text": [
      "2020-04-24 21:21:56 [urllib3.connectionpool] DEBUG: https://www.smh.com.au:443 \"GET //culture/celebrity/tom-hanks-sends-letter-to-bullied-australian-boy-named-corona-20200424-p54mrl.html HTTP/1.1\" 200 41893\n",
      "2020-04-24 21:21:56 [urllib3.connectionpool] DEBUG: Starting new HTTPS connection (1): www.smh.com.au:443\n"
     ]
    },
    {
     "name": "stdout",
     "output_type": "stream",
     "text": [
      "/culture/books/why-delay-booker-prize-holds-off-having-a-virtual-presentation-20200421-p54lt9.html\n"
     ]
    },
    {
     "name": "stderr",
     "output_type": "stream",
     "text": [
      "2020-04-24 21:21:56 [urllib3.connectionpool] DEBUG: https://www.smh.com.au:443 \"GET //culture/books/why-delay-booker-prize-holds-off-having-a-virtual-presentation-20200421-p54lt9.html HTTP/1.1\" 200 41486\n",
      "2020-04-24 21:21:57 [urllib3.connectionpool] DEBUG: Starting new HTTPS connection (1): www.smh.com.au:443\n"
     ]
    },
    {
     "name": "stdout",
     "output_type": "stream",
     "text": [
      "/topic/bookmarks-1n2i\n",
      "/culture/books/why-delay-booker-prize-holds-off-having-a-virtual-presentation-20200421-p54lt9.html\n"
     ]
    },
    {
     "name": "stderr",
     "output_type": "stream",
     "text": [
      "2020-04-24 21:21:57 [urllib3.connectionpool] DEBUG: https://www.smh.com.au:443 \"GET //culture/books/why-delay-booker-prize-holds-off-having-a-virtual-presentation-20200421-p54lt9.html HTTP/1.1\" 200 41486\n",
      "2020-04-24 21:21:57 [urllib3.connectionpool] DEBUG: Starting new HTTPS connection (1): www.smh.com.au:443\n"
     ]
    },
    {
     "name": "stdout",
     "output_type": "stream",
     "text": [
      "/culture/art-and-design/sculpture-by-the-sea-set-to-stay-in-bondi-for-at-least-five-years-20200423-p54mh0.html\n"
     ]
    },
    {
     "name": "stderr",
     "output_type": "stream",
     "text": [
      "2020-04-24 21:21:57 [urllib3.connectionpool] DEBUG: https://www.smh.com.au:443 \"GET //culture/art-and-design/sculpture-by-the-sea-set-to-stay-in-bondi-for-at-least-five-years-20200423-p54mh0.html HTTP/1.1\" 200 42819\n",
      "2020-04-24 21:21:58 [urllib3.connectionpool] DEBUG: Starting new HTTPS connection (1): www.smh.com.au:443\n"
     ]
    },
    {
     "name": "stdout",
     "output_type": "stream",
     "text": [
      "/topic/sydney-city-life-62j\n",
      "/culture/art-and-design/sculpture-by-the-sea-set-to-stay-in-bondi-for-at-least-five-years-20200423-p54mh0.html\n"
     ]
    },
    {
     "name": "stderr",
     "output_type": "stream",
     "text": [
      "2020-04-24 21:21:58 [urllib3.connectionpool] DEBUG: https://www.smh.com.au:443 \"GET //culture/art-and-design/sculpture-by-the-sea-set-to-stay-in-bondi-for-at-least-five-years-20200423-p54mh0.html HTTP/1.1\" 200 42819\n",
      "2020-04-24 21:21:58 [urllib3.connectionpool] DEBUG: Starting new HTTPS connection (1): www.smh.com.au:443\n"
     ]
    },
    {
     "name": "stdout",
     "output_type": "stream",
     "text": [
      "/culture/movies\n",
      "/culture/movies/top-five-streaming-films-a-shout-out-to-the-classics-20200421-p54lv3.html\n"
     ]
    },
    {
     "name": "stderr",
     "output_type": "stream",
     "text": [
      "2020-04-24 21:21:59 [urllib3.connectionpool] DEBUG: https://www.smh.com.au:443 \"GET //culture/movies/top-five-streaming-films-a-shout-out-to-the-classics-20200421-p54lv3.html HTTP/1.1\" 200 39627\n",
      "2020-04-24 21:21:59 [urllib3.connectionpool] DEBUG: Starting new HTTPS connection (1): www.smh.com.au:443\n"
     ]
    },
    {
     "name": "stdout",
     "output_type": "stream",
     "text": [
      "/topic/movie-reviews-1q7\n",
      "/culture/movies/top-five-streaming-films-a-shout-out-to-the-classics-20200421-p54lv3.html\n"
     ]
    },
    {
     "name": "stderr",
     "output_type": "stream",
     "text": [
      "2020-04-24 21:21:59 [urllib3.connectionpool] DEBUG: https://www.smh.com.au:443 \"GET //culture/movies/top-five-streaming-films-a-shout-out-to-the-classics-20200421-p54lv3.html HTTP/1.1\" 200 39627\n",
      "2020-04-24 21:22:00 [urllib3.connectionpool] DEBUG: Starting new HTTPS connection (1): www.smh.com.au:443\n"
     ]
    },
    {
     "name": "stdout",
     "output_type": "stream",
     "text": [
      "/culture/movies/as-the-global-plot-unravels-gfc-films-offer-a-prequel-of-sorts-20200420-p54lhi.html\n"
     ]
    },
    {
     "name": "stderr",
     "output_type": "stream",
     "text": [
      "2020-04-24 21:22:00 [urllib3.connectionpool] DEBUG: https://www.smh.com.au:443 \"GET //culture/movies/as-the-global-plot-unravels-gfc-films-offer-a-prequel-of-sorts-20200420-p54lhi.html HTTP/1.1\" 200 44188\n",
      "2020-04-24 21:22:00 [urllib3.connectionpool] DEBUG: Starting new HTTPS connection (1): www.smh.com.au:443\n"
     ]
    },
    {
     "name": "stdout",
     "output_type": "stream",
     "text": [
      "/topic/spectrum-hog\n",
      "/culture/movies/as-the-global-plot-unravels-gfc-films-offer-a-prequel-of-sorts-20200420-p54lhi.html\n"
     ]
    },
    {
     "name": "stderr",
     "output_type": "stream",
     "text": [
      "2020-04-24 21:22:01 [urllib3.connectionpool] DEBUG: https://www.smh.com.au:443 \"GET //culture/movies/as-the-global-plot-unravels-gfc-films-offer-a-prequel-of-sorts-20200420-p54lhi.html HTTP/1.1\" 200 44188\n",
      "2020-04-24 21:22:01 [urllib3.connectionpool] DEBUG: Starting new HTTPS connection (1): www.smh.com.au:443\n"
     ]
    },
    {
     "name": "stdout",
     "output_type": "stream",
     "text": [
      "/culture/movies/a-250-year-symphony-the-many-movie-angles-on-beethoven-20200408-p54iao.html\n"
     ]
    },
    {
     "name": "stderr",
     "output_type": "stream",
     "text": [
      "2020-04-24 21:22:02 [urllib3.connectionpool] DEBUG: https://www.smh.com.au:443 \"GET //culture/movies/a-250-year-symphony-the-many-movie-angles-on-beethoven-20200408-p54iao.html HTTP/1.1\" 200 44908\n",
      "2020-04-24 21:22:02 [urllib3.connectionpool] DEBUG: Starting new HTTPS connection (1): www.smh.com.au:443\n"
     ]
    },
    {
     "name": "stdout",
     "output_type": "stream",
     "text": [
      "/topic/spectrum-hog\n",
      "/culture/movies/a-250-year-symphony-the-many-movie-angles-on-beethoven-20200408-p54iao.html\n"
     ]
    },
    {
     "name": "stderr",
     "output_type": "stream",
     "text": [
      "2020-04-24 21:22:02 [urllib3.connectionpool] DEBUG: https://www.smh.com.au:443 \"GET //culture/movies/a-250-year-symphony-the-many-movie-angles-on-beethoven-20200408-p54iao.html HTTP/1.1\" 200 44908\n",
      "2020-04-24 21:22:02 [urllib3.connectionpool] DEBUG: Starting new HTTPS connection (1): www.smh.com.au:443\n"
     ]
    },
    {
     "name": "stdout",
     "output_type": "stream",
     "text": [
      "/culture/movies/redwood-highway-official-trailer-20200423-p54mef.html\n"
     ]
    },
    {
     "name": "stderr",
     "output_type": "stream",
     "text": [
      "2020-04-24 21:22:04 [urllib3.connectionpool] DEBUG: https://www.smh.com.au:443 \"GET //culture/movies/redwood-highway-official-trailer-20200423-p54mef.html HTTP/1.1\" 200 34774\n",
      "2020-04-24 21:22:04 [urllib3.connectionpool] DEBUG: Starting new HTTPS connection (1): www.smh.com.au:443\n"
     ]
    },
    {
     "name": "stdout",
     "output_type": "stream",
     "text": [
      "/topic/film-hzo\n",
      "/culture/movies/redwood-highway-official-trailer-20200423-p54mef.html\n"
     ]
    },
    {
     "name": "stderr",
     "output_type": "stream",
     "text": [
      "2020-04-24 21:22:04 [urllib3.connectionpool] DEBUG: https://www.smh.com.au:443 \"GET //culture/movies/redwood-highway-official-trailer-20200423-p54mef.html HTTP/1.1\" 200 34774\n",
      "2020-04-24 21:22:05 [urllib3.connectionpool] DEBUG: Starting new HTTPS connection (1): www.smh.com.au:443\n"
     ]
    },
    {
     "name": "stdout",
     "output_type": "stream",
     "text": [
      "/culture/movies/leading-culture-figures-back-call-for-government-support-20200422-p54mb0.html\n"
     ]
    },
    {
     "name": "stderr",
     "output_type": "stream",
     "text": [
      "2020-04-24 21:22:05 [urllib3.connectionpool] DEBUG: https://www.smh.com.au:443 \"GET //culture/movies/leading-culture-figures-back-call-for-government-support-20200422-p54mb0.html HTTP/1.1\" 200 44567\n",
      "2020-04-24 21:22:05 [urllib3.connectionpool] DEBUG: Starting new HTTPS connection (1): www.smh.com.au:443\n"
     ]
    },
    {
     "name": "stdout",
     "output_type": "stream",
     "text": [
      "/topic/pop-culture-60o\n",
      "/culture/movies/leading-culture-figures-back-call-for-government-support-20200422-p54mb0.html\n"
     ]
    },
    {
     "name": "stderr",
     "output_type": "stream",
     "text": [
      "2020-04-24 21:22:06 [urllib3.connectionpool] DEBUG: https://www.smh.com.au:443 \"GET //culture/movies/leading-culture-figures-back-call-for-government-support-20200422-p54mb0.html HTTP/1.1\" 200 44567\n",
      "2020-04-24 21:22:06 [urllib3.connectionpool] DEBUG: Starting new HTTPS connection (1): www.smh.com.au:443\n"
     ]
    },
    {
     "name": "stdout",
     "output_type": "stream",
     "text": [
      "/culture/tv-and-radio\n",
      "http://tvguide.smh.com.au/\n",
      "/culture/tv-and-radio/five-of-the-best-talk-based-podcasts-20200327-p54em3.html\n"
     ]
    },
    {
     "name": "stderr",
     "output_type": "stream",
     "text": [
      "2020-04-24 21:22:07 [urllib3.connectionpool] DEBUG: https://www.smh.com.au:443 \"GET //culture/tv-and-radio/five-of-the-best-talk-based-podcasts-20200327-p54em3.html HTTP/1.1\" 200 38678\n",
      "2020-04-24 21:22:07 [urllib3.connectionpool] DEBUG: Starting new HTTPS connection (1): www.smh.com.au:443\n"
     ]
    },
    {
     "name": "stdout",
     "output_type": "stream",
     "text": [
      "/topic/podcasts-jh8\n",
      "/culture/tv-and-radio/five-of-the-best-talk-based-podcasts-20200327-p54em3.html\n"
     ]
    },
    {
     "name": "stderr",
     "output_type": "stream",
     "text": [
      "2020-04-24 21:22:08 [urllib3.connectionpool] DEBUG: https://www.smh.com.au:443 \"GET //culture/tv-and-radio/five-of-the-best-talk-based-podcasts-20200327-p54em3.html HTTP/1.1\" 200 38678\n",
      "2020-04-24 21:22:08 [urllib3.connectionpool] DEBUG: Starting new HTTPS connection (1): www.smh.com.au:443\n"
     ]
    },
    {
     "name": "stdout",
     "output_type": "stream",
     "text": [
      "/culture/tv-and-radio/how-to-get-rid-of-unwanted-objects-without-being-crushed-by-landfill-guilt-20200401-p54g5k.html\n"
     ]
    },
    {
     "name": "stderr",
     "output_type": "stream",
     "text": [
      "2020-04-24 21:22:09 [urllib3.connectionpool] DEBUG: https://www.smh.com.au:443 \"GET //culture/tv-and-radio/how-to-get-rid-of-unwanted-objects-without-being-crushed-by-landfill-guilt-20200401-p54g5k.html HTTP/1.1\" 200 40780\n",
      "2020-04-24 21:22:10 [urllib3.connectionpool] DEBUG: Starting new HTTPS connection (1): www.smh.com.au:443\n"
     ]
    },
    {
     "name": "stdout",
     "output_type": "stream",
     "text": [
      "/topic/good-weekend-1qq\n",
      "/culture/tv-and-radio/how-to-get-rid-of-unwanted-objects-without-being-crushed-by-landfill-guilt-20200401-p54g5k.html\n"
     ]
    },
    {
     "name": "stderr",
     "output_type": "stream",
     "text": [
      "2020-04-24 21:22:10 [urllib3.connectionpool] DEBUG: https://www.smh.com.au:443 \"GET //culture/tv-and-radio/how-to-get-rid-of-unwanted-objects-without-being-crushed-by-landfill-guilt-20200401-p54g5k.html HTTP/1.1\" 200 40780\n",
      "2020-04-24 21:22:10 [urllib3.connectionpool] DEBUG: Starting new HTTPS connection (1): www.smh.com.au:443\n"
     ]
    },
    {
     "name": "stdout",
     "output_type": "stream",
     "text": [
      "/culture/tv-and-radio/how-to-observe-anzac-day-while-self-isolating-20200424-p54mu6.html\n"
     ]
    },
    {
     "name": "stderr",
     "output_type": "stream",
     "text": [
      "2020-04-24 21:22:11 [urllib3.connectionpool] DEBUG: https://www.smh.com.au:443 \"GET //culture/tv-and-radio/how-to-observe-anzac-day-while-self-isolating-20200424-p54mu6.html HTTP/1.1\" 200 45197\n",
      "2020-04-24 21:22:12 [urllib3.connectionpool] DEBUG: Starting new HTTPS connection (1): www.smh.com.au:443\n"
     ]
    },
    {
     "name": "stdout",
     "output_type": "stream",
     "text": [
      "/topic/anzac-day-5ud\n",
      "/culture/tv-and-radio/how-to-observe-anzac-day-while-self-isolating-20200424-p54mu6.html\n"
     ]
    },
    {
     "name": "stderr",
     "output_type": "stream",
     "text": [
      "2020-04-24 21:22:12 [urllib3.connectionpool] DEBUG: https://www.smh.com.au:443 \"GET //culture/tv-and-radio/how-to-observe-anzac-day-while-self-isolating-20200424-p54mu6.html HTTP/1.1\" 200 45197\n",
      "2020-04-24 21:22:13 [urllib3.connectionpool] DEBUG: Starting new HTTPS connection (1): www.smh.com.au:443\n"
     ]
    },
    {
     "name": "stdout",
     "output_type": "stream",
     "text": [
      "/culture/tv-and-radio/netflix-s-unorthodox-and-the-english-game-share-a-similar-theme-20200421-p54lqg.html\n"
     ]
    },
    {
     "name": "stderr",
     "output_type": "stream",
     "text": [
      "2020-04-24 21:22:13 [urllib3.connectionpool] DEBUG: https://www.smh.com.au:443 \"GET //culture/tv-and-radio/netflix-s-unorthodox-and-the-english-game-share-a-similar-theme-20200421-p54lqg.html HTTP/1.1\" 200 42011\n",
      "2020-04-24 21:22:13 [urllib3.connectionpool] DEBUG: Starting new HTTPS connection (1): www.smh.com.au:443\n"
     ]
    },
    {
     "name": "stdout",
     "output_type": "stream",
     "text": [
      "/topic/tv-reviews-1mnm\n",
      "/culture/tv-and-radio/netflix-s-unorthodox-and-the-english-game-share-a-similar-theme-20200421-p54lqg.html\n"
     ]
    },
    {
     "name": "stderr",
     "output_type": "stream",
     "text": [
      "2020-04-24 21:22:13 [urllib3.connectionpool] DEBUG: https://www.smh.com.au:443 \"GET //culture/tv-and-radio/netflix-s-unorthodox-and-the-english-game-share-a-similar-theme-20200421-p54lqg.html HTTP/1.1\" 200 42011\n",
      "2020-04-24 21:22:14 [urllib3.connectionpool] DEBUG: Starting new HTTPS connection (1): www.smh.com.au:443\n"
     ]
    },
    {
     "name": "stdout",
     "output_type": "stream",
     "text": [
      "/culture/tv-and-radio/khloe-kardashian-considers-choosing-tristan-thompson-to-be-her-sperm-donor-20200423-p54mfd.html\n"
     ]
    },
    {
     "name": "stderr",
     "output_type": "stream",
     "text": [
      "2020-04-24 21:22:14 [urllib3.connectionpool] DEBUG: https://www.smh.com.au:443 \"GET //culture/tv-and-radio/khloe-kardashian-considers-choosing-tristan-thompson-to-be-her-sperm-donor-20200423-p54mfd.html HTTP/1.1\" 200 34983\n",
      "2020-04-24 21:22:14 [urllib3.connectionpool] DEBUG: Starting new HTTPS connection (1): www.smh.com.au:443\n"
     ]
    },
    {
     "name": "stdout",
     "output_type": "stream",
     "text": [
      "/culture/tv-and-radio\n",
      "/culture/tv-and-radio/khloe-kardashian-considers-choosing-tristan-thompson-to-be-her-sperm-donor-20200423-p54mfd.html\n"
     ]
    },
    {
     "name": "stderr",
     "output_type": "stream",
     "text": [
      "2020-04-24 21:22:15 [urllib3.connectionpool] DEBUG: https://www.smh.com.au:443 \"GET //culture/tv-and-radio/khloe-kardashian-considers-choosing-tristan-thompson-to-be-her-sperm-donor-20200423-p54mfd.html HTTP/1.1\" 200 34983\n",
      "2020-04-24 21:22:15 [urllib3.connectionpool] DEBUG: Starting new HTTPS connection (1): www.smh.com.au:443\n"
     ]
    },
    {
     "name": "stdout",
     "output_type": "stream",
     "text": [
      "https://www.stan.com.au/watch/better-call-saul?utm_source=fairfax&utm_medium=custom&utm_campaign=home-page\n",
      "https://www.stan.com.au/watch/better-call-saul?utm_source=fairfax&utm_medium=custom&utm_campaign=home-page\n",
      "https://www.stan.com.au/watch/rupauls-drag-race?utm_source=fairfax&utm_medium=custom&utm_campaign=home-page\n",
      "https://www.stan.com.au/watch/rupauls-drag-race?utm_source=fairfax&utm_medium=custom&utm_campaign=home-page\n",
      "/culture/music\n",
      "/culture/music/musicians-join-forces-on-an-anzac-day-unlike-any-other-20200424-p54n14.html\n"
     ]
    },
    {
     "name": "stderr",
     "output_type": "stream",
     "text": [
      "2020-04-24 21:22:16 [urllib3.connectionpool] DEBUG: https://www.smh.com.au:443 \"GET //culture/music/musicians-join-forces-on-an-anzac-day-unlike-any-other-20200424-p54n14.html HTTP/1.1\" 200 41570\n",
      "2020-04-24 21:22:16 [urllib3.connectionpool] DEBUG: Starting new HTTPS connection (1): www.smh.com.au:443\n"
     ]
    },
    {
     "name": "stdout",
     "output_type": "stream",
     "text": [
      "/topic/anzac-day-5ud\n",
      "/culture/music/musicians-join-forces-on-an-anzac-day-unlike-any-other-20200424-p54n14.html\n"
     ]
    },
    {
     "name": "stderr",
     "output_type": "stream",
     "text": [
      "2020-04-24 21:22:16 [urllib3.connectionpool] DEBUG: https://www.smh.com.au:443 \"GET //culture/music/musicians-join-forces-on-an-anzac-day-unlike-any-other-20200424-p54n14.html HTTP/1.1\" 200 41570\n",
      "2020-04-24 21:22:17 [urllib3.connectionpool] DEBUG: Starting new HTTPS connection (1): www.smh.com.au:443\n"
     ]
    },
    {
     "name": "stdout",
     "output_type": "stream",
     "text": [
      "/culture/music/the-simpsons-opening-credits-20200424-p54n4d.html\n"
     ]
    },
    {
     "name": "stderr",
     "output_type": "stream",
     "text": [
      "2020-04-24 21:22:17 [urllib3.connectionpool] DEBUG: https://www.smh.com.au:443 \"GET //culture/music/the-simpsons-opening-credits-20200424-p54n4d.html HTTP/1.1\" 200 34581\n",
      "2020-04-24 21:22:17 [urllib3.connectionpool] DEBUG: Starting new HTTPS connection (1): www.smh.com.au:443\n"
     ]
    },
    {
     "name": "stdout",
     "output_type": "stream",
     "text": [
      "/culture/music\n",
      "/culture/music/the-simpsons-opening-credits-20200424-p54n4d.html\n"
     ]
    },
    {
     "name": "stderr",
     "output_type": "stream",
     "text": [
      "2020-04-24 21:22:18 [urllib3.connectionpool] DEBUG: https://www.smh.com.au:443 \"GET //culture/music/the-simpsons-opening-credits-20200424-p54n4d.html HTTP/1.1\" 200 34581\n",
      "2020-04-24 21:22:18 [urllib3.connectionpool] DEBUG: Starting new HTTPS connection (1): www.smh.com.au:443\n"
     ]
    },
    {
     "name": "stdout",
     "output_type": "stream",
     "text": [
      "/culture/music/pandemic-can-t-keep-a-good-beehive-down-as-dynamic-diva-goes-live-20200421-p54lpn.html\n"
     ]
    },
    {
     "name": "stderr",
     "output_type": "stream",
     "text": [
      "2020-04-24 21:22:19 [urllib3.connectionpool] DEBUG: https://www.smh.com.au:443 \"GET //culture/music/pandemic-can-t-keep-a-good-beehive-down-as-dynamic-diva-goes-live-20200421-p54lpn.html HTTP/1.1\" 200 42710\n",
      "2020-04-24 21:22:19 [urllib3.connectionpool] DEBUG: Starting new HTTPS connection (1): www.smh.com.au:443\n"
     ]
    },
    {
     "name": "stdout",
     "output_type": "stream",
     "text": [
      "/topic/spectrum-hog\n",
      "/culture/music/pandemic-can-t-keep-a-good-beehive-down-as-dynamic-diva-goes-live-20200421-p54lpn.html\n"
     ]
    },
    {
     "name": "stderr",
     "output_type": "stream",
     "text": [
      "2020-04-24 21:22:19 [urllib3.connectionpool] DEBUG: https://www.smh.com.au:443 \"GET //culture/music/pandemic-can-t-keep-a-good-beehive-down-as-dynamic-diva-goes-live-20200421-p54lpn.html HTTP/1.1\" 200 42710\n",
      "2020-04-24 21:22:20 [urllib3.connectionpool] DEBUG: Starting new HTTPS connection (1): www.smh.com.au:443\n"
     ]
    },
    {
     "name": "stdout",
     "output_type": "stream",
     "text": [
      "/culture/music/i-will-survive-music-has-always-been-key-in-fight-against-pestilence-20200417-p54kw0.html\n"
     ]
    },
    {
     "name": "stderr",
     "output_type": "stream",
     "text": [
      "2020-04-24 21:22:20 [urllib3.connectionpool] DEBUG: https://www.smh.com.au:443 \"GET //culture/music/i-will-survive-music-has-always-been-key-in-fight-against-pestilence-20200417-p54kw0.html HTTP/1.1\" 200 45825\n",
      "2020-04-24 21:22:20 [urllib3.connectionpool] DEBUG: Starting new HTTPS connection (1): www.smh.com.au:443\n"
     ]
    },
    {
     "name": "stdout",
     "output_type": "stream",
     "text": [
      "/topic/spectrum-hog\n",
      "/culture/music/i-will-survive-music-has-always-been-key-in-fight-against-pestilence-20200417-p54kw0.html\n"
     ]
    },
    {
     "name": "stderr",
     "output_type": "stream",
     "text": [
      "2020-04-24 21:22:21 [urllib3.connectionpool] DEBUG: https://www.smh.com.au:443 \"GET //culture/music/i-will-survive-music-has-always-been-key-in-fight-against-pestilence-20200417-p54kw0.html HTTP/1.1\" 200 45825\n",
      "2020-04-24 21:22:21 [urllib3.connectionpool] DEBUG: Starting new HTTPS connection (1): www.smh.com.au:443\n"
     ]
    },
    {
     "name": "stdout",
     "output_type": "stream",
     "text": [
      "/culture/music/tourism-slump-sees-aboriginal-artists-take-culture-online-20200423-p54mns.html\n"
     ]
    },
    {
     "name": "stderr",
     "output_type": "stream",
     "text": [
      "2020-04-24 21:22:22 [urllib3.connectionpool] DEBUG: https://www.smh.com.au:443 \"GET //culture/music/tourism-slump-sees-aboriginal-artists-take-culture-online-20200423-p54mns.html HTTP/1.1\" 200 40871\n",
      "2020-04-24 21:22:23 [urllib3.connectionpool] DEBUG: Starting new HTTPS connection (1): www.smh.com.au:443\n"
     ]
    },
    {
     "name": "stdout",
     "output_type": "stream",
     "text": [
      "/coronavirus-pandemic\n",
      "/culture/music/tourism-slump-sees-aboriginal-artists-take-culture-online-20200423-p54mns.html\n"
     ]
    },
    {
     "name": "stderr",
     "output_type": "stream",
     "text": [
      "2020-04-24 21:22:23 [urllib3.connectionpool] DEBUG: https://www.smh.com.au:443 \"GET //culture/music/tourism-slump-sees-aboriginal-artists-take-culture-online-20200423-p54mns.html HTTP/1.1\" 200 40871\n",
      "2020-04-24 21:22:23 [urllib3.connectionpool] DEBUG: Starting new HTTPS connection (1): www.smh.com.au:443\n"
     ]
    },
    {
     "name": "stdout",
     "output_type": "stream",
     "text": [
      "/culture/music/five-new-albums-that-are-already-coronavirus-era-classics-20200422-p54m6m.html\n"
     ]
    },
    {
     "name": "stderr",
     "output_type": "stream",
     "text": [
      "2020-04-24 21:22:24 [urllib3.connectionpool] DEBUG: https://www.smh.com.au:443 \"GET //culture/music/five-new-albums-that-are-already-coronavirus-era-classics-20200422-p54m6m.html HTTP/1.1\" 200 38360\n",
      "2020-04-24 21:22:24 [urllib3.connectionpool] DEBUG: Starting new HTTPS connection (1): www.smh.com.au:443\n"
     ]
    },
    {
     "name": "stdout",
     "output_type": "stream",
     "text": [
      "/topic/streaming-62b\n",
      "/culture/music/five-new-albums-that-are-already-coronavirus-era-classics-20200422-p54m6m.html\n"
     ]
    },
    {
     "name": "stderr",
     "output_type": "stream",
     "text": [
      "2020-04-24 21:22:24 [urllib3.connectionpool] DEBUG: https://www.smh.com.au:443 \"GET //culture/music/five-new-albums-that-are-already-coronavirus-era-classics-20200422-p54m6m.html HTTP/1.1\" 200 38360\n",
      "2020-04-24 21:22:25 [urllib3.connectionpool] DEBUG: Starting new HTTPS connection (1): www.smh.com.au:443\n"
     ]
    },
    {
     "name": "stdout",
     "output_type": "stream",
     "text": [
      "/culture/celebrity\n",
      "/culture/celebrity/tom-hanks-sends-letter-to-bullied-australian-boy-named-corona-20200424-p54mrl.html\n"
     ]
    },
    {
     "name": "stderr",
     "output_type": "stream",
     "text": [
      "2020-04-24 21:22:25 [urllib3.connectionpool] DEBUG: https://www.smh.com.au:443 \"GET //culture/celebrity/tom-hanks-sends-letter-to-bullied-australian-boy-named-corona-20200424-p54mrl.html HTTP/1.1\" 200 41893\n",
      "2020-04-24 21:22:25 [urllib3.connectionpool] DEBUG: Starting new HTTPS connection (1): www.smh.com.au:443\n"
     ]
    },
    {
     "name": "stdout",
     "output_type": "stream",
     "text": [
      "/coronavirus-pandemic\n",
      "/culture/celebrity/tom-hanks-sends-letter-to-bullied-australian-boy-named-corona-20200424-p54mrl.html\n"
     ]
    },
    {
     "name": "stderr",
     "output_type": "stream",
     "text": [
      "2020-04-24 21:22:26 [urllib3.connectionpool] DEBUG: https://www.smh.com.au:443 \"GET //culture/celebrity/tom-hanks-sends-letter-to-bullied-australian-boy-named-corona-20200424-p54mrl.html HTTP/1.1\" 200 41893\n",
      "2020-04-24 21:22:26 [urllib3.connectionpool] DEBUG: Starting new HTTPS connection (1): www.smh.com.au:443\n"
     ]
    },
    {
     "name": "stdout",
     "output_type": "stream",
     "text": [
      "/culture/celebrity/it-s-a-learning-curve-for-all-of-us-celebrities-prepare-to-home-school-in-term-two-20200411-p54izu.html\n"
     ]
    },
    {
     "name": "stderr",
     "output_type": "stream",
     "text": [
      "2020-04-24 21:22:27 [urllib3.connectionpool] DEBUG: https://www.smh.com.au:443 \"GET //culture/celebrity/it-s-a-learning-curve-for-all-of-us-celebrities-prepare-to-home-school-in-term-two-20200411-p54izu.html HTTP/1.1\" 200 43781\n",
      "2020-04-24 21:22:27 [urllib3.connectionpool] DEBUG: Starting new HTTPS connection (1): www.smh.com.au:443\n"
     ]
    },
    {
     "name": "stdout",
     "output_type": "stream",
     "text": [
      "/coronavirus-pandemic\n",
      "/culture/celebrity/it-s-a-learning-curve-for-all-of-us-celebrities-prepare-to-home-school-in-term-two-20200411-p54izu.html\n"
     ]
    },
    {
     "name": "stderr",
     "output_type": "stream",
     "text": [
      "2020-04-24 21:22:27 [urllib3.connectionpool] DEBUG: https://www.smh.com.au:443 \"GET //culture/celebrity/it-s-a-learning-curve-for-all-of-us-celebrities-prepare-to-home-school-in-term-two-20200411-p54izu.html HTTP/1.1\" 200 43781\n",
      "2020-04-24 21:22:27 [urllib3.connectionpool] DEBUG: Starting new HTTPS connection (1): www.smh.com.au:443\n"
     ]
    },
    {
     "name": "stdout",
     "output_type": "stream",
     "text": [
      "/culture/celebrity/blanche-d-alpuget-diagnosed-with-breast-cancer-20200418-p54l2h.html\n"
     ]
    },
    {
     "name": "stderr",
     "output_type": "stream",
     "text": [
      "2020-04-24 21:22:28 [urllib3.connectionpool] DEBUG: https://www.smh.com.au:443 \"GET //culture/celebrity/blanche-d-alpuget-diagnosed-with-breast-cancer-20200418-p54l2h.html HTTP/1.1\" 200 42452\n",
      "2020-04-24 21:22:28 [urllib3.connectionpool] DEBUG: Starting new HTTPS connection (1): www.smh.com.au:443\n"
     ]
    },
    {
     "name": "stdout",
     "output_type": "stream",
     "text": [
      "/topic/breast-cancer-jqy\n",
      "/culture/celebrity/blanche-d-alpuget-diagnosed-with-breast-cancer-20200418-p54l2h.html\n"
     ]
    },
    {
     "name": "stderr",
     "output_type": "stream",
     "text": [
      "2020-04-24 21:22:28 [urllib3.connectionpool] DEBUG: https://www.smh.com.au:443 \"GET //culture/celebrity/blanche-d-alpuget-diagnosed-with-breast-cancer-20200418-p54l2h.html HTTP/1.1\" 200 42452\n",
      "2020-04-24 21:22:29 [urllib3.connectionpool] DEBUG: Starting new HTTPS connection (1): www.smh.com.au:443\n"
     ]
    },
    {
     "name": "stdout",
     "output_type": "stream",
     "text": [
      "/culture/comedy/top-fives-in-need-of-a-laugh-these-comics-are-there-for-you-20200415-p54k5p.html\n"
     ]
    },
    {
     "name": "stderr",
     "output_type": "stream",
     "text": [
      "2020-04-24 21:22:29 [urllib3.connectionpool] DEBUG: https://www.smh.com.au:443 \"GET //culture/comedy/top-fives-in-need-of-a-laugh-these-comics-are-there-for-you-20200415-p54k5p.html HTTP/1.1\" 200 42900\n",
      "2020-04-24 21:22:30 [urllib3.connectionpool] DEBUG: Starting new HTTPS connection (1): www.smh.com.au:443\n"
     ]
    },
    {
     "name": "stdout",
     "output_type": "stream",
     "text": [
      "/culture/comedy/top-fives-in-need-of-a-laugh-these-comics-are-there-for-you-20200415-p54k5p.html\n"
     ]
    },
    {
     "name": "stderr",
     "output_type": "stream",
     "text": [
      "2020-04-24 21:22:30 [urllib3.connectionpool] DEBUG: https://www.smh.com.au:443 \"GET //culture/comedy/top-fives-in-need-of-a-laugh-these-comics-are-there-for-you-20200415-p54k5p.html HTTP/1.1\" 200 42900\n",
      "2020-04-24 21:22:30 [urllib3.connectionpool] DEBUG: Starting new HTTPS connection (1): www.smh.com.au:443\n"
     ]
    },
    {
     "name": "stdout",
     "output_type": "stream",
     "text": [
      "/culture/dance/artists-jump-for-joy-as-council-awards-covid-19-arts-grants-20200423-p54mmq.html\n"
     ]
    },
    {
     "name": "stderr",
     "output_type": "stream",
     "text": [
      "2020-04-24 21:22:31 [urllib3.connectionpool] DEBUG: https://www.smh.com.au:443 \"GET //culture/dance/artists-jump-for-joy-as-council-awards-covid-19-arts-grants-20200423-p54mmq.html HTTP/1.1\" 200 40573\n",
      "2020-04-24 21:22:31 [urllib3.connectionpool] DEBUG: Starting new HTTPS connection (1): www.smh.com.au:443\n"
     ]
    },
    {
     "name": "stdout",
     "output_type": "stream",
     "text": [
      "/culture/dance/artists-jump-for-joy-as-council-awards-covid-19-arts-grants-20200423-p54mmq.html\n"
     ]
    },
    {
     "name": "stderr",
     "output_type": "stream",
     "text": [
      "2020-04-24 21:22:31 [urllib3.connectionpool] DEBUG: https://www.smh.com.au:443 \"GET //culture/dance/artists-jump-for-joy-as-council-awards-covid-19-arts-grants-20200423-p54mmq.html HTTP/1.1\" 200 40573\n",
      "2020-04-24 21:22:31 [urllib3.connectionpool] DEBUG: Starting new HTTPS connection (1): www.smh.com.au:443\n"
     ]
    },
    {
     "name": "stdout",
     "output_type": "stream",
     "text": [
      "/culture/theatre/jordan-raskopoulos-review-a-hydra-to-rattle-the-bars-of-our-cages-20200422-p54m2v.html\n"
     ]
    },
    {
     "name": "stderr",
     "output_type": "stream",
     "text": [
      "2020-04-24 21:22:32 [urllib3.connectionpool] DEBUG: https://www.smh.com.au:443 \"GET //culture/theatre/jordan-raskopoulos-review-a-hydra-to-rattle-the-bars-of-our-cages-20200422-p54m2v.html HTTP/1.1\" 200 40178\n",
      "2020-04-24 21:22:32 [urllib3.connectionpool] DEBUG: Starting new HTTPS connection (1): www.smh.com.au:443\n"
     ]
    },
    {
     "name": "stdout",
     "output_type": "stream",
     "text": [
      "/culture/theatre/jordan-raskopoulos-review-a-hydra-to-rattle-the-bars-of-our-cages-20200422-p54m2v.html\n"
     ]
    },
    {
     "name": "stderr",
     "output_type": "stream",
     "text": [
      "2020-04-24 21:22:32 [urllib3.connectionpool] DEBUG: https://www.smh.com.au:443 \"GET //culture/theatre/jordan-raskopoulos-review-a-hydra-to-rattle-the-bars-of-our-cages-20200422-p54m2v.html HTTP/1.1\" 200 40178\n",
      "2020-04-24 21:22:33 [urllib3.connectionpool] DEBUG: Starting new HTTPS connection (1): www.smh.com.au:443\n"
     ]
    },
    {
     "name": "stdout",
     "output_type": "stream",
     "text": [
      "/culture/theatre/behind-the-scenes-worker-paints-a-picture-of-an-industry-in-crisis-20200421-p54lq0.html\n"
     ]
    },
    {
     "name": "stderr",
     "output_type": "stream",
     "text": [
      "2020-04-24 21:22:33 [urllib3.connectionpool] DEBUG: https://www.smh.com.au:443 \"GET //culture/theatre/behind-the-scenes-worker-paints-a-picture-of-an-industry-in-crisis-20200421-p54lq0.html HTTP/1.1\" 200 38648\n",
      "2020-04-24 21:22:34 [urllib3.connectionpool] DEBUG: Starting new HTTPS connection (1): www.smh.com.au:443\n"
     ]
    },
    {
     "name": "stdout",
     "output_type": "stream",
     "text": [
      "/culture/theatre/behind-the-scenes-worker-paints-a-picture-of-an-industry-in-crisis-20200421-p54lq0.html\n"
     ]
    },
    {
     "name": "stderr",
     "output_type": "stream",
     "text": [
      "2020-04-24 21:22:35 [urllib3.connectionpool] DEBUG: https://www.smh.com.au:443 \"GET //culture/theatre/behind-the-scenes-worker-paints-a-picture-of-an-industry-in-crisis-20200421-p54lq0.html HTTP/1.1\" 200 38648\n",
      "2020-04-24 21:22:35 [urllib3.connectionpool] DEBUG: Starting new HTTPS connection (1): www.smh.com.au:443\n"
     ]
    },
    {
     "name": "stdout",
     "output_type": "stream",
     "text": [
      "/culture/art-and-design\n",
      "/culture/art-and-design/controversial-6-8-million-art-acquisition-delayed-due-to-coronavirus-20200422-p54m0k.html\n"
     ]
    },
    {
     "name": "stderr",
     "output_type": "stream",
     "text": [
      "2020-04-24 21:22:36 [urllib3.connectionpool] DEBUG: https://www.smh.com.au:443 \"GET //culture/art-and-design/controversial-6-8-million-art-acquisition-delayed-due-to-coronavirus-20200422-p54m0k.html HTTP/1.1\" 200 47505\n",
      "2020-04-24 21:22:36 [urllib3.connectionpool] DEBUG: Starting new HTTPS connection (1): www.smh.com.au:443\n"
     ]
    },
    {
     "name": "stdout",
     "output_type": "stream",
     "text": [
      "/culture/art-and-design/controversial-6-8-million-art-acquisition-delayed-due-to-coronavirus-20200422-p54m0k.html\n"
     ]
    },
    {
     "name": "stderr",
     "output_type": "stream",
     "text": [
      "2020-04-24 21:22:36 [urllib3.connectionpool] DEBUG: https://www.smh.com.au:443 \"GET //culture/art-and-design/controversial-6-8-million-art-acquisition-delayed-due-to-coronavirus-20200422-p54m0k.html HTTP/1.1\" 200 47505\n",
      "2020-04-24 21:22:37 [urllib3.connectionpool] DEBUG: Starting new HTTPS connection (1): www.smh.com.au:443\n"
     ]
    },
    {
     "name": "stdout",
     "output_type": "stream",
     "text": [
      "/culture/art-and-design/struggling-nsw-arts-companies-given-6-35-million-relief-package-20200424-p54myo.html\n"
     ]
    },
    {
     "name": "stderr",
     "output_type": "stream",
     "text": [
      "2020-04-24 21:22:37 [urllib3.connectionpool] DEBUG: https://www.smh.com.au:443 \"GET //culture/art-and-design/struggling-nsw-arts-companies-given-6-35-million-relief-package-20200424-p54myo.html HTTP/1.1\" 200 40822\n",
      "2020-04-24 21:22:38 [urllib3.connectionpool] DEBUG: Starting new HTTPS connection (1): www.smh.com.au:443\n"
     ]
    },
    {
     "name": "stdout",
     "output_type": "stream",
     "text": [
      "/culture/art-and-design/struggling-nsw-arts-companies-given-6-35-million-relief-package-20200424-p54myo.html\n"
     ]
    },
    {
     "name": "stderr",
     "output_type": "stream",
     "text": [
      "2020-04-24 21:22:38 [urllib3.connectionpool] DEBUG: https://www.smh.com.au:443 \"GET //culture/art-and-design/struggling-nsw-arts-companies-given-6-35-million-relief-package-20200424-p54myo.html HTTP/1.1\" 200 40822\n",
      "2020-04-24 21:22:38 [urllib3.connectionpool] DEBUG: Starting new HTTPS connection (1): www.smh.com.au:443\n"
     ]
    },
    {
     "name": "stdout",
     "output_type": "stream",
     "text": [
      "/culture/art-and-design/shock-therapy-what-is-the-value-of-art-that-deliberately-offends-20200420-p54lj5.html\n"
     ]
    },
    {
     "name": "stderr",
     "output_type": "stream",
     "text": [
      "2020-04-24 21:22:39 [urllib3.connectionpool] DEBUG: https://www.smh.com.au:443 \"GET //culture/art-and-design/shock-therapy-what-is-the-value-of-art-that-deliberately-offends-20200420-p54lj5.html HTTP/1.1\" 200 48823\n",
      "2020-04-24 21:22:39 [urllib3.connectionpool] DEBUG: Starting new HTTPS connection (1): www.smh.com.au:443\n"
     ]
    },
    {
     "name": "stdout",
     "output_type": "stream",
     "text": [
      "/culture/art-and-design/shock-therapy-what-is-the-value-of-art-that-deliberately-offends-20200420-p54lj5.html\n"
     ]
    },
    {
     "name": "stderr",
     "output_type": "stream",
     "text": [
      "2020-04-24 21:22:39 [urllib3.connectionpool] DEBUG: https://www.smh.com.au:443 \"GET //culture/art-and-design/shock-therapy-what-is-the-value-of-art-that-deliberately-offends-20200420-p54lj5.html HTTP/1.1\" 200 48823\n",
      "2020-04-24 21:22:40 [urllib3.connectionpool] DEBUG: Starting new HTTPS connection (1): www.smh.com.au:443\n"
     ]
    },
    {
     "name": "stdout",
     "output_type": "stream",
     "text": [
      "/culture/art-and-design/granny-smith-the-apple-that-sydney-gave-the-world-20200416-p54km7.html\n"
     ]
    },
    {
     "name": "stderr",
     "output_type": "stream",
     "text": [
      "2020-04-24 21:22:40 [urllib3.connectionpool] DEBUG: https://www.smh.com.au:443 \"GET //culture/art-and-design/granny-smith-the-apple-that-sydney-gave-the-world-20200416-p54km7.html HTTP/1.1\" 200 39112\n",
      "2020-04-24 21:22:40 [urllib3.connectionpool] DEBUG: Starting new HTTPS connection (1): www.smh.com.au:443\n"
     ]
    },
    {
     "name": "stdout",
     "output_type": "stream",
     "text": [
      "/culture/art-and-design/granny-smith-the-apple-that-sydney-gave-the-world-20200416-p54km7.html\n"
     ]
    },
    {
     "name": "stderr",
     "output_type": "stream",
     "text": [
      "2020-04-24 21:22:41 [urllib3.connectionpool] DEBUG: https://www.smh.com.au:443 \"GET //culture/art-and-design/granny-smith-the-apple-that-sydney-gave-the-world-20200416-p54km7.html HTTP/1.1\" 200 39112\n",
      "2020-04-24 21:22:41 [urllib3.connectionpool] DEBUG: Starting new HTTPS connection (1): www.smh.com.au:443\n"
     ]
    },
    {
     "name": "stdout",
     "output_type": "stream",
     "text": [
      "/culture/books\n",
      "/culture/books/top-five-parenting-books-to-help-you-through-tricky-times-20200422-p54m2t.html\n"
     ]
    },
    {
     "name": "stderr",
     "output_type": "stream",
     "text": [
      "2020-04-24 21:22:42 [urllib3.connectionpool] DEBUG: https://www.smh.com.au:443 \"GET //culture/books/top-five-parenting-books-to-help-you-through-tricky-times-20200422-p54m2t.html HTTP/1.1\" 200 38328\n",
      "2020-04-24 21:22:42 [urllib3.connectionpool] DEBUG: Starting new HTTPS connection (1): www.smh.com.au:443\n"
     ]
    },
    {
     "name": "stdout",
     "output_type": "stream",
     "text": [
      "/culture/books/top-five-parenting-books-to-help-you-through-tricky-times-20200422-p54m2t.html\n"
     ]
    },
    {
     "name": "stderr",
     "output_type": "stream",
     "text": [
      "2020-04-24 21:22:42 [urllib3.connectionpool] DEBUG: https://www.smh.com.au:443 \"GET //culture/books/top-five-parenting-books-to-help-you-through-tricky-times-20200422-p54m2t.html HTTP/1.1\" 200 38328\n",
      "2020-04-24 21:22:42 [urllib3.connectionpool] DEBUG: Starting new HTTPS connection (1): www.smh.com.au:443\n"
     ]
    },
    {
     "name": "stdout",
     "output_type": "stream",
     "text": [
      "/culture/books/tome-sweet-tome-the-great-mother-s-day-reading-round-up-20200401-p54g5n.html\n"
     ]
    },
    {
     "name": "stderr",
     "output_type": "stream",
     "text": [
      "2020-04-24 21:22:43 [urllib3.connectionpool] DEBUG: https://www.smh.com.au:443 \"GET //culture/books/tome-sweet-tome-the-great-mother-s-day-reading-round-up-20200401-p54g5n.html HTTP/1.1\" 200 48591\n",
      "2020-04-24 21:22:43 [urllib3.connectionpool] DEBUG: Starting new HTTPS connection (1): www.smh.com.au:443\n"
     ]
    },
    {
     "name": "stdout",
     "output_type": "stream",
     "text": [
      "/culture/books/tome-sweet-tome-the-great-mother-s-day-reading-round-up-20200401-p54g5n.html\n"
     ]
    },
    {
     "name": "stderr",
     "output_type": "stream",
     "text": [
      "2020-04-24 21:22:43 [urllib3.connectionpool] DEBUG: https://www.smh.com.au:443 \"GET //culture/books/tome-sweet-tome-the-great-mother-s-day-reading-round-up-20200401-p54g5n.html HTTP/1.1\" 200 48591\n",
      "2020-04-24 21:22:44 [urllib3.connectionpool] DEBUG: Starting new HTTPS connection (1): www.smh.com.au:443\n"
     ]
    },
    {
     "name": "stdout",
     "output_type": "stream",
     "text": [
      "/culture/books/non-fiction-reviews-ellis-rowan-and-three-other-titles-20200416-p54kfy.html\n"
     ]
    },
    {
     "name": "stderr",
     "output_type": "stream",
     "text": [
      "2020-04-24 21:22:44 [urllib3.connectionpool] DEBUG: https://www.smh.com.au:443 \"GET //culture/books/non-fiction-reviews-ellis-rowan-and-three-other-titles-20200416-p54kfy.html HTTP/1.1\" 200 40712\n",
      "2020-04-24 21:22:44 [urllib3.connectionpool] DEBUG: Starting new HTTPS connection (1): www.smh.com.au:443\n"
     ]
    },
    {
     "name": "stdout",
     "output_type": "stream",
     "text": [
      "/culture/books/non-fiction-reviews-ellis-rowan-and-three-other-titles-20200416-p54kfy.html\n"
     ]
    },
    {
     "name": "stderr",
     "output_type": "stream",
     "text": [
      "2020-04-24 21:22:45 [urllib3.connectionpool] DEBUG: https://www.smh.com.au:443 \"GET //culture/books/non-fiction-reviews-ellis-rowan-and-three-other-titles-20200416-p54kfy.html HTTP/1.1\" 200 40712\n",
      "2020-04-24 21:22:45 [urllib3.connectionpool] DEBUG: Starting new HTTPS connection (1): www.smh.com.au:443\n"
     ]
    },
    {
     "name": "stdout",
     "output_type": "stream",
     "text": [
      "/culture/books/fiction-reviews-the-night-watchman-and-three-other-titles-20200417-p54kti.html\n"
     ]
    },
    {
     "name": "stderr",
     "output_type": "stream",
     "text": [
      "2020-04-24 21:22:46 [urllib3.connectionpool] DEBUG: https://www.smh.com.au:443 \"GET //culture/books/fiction-reviews-the-night-watchman-and-three-other-titles-20200417-p54kti.html HTTP/1.1\" 200 40716\n",
      "2020-04-24 21:22:46 [urllib3.connectionpool] DEBUG: Starting new HTTPS connection (1): www.smh.com.au:443\n"
     ]
    },
    {
     "name": "stdout",
     "output_type": "stream",
     "text": [
      "/culture/books/fiction-reviews-the-night-watchman-and-three-other-titles-20200417-p54kti.html\n"
     ]
    },
    {
     "name": "stderr",
     "output_type": "stream",
     "text": [
      "2020-04-24 21:22:46 [urllib3.connectionpool] DEBUG: https://www.smh.com.au:443 \"GET //culture/books/fiction-reviews-the-night-watchman-and-three-other-titles-20200417-p54kti.html HTTP/1.1\" 200 40716\n",
      "2020-04-24 21:22:47 [urllib3.connectionpool] DEBUG: Starting new HTTPS connection (1): www.smh.com.au:443\n"
     ]
    },
    {
     "name": "stdout",
     "output_type": "stream",
     "text": [
      "/\n",
      "https://twitter.com/smh\n",
      "http://www.facebook.com/sydneymorningherald\n",
      "https://www.instagram.com/sydneymorningherald\n",
      "/rssheadlines\n",
      "javascript:void(0)\n",
      "https://www.smh.com.au\n",
      "https://www.theage.com.au\n",
      "https://www.brisbanetimes.com.au\n",
      "https://www.watoday.com.au\n",
      "https://www.afr.com\n",
      "https://www.domain.com.au\n",
      "http://www.traveller.com.au\n",
      "https://www.goodfood.com.au\n",
      "http://www.executivestyle.com.au\n",
      "https://www.thestore.com.au\n",
      "https://www.drive.com.au\n",
      "https://www.caradvice.com.au\n",
      "https://www.rsvp.com.au\n",
      "http://www.weatherzone.com.au\n",
      "javascript:void(0)\n",
      "http://tributes.smh.com.au/obituaries/smh-au/\n",
      "http://celebrations.smh.com.au/celebration/smh-au/\n",
      "https://advertisers.com.au\n",
      "https://www.commercialrealestate.com.au\n",
      "https://www.oneflare.com.au\n",
      "javascript:void(0)\n",
      "/contact-us\n",
      "https://www.adcentre.com.au/brands/the-sydney-morning-herald\n",
      "https://smh.myfairfax.com.au/members/lite_session/new?callback_uri=https%3A%2F%2Fsmh.myfairfax.com.au%2Fbeta%2Fmembers%2Fmy_account%2Fnewsletters%3Fchannel_key%3DzHE9EWDHf1XPuz3Phk0YIg%26callback_uri%3Dhttps%253a%252f%252fwww.smh.com.au&channel_key=zHE9EWDHf1XPuz3Phk0YIg\n",
      "/siteguide/accessibility\n",
      "/siteguide\n",
      "https://consumer.fairfaxsyndication.com/C.aspx?VP3=CMS3&VF=FXJFX2_2_VForm\n",
      "https://frontpages.fairfaxsyndication.com/C.aspx?VP3=CMS3&VF=FXJFX2_3_VForm\n",
      "https://www.fairfaxsyndication.com/C.aspx?VP3=CMS3&VF=FXJO50_1\n",
      "/our-events\n",
      "https://www.nineforbrands.com.au/about/careers/\n",
      "/conditions-of-use\n",
      "/privacy\n",
      "https://www.presscouncil.org.au/what-we-do\n",
      "javascript:void(0)\n",
      "https://subscribe.smh.com.au/?promote_channel=HI_SMH_GNL_FT\n",
      "https://subscribers.smh.com.au\n",
      "https://www.smh.com.au/myaccount\n",
      "https://subscribers.smh.com.au/support-centre/overview\n",
      "/todays-newspaper\n",
      "/puzzles/crosswords\n",
      "https://www.thesmhinsider.com.au/c/a/5dAvszx5Lm7C4GDU21EWmQ?dPanel=2\n",
      "https://subscribe.smh.com.au/?promote_channel=HI_SMH_GNL_FT\n",
      "                                                link  \\\n",
      "0  /culture/books/school-activist-daisy-jeffrey-s...   \n",
      "1  /culture/books/school-activist-daisy-jeffrey-s...   \n",
      "2  /culture/tv-and-radio/how-to-observe-anzac-day...   \n",
      "3  /culture/tv-and-radio/how-to-observe-anzac-day...   \n",
      "4  /culture/celebrity/tom-hanks-sends-letter-to-b...   \n",
      "\n",
      "                                              header  \\\n",
      "0  School activist Daisy Jeffrey's first book is ...   \n",
      "1  School activist Daisy Jeffrey's first book is ...   \n",
      "2      How to observe Anzac Day while self-isolating   \n",
      "3      How to observe Anzac Day while self-isolating   \n",
      "4  Tom Hanks sends letter to bullied Australian b...   \n",
      "\n",
      "                                             article  \\\n",
      "0  Non-fiction reviewer Fiona Capp and fiction re...   \n",
      "1  Non-fiction reviewer Fiona Capp and fiction re...   \n",
      "2  Television networks have vowed to keep the com...   \n",
      "3  Television networks have vowed to keep the com...   \n",
      "4  Tom Hanks has sent a letter and a Corona brand...   \n",
      "\n",
      "                            author            date  \n",
      "0   Fiona Capp , Cameron Woodhead   April 24, 2020  \n",
      "1   Fiona Capp , Cameron Woodhead   April 24, 2020  \n",
      "2                  Broede Carmody   April 24, 2020  \n",
      "3                  Broede Carmody   April 24, 2020  \n",
      "4                                   April 24, 2020  \n",
      "processing : lifestyle\n"
     ]
    },
    {
     "name": "stderr",
     "output_type": "stream",
     "text": [
      "2020-04-24 21:22:47 [urllib3.connectionpool] DEBUG: https://www.smh.com.au:443 \"GET /lifestyle HTTP/1.1\" 200 62182\n",
      "2020-04-24 21:22:47 [urllib3.connectionpool] DEBUG: Starting new HTTPS connection (1): www.smh.com.au:443\n"
     ]
    },
    {
     "name": "stdout",
     "output_type": "stream",
     "text": [
      "#sections\n",
      "#content\n",
      "#footer\n",
      "javascript:void(0);\n",
      "https://subscribe.smh.com.au/?promote_channel=HI_SMH_GNL_HL\n",
      "/\n",
      "https://subscribe.smh.com.au/?promote_channel=HI_SMH_GNL_HL\n",
      "/\n",
      "#sections\n",
      "#network\n",
      "/\n",
      "/sydney-news\n",
      "/national/nsw\n",
      "/politics\n",
      "/politics/federal\n",
      "/politics/nsw\n",
      "/politics/victoria\n",
      "/politics/queensland\n",
      "/politics/western-australia\n",
      "/business\n",
      "/business/companies\n",
      "/business/markets\n",
      "/business/the-economy\n",
      "/business/banking-and-finance\n",
      "/business/small-business\n",
      "/business/consumer-affairs\n",
      "/business/workplace\n",
      "/world\n",
      "/world/north-america\n",
      "/world/europe\n",
      "/world/asia\n",
      "/world/middle-east\n",
      "/world/oceania\n",
      "/world/central-america\n",
      "/world/south-america\n",
      "/world/africa\n",
      "/national\n",
      "/national/victoria\n",
      "/national/queensland\n",
      "/national/western-australia\n",
      "/opinion\n",
      "http://www.domain.com.au\n",
      "/sport\n",
      "/sport/nrl\n",
      "/sport/rugby-union\n",
      "/sport/cricket\n",
      "/sport/soccer\n",
      "/sport/afl\n",
      "/sport/racing\n",
      "/sport/tennis\n",
      "/sport/netball\n",
      "/sport/basketball\n",
      "/sport/motorsport\n",
      "/sport/cycling\n",
      "/sport/golf\n",
      "/sport/nfl\n",
      "/sport/athletics\n",
      "/sport/swimming\n",
      "/sport/boxing\n",
      "/culture\n",
      "/culture/movies\n",
      "/culture/tv-and-radio\n",
      "/culture/music\n",
      "/culture/celebrity\n",
      "/culture/books\n",
      "/culture/comedy\n",
      "/culture/dance\n",
      "/culture/musicals\n",
      "/culture/opera\n",
      "/culture/theatre\n",
      "/culture/art-and-design\n",
      "https://tvguide.smh.com.au\n",
      "/lifestyle\n",
      "/lifestyle/life-and-relationships\n",
      "/lifestyle/health-and-wellness\n",
      "/lifestyle/gender\n",
      "/lifestyle/fashion\n",
      "/lifestyle/beauty\n",
      "/topic/horoscopes-5yc\n",
      "/topic/good-weekend-1qq\n",
      "/money\n",
      "/money/super-and-retirement\n",
      "/money/investing\n",
      "/money/banking\n",
      "/money/borrowing\n",
      "/money/saving\n",
      "/money/tax\n",
      "/money/planning-and-budgeting\n",
      "/money/insurance\n",
      "/education\n",
      "/healthcare\n",
      "/environment\n",
      "/environment/conservation\n",
      "/environment/climate-change\n",
      "/environment/sustainability\n",
      "/environment/weather\n",
      "/technology\n",
      "/technology/video-games\n",
      "/topic/home-technology-hqq\n",
      "/topic/phones-5zt\n",
      "/topic/gadgets-hqp\n",
      "http://www.drive.com.au\n",
      "http://www.traveller.com.au\n",
      "http://www.goodfood.com.au\n",
      "http://www.executivestyle.com.au\n",
      "https://subscribe.smh.com.au/2?promote_channel=HI_IPL_GNL&utm_source=PremiumIndex&utm_medium=HouseInventory&utm_campaign=General\n",
      "/todays-newspaper\n",
      "/puzzles/crosswords\n",
      "/topic/smh-letters-1r7\n",
      "/topic/smh-editorial-1r6\n",
      "/topic/column-8-1r4\n",
      "/topic/obituaries-1qv\n",
      "/topic/explainers-1lz9\n",
      "/topic/quizzes-1qx\n",
      "http://weather.smh.com.au/local-forecast/nsw/sydney\n",
      "https://www.theage.com.au\n",
      "https://www.brisbanetimes.com.au\n",
      "https://www.watoday.com.au\n",
      "https://www.afr.com\n",
      "https://www.domain.com.au\n",
      "https://www.commercialrealestate.com.au\n",
      "https://www.drive.com.au\n",
      "https://www.goodfood.com.au\n",
      "http://www.traveller.com.au\n",
      "http://www.executivestyle.com.au\n",
      "https://www.findababysitter.com.au\n",
      "https://www.thestore.com.au\n",
      "http://www.weatherzone.com.au\n",
      "https://www.rsvp.com.au\n",
      "/lifestyle/life-and-relationships\n",
      "/lifestyle/health-and-wellness\n",
      "/lifestyle/gender\n",
      "/lifestyle/fashion\n",
      "/lifestyle/beauty\n",
      "/topic/horoscopes-5yc\n",
      "/lifestyle/life-and-relationships/having-to-live-frugally-has-helped-me-appreciate-the-little-things-in-life-that-matter-20200422-p54ma2.html\n"
     ]
    },
    {
     "name": "stderr",
     "output_type": "stream",
     "text": [
      "2020-04-24 21:22:48 [urllib3.connectionpool] DEBUG: https://www.smh.com.au:443 \"GET //lifestyle/life-and-relationships/having-to-live-frugally-has-helped-me-appreciate-the-little-things-in-life-that-matter-20200422-p54ma2.html HTTP/1.1\" 200 40785\n",
      "2020-04-24 21:22:48 [urllib3.connectionpool] DEBUG: Starting new HTTPS connection (1): www.smh.com.au:443\n"
     ]
    },
    {
     "name": "stdout",
     "output_type": "stream",
     "text": [
      "/topic/money-and-relationships-hou\n",
      "/lifestyle/life-and-relationships/having-to-live-frugally-has-helped-me-appreciate-the-little-things-in-life-that-matter-20200422-p54ma2.html\n"
     ]
    },
    {
     "name": "stderr",
     "output_type": "stream",
     "text": [
      "2020-04-24 21:22:48 [urllib3.connectionpool] DEBUG: https://www.smh.com.au:443 \"GET //lifestyle/life-and-relationships/having-to-live-frugally-has-helped-me-appreciate-the-little-things-in-life-that-matter-20200422-p54ma2.html HTTP/1.1\" 200 40785\n",
      "2020-04-24 21:22:48 [urllib3.connectionpool] DEBUG: Starting new HTTPS connection (1): www.smh.com.au:443\n"
     ]
    },
    {
     "name": "stdout",
     "output_type": "stream",
     "text": [
      "/lifestyle/life-and-relationships/all-the-social-media-challenges-getting-us-through-isolation-20200423-p54mfv.html\n"
     ]
    },
    {
     "name": "stderr",
     "output_type": "stream",
     "text": [
      "2020-04-24 21:22:49 [urllib3.connectionpool] DEBUG: https://www.smh.com.au:443 \"GET //lifestyle/life-and-relationships/all-the-social-media-challenges-getting-us-through-isolation-20200423-p54mfv.html HTTP/1.1\" 200 44062\n",
      "2020-04-24 21:22:49 [urllib3.connectionpool] DEBUG: Starting new HTTPS connection (1): www.smh.com.au:443\n"
     ]
    },
    {
     "name": "stdout",
     "output_type": "stream",
     "text": [
      "/topic/social-media-621\n",
      "/lifestyle/life-and-relationships/all-the-social-media-challenges-getting-us-through-isolation-20200423-p54mfv.html\n"
     ]
    },
    {
     "name": "stderr",
     "output_type": "stream",
     "text": [
      "2020-04-24 21:22:49 [urllib3.connectionpool] DEBUG: https://www.smh.com.au:443 \"GET //lifestyle/life-and-relationships/all-the-social-media-challenges-getting-us-through-isolation-20200423-p54mfv.html HTTP/1.1\" 200 44062\n",
      "2020-04-24 21:22:50 [urllib3.connectionpool] DEBUG: Starting new HTTPS connection (1): www.smh.com.au:443\n"
     ]
    },
    {
     "name": "stdout",
     "output_type": "stream",
     "text": [
      "/lifestyle/health-and-wellness/it-s-okay-to-put-your-health-goals-on-hold-right-now-20200414-p54jo2.html\n"
     ]
    },
    {
     "name": "stderr",
     "output_type": "stream",
     "text": [
      "2020-04-24 21:22:50 [urllib3.connectionpool] DEBUG: https://www.smh.com.au:443 \"GET //lifestyle/health-and-wellness/it-s-okay-to-put-your-health-goals-on-hold-right-now-20200414-p54jo2.html HTTP/1.1\" 200 46464\n",
      "2020-04-24 21:22:51 [urllib3.connectionpool] DEBUG: Starting new HTTPS connection (1): www.smh.com.au:443\n"
     ]
    },
    {
     "name": "stdout",
     "output_type": "stream",
     "text": [
      "/topic/wellbeing-63y\n",
      "/lifestyle/health-and-wellness/it-s-okay-to-put-your-health-goals-on-hold-right-now-20200414-p54jo2.html\n"
     ]
    },
    {
     "name": "stderr",
     "output_type": "stream",
     "text": [
      "2020-04-24 21:22:51 [urllib3.connectionpool] DEBUG: https://www.smh.com.au:443 \"GET //lifestyle/health-and-wellness/it-s-okay-to-put-your-health-goals-on-hold-right-now-20200414-p54jo2.html HTTP/1.1\" 200 46464\n",
      "2020-04-24 21:22:51 [urllib3.connectionpool] DEBUG: Starting new HTTPS connection (1): www.smh.com.au:443\n"
     ]
    },
    {
     "name": "stdout",
     "output_type": "stream",
     "text": [
      "/lifestyle/health-and-wellness/how-many-times-a-week-you-should-exercise-to-see-real-mood-benefits-20200422-p54m3g.html\n"
     ]
    },
    {
     "name": "stderr",
     "output_type": "stream",
     "text": [
      "2020-04-24 21:22:52 [urllib3.connectionpool] DEBUG: https://www.smh.com.au:443 \"GET //lifestyle/health-and-wellness/how-many-times-a-week-you-should-exercise-to-see-real-mood-benefits-20200422-p54m3g.html HTTP/1.1\" 200 46147\n",
      "2020-04-24 21:22:52 [urllib3.connectionpool] DEBUG: Starting new HTTPS connection (1): www.smh.com.au:443\n"
     ]
    },
    {
     "name": "stdout",
     "output_type": "stream",
     "text": [
      "/topic/fitness-5xb\n",
      "/lifestyle/health-and-wellness/how-many-times-a-week-you-should-exercise-to-see-real-mood-benefits-20200422-p54m3g.html\n"
     ]
    },
    {
     "name": "stderr",
     "output_type": "stream",
     "text": [
      "2020-04-24 21:22:52 [urllib3.connectionpool] DEBUG: https://www.smh.com.au:443 \"GET //lifestyle/health-and-wellness/how-many-times-a-week-you-should-exercise-to-see-real-mood-benefits-20200422-p54m3g.html HTTP/1.1\" 200 46147\n",
      "2020-04-24 21:22:53 [urllib3.connectionpool] DEBUG: Starting new HTTPS connection (1): www.smh.com.au:443\n"
     ]
    },
    {
     "name": "stdout",
     "output_type": "stream",
     "text": [
      "/lifestyle/fashion/at-94-this-is-what-the-queen-s-style-reveals-about-her-and-us-20200420-p54le1.html\n"
     ]
    },
    {
     "name": "stderr",
     "output_type": "stream",
     "text": [
      "2020-04-24 21:22:53 [urllib3.connectionpool] DEBUG: https://www.smh.com.au:443 \"GET //lifestyle/fashion/at-94-this-is-what-the-queen-s-style-reveals-about-her-and-us-20200420-p54le1.html HTTP/1.1\" 200 47642\n",
      "2020-04-24 21:22:54 [urllib3.connectionpool] DEBUG: Starting new HTTPS connection (1): www.smh.com.au:443\n"
     ]
    },
    {
     "name": "stdout",
     "output_type": "stream",
     "text": [
      "/topic/royal-family-61e\n",
      "/lifestyle/fashion/at-94-this-is-what-the-queen-s-style-reveals-about-her-and-us-20200420-p54le1.html\n"
     ]
    },
    {
     "name": "stderr",
     "output_type": "stream",
     "text": [
      "2020-04-24 21:22:54 [urllib3.connectionpool] DEBUG: https://www.smh.com.au:443 \"GET //lifestyle/fashion/at-94-this-is-what-the-queen-s-style-reveals-about-her-and-us-20200420-p54le1.html HTTP/1.1\" 200 47642\n",
      "2020-04-24 21:22:54 [urllib3.connectionpool] DEBUG: Starting new HTTPS connection (1): www.smh.com.au:443\n"
     ]
    },
    {
     "name": "stdout",
     "output_type": "stream",
     "text": [
      "/topic/daily-life-1qe\n",
      "/lifestyle/health-and-wellness/it-s-okay-to-put-your-health-goals-on-hold-right-now-20200414-p54jo2.html\n"
     ]
    },
    {
     "name": "stderr",
     "output_type": "stream",
     "text": [
      "2020-04-24 21:22:55 [urllib3.connectionpool] DEBUG: https://www.smh.com.au:443 \"GET //lifestyle/health-and-wellness/it-s-okay-to-put-your-health-goals-on-hold-right-now-20200414-p54jo2.html HTTP/1.1\" 200 46464\n",
      "2020-04-24 21:22:56 [urllib3.connectionpool] DEBUG: Starting new HTTPS connection (1): www.smh.com.au:443\n"
     ]
    },
    {
     "name": "stdout",
     "output_type": "stream",
     "text": [
      "/lifestyle/life-and-relationships/cath-moore-resolve-in-a-time-of-coronavirus-20200415-p54k4r.html\n"
     ]
    },
    {
     "name": "stderr",
     "output_type": "stream",
     "text": [
      "2020-04-24 21:22:56 [urllib3.connectionpool] DEBUG: https://www.smh.com.au:443 \"GET //lifestyle/life-and-relationships/cath-moore-resolve-in-a-time-of-coronavirus-20200415-p54k4r.html HTTP/1.1\" 200 39429\n",
      "2020-04-24 21:22:56 [urllib3.connectionpool] DEBUG: Starting new HTTPS connection (1): www.smh.com.au:443\n"
     ]
    },
    {
     "name": "stdout",
     "output_type": "stream",
     "text": [
      "/lifestyle/life-and-relationships/forget-the-celeb-advice-all-we-need-is-a-laugh-and-a-lamington-20200409-p54ikw.html\n"
     ]
    },
    {
     "name": "stderr",
     "output_type": "stream",
     "text": [
      "2020-04-24 21:22:57 [urllib3.connectionpool] DEBUG: https://www.smh.com.au:443 \"GET //lifestyle/life-and-relationships/forget-the-celeb-advice-all-we-need-is-a-laugh-and-a-lamington-20200409-p54ikw.html HTTP/1.1\" 200 42572\n",
      "2020-04-24 21:22:57 [urllib3.connectionpool] DEBUG: Starting new HTTPS connection (1): www.smh.com.au:443\n"
     ]
    },
    {
     "name": "stdout",
     "output_type": "stream",
     "text": [
      "/lifestyle/life-and-relationships\n",
      "/lifestyle/life-and-relationships/home-school-of-hard-knocks-the-diary-of-a-wfh-mother-20200407-p54hto.html\n"
     ]
    },
    {
     "name": "stderr",
     "output_type": "stream",
     "text": [
      "2020-04-24 21:22:58 [urllib3.connectionpool] DEBUG: https://www.smh.com.au:443 \"GET //lifestyle/life-and-relationships/home-school-of-hard-knocks-the-diary-of-a-wfh-mother-20200407-p54hto.html HTTP/1.1\" 200 49260\n",
      "2020-04-24 21:22:58 [urllib3.connectionpool] DEBUG: Starting new HTTPS connection (1): www.smh.com.au:443\n"
     ]
    },
    {
     "name": "stdout",
     "output_type": "stream",
     "text": [
      "/topic/good-weekend-1qq\n",
      "/lifestyle/life-and-relationships/home-school-of-hard-knocks-the-diary-of-a-wfh-mother-20200407-p54hto.html\n"
     ]
    },
    {
     "name": "stderr",
     "output_type": "stream",
     "text": [
      "2020-04-24 21:22:59 [urllib3.connectionpool] DEBUG: https://www.smh.com.au:443 \"GET //lifestyle/life-and-relationships/home-school-of-hard-knocks-the-diary-of-a-wfh-mother-20200407-p54hto.html HTTP/1.1\" 200 49260\n",
      "2020-04-24 21:23:00 [urllib3.connectionpool] DEBUG: Starting new HTTPS connection (1): www.smh.com.au:443\n"
     ]
    },
    {
     "name": "stdout",
     "output_type": "stream",
     "text": [
      "/lifestyle/life-and-relationships/your-daily-horoscope-for-saturday-april-25-20200424-p54mtc.html\n"
     ]
    },
    {
     "name": "stderr",
     "output_type": "stream",
     "text": [
      "2020-04-24 21:23:00 [urllib3.connectionpool] DEBUG: https://www.smh.com.au:443 \"GET //lifestyle/life-and-relationships/your-daily-horoscope-for-saturday-april-25-20200424-p54mtc.html HTTP/1.1\" 200 39948\n",
      "2020-04-24 21:23:00 [urllib3.connectionpool] DEBUG: Starting new HTTPS connection (1): www.smh.com.au:443\n"
     ]
    },
    {
     "name": "stdout",
     "output_type": "stream",
     "text": [
      "/topic/horoscopes-5yc\n",
      "/lifestyle/life-and-relationships/your-daily-horoscope-for-saturday-april-25-20200424-p54mtc.html\n"
     ]
    },
    {
     "name": "stderr",
     "output_type": "stream",
     "text": [
      "2020-04-24 21:23:01 [urllib3.connectionpool] DEBUG: https://www.smh.com.au:443 \"GET //lifestyle/life-and-relationships/your-daily-horoscope-for-saturday-april-25-20200424-p54mtc.html HTTP/1.1\" 200 39948\n",
      "2020-04-24 21:23:01 [urllib3.connectionpool] DEBUG: Starting new HTTPS connection (1): www.smh.com.au:443\n"
     ]
    },
    {
     "name": "stdout",
     "output_type": "stream",
     "text": [
      "/lifestyle/life-and-relationships/so-you-ve-panic-bought-chickens-here-s-what-you-need-to-know-20200414-p54jmt.html\n"
     ]
    },
    {
     "name": "stderr",
     "output_type": "stream",
     "text": [
      "2020-04-24 21:23:02 [urllib3.connectionpool] DEBUG: https://www.smh.com.au:443 \"GET //lifestyle/life-and-relationships/so-you-ve-panic-bought-chickens-here-s-what-you-need-to-know-20200414-p54jmt.html HTTP/1.1\" 200 46190\n",
      "2020-04-24 21:23:02 [urllib3.connectionpool] DEBUG: Starting new HTTPS connection (1): www.smh.com.au:443\n"
     ]
    },
    {
     "name": "stdout",
     "output_type": "stream",
     "text": [
      "/topic/pets-hnm\n",
      "/lifestyle/life-and-relationships/so-you-ve-panic-bought-chickens-here-s-what-you-need-to-know-20200414-p54jmt.html\n"
     ]
    },
    {
     "name": "stderr",
     "output_type": "stream",
     "text": [
      "2020-04-24 21:23:02 [urllib3.connectionpool] DEBUG: https://www.smh.com.au:443 \"GET //lifestyle/life-and-relationships/so-you-ve-panic-bought-chickens-here-s-what-you-need-to-know-20200414-p54jmt.html HTTP/1.1\" 200 46190\n",
      "2020-04-24 21:23:03 [urllib3.connectionpool] DEBUG: Starting new HTTPS connection (1): www.smh.com.au:443\n"
     ]
    },
    {
     "name": "stdout",
     "output_type": "stream",
     "text": [
      "/lifestyle/health-and-wellness\n",
      "/lifestyle/health-and-wellness/the-things-you-learn-in-lockdown-or-am-i-just-losing-my-mind-20200421-p54ltn.html\n"
     ]
    },
    {
     "name": "stderr",
     "output_type": "stream",
     "text": [
      "2020-04-24 21:23:03 [urllib3.connectionpool] DEBUG: https://www.smh.com.au:443 \"GET //lifestyle/health-and-wellness/the-things-you-learn-in-lockdown-or-am-i-just-losing-my-mind-20200421-p54ltn.html HTTP/1.1\" 200 37796\n",
      "2020-04-24 21:23:04 [urllib3.connectionpool] DEBUG: Starting new HTTPS connection (1): www.smh.com.au:443\n"
     ]
    },
    {
     "name": "stdout",
     "output_type": "stream",
     "text": [
      "/topic/spectrum-hog\n",
      "/lifestyle/health-and-wellness/the-things-you-learn-in-lockdown-or-am-i-just-losing-my-mind-20200421-p54ltn.html\n"
     ]
    },
    {
     "name": "stderr",
     "output_type": "stream",
     "text": [
      "2020-04-24 21:23:04 [urllib3.connectionpool] DEBUG: https://www.smh.com.au:443 \"GET //lifestyle/health-and-wellness/the-things-you-learn-in-lockdown-or-am-i-just-losing-my-mind-20200421-p54ltn.html HTTP/1.1\" 200 37796\n",
      "2020-04-24 21:23:04 [urllib3.connectionpool] DEBUG: Starting new HTTPS connection (1): www.smh.com.au:443\n"
     ]
    },
    {
     "name": "stdout",
     "output_type": "stream",
     "text": [
      "/lifestyle/health-and-wellness/it-s-okay-to-put-your-health-goals-on-hold-right-now-20200414-p54jo2.html\n"
     ]
    },
    {
     "name": "stderr",
     "output_type": "stream",
     "text": [
      "2020-04-24 21:23:05 [urllib3.connectionpool] DEBUG: https://www.smh.com.au:443 \"GET //lifestyle/health-and-wellness/it-s-okay-to-put-your-health-goals-on-hold-right-now-20200414-p54jo2.html HTTP/1.1\" 200 46464\n",
      "2020-04-24 21:23:05 [urllib3.connectionpool] DEBUG: Starting new HTTPS connection (1): www.smh.com.au:443\n"
     ]
    },
    {
     "name": "stdout",
     "output_type": "stream",
     "text": [
      "/topic/wellbeing-63y\n",
      "/lifestyle/health-and-wellness/it-s-okay-to-put-your-health-goals-on-hold-right-now-20200414-p54jo2.html\n"
     ]
    },
    {
     "name": "stderr",
     "output_type": "stream",
     "text": [
      "2020-04-24 21:23:05 [urllib3.connectionpool] DEBUG: https://www.smh.com.au:443 \"GET //lifestyle/health-and-wellness/it-s-okay-to-put-your-health-goals-on-hold-right-now-20200414-p54jo2.html HTTP/1.1\" 200 46464\n",
      "2020-04-24 21:23:05 [urllib3.connectionpool] DEBUG: Starting new HTTPS connection (1): www.smh.com.au:443\n"
     ]
    },
    {
     "name": "stdout",
     "output_type": "stream",
     "text": [
      "/lifestyle/health-and-wellness/how-many-times-a-week-you-should-exercise-to-see-real-mood-benefits-20200422-p54m3g.html\n"
     ]
    },
    {
     "name": "stderr",
     "output_type": "stream",
     "text": [
      "2020-04-24 21:23:06 [urllib3.connectionpool] DEBUG: https://www.smh.com.au:443 \"GET //lifestyle/health-and-wellness/how-many-times-a-week-you-should-exercise-to-see-real-mood-benefits-20200422-p54m3g.html HTTP/1.1\" 200 46147\n",
      "2020-04-24 21:23:07 [urllib3.connectionpool] DEBUG: Starting new HTTPS connection (1): www.smh.com.au:443\n"
     ]
    },
    {
     "name": "stdout",
     "output_type": "stream",
     "text": [
      "/topic/fitness-5xb\n",
      "/lifestyle/health-and-wellness/how-many-times-a-week-you-should-exercise-to-see-real-mood-benefits-20200422-p54m3g.html\n"
     ]
    },
    {
     "name": "stderr",
     "output_type": "stream",
     "text": [
      "2020-04-24 21:23:07 [urllib3.connectionpool] DEBUG: https://www.smh.com.au:443 \"GET //lifestyle/health-and-wellness/how-many-times-a-week-you-should-exercise-to-see-real-mood-benefits-20200422-p54m3g.html HTTP/1.1\" 200 46147\n",
      "2020-04-24 21:23:08 [urllib3.connectionpool] DEBUG: Starting new HTTPS connection (1): www.smh.com.au:443\n"
     ]
    },
    {
     "name": "stdout",
     "output_type": "stream",
     "text": [
      "/lifestyle/health-and-wellness/healthy-booze-with-benefits-is-it-too-good-to-be-true-20200407-p54ht8.html\n"
     ]
    },
    {
     "name": "stderr",
     "output_type": "stream",
     "text": [
      "2020-04-24 21:23:08 [urllib3.connectionpool] DEBUG: https://www.smh.com.au:443 \"GET //lifestyle/health-and-wellness/healthy-booze-with-benefits-is-it-too-good-to-be-true-20200407-p54ht8.html HTTP/1.1\" 200 46694\n",
      "2020-04-24 21:23:09 [urllib3.connectionpool] DEBUG: Starting new HTTPS connection (1): www.smh.com.au:443\n"
     ]
    },
    {
     "name": "stdout",
     "output_type": "stream",
     "text": [
      "/topic/wellbeing-63y\n",
      "/lifestyle/health-and-wellness/healthy-booze-with-benefits-is-it-too-good-to-be-true-20200407-p54ht8.html\n"
     ]
    },
    {
     "name": "stderr",
     "output_type": "stream",
     "text": [
      "2020-04-24 21:23:10 [urllib3.connectionpool] DEBUG: https://www.smh.com.au:443 \"GET //lifestyle/health-and-wellness/healthy-booze-with-benefits-is-it-too-good-to-be-true-20200407-p54ht8.html HTTP/1.1\" 200 46694\n",
      "2020-04-24 21:23:11 [urllib3.connectionpool] DEBUG: Starting new HTTPS connection (1): www.smh.com.au:443\n"
     ]
    },
    {
     "name": "stdout",
     "output_type": "stream",
     "text": [
      "/lifestyle/health-and-wellness/the-only-four-pieces-of-workout-equipment-you-need-at-home-20200416-p54kbx.html\n"
     ]
    },
    {
     "name": "stderr",
     "output_type": "stream",
     "text": [
      "2020-04-24 21:23:12 [urllib3.connectionpool] DEBUG: https://www.smh.com.au:443 \"GET //lifestyle/health-and-wellness/the-only-four-pieces-of-workout-equipment-you-need-at-home-20200416-p54kbx.html HTTP/1.1\" 200 44513\n",
      "2020-04-24 21:23:12 [urllib3.connectionpool] DEBUG: Starting new HTTPS connection (1): www.smh.com.au:443\n"
     ]
    },
    {
     "name": "stdout",
     "output_type": "stream",
     "text": [
      "/topic/fitness-5xb\n",
      "/lifestyle/health-and-wellness/the-only-four-pieces-of-workout-equipment-you-need-at-home-20200416-p54kbx.html\n"
     ]
    },
    {
     "name": "stderr",
     "output_type": "stream",
     "text": [
      "2020-04-24 21:23:13 [urllib3.connectionpool] DEBUG: https://www.smh.com.au:443 \"GET //lifestyle/health-and-wellness/the-only-four-pieces-of-workout-equipment-you-need-at-home-20200416-p54kbx.html HTTP/1.1\" 200 44513\n",
      "2020-04-24 21:23:13 [urllib3.connectionpool] DEBUG: Starting new HTTPS connection (1): www.smh.com.au:443\n"
     ]
    },
    {
     "name": "stdout",
     "output_type": "stream",
     "text": [
      "/lifestyle/health-and-wellness/follow-these-basic-principles-for-a-good-workstation-20200417-p54kow.html\n"
     ]
    },
    {
     "name": "stderr",
     "output_type": "stream",
     "text": [
      "2020-04-24 21:23:15 [urllib3.connectionpool] DEBUG: https://www.smh.com.au:443 \"GET //lifestyle/health-and-wellness/follow-these-basic-principles-for-a-good-workstation-20200417-p54kow.html HTTP/1.1\" 200 47472\n",
      "2020-04-24 21:23:15 [urllib3.connectionpool] DEBUG: Starting new HTTPS connection (1): www.smh.com.au:443\n"
     ]
    },
    {
     "name": "stdout",
     "output_type": "stream",
     "text": [
      "/topic/working-from-home-1nf5\n",
      "/lifestyle/health-and-wellness/follow-these-basic-principles-for-a-good-workstation-20200417-p54kow.html\n"
     ]
    },
    {
     "name": "stderr",
     "output_type": "stream",
     "text": [
      "2020-04-24 21:23:16 [urllib3.connectionpool] DEBUG: https://www.smh.com.au:443 \"GET //lifestyle/health-and-wellness/follow-these-basic-principles-for-a-good-workstation-20200417-p54kow.html HTTP/1.1\" 200 47472\n",
      "2020-04-24 21:23:16 [urllib3.connectionpool] DEBUG: Starting new HTTPS connection (1): www.smh.com.au:443\n"
     ]
    },
    {
     "name": "stdout",
     "output_type": "stream",
     "text": [
      "/lifestyle/gender\n",
      "/lifestyle/gender/women-s-day-has-been-hijacked-by-hollow-branding-exercises-20200311-p548x1.html\n"
     ]
    },
    {
     "name": "stderr",
     "output_type": "stream",
     "text": [
      "2020-04-24 21:23:18 [urllib3.connectionpool] DEBUG: https://www.smh.com.au:443 \"GET //lifestyle/gender/women-s-day-has-been-hijacked-by-hollow-branding-exercises-20200311-p548x1.html HTTP/1.1\" 200 41836\n",
      "2020-04-24 21:23:18 [urllib3.connectionpool] DEBUG: Starting new HTTPS connection (1): www.smh.com.au:443\n"
     ]
    },
    {
     "name": "stdout",
     "output_type": "stream",
     "text": [
      "/topic/international-women-s-day-jfp\n",
      "/lifestyle/gender/women-s-day-has-been-hijacked-by-hollow-branding-exercises-20200311-p548x1.html\n"
     ]
    },
    {
     "name": "stderr",
     "output_type": "stream",
     "text": [
      "2020-04-24 21:23:18 [urllib3.connectionpool] DEBUG: https://www.smh.com.au:443 \"GET //lifestyle/gender/women-s-day-has-been-hijacked-by-hollow-branding-exercises-20200311-p548x1.html HTTP/1.1\" 200 41836\n",
      "2020-04-24 21:23:19 [urllib3.connectionpool] DEBUG: Starting new HTTPS connection (1): www.smh.com.au:443\n"
     ]
    },
    {
     "name": "stdout",
     "output_type": "stream",
     "text": [
      "/lifestyle/gender/an-unlikely-journey-to-saudi-arabia-for-international-women-s-day-20200306-p547h9.html\n"
     ]
    },
    {
     "name": "stderr",
     "output_type": "stream",
     "text": [
      "2020-04-24 21:23:20 [urllib3.connectionpool] DEBUG: https://www.smh.com.au:443 \"GET //lifestyle/gender/an-unlikely-journey-to-saudi-arabia-for-international-women-s-day-20200306-p547h9.html HTTP/1.1\" 200 42141\n",
      "2020-04-24 21:23:20 [urllib3.connectionpool] DEBUG: Starting new HTTPS connection (1): www.smh.com.au:443\n"
     ]
    },
    {
     "name": "stdout",
     "output_type": "stream",
     "text": [
      "/topic/international-women-s-day-jfp\n",
      "/lifestyle/gender/an-unlikely-journey-to-saudi-arabia-for-international-women-s-day-20200306-p547h9.html\n"
     ]
    },
    {
     "name": "stderr",
     "output_type": "stream",
     "text": [
      "2020-04-24 21:23:22 [urllib3.connectionpool] DEBUG: https://www.smh.com.au:443 \"GET //lifestyle/gender/an-unlikely-journey-to-saudi-arabia-for-international-women-s-day-20200306-p547h9.html HTTP/1.1\" 200 42141\n",
      "2020-04-24 21:23:22 [urllib3.connectionpool] DEBUG: Starting new HTTPS connection (1): www.smh.com.au:443\n"
     ]
    },
    {
     "name": "stdout",
     "output_type": "stream",
     "text": [
      "/lifestyle/gender/women-have-been-discounted-or-erased-as-city-shaping-leaders-20200307-p547tp.html\n"
     ]
    },
    {
     "name": "stderr",
     "output_type": "stream",
     "text": [
      "2020-04-24 21:23:23 [urllib3.connectionpool] DEBUG: https://www.smh.com.au:443 \"GET //lifestyle/gender/women-have-been-discounted-or-erased-as-city-shaping-leaders-20200307-p547tp.html HTTP/1.1\" 200 44088\n",
      "2020-04-24 21:23:24 [urllib3.connectionpool] DEBUG: Starting new HTTPS connection (1): www.smh.com.au:443\n"
     ]
    },
    {
     "name": "stdout",
     "output_type": "stream",
     "text": [
      "/topic/feminism-jah\n",
      "/lifestyle/gender/women-have-been-discounted-or-erased-as-city-shaping-leaders-20200307-p547tp.html\n"
     ]
    },
    {
     "name": "stderr",
     "output_type": "stream",
     "text": [
      "2020-04-24 21:23:25 [urllib3.connectionpool] DEBUG: https://www.smh.com.au:443 \"GET //lifestyle/gender/women-have-been-discounted-or-erased-as-city-shaping-leaders-20200307-p547tp.html HTTP/1.1\" 200 44088\n",
      "2020-04-24 21:23:25 [urllib3.connectionpool] DEBUG: Starting new HTTPS connection (1): www.smh.com.au:443\n"
     ]
    },
    {
     "name": "stdout",
     "output_type": "stream",
     "text": [
      "/lifestyle/gender/on-international-women-s-day-a-message-not-many-want-to-hear-20200306-p547hm.html\n"
     ]
    },
    {
     "name": "stderr",
     "output_type": "stream",
     "text": [
      "2020-04-24 21:23:26 [urllib3.connectionpool] DEBUG: https://www.smh.com.au:443 \"GET //lifestyle/gender/on-international-women-s-day-a-message-not-many-want-to-hear-20200306-p547hm.html HTTP/1.1\" 200 42387\n",
      "2020-04-24 21:23:26 [urllib3.connectionpool] DEBUG: Starting new HTTPS connection (1): www.smh.com.au:443\n"
     ]
    },
    {
     "name": "stdout",
     "output_type": "stream",
     "text": [
      "/topic/feminism-jah\n",
      "/lifestyle/gender/on-international-women-s-day-a-message-not-many-want-to-hear-20200306-p547hm.html\n"
     ]
    },
    {
     "name": "stderr",
     "output_type": "stream",
     "text": [
      "2020-04-24 21:23:27 [urllib3.connectionpool] DEBUG: https://www.smh.com.au:443 \"GET //lifestyle/gender/on-international-women-s-day-a-message-not-many-want-to-hear-20200306-p547hm.html HTTP/1.1\" 200 42387\n",
      "2020-04-24 21:23:27 [urllib3.connectionpool] DEBUG: Starting new HTTPS connection (1): www.smh.com.au:443\n"
     ]
    },
    {
     "name": "stdout",
     "output_type": "stream",
     "text": [
      "/lifestyle/fashion/at-94-this-is-what-the-queen-s-style-reveals-about-her-and-us-20200420-p54le1.html\n"
     ]
    },
    {
     "name": "stderr",
     "output_type": "stream",
     "text": [
      "2020-04-24 21:23:28 [urllib3.connectionpool] DEBUG: https://www.smh.com.au:443 \"GET //lifestyle/fashion/at-94-this-is-what-the-queen-s-style-reveals-about-her-and-us-20200420-p54le1.html HTTP/1.1\" 200 47549\n",
      "2020-04-24 21:23:28 [urllib3.connectionpool] DEBUG: Starting new HTTPS connection (1): www.smh.com.au:443\n"
     ]
    },
    {
     "name": "stdout",
     "output_type": "stream",
     "text": [
      "/topic/royal-family-61e\n",
      "/lifestyle/fashion/at-94-this-is-what-the-queen-s-style-reveals-about-her-and-us-20200420-p54le1.html\n"
     ]
    },
    {
     "name": "stderr",
     "output_type": "stream",
     "text": [
      "2020-04-24 21:23:29 [urllib3.connectionpool] DEBUG: https://www.smh.com.au:443 \"GET //lifestyle/fashion/at-94-this-is-what-the-queen-s-style-reveals-about-her-and-us-20200420-p54le1.html HTTP/1.1\" 200 47549\n",
      "2020-04-24 21:23:29 [urllib3.connectionpool] DEBUG: Starting new HTTPS connection (1): www.smh.com.au:443\n"
     ]
    },
    {
     "name": "stdout",
     "output_type": "stream",
     "text": [
      "/lifestyle/beauty/what-to-do-about-quarantine-hair-20200409-p54ifg.html\n"
     ]
    },
    {
     "name": "stderr",
     "output_type": "stream",
     "text": [
      "2020-04-24 21:23:30 [urllib3.connectionpool] DEBUG: https://www.smh.com.au:443 \"GET //lifestyle/beauty/what-to-do-about-quarantine-hair-20200409-p54ifg.html HTTP/1.1\" 200 45330\n",
      "2020-04-24 21:23:31 [urllib3.connectionpool] DEBUG: Starting new HTTPS connection (1): www.smh.com.au:443\n"
     ]
    },
    {
     "name": "stdout",
     "output_type": "stream",
     "text": [
      "/topic/hair-5y2\n",
      "/lifestyle/beauty/what-to-do-about-quarantine-hair-20200409-p54ifg.html\n"
     ]
    },
    {
     "name": "stderr",
     "output_type": "stream",
     "text": [
      "2020-04-24 21:23:31 [urllib3.connectionpool] DEBUG: https://www.smh.com.au:443 \"GET //lifestyle/beauty/what-to-do-about-quarantine-hair-20200409-p54ifg.html HTTP/1.1\" 200 45330\n",
      "2020-04-24 21:23:32 [urllib3.connectionpool] DEBUG: Starting new HTTPS connection (1): www.smh.com.au:443\n"
     ]
    },
    {
     "name": "stdout",
     "output_type": "stream",
     "text": [
      "/lifestyle/fashion/with-the-weather-cooling-it-s-time-to-welcome-pleats-back-into-the-fold-20200416-p54ket.html\n"
     ]
    },
    {
     "name": "stderr",
     "output_type": "stream",
     "text": [
      "2020-04-24 21:23:32 [urllib3.connectionpool] DEBUG: https://www.smh.com.au:443 \"GET //lifestyle/fashion/with-the-weather-cooling-it-s-time-to-welcome-pleats-back-into-the-fold-20200416-p54ket.html HTTP/1.1\" 200 38093\n",
      "2020-04-24 21:23:33 [urllib3.connectionpool] DEBUG: Starting new HTTPS connection (1): www.smh.com.au:443\n"
     ]
    },
    {
     "name": "stdout",
     "output_type": "stream",
     "text": [
      "/topic/fashion---beauty-trends-jdm\n",
      "/lifestyle/fashion/with-the-weather-cooling-it-s-time-to-welcome-pleats-back-into-the-fold-20200416-p54ket.html\n"
     ]
    },
    {
     "name": "stderr",
     "output_type": "stream",
     "text": [
      "2020-04-24 21:23:34 [urllib3.connectionpool] DEBUG: https://www.smh.com.au:443 \"GET //lifestyle/fashion/with-the-weather-cooling-it-s-time-to-welcome-pleats-back-into-the-fold-20200416-p54ket.html HTTP/1.1\" 200 38093\n",
      "2020-04-24 21:23:35 [urllib3.connectionpool] DEBUG: Starting new HTTPS connection (1): www.smh.com.au:443\n"
     ]
    },
    {
     "name": "stdout",
     "output_type": "stream",
     "text": [
      "/\n",
      "https://twitter.com/smh\n",
      "http://www.facebook.com/sydneymorningherald\n",
      "https://www.instagram.com/sydneymorningherald\n",
      "/rssheadlines\n",
      "javascript:void(0)\n",
      "https://www.smh.com.au\n",
      "https://www.theage.com.au\n",
      "https://www.brisbanetimes.com.au\n",
      "https://www.watoday.com.au\n",
      "https://www.afr.com\n",
      "https://www.domain.com.au\n",
      "http://www.traveller.com.au\n",
      "https://www.goodfood.com.au\n",
      "http://www.executivestyle.com.au\n",
      "https://www.thestore.com.au\n",
      "https://www.drive.com.au\n",
      "https://www.caradvice.com.au\n",
      "https://www.rsvp.com.au\n",
      "http://www.weatherzone.com.au\n",
      "javascript:void(0)\n",
      "http://tributes.smh.com.au/obituaries/smh-au/\n",
      "http://celebrations.smh.com.au/celebration/smh-au/\n",
      "https://advertisers.com.au\n",
      "https://www.commercialrealestate.com.au\n",
      "https://www.oneflare.com.au\n",
      "javascript:void(0)\n",
      "/contact-us\n",
      "https://www.adcentre.com.au/brands/the-sydney-morning-herald\n",
      "https://smh.myfairfax.com.au/members/lite_session/new?callback_uri=https%3A%2F%2Fsmh.myfairfax.com.au%2Fbeta%2Fmembers%2Fmy_account%2Fnewsletters%3Fchannel_key%3DzHE9EWDHf1XPuz3Phk0YIg%26callback_uri%3Dhttps%253a%252f%252fwww.smh.com.au&channel_key=zHE9EWDHf1XPuz3Phk0YIg\n",
      "/siteguide/accessibility\n",
      "/siteguide\n",
      "https://consumer.fairfaxsyndication.com/C.aspx?VP3=CMS3&VF=FXJFX2_2_VForm\n",
      "https://frontpages.fairfaxsyndication.com/C.aspx?VP3=CMS3&VF=FXJFX2_3_VForm\n",
      "https://www.fairfaxsyndication.com/C.aspx?VP3=CMS3&VF=FXJO50_1\n",
      "/our-events\n",
      "https://www.nineforbrands.com.au/about/careers/\n",
      "/conditions-of-use\n",
      "/privacy\n",
      "https://www.presscouncil.org.au/what-we-do\n",
      "javascript:void(0)\n",
      "https://subscribe.smh.com.au/?promote_channel=HI_SMH_GNL_FT\n",
      "https://subscribers.smh.com.au\n",
      "https://www.smh.com.au/myaccount\n",
      "https://subscribers.smh.com.au/support-centre/overview\n",
      "/todays-newspaper\n",
      "/puzzles/crosswords\n",
      "https://www.thesmhinsider.com.au/c/a/5dAvszx5Lm7C4GDU21EWmQ?dPanel=2\n",
      "https://subscribe.smh.com.au/?promote_channel=HI_SMH_GNL_FT\n",
      "                                                link  \\\n",
      "0  /lifestyle/life-and-relationships/having-to-li...   \n",
      "1  /lifestyle/life-and-relationships/having-to-li...   \n",
      "2  /lifestyle/life-and-relationships/all-the-soci...   \n",
      "3  /lifestyle/life-and-relationships/all-the-soci...   \n",
      "4  /lifestyle/health-and-wellness/it-s-okay-to-pu...   \n",
      "\n",
      "                                              header  \\\n",
      "0  Having to live frugally has helped me apprecia...   \n",
      "1  Having to live frugally has helped me apprecia...   \n",
      "2  All the social media challenges getting us thr...   \n",
      "3  All the social media challenges getting us thr...   \n",
      "4  It's OK to put your health goals on hold right...   \n",
      "\n",
      "                                             article                   author  \\\n",
      "0  Last year I went on a glamorous holiday to Eur...           Wendy Squires    \n",
      "1  Last year I went on a glamorous holiday to Eur...           Wendy Squires    \n",
      "2  With the coronavirus continuing to upend famil...   Derrick Bryson Taylor    \n",
      "3  With the coronavirus continuing to upend famil...   Derrick Bryson Taylor    \n",
      "4  In the midst of the COVID-19 pandemic, psychol...           Kasey Edwards    \n",
      "\n",
      "             date  \n",
      "0  April 23, 2020  \n",
      "1  April 23, 2020  \n",
      "2  April 24, 2020  \n",
      "3  April 24, 2020  \n",
      "4  April 23, 2020  \n",
      "processing : money\n"
     ]
    },
    {
     "name": "stderr",
     "output_type": "stream",
     "text": [
      "2020-04-24 21:23:36 [urllib3.connectionpool] DEBUG: https://www.smh.com.au:443 \"GET /money HTTP/1.1\" 200 58049\n",
      "2020-04-24 21:23:36 [urllib3.connectionpool] DEBUG: Starting new HTTPS connection (1): www.smh.com.au:443\n"
     ]
    },
    {
     "name": "stdout",
     "output_type": "stream",
     "text": [
      "#sections\n",
      "#content\n",
      "#footer\n",
      "javascript:void(0);\n",
      "https://subscribe.smh.com.au/?promote_channel=HI_SMH_GNL_HL\n",
      "/\n",
      "https://subscribe.smh.com.au/?promote_channel=HI_SMH_GNL_HL\n",
      "/\n",
      "#sections\n",
      "#network\n",
      "/\n",
      "/sydney-news\n",
      "/national/nsw\n",
      "/politics\n",
      "/politics/federal\n",
      "/politics/nsw\n",
      "/politics/victoria\n",
      "/politics/queensland\n",
      "/politics/western-australia\n",
      "/business\n",
      "/business/companies\n",
      "/business/markets\n",
      "/business/the-economy\n",
      "/business/banking-and-finance\n",
      "/business/small-business\n",
      "/business/consumer-affairs\n",
      "/business/workplace\n",
      "/world\n",
      "/world/north-america\n",
      "/world/europe\n",
      "/world/asia\n",
      "/world/middle-east\n",
      "/world/oceania\n",
      "/world/central-america\n",
      "/world/south-america\n",
      "/world/africa\n",
      "/national\n",
      "/national/victoria\n",
      "/national/queensland\n",
      "/national/western-australia\n",
      "/opinion\n",
      "http://www.domain.com.au\n",
      "/sport\n",
      "/sport/nrl\n",
      "/sport/rugby-union\n",
      "/sport/cricket\n",
      "/sport/soccer\n",
      "/sport/afl\n",
      "/sport/racing\n",
      "/sport/tennis\n",
      "/sport/netball\n",
      "/sport/basketball\n",
      "/sport/motorsport\n",
      "/sport/cycling\n",
      "/sport/golf\n",
      "/sport/nfl\n",
      "/sport/athletics\n",
      "/sport/swimming\n",
      "/sport/boxing\n",
      "/culture\n",
      "/culture/movies\n",
      "/culture/tv-and-radio\n",
      "/culture/music\n",
      "/culture/celebrity\n",
      "/culture/books\n",
      "/culture/comedy\n",
      "/culture/dance\n",
      "/culture/musicals\n",
      "/culture/opera\n",
      "/culture/theatre\n",
      "/culture/art-and-design\n",
      "https://tvguide.smh.com.au\n",
      "/lifestyle\n",
      "/lifestyle/life-and-relationships\n",
      "/lifestyle/health-and-wellness\n",
      "/lifestyle/gender\n",
      "/lifestyle/fashion\n",
      "/lifestyle/beauty\n",
      "/topic/horoscopes-5yc\n",
      "/topic/good-weekend-1qq\n",
      "/money\n",
      "/money/super-and-retirement\n",
      "/money/investing\n",
      "/money/banking\n",
      "/money/borrowing\n",
      "/money/saving\n",
      "/money/tax\n",
      "/money/planning-and-budgeting\n",
      "/money/insurance\n",
      "/education\n",
      "/healthcare\n",
      "/environment\n",
      "/environment/conservation\n",
      "/environment/climate-change\n",
      "/environment/sustainability\n",
      "/environment/weather\n",
      "/technology\n",
      "/technology/video-games\n",
      "/topic/home-technology-hqq\n",
      "/topic/phones-5zt\n",
      "/topic/gadgets-hqp\n",
      "http://www.drive.com.au\n",
      "http://www.traveller.com.au\n",
      "http://www.goodfood.com.au\n",
      "http://www.executivestyle.com.au\n",
      "https://subscribe.smh.com.au/2?promote_channel=HI_IPL_GNL&utm_source=PremiumIndex&utm_medium=HouseInventory&utm_campaign=General\n",
      "/todays-newspaper\n",
      "/puzzles/crosswords\n",
      "/topic/smh-letters-1r7\n",
      "/topic/smh-editorial-1r6\n",
      "/topic/column-8-1r4\n",
      "/topic/obituaries-1qv\n",
      "/topic/explainers-1lz9\n",
      "/topic/quizzes-1qx\n",
      "http://weather.smh.com.au/local-forecast/nsw/sydney\n",
      "https://www.theage.com.au\n",
      "https://www.brisbanetimes.com.au\n",
      "https://www.watoday.com.au\n",
      "https://www.afr.com\n",
      "https://www.domain.com.au\n",
      "https://www.commercialrealestate.com.au\n",
      "https://www.drive.com.au\n",
      "https://www.goodfood.com.au\n",
      "http://www.traveller.com.au\n",
      "http://www.executivestyle.com.au\n",
      "https://www.findababysitter.com.au\n",
      "https://www.thestore.com.au\n",
      "http://www.weatherzone.com.au\n",
      "https://www.rsvp.com.au\n",
      "/money/super-and-retirement\n",
      "/money/investing\n",
      "/money/banking\n",
      "/money/borrowing\n",
      "/money/saving\n",
      "javascript:void(0);\n",
      "/money/tax\n",
      "/money/planning-and-budgeting\n",
      "/money/insurance\n",
      "/money/borrowing/three-cheaper-alternatives-than-taking-a-mortgage-holiday-20200423-p54mp2.html\n"
     ]
    },
    {
     "name": "stderr",
     "output_type": "stream",
     "text": [
      "2020-04-24 21:23:37 [urllib3.connectionpool] DEBUG: https://www.smh.com.au:443 \"GET //money/borrowing/three-cheaper-alternatives-than-taking-a-mortgage-holiday-20200423-p54mp2.html HTTP/1.1\" 200 41810\n",
      "2020-04-24 21:23:37 [urllib3.connectionpool] DEBUG: Starting new HTTPS connection (1): www.smh.com.au:443\n"
     ]
    },
    {
     "name": "stdout",
     "output_type": "stream",
     "text": [
      "/topic/home-loans-5yb\n",
      "/money/borrowing/three-cheaper-alternatives-than-taking-a-mortgage-holiday-20200423-p54mp2.html\n"
     ]
    },
    {
     "name": "stderr",
     "output_type": "stream",
     "text": [
      "2020-04-24 21:23:38 [urllib3.connectionpool] DEBUG: https://www.smh.com.au:443 \"GET //money/borrowing/three-cheaper-alternatives-than-taking-a-mortgage-holiday-20200423-p54mp2.html HTTP/1.1\" 200 41810\n",
      "2020-04-24 21:23:38 [urllib3.connectionpool] DEBUG: Starting new HTTPS connection (1): www.smh.com.au:443\n"
     ]
    },
    {
     "name": "stdout",
     "output_type": "stream",
     "text": [
      "/money/super-and-retirement/super-withdrawals-a-necessary-trade-off-for-many-20200423-p54mmu.html\n"
     ]
    },
    {
     "name": "stderr",
     "output_type": "stream",
     "text": [
      "2020-04-24 21:23:39 [urllib3.connectionpool] DEBUG: https://www.smh.com.au:443 \"GET //money/super-and-retirement/super-withdrawals-a-necessary-trade-off-for-many-20200423-p54mmu.html HTTP/1.1\" 200 40542\n",
      "2020-04-24 21:23:39 [urllib3.connectionpool] DEBUG: Starting new HTTPS connection (1): www.smh.com.au:443\n"
     ]
    },
    {
     "name": "stdout",
     "output_type": "stream",
     "text": [
      "/coronavirus-pandemic\n",
      "/money/super-and-retirement/super-withdrawals-a-necessary-trade-off-for-many-20200423-p54mmu.html\n"
     ]
    },
    {
     "name": "stderr",
     "output_type": "stream",
     "text": [
      "2020-04-24 21:23:41 [urllib3.connectionpool] DEBUG: https://www.smh.com.au:443 \"GET //money/super-and-retirement/super-withdrawals-a-necessary-trade-off-for-many-20200423-p54mmu.html HTTP/1.1\" 200 40542\n",
      "2020-04-24 21:23:41 [urllib3.connectionpool] DEBUG: Starting new HTTPS connection (1): www.smh.com.au:443\n"
     ]
    },
    {
     "name": "stdout",
     "output_type": "stream",
     "text": [
      "/money/borrowing/why-lenders-don-t-mind-if-you-cut-your-mortgage-payments-20200420-p54le8.html\n"
     ]
    },
    {
     "name": "stderr",
     "output_type": "stream",
     "text": [
      "2020-04-24 21:23:42 [urllib3.connectionpool] DEBUG: https://www.smh.com.au:443 \"GET //money/borrowing/why-lenders-don-t-mind-if-you-cut-your-mortgage-payments-20200420-p54le8.html HTTP/1.1\" 200 41476\n",
      "2020-04-24 21:23:42 [urllib3.connectionpool] DEBUG: Starting new HTTPS connection (1): www.smh.com.au:443\n"
     ]
    },
    {
     "name": "stdout",
     "output_type": "stream",
     "text": [
      "/topic/home-loans-5yb\n",
      "/money/borrowing/why-lenders-don-t-mind-if-you-cut-your-mortgage-payments-20200420-p54le8.html\n"
     ]
    },
    {
     "name": "stderr",
     "output_type": "stream",
     "text": [
      "2020-04-24 21:23:43 [urllib3.connectionpool] DEBUG: https://www.smh.com.au:443 \"GET //money/borrowing/why-lenders-don-t-mind-if-you-cut-your-mortgage-payments-20200420-p54le8.html HTTP/1.1\" 200 41476\n",
      "2020-04-24 21:23:43 [urllib3.connectionpool] DEBUG: Starting new HTTPS connection (1): www.smh.com.au:443\n"
     ]
    },
    {
     "name": "stdout",
     "output_type": "stream",
     "text": [
      "/money/insurance/mortgage-insurance-no-protection-in-hard-times-20200420-p54lix.html\n"
     ]
    },
    {
     "name": "stderr",
     "output_type": "stream",
     "text": [
      "2020-04-24 21:23:44 [urllib3.connectionpool] DEBUG: https://www.smh.com.au:443 \"GET //money/insurance/mortgage-insurance-no-protection-in-hard-times-20200420-p54lix.html HTTP/1.1\" 200 39084\n",
      "2020-04-24 21:23:44 [urllib3.connectionpool] DEBUG: Starting new HTTPS connection (1): www.smh.com.au:443\n"
     ]
    },
    {
     "name": "stdout",
     "output_type": "stream",
     "text": [
      "/topic/home-loans-5yb\n",
      "/money/insurance/mortgage-insurance-no-protection-in-hard-times-20200420-p54lix.html\n"
     ]
    },
    {
     "name": "stderr",
     "output_type": "stream",
     "text": [
      "2020-04-24 21:23:45 [urllib3.connectionpool] DEBUG: https://www.smh.com.au:443 \"GET //money/insurance/mortgage-insurance-no-protection-in-hard-times-20200420-p54lix.html HTTP/1.1\" 200 39084\n"
     ]
    },
    {
     "name": "stdout",
     "output_type": "stream",
     "text": [
      "/money/super-and-retirement/why-you-should-resist-the-urge-to-switch-or-redeem-super-20200417-p54kwe.html\n"
     ]
    },
    {
     "name": "stderr",
     "output_type": "stream",
     "text": [
      "2020-04-24 21:23:45 [urllib3.connectionpool] DEBUG: Starting new HTTPS connection (1): www.smh.com.au:443\n",
      "2020-04-24 21:23:46 [urllib3.connectionpool] DEBUG: https://www.smh.com.au:443 \"GET //money/super-and-retirement/why-you-should-resist-the-urge-to-switch-or-redeem-super-20200417-p54kwe.html HTTP/1.1\" 200 41319\n",
      "2020-04-24 21:23:47 [urllib3.connectionpool] DEBUG: Starting new HTTPS connection (1): www.smh.com.au:443\n"
     ]
    },
    {
     "name": "stdout",
     "output_type": "stream",
     "text": [
      "/topic/superannuation-62e\n",
      "/money/super-and-retirement/why-you-should-resist-the-urge-to-switch-or-redeem-super-20200417-p54kwe.html\n"
     ]
    },
    {
     "name": "stderr",
     "output_type": "stream",
     "text": [
      "2020-04-24 21:23:47 [urllib3.connectionpool] DEBUG: https://www.smh.com.au:443 \"GET //money/super-and-retirement/why-you-should-resist-the-urge-to-switch-or-redeem-super-20200417-p54kwe.html HTTP/1.1\" 200 41319\n",
      "2020-04-24 21:23:48 [urllib3.connectionpool] DEBUG: Starting new HTTPS connection (1): www.smh.com.au:443\n"
     ]
    },
    {
     "name": "stdout",
     "output_type": "stream",
     "text": [
      "/money/super-and-retirement/cashing-in-an-investment-property-to-make-super-contributions-20200420-p54ld5.html\n"
     ]
    },
    {
     "name": "stderr",
     "output_type": "stream",
     "text": [
      "2020-04-24 21:23:48 [urllib3.connectionpool] DEBUG: https://www.smh.com.au:443 \"GET //money/super-and-retirement/cashing-in-an-investment-property-to-make-super-contributions-20200420-p54ld5.html HTTP/1.1\" 200 41975\n",
      "2020-04-24 21:23:50 [urllib3.connectionpool] DEBUG: Starting new HTTPS connection (1): www.smh.com.au:443\n"
     ]
    },
    {
     "name": "stdout",
     "output_type": "stream",
     "text": [
      "/money/super-and-retirement/how-to-minimise-capital-gains-tax-on-an-investment-property-20200417-p54krr.html\n"
     ]
    },
    {
     "name": "stderr",
     "output_type": "stream",
     "text": [
      "2020-04-24 21:23:50 [urllib3.connectionpool] DEBUG: https://www.smh.com.au:443 \"GET //money/super-and-retirement/how-to-minimise-capital-gains-tax-on-an-investment-property-20200417-p54krr.html HTTP/1.1\" 200 39413\n",
      "2020-04-24 21:23:50 [urllib3.connectionpool] DEBUG: Starting new HTTPS connection (1): www.smh.com.au:443\n"
     ]
    },
    {
     "name": "stdout",
     "output_type": "stream",
     "text": [
      "/money/tax/bank-dividends-may-be-cut-but-their-shares-are-still-great-investments-20200413-p54jdx.html\n"
     ]
    },
    {
     "name": "stderr",
     "output_type": "stream",
     "text": [
      "2020-04-24 21:23:51 [urllib3.connectionpool] DEBUG: https://www.smh.com.au:443 \"GET //money/tax/bank-dividends-may-be-cut-but-their-shares-are-still-great-investments-20200413-p54jdx.html HTTP/1.1\" 200 41788\n",
      "2020-04-24 21:23:51 [urllib3.connectionpool] DEBUG: Starting new HTTPS connection (1): www.smh.com.au:443\n"
     ]
    },
    {
     "name": "stdout",
     "output_type": "stream",
     "text": [
      "/money/planning-and-budgeting\n",
      "/money/planning-and-budgeting/alphabet-of-economic-recovery-plots-emerge-from-the-great-lockdown-20200417-p54kqj.html\n"
     ]
    },
    {
     "name": "stderr",
     "output_type": "stream",
     "text": [
      "2020-04-24 21:23:52 [urllib3.connectionpool] DEBUG: https://www.smh.com.au:443 \"GET //money/planning-and-budgeting/alphabet-of-economic-recovery-plots-emerge-from-the-great-lockdown-20200417-p54kqj.html HTTP/1.1\" 200 41430\n",
      "2020-04-24 21:23:52 [urllib3.connectionpool] DEBUG: Starting new HTTPS connection (1): www.smh.com.au:443\n"
     ]
    },
    {
     "name": "stdout",
     "output_type": "stream",
     "text": [
      "/topic/employment-5wo\n",
      "/money/planning-and-budgeting/alphabet-of-economic-recovery-plots-emerge-from-the-great-lockdown-20200417-p54kqj.html\n"
     ]
    },
    {
     "name": "stderr",
     "output_type": "stream",
     "text": [
      "2020-04-24 21:23:52 [urllib3.connectionpool] DEBUG: https://www.smh.com.au:443 \"GET //money/planning-and-budgeting/alphabet-of-economic-recovery-plots-emerge-from-the-great-lockdown-20200417-p54kqj.html HTTP/1.1\" 200 41430\n",
      "2020-04-24 21:23:53 [urllib3.connectionpool] DEBUG: Starting new HTTPS connection (1): www.smh.com.au:443\n"
     ]
    },
    {
     "name": "stdout",
     "output_type": "stream",
     "text": [
      "/money/planning-and-budgeting/how-to-mystery-shop-to-check-if-you-are-being-ripped-off-20200420-p54lha.html\n"
     ]
    },
    {
     "name": "stderr",
     "output_type": "stream",
     "text": [
      "2020-04-24 21:23:55 [urllib3.connectionpool] DEBUG: https://www.smh.com.au:443 \"GET //money/planning-and-budgeting/how-to-mystery-shop-to-check-if-you-are-being-ripped-off-20200420-p54lha.html HTTP/1.1\" 200 41304\n",
      "2020-04-24 21:23:56 [urllib3.connectionpool] DEBUG: Starting new HTTPS connection (1): www.smh.com.au:443\n"
     ]
    },
    {
     "name": "stdout",
     "output_type": "stream",
     "text": [
      "/topic/building-insurance-1n6l\n",
      "/money/planning-and-budgeting/how-to-mystery-shop-to-check-if-you-are-being-ripped-off-20200420-p54lha.html\n"
     ]
    },
    {
     "name": "stderr",
     "output_type": "stream",
     "text": [
      "2020-04-24 21:23:56 [urllib3.connectionpool] DEBUG: https://www.smh.com.au:443 \"GET //money/planning-and-budgeting/how-to-mystery-shop-to-check-if-you-are-being-ripped-off-20200420-p54lha.html HTTP/1.1\" 200 41304\n",
      "2020-04-24 21:23:57 [urllib3.connectionpool] DEBUG: Starting new HTTPS connection (1): www.smh.com.au:443\n"
     ]
    },
    {
     "name": "stdout",
     "output_type": "stream",
     "text": [
      "/money/planning-and-budgeting/this-is-how-much-you-should-budget-for-food-each-week-20200416-p54kbj.html\n"
     ]
    },
    {
     "name": "stderr",
     "output_type": "stream",
     "text": [
      "2020-04-24 21:23:57 [urllib3.connectionpool] DEBUG: https://www.smh.com.au:443 \"GET //money/planning-and-budgeting/this-is-how-much-you-should-budget-for-food-each-week-20200416-p54kbj.html HTTP/1.1\" 200 45480\n",
      "2020-04-24 21:23:57 [urllib3.connectionpool] DEBUG: Starting new HTTPS connection (1): www.smh.com.au:443\n"
     ]
    },
    {
     "name": "stdout",
     "output_type": "stream",
     "text": [
      "/topic/money-makeover-1nf3\n",
      "/money/planning-and-budgeting/this-is-how-much-you-should-budget-for-food-each-week-20200416-p54kbj.html\n"
     ]
    },
    {
     "name": "stderr",
     "output_type": "stream",
     "text": [
      "2020-04-24 21:23:57 [urllib3.connectionpool] DEBUG: https://www.smh.com.au:443 \"GET //money/planning-and-budgeting/this-is-how-much-you-should-budget-for-food-each-week-20200416-p54kbj.html HTTP/1.1\" 200 45480\n",
      "2020-04-24 21:23:58 [urllib3.connectionpool] DEBUG: Starting new HTTPS connection (1): www.smh.com.au:443\n"
     ]
    },
    {
     "name": "stdout",
     "output_type": "stream",
     "text": [
      "/money/planning-and-budgeting/how-to-use-lockdown-home-schooling-to-make-your-child-money-smart-20200416-p54kfh.html\n"
     ]
    },
    {
     "name": "stderr",
     "output_type": "stream",
     "text": [
      "2020-04-24 21:23:58 [urllib3.connectionpool] DEBUG: https://www.smh.com.au:443 \"GET //money/planning-and-budgeting/how-to-use-lockdown-home-schooling-to-make-your-child-money-smart-20200416-p54kfh.html HTTP/1.1\" 200 41398\n",
      "2020-04-24 21:23:58 [urllib3.connectionpool] DEBUG: Starting new HTTPS connection (1): www.smh.com.au:443\n"
     ]
    },
    {
     "name": "stdout",
     "output_type": "stream",
     "text": [
      "/topic/money-psychology-hok\n",
      "/money/planning-and-budgeting/how-to-use-lockdown-home-schooling-to-make-your-child-money-smart-20200416-p54kfh.html\n"
     ]
    },
    {
     "name": "stderr",
     "output_type": "stream",
     "text": [
      "2020-04-24 21:23:59 [urllib3.connectionpool] DEBUG: https://www.smh.com.au:443 \"GET //money/planning-and-budgeting/how-to-use-lockdown-home-schooling-to-make-your-child-money-smart-20200416-p54kfh.html HTTP/1.1\" 200 41398\n",
      "2020-04-24 21:23:59 [urllib3.connectionpool] DEBUG: Starting new HTTPS connection (1): www.smh.com.au:443\n"
     ]
    },
    {
     "name": "stdout",
     "output_type": "stream",
     "text": [
      "/money/investing\n",
      "/money/investing/bright-spots-for-small-investors-amid-market-carnage-20200420-p54lfr.html\n"
     ]
    },
    {
     "name": "stderr",
     "output_type": "stream",
     "text": [
      "2020-04-24 21:23:59 [urllib3.connectionpool] DEBUG: https://www.smh.com.au:443 \"GET //money/investing/bright-spots-for-small-investors-amid-market-carnage-20200420-p54lfr.html HTTP/1.1\" 200 42698\n",
      "2020-04-24 21:24:00 [urllib3.connectionpool] DEBUG: Starting new HTTPS connection (1): www.smh.com.au:443\n"
     ]
    },
    {
     "name": "stdout",
     "output_type": "stream",
     "text": [
      "/topic/australian-shares-5uq\n",
      "/money/investing/bright-spots-for-small-investors-amid-market-carnage-20200420-p54lfr.html\n"
     ]
    },
    {
     "name": "stderr",
     "output_type": "stream",
     "text": [
      "2020-04-24 21:24:00 [urllib3.connectionpool] DEBUG: https://www.smh.com.au:443 \"GET //money/investing/bright-spots-for-small-investors-amid-market-carnage-20200420-p54lfr.html HTTP/1.1\" 200 42698\n",
      "2020-04-24 21:24:00 [urllib3.connectionpool] DEBUG: Starting new HTTPS connection (1): www.smh.com.au:443\n"
     ]
    },
    {
     "name": "stdout",
     "output_type": "stream",
     "text": [
      "/money/investing/now-is-not-the-time-to-invest-on-a-whim-20200413-p54je9.html\n"
     ]
    },
    {
     "name": "stderr",
     "output_type": "stream",
     "text": [
      "2020-04-24 21:24:00 [urllib3.connectionpool] DEBUG: https://www.smh.com.au:443 \"GET //money/investing/now-is-not-the-time-to-invest-on-a-whim-20200413-p54je9.html HTTP/1.1\" 200 43199\n",
      "2020-04-24 21:24:01 [urllib3.connectionpool] DEBUG: Starting new HTTPS connection (1): www.smh.com.au:443\n"
     ]
    },
    {
     "name": "stdout",
     "output_type": "stream",
     "text": [
      "/topic/australian-shares-5uq\n",
      "/money/investing/now-is-not-the-time-to-invest-on-a-whim-20200413-p54je9.html\n"
     ]
    },
    {
     "name": "stderr",
     "output_type": "stream",
     "text": [
      "2020-04-24 21:24:01 [urllib3.connectionpool] DEBUG: https://www.smh.com.au:443 \"GET //money/investing/now-is-not-the-time-to-invest-on-a-whim-20200413-p54je9.html HTTP/1.1\" 200 43199\n",
      "2020-04-24 21:24:01 [urllib3.connectionpool] DEBUG: Starting new HTTPS connection (1): www.smh.com.au:443\n"
     ]
    },
    {
     "name": "stdout",
     "output_type": "stream",
     "text": [
      "/money/investing/openlearn-and-zoono-spur-shares-race-victory-20200410-p54iuk.html\n"
     ]
    },
    {
     "name": "stderr",
     "output_type": "stream",
     "text": [
      "2020-04-24 21:24:02 [urllib3.connectionpool] DEBUG: https://www.smh.com.au:443 \"GET //money/investing/openlearn-and-zoono-spur-shares-race-victory-20200410-p54iuk.html HTTP/1.1\" 200 41431\n",
      "2020-04-24 21:24:02 [urllib3.connectionpool] DEBUG: Starting new HTTPS connection (1): www.smh.com.au:443\n"
     ]
    },
    {
     "name": "stdout",
     "output_type": "stream",
     "text": [
      "/topic/shares-race-1lwe\n",
      "/money/investing/openlearn-and-zoono-spur-shares-race-victory-20200410-p54iuk.html\n"
     ]
    },
    {
     "name": "stderr",
     "output_type": "stream",
     "text": [
      "2020-04-24 21:24:02 [urllib3.connectionpool] DEBUG: https://www.smh.com.au:443 \"GET //money/investing/openlearn-and-zoono-spur-shares-race-victory-20200410-p54iuk.html HTTP/1.1\" 200 41431\n",
      "2020-04-24 21:24:03 [urllib3.connectionpool] DEBUG: Starting new HTTPS connection (1): www.smh.com.au:443\n"
     ]
    },
    {
     "name": "stdout",
     "output_type": "stream",
     "text": [
      "/money/investing/property-prices-to-plunge-as-auction-clearance-rates-fall-off-a-cliff-20200403-p54gt1.html\n"
     ]
    },
    {
     "name": "stderr",
     "output_type": "stream",
     "text": [
      "2020-04-24 21:24:03 [urllib3.connectionpool] DEBUG: https://www.smh.com.au:443 \"GET //money/investing/property-prices-to-plunge-as-auction-clearance-rates-fall-off-a-cliff-20200403-p54gt1.html HTTP/1.1\" 200 47620\n",
      "2020-04-24 21:24:03 [urllib3.connectionpool] DEBUG: Starting new HTTPS connection (1): www.smh.com.au:443\n"
     ]
    },
    {
     "name": "stdout",
     "output_type": "stream",
     "text": [
      "/topic/property-prices-60x\n",
      "/money/investing/property-prices-to-plunge-as-auction-clearance-rates-fall-off-a-cliff-20200403-p54gt1.html\n"
     ]
    },
    {
     "name": "stderr",
     "output_type": "stream",
     "text": [
      "2020-04-24 21:24:04 [urllib3.connectionpool] DEBUG: https://www.smh.com.au:443 \"GET //money/investing/property-prices-to-plunge-as-auction-clearance-rates-fall-off-a-cliff-20200403-p54gt1.html HTTP/1.1\" 200 47620\n",
      "2020-04-24 21:24:04 [urllib3.connectionpool] DEBUG: Starting new HTTPS connection (1): www.smh.com.au:443\n"
     ]
    },
    {
     "name": "stdout",
     "output_type": "stream",
     "text": [
      "/money/investing/seek-out-deep-value-opportunities-from-the-equities-pack-20200407-p54hwu.html\n"
     ]
    },
    {
     "name": "stderr",
     "output_type": "stream",
     "text": [
      "2020-04-24 21:24:05 [urllib3.connectionpool] DEBUG: https://www.smh.com.au:443 \"GET //money/investing/seek-out-deep-value-opportunities-from-the-equities-pack-20200407-p54hwu.html HTTP/1.1\" 200 41251\n",
      "2020-04-24 21:24:05 [urllib3.connectionpool] DEBUG: Starting new HTTPS connection (1): www.smh.com.au:443\n"
     ]
    },
    {
     "name": "stdout",
     "output_type": "stream",
     "text": [
      "/topic/sharemarket-61t\n",
      "/money/investing/seek-out-deep-value-opportunities-from-the-equities-pack-20200407-p54hwu.html\n"
     ]
    },
    {
     "name": "stderr",
     "output_type": "stream",
     "text": [
      "2020-04-24 21:24:05 [urllib3.connectionpool] DEBUG: https://www.smh.com.au:443 \"GET //money/investing/seek-out-deep-value-opportunities-from-the-equities-pack-20200407-p54hwu.html HTTP/1.1\" 200 41251\n",
      "2020-04-24 21:24:06 [urllib3.connectionpool] DEBUG: Starting new HTTPS connection (1): www.smh.com.au:443\n"
     ]
    },
    {
     "name": "stdout",
     "output_type": "stream",
     "text": [
      "/money/investing/pandemic-takes-massive-toll-on-bond-markets-20200406-p54hkf.html\n"
     ]
    },
    {
     "name": "stderr",
     "output_type": "stream",
     "text": [
      "2020-04-24 21:24:06 [urllib3.connectionpool] DEBUG: https://www.smh.com.au:443 \"GET //money/investing/pandemic-takes-massive-toll-on-bond-markets-20200406-p54hkf.html HTTP/1.1\" 200 41533\n",
      "2020-04-24 21:24:06 [urllib3.connectionpool] DEBUG: Starting new HTTPS connection (1): www.smh.com.au:443\n"
     ]
    },
    {
     "name": "stdout",
     "output_type": "stream",
     "text": [
      "/topic/bond-market-5v3\n",
      "/money/investing/pandemic-takes-massive-toll-on-bond-markets-20200406-p54hkf.html\n"
     ]
    },
    {
     "name": "stderr",
     "output_type": "stream",
     "text": [
      "2020-04-24 21:24:06 [urllib3.connectionpool] DEBUG: https://www.smh.com.au:443 \"GET //money/investing/pandemic-takes-massive-toll-on-bond-markets-20200406-p54hkf.html HTTP/1.1\" 200 41533\n",
      "2020-04-24 21:24:07 [urllib3.connectionpool] DEBUG: Starting new HTTPS connection (1): www.smh.com.au:443\n"
     ]
    },
    {
     "name": "stdout",
     "output_type": "stream",
     "text": [
      "/money/borrowing/three-cheaper-alternatives-than-taking-a-mortgage-holiday-20200423-p54mp2.html\n"
     ]
    },
    {
     "name": "stderr",
     "output_type": "stream",
     "text": [
      "2020-04-24 21:24:07 [urllib3.connectionpool] DEBUG: https://www.smh.com.au:443 \"GET //money/borrowing/three-cheaper-alternatives-than-taking-a-mortgage-holiday-20200423-p54mp2.html HTTP/1.1\" 200 41810\n",
      "2020-04-24 21:24:07 [urllib3.connectionpool] DEBUG: Starting new HTTPS connection (1): www.smh.com.au:443\n"
     ]
    },
    {
     "name": "stdout",
     "output_type": "stream",
     "text": [
      "/topic/home-loans-5yb\n",
      "/money/borrowing/three-cheaper-alternatives-than-taking-a-mortgage-holiday-20200423-p54mp2.html\n"
     ]
    },
    {
     "name": "stderr",
     "output_type": "stream",
     "text": [
      "2020-04-24 21:24:08 [urllib3.connectionpool] DEBUG: https://www.smh.com.au:443 \"GET //money/borrowing/three-cheaper-alternatives-than-taking-a-mortgage-holiday-20200423-p54mp2.html HTTP/1.1\" 200 41810\n",
      "2020-04-24 21:24:08 [urllib3.connectionpool] DEBUG: Starting new HTTPS connection (1): www.smh.com.au:443\n"
     ]
    },
    {
     "name": "stdout",
     "output_type": "stream",
     "text": [
      "/topic/home-loans-5yb\n",
      "/money/borrowing/why-lenders-don-t-mind-if-you-cut-your-mortgage-payments-20200420-p54le8.html\n"
     ]
    },
    {
     "name": "stderr",
     "output_type": "stream",
     "text": [
      "2020-04-24 21:24:08 [urllib3.connectionpool] DEBUG: https://www.smh.com.au:443 \"GET //money/borrowing/why-lenders-don-t-mind-if-you-cut-your-mortgage-payments-20200420-p54le8.html HTTP/1.1\" 200 41476\n",
      "2020-04-24 21:24:09 [urllib3.connectionpool] DEBUG: Starting new HTTPS connection (1): www.smh.com.au:443\n"
     ]
    },
    {
     "name": "stdout",
     "output_type": "stream",
     "text": [
      "/topic/payments-hpo\n",
      "/money/banking/cash-atm-and-bank-branch-use-dips-as-virus-transforms-how-we-pay-20200413-p54jad.html\n"
     ]
    },
    {
     "name": "stderr",
     "output_type": "stream",
     "text": [
      "2020-04-24 21:24:09 [urllib3.connectionpool] DEBUG: https://www.smh.com.au:443 \"GET //money/banking/cash-atm-and-bank-branch-use-dips-as-virus-transforms-how-we-pay-20200413-p54jad.html HTTP/1.1\" 200 42045\n",
      "2020-04-24 21:24:09 [urllib3.connectionpool] DEBUG: Starting new HTTPS connection (1): www.smh.com.au:443\n"
     ]
    },
    {
     "name": "stdout",
     "output_type": "stream",
     "text": [
      "/money/super-and-retirement/super-withdrawals-a-necessary-trade-off-for-many-20200423-p54mmu.html\n"
     ]
    },
    {
     "name": "stderr",
     "output_type": "stream",
     "text": [
      "2020-04-24 21:24:10 [urllib3.connectionpool] DEBUG: https://www.smh.com.au:443 \"GET //money/super-and-retirement/super-withdrawals-a-necessary-trade-off-for-many-20200423-p54mmu.html HTTP/1.1\" 200 40542\n",
      "2020-04-24 21:24:10 [urllib3.connectionpool] DEBUG: Starting new HTTPS connection (1): www.smh.com.au:443\n"
     ]
    },
    {
     "name": "stdout",
     "output_type": "stream",
     "text": [
      "/coronavirus-pandemic\n",
      "/money/super-and-retirement/super-withdrawals-a-necessary-trade-off-for-many-20200423-p54mmu.html\n"
     ]
    },
    {
     "name": "stderr",
     "output_type": "stream",
     "text": [
      "2020-04-24 21:24:10 [urllib3.connectionpool] DEBUG: https://www.smh.com.au:443 \"GET //money/super-and-retirement/super-withdrawals-a-necessary-trade-off-for-many-20200423-p54mmu.html HTTP/1.1\" 200 40542\n",
      "2020-04-24 21:24:11 [urllib3.connectionpool] DEBUG: Starting new HTTPS connection (1): www.smh.com.au:443\n"
     ]
    },
    {
     "name": "stdout",
     "output_type": "stream",
     "text": [
      "/topic/home-loans-5yb\n",
      "/money/insurance/mortgage-insurance-no-protection-in-hard-times-20200420-p54lix.html\n"
     ]
    },
    {
     "name": "stderr",
     "output_type": "stream",
     "text": [
      "2020-04-24 21:24:11 [urllib3.connectionpool] DEBUG: https://www.smh.com.au:443 \"GET //money/insurance/mortgage-insurance-no-protection-in-hard-times-20200420-p54lix.html HTTP/1.1\" 200 39084\n",
      "2020-04-24 21:24:11 [urllib3.connectionpool] DEBUG: Starting new HTTPS connection (1): www.smh.com.au:443\n"
     ]
    },
    {
     "name": "stdout",
     "output_type": "stream",
     "text": [
      "/topic/ask-an-expert-1qi\n",
      "/money/super-and-retirement/cashing-in-an-investment-property-to-make-super-contributions-20200420-p54ld5.html\n"
     ]
    },
    {
     "name": "stderr",
     "output_type": "stream",
     "text": [
      "2020-04-24 21:24:13 [urllib3.connectionpool] DEBUG: https://www.smh.com.au:443 \"GET //money/super-and-retirement/cashing-in-an-investment-property-to-make-super-contributions-20200420-p54ld5.html HTTP/1.1\" 200 41975\n",
      "2020-04-24 21:24:14 [urllib3.connectionpool] DEBUG: Starting new HTTPS connection (1): www.smh.com.au:443\n"
     ]
    },
    {
     "name": "stdout",
     "output_type": "stream",
     "text": [
      "/\n",
      "https://twitter.com/smh\n",
      "http://www.facebook.com/sydneymorningherald\n",
      "https://www.instagram.com/sydneymorningherald\n",
      "/rssheadlines\n",
      "javascript:void(0)\n",
      "https://www.smh.com.au\n",
      "https://www.theage.com.au\n",
      "https://www.brisbanetimes.com.au\n",
      "https://www.watoday.com.au\n",
      "https://www.afr.com\n",
      "https://www.domain.com.au\n",
      "http://www.traveller.com.au\n",
      "https://www.goodfood.com.au\n",
      "http://www.executivestyle.com.au\n",
      "https://www.thestore.com.au\n",
      "https://www.drive.com.au\n",
      "https://www.caradvice.com.au\n",
      "https://www.rsvp.com.au\n",
      "http://www.weatherzone.com.au\n",
      "javascript:void(0)\n",
      "http://tributes.smh.com.au/obituaries/smh-au/\n",
      "http://celebrations.smh.com.au/celebration/smh-au/\n",
      "https://advertisers.com.au\n",
      "https://www.commercialrealestate.com.au\n",
      "https://www.oneflare.com.au\n",
      "javascript:void(0)\n",
      "/contact-us\n",
      "https://www.adcentre.com.au/brands/the-sydney-morning-herald\n",
      "https://smh.myfairfax.com.au/members/lite_session/new?callback_uri=https%3A%2F%2Fsmh.myfairfax.com.au%2Fbeta%2Fmembers%2Fmy_account%2Fnewsletters%3Fchannel_key%3DzHE9EWDHf1XPuz3Phk0YIg%26callback_uri%3Dhttps%253a%252f%252fwww.smh.com.au&channel_key=zHE9EWDHf1XPuz3Phk0YIg\n",
      "/siteguide/accessibility\n",
      "/siteguide\n",
      "https://consumer.fairfaxsyndication.com/C.aspx?VP3=CMS3&VF=FXJFX2_2_VForm\n",
      "https://frontpages.fairfaxsyndication.com/C.aspx?VP3=CMS3&VF=FXJFX2_3_VForm\n",
      "https://www.fairfaxsyndication.com/C.aspx?VP3=CMS3&VF=FXJO50_1\n",
      "/our-events\n",
      "https://www.nineforbrands.com.au/about/careers/\n",
      "/conditions-of-use\n",
      "/privacy\n",
      "https://www.presscouncil.org.au/what-we-do\n",
      "javascript:void(0)\n",
      "https://subscribe.smh.com.au/?promote_channel=HI_SMH_GNL_FT\n",
      "https://subscribers.smh.com.au\n",
      "https://www.smh.com.au/myaccount\n",
      "https://subscribers.smh.com.au/support-centre/overview\n",
      "/todays-newspaper\n",
      "/puzzles/crosswords\n",
      "https://www.thesmhinsider.com.au/c/a/5dAvszx5Lm7C4GDU21EWmQ?dPanel=2\n",
      "https://subscribe.smh.com.au/?promote_channel=HI_SMH_GNL_FT\n",
      "                                                link  \\\n",
      "0  /money/borrowing/three-cheaper-alternatives-th...   \n",
      "1  /money/borrowing/three-cheaper-alternatives-th...   \n",
      "2  /money/super-and-retirement/super-withdrawals-...   \n",
      "3  /money/super-and-retirement/super-withdrawals-...   \n",
      "4  /money/borrowing/why-lenders-don-t-mind-if-you...   \n",
      "\n",
      "                                              header  \\\n",
      "0  Three cheaper alternatives than taking a mortg...   \n",
      "1  Three cheaper alternatives than taking a mortg...   \n",
      "2   Super withdrawals a necessary trade-off for many   \n",
      "3   Super withdrawals a necessary trade-off for many   \n",
      "4  Why lenders don't mind if you cut your mortgag...   \n",
      "\n",
      "                                             article author            date  \n",
      "0  I’ve never seen banks more lenient. They’re be...         April 23, 2020  \n",
      "1  I’ve never seen banks more lenient. They’re be...         April 23, 2020  \n",
      "2  Applications opened this week for Australians ...         April 23, 2020  \n",
      "3  Applications opened this week for Australians ...         April 23, 2020  \n",
      "4  Many people find themselves in financial hards...         April 21, 2020  \n",
      "processing : education\n"
     ]
    },
    {
     "name": "stderr",
     "output_type": "stream",
     "text": [
      "2020-04-24 21:24:15 [urllib3.connectionpool] DEBUG: https://www.smh.com.au:443 \"GET /education HTTP/1.1\" 200 83548\n",
      "2020-04-24 21:24:15 [urllib3.connectionpool] DEBUG: Starting new HTTPS connection (1): www.smh.com.au:443\n"
     ]
    },
    {
     "name": "stdout",
     "output_type": "stream",
     "text": [
      "#sections\n",
      "#content\n",
      "#footer\n",
      "javascript:void(0);\n",
      "https://subscribe.smh.com.au/?promote_channel=HI_SMH_GNL_HL\n",
      "/\n",
      "https://subscribe.smh.com.au/?promote_channel=HI_SMH_GNL_HL\n",
      "/\n",
      "#sections\n",
      "#network\n",
      "/\n",
      "/sydney-news\n",
      "/national/nsw\n",
      "/politics\n",
      "/politics/federal\n",
      "/politics/nsw\n",
      "/politics/victoria\n",
      "/politics/queensland\n",
      "/politics/western-australia\n",
      "/business\n",
      "/business/companies\n",
      "/business/markets\n",
      "/business/the-economy\n",
      "/business/banking-and-finance\n",
      "/business/small-business\n",
      "/business/consumer-affairs\n",
      "/business/workplace\n",
      "/world\n",
      "/world/north-america\n",
      "/world/europe\n",
      "/world/asia\n",
      "/world/middle-east\n",
      "/world/oceania\n",
      "/world/central-america\n",
      "/world/south-america\n",
      "/world/africa\n",
      "/national\n",
      "/national/victoria\n",
      "/national/queensland\n",
      "/national/western-australia\n",
      "/opinion\n",
      "http://www.domain.com.au\n",
      "/sport\n",
      "/sport/nrl\n",
      "/sport/rugby-union\n",
      "/sport/cricket\n",
      "/sport/soccer\n",
      "/sport/afl\n",
      "/sport/racing\n",
      "/sport/tennis\n",
      "/sport/netball\n",
      "/sport/basketball\n",
      "/sport/motorsport\n",
      "/sport/cycling\n",
      "/sport/golf\n",
      "/sport/nfl\n",
      "/sport/athletics\n",
      "/sport/swimming\n",
      "/sport/boxing\n",
      "/culture\n",
      "/culture/movies\n",
      "/culture/tv-and-radio\n",
      "/culture/music\n",
      "/culture/celebrity\n",
      "/culture/books\n",
      "/culture/comedy\n",
      "/culture/dance\n",
      "/culture/musicals\n",
      "/culture/opera\n",
      "/culture/theatre\n",
      "/culture/art-and-design\n",
      "https://tvguide.smh.com.au\n",
      "/lifestyle\n",
      "/lifestyle/life-and-relationships\n",
      "/lifestyle/health-and-wellness\n",
      "/lifestyle/gender\n",
      "/lifestyle/fashion\n",
      "/lifestyle/beauty\n",
      "/topic/horoscopes-5yc\n",
      "/topic/good-weekend-1qq\n",
      "/money\n",
      "/money/super-and-retirement\n",
      "/money/investing\n",
      "/money/banking\n",
      "/money/borrowing\n",
      "/money/saving\n",
      "/money/tax\n",
      "/money/planning-and-budgeting\n",
      "/money/insurance\n",
      "/education\n",
      "/healthcare\n",
      "/environment\n",
      "/environment/conservation\n",
      "/environment/climate-change\n",
      "/environment/sustainability\n",
      "/environment/weather\n",
      "/technology\n",
      "/technology/video-games\n",
      "/topic/home-technology-hqq\n",
      "/topic/phones-5zt\n",
      "/topic/gadgets-hqp\n",
      "http://www.drive.com.au\n",
      "http://www.traveller.com.au\n",
      "http://www.goodfood.com.au\n",
      "http://www.executivestyle.com.au\n",
      "https://subscribe.smh.com.au/2?promote_channel=HI_IPL_GNL&utm_source=PremiumIndex&utm_medium=HouseInventory&utm_campaign=General\n",
      "/todays-newspaper\n",
      "/puzzles/crosswords\n",
      "/topic/smh-letters-1r7\n",
      "/topic/smh-editorial-1r6\n",
      "/topic/column-8-1r4\n",
      "/topic/obituaries-1qv\n",
      "/topic/explainers-1lz9\n",
      "/topic/quizzes-1qx\n",
      "http://weather.smh.com.au/local-forecast/nsw/sydney\n",
      "https://www.theage.com.au\n",
      "https://www.brisbanetimes.com.au\n",
      "https://www.watoday.com.au\n",
      "https://www.afr.com\n",
      "https://www.domain.com.au\n",
      "https://www.commercialrealestate.com.au\n",
      "https://www.drive.com.au\n",
      "https://www.goodfood.com.au\n",
      "http://www.traveller.com.au\n",
      "http://www.executivestyle.com.au\n",
      "https://www.findababysitter.com.au\n",
      "https://www.thestore.com.au\n",
      "http://www.weatherzone.com.au\n",
      "https://www.rsvp.com.au\n",
      "/national/back-to-school-plan-gives-private-students-hsc-advantage-educators-warn-20200424-p54n2v.html\n"
     ]
    },
    {
     "name": "stderr",
     "output_type": "stream",
     "text": [
      "2020-04-24 21:24:16 [urllib3.connectionpool] DEBUG: https://www.smh.com.au:443 \"GET //national/back-to-school-plan-gives-private-students-hsc-advantage-educators-warn-20200424-p54n2v.html HTTP/1.1\" 200 42868\n",
      "2020-04-24 21:24:16 [urllib3.connectionpool] DEBUG: Starting new HTTPS connection (1): www.smh.com.au:443\n"
     ]
    },
    {
     "name": "stdout",
     "output_type": "stream",
     "text": [
      "/topic/hsc-5yf\n",
      "/national/back-to-school-plan-gives-private-students-hsc-advantage-educators-warn-20200424-p54n2v.html\n"
     ]
    },
    {
     "name": "stderr",
     "output_type": "stream",
     "text": [
      "2020-04-24 21:24:17 [urllib3.connectionpool] DEBUG: https://www.smh.com.au:443 \"GET //national/back-to-school-plan-gives-private-students-hsc-advantage-educators-warn-20200424-p54n2v.html HTTP/1.1\" 200 42868\n",
      "2020-04-24 21:24:17 [urllib3.connectionpool] DEBUG: Starting new HTTPS connection (1): www.smh.com.au:443\n"
     ]
    },
    {
     "name": "stdout",
     "output_type": "stream",
     "text": [
      "/politics/federal/schools-safe-say-commonwealth-medical-experts-20200424-p54n25.html\n"
     ]
    },
    {
     "name": "stderr",
     "output_type": "stream",
     "text": [
      "2020-04-24 21:24:17 [urllib3.connectionpool] DEBUG: https://www.smh.com.au:443 \"GET //politics/federal/schools-safe-say-commonwealth-medical-experts-20200424-p54n25.html HTTP/1.1\" 200 44473\n",
      "2020-04-24 21:24:18 [urllib3.connectionpool] DEBUG: Starting new HTTPS connection (1): www.smh.com.au:443\n"
     ]
    },
    {
     "name": "stdout",
     "output_type": "stream",
     "text": [
      "/coronavirus-pandemic\n",
      "/politics/federal/schools-safe-say-commonwealth-medical-experts-20200424-p54n25.html\n"
     ]
    },
    {
     "name": "stderr",
     "output_type": "stream",
     "text": [
      "2020-04-24 21:24:18 [urllib3.connectionpool] DEBUG: https://www.smh.com.au:443 \"GET //politics/federal/schools-safe-say-commonwealth-medical-experts-20200424-p54n25.html HTTP/1.1\" 200 44473\n",
      "2020-04-24 21:24:18 [urllib3.connectionpool] DEBUG: Starting new HTTPS connection (1): www.smh.com.au:443\n"
     ]
    },
    {
     "name": "stdout",
     "output_type": "stream",
     "text": [
      "/national/nsw/this-is-not-a-one-off-hit-sydney-universities-cut-courses-and-casual-staff-20200423-p54mmy.html\n"
     ]
    },
    {
     "name": "stderr",
     "output_type": "stream",
     "text": [
      "2020-04-24 21:24:20 [urllib3.connectionpool] DEBUG: https://www.smh.com.au:443 \"GET //national/nsw/this-is-not-a-one-off-hit-sydney-universities-cut-courses-and-casual-staff-20200423-p54mmy.html HTTP/1.1\" 200 43477\n",
      "2020-04-24 21:24:20 [urllib3.connectionpool] DEBUG: Starting new HTTPS connection (1): www.smh.com.au:443\n"
     ]
    },
    {
     "name": "stdout",
     "output_type": "stream",
     "text": [
      "/education\n",
      "/national/nsw/this-is-not-a-one-off-hit-sydney-universities-cut-courses-and-casual-staff-20200423-p54mmy.html\n"
     ]
    },
    {
     "name": "stderr",
     "output_type": "stream",
     "text": [
      "2020-04-24 21:24:20 [urllib3.connectionpool] DEBUG: https://www.smh.com.au:443 \"GET //national/nsw/this-is-not-a-one-off-hit-sydney-universities-cut-courses-and-casual-staff-20200423-p54mmy.html HTTP/1.1\" 200 43477\n",
      "2020-04-24 21:24:21 [urllib3.connectionpool] DEBUG: Starting new HTTPS connection (1): www.smh.com.au:443\n"
     ]
    },
    {
     "name": "stdout",
     "output_type": "stream",
     "text": [
      "/national/hsc-exams-go-ahead-this-year-results-released-in-mid-december-20200424-p54n22.html\n"
     ]
    },
    {
     "name": "stderr",
     "output_type": "stream",
     "text": [
      "2020-04-24 21:24:21 [urllib3.connectionpool] DEBUG: https://www.smh.com.au:443 \"GET //national/hsc-exams-go-ahead-this-year-results-released-in-mid-december-20200424-p54n22.html HTTP/1.1\" 200 40107\n",
      "2020-04-24 21:24:21 [urllib3.connectionpool] DEBUG: Starting new HTTPS connection (1): www.smh.com.au:443\n"
     ]
    },
    {
     "name": "stdout",
     "output_type": "stream",
     "text": [
      "/topic/hsc-5yf\n",
      "/national/hsc-exams-go-ahead-this-year-results-released-in-mid-december-20200424-p54n22.html\n"
     ]
    },
    {
     "name": "stderr",
     "output_type": "stream",
     "text": [
      "2020-04-24 21:24:22 [urllib3.connectionpool] DEBUG: https://www.smh.com.au:443 \"GET //national/hsc-exams-go-ahead-this-year-results-released-in-mid-december-20200424-p54n22.html HTTP/1.1\" 200 40107\n",
      "2020-04-24 21:24:22 [urllib3.connectionpool] DEBUG: Starting new HTTPS connection (1): www.smh.com.au:443\n"
     ]
    },
    {
     "name": "stdout",
     "output_type": "stream",
     "text": [
      "/national/nsw/drivers-to-mow-lawns-canteen-staff-to-clean-in-private-school-job-deal-20200423-p54mow.html\n"
     ]
    },
    {
     "name": "stderr",
     "output_type": "stream",
     "text": [
      "2020-04-24 21:24:22 [urllib3.connectionpool] DEBUG: https://www.smh.com.au:443 \"GET //national/nsw/drivers-to-mow-lawns-canteen-staff-to-clean-in-private-school-job-deal-20200423-p54mow.html HTTP/1.1\" 200 43049\n",
      "2020-04-24 21:24:22 [urllib3.connectionpool] DEBUG: Starting new HTTPS connection (1): www.smh.com.au:443\n"
     ]
    },
    {
     "name": "stdout",
     "output_type": "stream",
     "text": [
      "/topic/industrial-relations-5yl\n",
      "/national/nsw/drivers-to-mow-lawns-canteen-staff-to-clean-in-private-school-job-deal-20200423-p54mow.html\n"
     ]
    },
    {
     "name": "stderr",
     "output_type": "stream",
     "text": [
      "2020-04-24 21:24:23 [urllib3.connectionpool] DEBUG: https://www.smh.com.au:443 \"GET //national/nsw/drivers-to-mow-lawns-canteen-staff-to-clean-in-private-school-job-deal-20200423-p54mow.html HTTP/1.1\" 200 43049\n",
      "2020-04-24 21:24:23 [urllib3.connectionpool] DEBUG: Starting new HTTPS connection (1): www.smh.com.au:443\n"
     ]
    },
    {
     "name": "stdout",
     "output_type": "stream",
     "text": [
      "/national/sydney-university-urges-staff-to-apply-for-jobkeeper-subsidy-20200424-p54mwj.html\n"
     ]
    },
    {
     "name": "stderr",
     "output_type": "stream",
     "text": [
      "2020-04-24 21:24:23 [urllib3.connectionpool] DEBUG: https://www.smh.com.au:443 \"GET //national/sydney-university-urges-staff-to-apply-for-jobkeeper-subsidy-20200424-p54mwj.html HTTP/1.1\" 200 42924\n",
      "2020-04-24 21:24:24 [urllib3.connectionpool] DEBUG: Starting new HTTPS connection (1): www.smh.com.au:443\n"
     ]
    },
    {
     "name": "stdout",
     "output_type": "stream",
     "text": [
      "/topic/the-university-of-sydney-fzw\n",
      "/national/sydney-university-urges-staff-to-apply-for-jobkeeper-subsidy-20200424-p54mwj.html\n"
     ]
    },
    {
     "name": "stderr",
     "output_type": "stream",
     "text": [
      "2020-04-24 21:24:24 [urllib3.connectionpool] DEBUG: https://www.smh.com.au:443 \"GET //national/sydney-university-urges-staff-to-apply-for-jobkeeper-subsidy-20200424-p54mwj.html HTTP/1.1\" 200 42924\n",
      "2020-04-24 21:24:24 [urllib3.connectionpool] DEBUG: Starting new HTTPS connection (1): www.smh.com.au:443\n"
     ]
    },
    {
     "name": "stdout",
     "output_type": "stream",
     "text": [
      "/national/nsw/teaching-has-been-a-lifelong-vocation-for-this-headmaster-20200422-p54m5m.html\n"
     ]
    },
    {
     "name": "stderr",
     "output_type": "stream",
     "text": [
      "2020-04-24 21:24:25 [urllib3.connectionpool] DEBUG: https://www.smh.com.au:443 \"GET //national/nsw/teaching-has-been-a-lifelong-vocation-for-this-headmaster-20200422-p54m5m.html HTTP/1.1\" 200 40891\n",
      "2020-04-24 21:24:25 [urllib3.connectionpool] DEBUG: Starting new HTTPS connection (1): www.smh.com.au:443\n"
     ]
    },
    {
     "name": "stdout",
     "output_type": "stream",
     "text": [
      "/topic/private-schools-60s\n",
      "/national/nsw/teaching-has-been-a-lifelong-vocation-for-this-headmaster-20200422-p54m5m.html\n"
     ]
    },
    {
     "name": "stderr",
     "output_type": "stream",
     "text": [
      "2020-04-24 21:24:26 [urllib3.connectionpool] DEBUG: https://www.smh.com.au:443 \"GET //national/nsw/teaching-has-been-a-lifelong-vocation-for-this-headmaster-20200422-p54m5m.html HTTP/1.1\" 200 40891\n",
      "2020-04-24 21:24:26 [urllib3.connectionpool] DEBUG: Starting new HTTPS connection (1): www.smh.com.au:443\n"
     ]
    },
    {
     "name": "stdout",
     "output_type": "stream",
     "text": [
      "/national/nsw/premier-accuses-teachers-union-of-wanting-kids-home-indefinitely-20200423-p54moi.html\n"
     ]
    },
    {
     "name": "stderr",
     "output_type": "stream",
     "text": [
      "2020-04-24 21:24:26 [urllib3.connectionpool] DEBUG: https://www.smh.com.au:443 \"GET //national/nsw/premier-accuses-teachers-union-of-wanting-kids-home-indefinitely-20200423-p54moi.html HTTP/1.1\" 200 44255\n",
      "2020-04-24 21:24:27 [urllib3.connectionpool] DEBUG: Starting new HTTPS connection (1): www.smh.com.au:443\n"
     ]
    },
    {
     "name": "stdout",
     "output_type": "stream",
     "text": [
      "/topic/teaching-1ndt\n",
      "/national/nsw/premier-accuses-teachers-union-of-wanting-kids-home-indefinitely-20200423-p54moi.html\n"
     ]
    },
    {
     "name": "stderr",
     "output_type": "stream",
     "text": [
      "2020-04-24 21:24:27 [urllib3.connectionpool] DEBUG: https://www.smh.com.au:443 \"GET //national/nsw/premier-accuses-teachers-union-of-wanting-kids-home-indefinitely-20200423-p54moi.html HTTP/1.1\" 200 44255\n",
      "2020-04-24 21:24:27 [urllib3.connectionpool] DEBUG: Starting new HTTPS connection (1): www.smh.com.au:443\n"
     ]
    },
    {
     "name": "stdout",
     "output_type": "stream",
     "text": [
      "/national/nsw/why-we-ve-decided-on-a-managed-return-to-school-20200423-p54mhy.html\n"
     ]
    },
    {
     "name": "stderr",
     "output_type": "stream",
     "text": [
      "2020-04-24 21:24:28 [urllib3.connectionpool] DEBUG: https://www.smh.com.au:443 \"GET //national/nsw/why-we-ve-decided-on-a-managed-return-to-school-20200423-p54mhy.html HTTP/1.1\" 200 41585\n",
      "2020-04-24 21:24:28 [urllib3.connectionpool] DEBUG: Starting new HTTPS connection (1): www.smh.com.au:443\n"
     ]
    },
    {
     "name": "stdout",
     "output_type": "stream",
     "text": [
      "/opinion\n",
      "/national/nsw/why-we-ve-decided-on-a-managed-return-to-school-20200423-p54mhy.html\n"
     ]
    },
    {
     "name": "stderr",
     "output_type": "stream",
     "text": [
      "2020-04-24 21:24:28 [urllib3.connectionpool] DEBUG: https://www.smh.com.au:443 \"GET //national/nsw/why-we-ve-decided-on-a-managed-return-to-school-20200423-p54mhy.html HTTP/1.1\" 200 41585\n",
      "2020-04-24 21:24:29 [urllib3.connectionpool] DEBUG: Starting new HTTPS connection (1): www.smh.com.au:443\n"
     ]
    },
    {
     "name": "stdout",
     "output_type": "stream",
     "text": [
      "/education/ex-premier-urges-states-to-take-over-childcare-system-in-crisis-20200422-p54mbg.html\n"
     ]
    },
    {
     "name": "stderr",
     "output_type": "stream",
     "text": [
      "2020-04-24 21:24:29 [urllib3.connectionpool] DEBUG: https://www.smh.com.au:443 \"GET //education/ex-premier-urges-states-to-take-over-childcare-system-in-crisis-20200422-p54mbg.html HTTP/1.1\" 200 41772\n",
      "2020-04-24 21:24:30 [urllib3.connectionpool] DEBUG: Starting new HTTPS connection (1): www.smh.com.au:443\n"
     ]
    },
    {
     "name": "stdout",
     "output_type": "stream",
     "text": [
      "/topic/childcare-5vp\n",
      "/education/ex-premier-urges-states-to-take-over-childcare-system-in-crisis-20200422-p54mbg.html\n"
     ]
    },
    {
     "name": "stderr",
     "output_type": "stream",
     "text": [
      "2020-04-24 21:24:31 [urllib3.connectionpool] DEBUG: https://www.smh.com.au:443 \"GET //education/ex-premier-urges-states-to-take-over-childcare-system-in-crisis-20200422-p54mbg.html HTTP/1.1\" 200 41772\n",
      "2020-04-24 21:24:31 [urllib3.connectionpool] DEBUG: Starting new HTTPS connection (1): www.smh.com.au:443\n"
     ]
    },
    {
     "name": "stdout",
     "output_type": "stream",
     "text": [
      "/national/private-school-expects-900-students-back-after-parents-reject-remote-learning-20200422-p54mb1.html\n"
     ]
    },
    {
     "name": "stderr",
     "output_type": "stream",
     "text": [
      "2020-04-24 21:24:31 [urllib3.connectionpool] DEBUG: https://www.smh.com.au:443 \"GET //national/private-school-expects-900-students-back-after-parents-reject-remote-learning-20200422-p54mb1.html HTTP/1.1\" 200 44198\n",
      "2020-04-24 21:24:32 [urllib3.connectionpool] DEBUG: Starting new HTTPS connection (1): www.smh.com.au:443\n"
     ]
    },
    {
     "name": "stdout",
     "output_type": "stream",
     "text": [
      "/topic/private-schools-60s\n",
      "/national/private-school-expects-900-students-back-after-parents-reject-remote-learning-20200422-p54mb1.html\n"
     ]
    },
    {
     "name": "stderr",
     "output_type": "stream",
     "text": [
      "2020-04-24 21:24:32 [urllib3.connectionpool] DEBUG: https://www.smh.com.au:443 \"GET //national/private-school-expects-900-students-back-after-parents-reject-remote-learning-20200422-p54mb1.html HTTP/1.1\" 200 44198\n",
      "2020-04-24 21:24:32 [urllib3.connectionpool] DEBUG: Starting new HTTPS connection (1): www.smh.com.au:443\n"
     ]
    },
    {
     "name": "stdout",
     "output_type": "stream",
     "text": [
      "/national/nsw/123-million-vertical-sydney-school-to-be-built-in-town-centre-20200422-p54m4o.html\n"
     ]
    },
    {
     "name": "stderr",
     "output_type": "stream",
     "text": [
      "2020-04-24 21:24:33 [urllib3.connectionpool] DEBUG: https://www.smh.com.au:443 \"GET //national/nsw/123-million-vertical-sydney-school-to-be-built-in-town-centre-20200422-p54m4o.html HTTP/1.1\" 200 41825\n",
      "2020-04-24 21:24:33 [urllib3.connectionpool] DEBUG: Starting new HTTPS connection (1): www.smh.com.au:443\n"
     ]
    },
    {
     "name": "stdout",
     "output_type": "stream",
     "text": [
      "/education\n",
      "/national/nsw/123-million-vertical-sydney-school-to-be-built-in-town-centre-20200422-p54m4o.html\n"
     ]
    },
    {
     "name": "stderr",
     "output_type": "stream",
     "text": [
      "2020-04-24 21:24:34 [urllib3.connectionpool] DEBUG: https://www.smh.com.au:443 \"GET //national/nsw/123-million-vertical-sydney-school-to-be-built-in-town-centre-20200422-p54m4o.html HTTP/1.1\" 200 41825\n",
      "2020-04-24 21:24:34 [urllib3.connectionpool] DEBUG: Starting new HTTPS connection (1): www.smh.com.au:443\n"
     ]
    },
    {
     "name": "stdout",
     "output_type": "stream",
     "text": [
      "/education/return-to-class-is-going-to-look-very-different-from-school-to-school-20200421-p54lqt.html\n"
     ]
    },
    {
     "name": "stderr",
     "output_type": "stream",
     "text": [
      "2020-04-24 21:24:35 [urllib3.connectionpool] DEBUG: https://www.smh.com.au:443 \"GET //education/return-to-class-is-going-to-look-very-different-from-school-to-school-20200421-p54lqt.html HTTP/1.1\" 200 40855\n",
      "2020-04-24 21:24:35 [urllib3.connectionpool] DEBUG: Starting new HTTPS connection (1): www.smh.com.au:443\n"
     ]
    },
    {
     "name": "stdout",
     "output_type": "stream",
     "text": [
      "/coronavirus-pandemic\n",
      "/education/return-to-class-is-going-to-look-very-different-from-school-to-school-20200421-p54lqt.html\n"
     ]
    },
    {
     "name": "stderr",
     "output_type": "stream",
     "text": [
      "2020-04-24 21:24:36 [urllib3.connectionpool] DEBUG: https://www.smh.com.au:443 \"GET //education/return-to-class-is-going-to-look-very-different-from-school-to-school-20200421-p54lqt.html HTTP/1.1\" 200 40855\n",
      "2020-04-24 21:24:36 [urllib3.connectionpool] DEBUG: Starting new HTTPS connection (1): www.smh.com.au:443\n"
     ]
    },
    {
     "name": "stdout",
     "output_type": "stream",
     "text": [
      "/national/herd-immunity-is-a-myth-infectious-disease-experts-warn-20200415-p54k0c.html\n"
     ]
    },
    {
     "name": "stderr",
     "output_type": "stream",
     "text": [
      "2020-04-24 21:24:37 [urllib3.connectionpool] DEBUG: https://www.smh.com.au:443 \"GET //national/herd-immunity-is-a-myth-infectious-disease-experts-warn-20200415-p54k0c.html HTTP/1.1\" 200 47176\n",
      "2020-04-24 21:24:37 [urllib3.connectionpool] DEBUG: Starting new HTTPS connection (1): www.smh.com.au:443\n"
     ]
    },
    {
     "name": "stdout",
     "output_type": "stream",
     "text": [
      "/topic/schools-1lzt\n",
      "/national/herd-immunity-is-a-myth-infectious-disease-experts-warn-20200415-p54k0c.html\n"
     ]
    },
    {
     "name": "stderr",
     "output_type": "stream",
     "text": [
      "2020-04-24 21:24:37 [urllib3.connectionpool] DEBUG: https://www.smh.com.au:443 \"GET //national/herd-immunity-is-a-myth-infectious-disease-experts-warn-20200415-p54k0c.html HTTP/1.1\" 200 47176\n",
      "2020-04-24 21:24:38 [urllib3.connectionpool] DEBUG: Starting new HTTPS connection (1): www.smh.com.au:443\n"
     ]
    },
    {
     "name": "stdout",
     "output_type": "stream",
     "text": [
      "/national/nsw/confusion-division-and-relief-at-plan-to-send-nsw-school-students-back-to-class-20200421-p54lvy.html\n"
     ]
    },
    {
     "name": "stderr",
     "output_type": "stream",
     "text": [
      "2020-04-24 21:24:38 [urllib3.connectionpool] DEBUG: https://www.smh.com.au:443 \"GET //national/nsw/confusion-division-and-relief-at-plan-to-send-nsw-school-students-back-to-class-20200421-p54lvy.html HTTP/1.1\" 200 46190\n",
      "2020-04-24 21:24:39 [urllib3.connectionpool] DEBUG: Starting new HTTPS connection (1): www.smh.com.au:443\n"
     ]
    },
    {
     "name": "stdout",
     "output_type": "stream",
     "text": [
      "/topic/schools-1lzt\n",
      "/national/nsw/confusion-division-and-relief-at-plan-to-send-nsw-school-students-back-to-class-20200421-p54lvy.html\n"
     ]
    },
    {
     "name": "stderr",
     "output_type": "stream",
     "text": [
      "2020-04-24 21:24:39 [urllib3.connectionpool] DEBUG: https://www.smh.com.au:443 \"GET //national/nsw/confusion-division-and-relief-at-plan-to-send-nsw-school-students-back-to-class-20200421-p54lvy.html HTTP/1.1\" 200 46190\n",
      "2020-04-24 21:24:39 [urllib3.connectionpool] DEBUG: Starting new HTTPS connection (1): www.smh.com.au:443\n"
     ]
    },
    {
     "name": "stdout",
     "output_type": "stream",
     "text": [
      "/national/nsw/teachers-given-priority-coronavirus-testing-as-nsw-school-return-date-confirmed-20200421-p54ln9.html\n"
     ]
    },
    {
     "name": "stderr",
     "output_type": "stream",
     "text": [
      "2020-04-24 21:24:40 [urllib3.connectionpool] DEBUG: https://www.smh.com.au:443 \"GET //national/nsw/teachers-given-priority-coronavirus-testing-as-nsw-school-return-date-confirmed-20200421-p54ln9.html HTTP/1.1\" 200 43006\n",
      "2020-04-24 21:24:40 [urllib3.connectionpool] DEBUG: Starting new HTTPS connection (1): www.smh.com.au:443\n"
     ]
    },
    {
     "name": "stdout",
     "output_type": "stream",
     "text": [
      "/education\n",
      "/national/nsw/teachers-given-priority-coronavirus-testing-as-nsw-school-return-date-confirmed-20200421-p54ln9.html\n"
     ]
    },
    {
     "name": "stderr",
     "output_type": "stream",
     "text": [
      "2020-04-24 21:24:40 [urllib3.connectionpool] DEBUG: https://www.smh.com.au:443 \"GET //national/nsw/teachers-given-priority-coronavirus-testing-as-nsw-school-return-date-confirmed-20200421-p54ln9.html HTTP/1.1\" 200 43006\n",
      "2020-04-24 21:24:41 [urllib3.connectionpool] DEBUG: Starting new HTTPS connection (1): www.smh.com.au:443\n"
     ]
    },
    {
     "name": "stdout",
     "output_type": "stream",
     "text": [
      "/national/full-time-schooling-to-resume-term-3-beginning-with-one-day-a-week-in-may-20200421-p54lpj.html\n"
     ]
    },
    {
     "name": "stderr",
     "output_type": "stream",
     "text": [
      "2020-04-24 21:24:41 [urllib3.connectionpool] DEBUG: https://www.smh.com.au:443 \"GET //national/full-time-schooling-to-resume-term-3-beginning-with-one-day-a-week-in-may-20200421-p54lpj.html HTTP/1.1\" 200 44155\n",
      "2020-04-24 21:24:41 [urllib3.connectionpool] DEBUG: Starting new HTTPS connection (1): www.smh.com.au:443\n"
     ]
    },
    {
     "name": "stdout",
     "output_type": "stream",
     "text": [
      "/topic/schools-1lzt\n",
      "/national/full-time-schooling-to-resume-term-3-beginning-with-one-day-a-week-in-may-20200421-p54lpj.html\n"
     ]
    },
    {
     "name": "stderr",
     "output_type": "stream",
     "text": [
      "2020-04-24 21:24:42 [urllib3.connectionpool] DEBUG: https://www.smh.com.au:443 \"GET //national/full-time-schooling-to-resume-term-3-beginning-with-one-day-a-week-in-may-20200421-p54lpj.html HTTP/1.1\" 200 44155\n",
      "2020-04-24 21:24:42 [urllib3.connectionpool] DEBUG: Starting new HTTPS connection (1): www.smh.com.au:443\n"
     ]
    },
    {
     "name": "stdout",
     "output_type": "stream",
     "text": [
      "/national/students-to-spend-one-day-a-week-in-class-under-back-to-school-plan-20200420-p54lhl.html\n"
     ]
    },
    {
     "name": "stderr",
     "output_type": "stream",
     "text": [
      "2020-04-24 21:24:43 [urllib3.connectionpool] DEBUG: https://www.smh.com.au:443 \"GET //national/students-to-spend-one-day-a-week-in-class-under-back-to-school-plan-20200420-p54lhl.html HTTP/1.1\" 200 44390\n",
      "2020-04-24 21:24:44 [urllib3.connectionpool] DEBUG: Starting new HTTPS connection (1): www.smh.com.au:443\n"
     ]
    },
    {
     "name": "stdout",
     "output_type": "stream",
     "text": [
      "/topic/schools-1lzt\n",
      "/national/students-to-spend-one-day-a-week-in-class-under-back-to-school-plan-20200420-p54lhl.html\n"
     ]
    },
    {
     "name": "stderr",
     "output_type": "stream",
     "text": [
      "2020-04-24 21:24:44 [urllib3.connectionpool] DEBUG: https://www.smh.com.au:443 \"GET //national/students-to-spend-one-day-a-week-in-class-under-back-to-school-plan-20200420-p54lhl.html HTTP/1.1\" 200 44390\n",
      "2020-04-24 21:24:44 [urllib3.connectionpool] DEBUG: Starting new HTTPS connection (1): www.smh.com.au:443\n"
     ]
    },
    {
     "name": "stdout",
     "output_type": "stream",
     "text": [
      "/education/one-in-five-australian-five-year-olds-at-risk-of-falling-behind-in-school-20200420-p54liy.html\n"
     ]
    },
    {
     "name": "stderr",
     "output_type": "stream",
     "text": [
      "2020-04-24 21:24:46 [urllib3.connectionpool] DEBUG: https://www.smh.com.au:443 \"GET //education/one-in-five-australian-five-year-olds-at-risk-of-falling-behind-in-school-20200420-p54liy.html HTTP/1.1\" 200 40352\n",
      "2020-04-24 21:24:46 [urllib3.connectionpool] DEBUG: Starting new HTTPS connection (1): www.smh.com.au:443\n"
     ]
    },
    {
     "name": "stdout",
     "output_type": "stream",
     "text": [
      "/topic/early-childhood-1lzs\n",
      "/education/one-in-five-australian-five-year-olds-at-risk-of-falling-behind-in-school-20200420-p54liy.html\n"
     ]
    },
    {
     "name": "stderr",
     "output_type": "stream",
     "text": [
      "2020-04-24 21:24:47 [urllib3.connectionpool] DEBUG: https://www.smh.com.au:443 \"GET //education/one-in-five-australian-five-year-olds-at-risk-of-falling-behind-in-school-20200420-p54liy.html HTTP/1.1\" 200 40352\n",
      "2020-04-24 21:24:47 [urllib3.connectionpool] DEBUG: Starting new HTTPS connection (1): www.smh.com.au:443\n"
     ]
    },
    {
     "name": "stdout",
     "output_type": "stream",
     "text": [
      "/national/if-we-want-world-class-universities-we-need-to-find-a-way-to-pay-for-them-20200418-p54kzt.html\n"
     ]
    },
    {
     "name": "stderr",
     "output_type": "stream",
     "text": [
      "2020-04-24 21:24:47 [urllib3.connectionpool] DEBUG: https://www.smh.com.au:443 \"GET //national/if-we-want-world-class-universities-we-need-to-find-a-way-to-pay-for-them-20200418-p54kzt.html HTTP/1.1\" 200 42336\n",
      "2020-04-24 21:24:48 [urllib3.connectionpool] DEBUG: Starting new HTTPS connection (1): www.smh.com.au:443\n"
     ]
    },
    {
     "name": "stdout",
     "output_type": "stream",
     "text": [
      "/coronavirus-pandemic\n",
      "/national/if-we-want-world-class-universities-we-need-to-find-a-way-to-pay-for-them-20200418-p54kzt.html\n"
     ]
    },
    {
     "name": "stderr",
     "output_type": "stream",
     "text": [
      "2020-04-24 21:24:48 [urllib3.connectionpool] DEBUG: https://www.smh.com.au:443 \"GET //national/if-we-want-world-class-universities-we-need-to-find-a-way-to-pay-for-them-20200418-p54kzt.html HTTP/1.1\" 200 42336\n",
      "2020-04-24 21:24:48 [urllib3.connectionpool] DEBUG: Starting new HTTPS connection (1): www.smh.com.au:443\n"
     ]
    },
    {
     "name": "stdout",
     "output_type": "stream",
     "text": [
      "/politics/federal/government-s-university-rescue-package-a-fraud-says-labor-20200418-p54l0e.html\n"
     ]
    },
    {
     "name": "stderr",
     "output_type": "stream",
     "text": [
      "2020-04-24 21:24:49 [urllib3.connectionpool] DEBUG: https://www.smh.com.au:443 \"GET //politics/federal/government-s-university-rescue-package-a-fraud-says-labor-20200418-p54l0e.html HTTP/1.1\" 200 43151\n",
      "2020-04-24 21:24:49 [urllib3.connectionpool] DEBUG: Starting new HTTPS connection (1): www.smh.com.au:443\n"
     ]
    },
    {
     "name": "stdout",
     "output_type": "stream",
     "text": [
      "/topic/university-63k\n",
      "/politics/federal/government-s-university-rescue-package-a-fraud-says-labor-20200418-p54l0e.html\n"
     ]
    },
    {
     "name": "stderr",
     "output_type": "stream",
     "text": [
      "2020-04-24 21:24:49 [urllib3.connectionpool] DEBUG: https://www.smh.com.au:443 \"GET //politics/federal/government-s-university-rescue-package-a-fraud-says-labor-20200418-p54l0e.html HTTP/1.1\" 200 43151\n",
      "2020-04-24 21:24:49 [urllib3.connectionpool] DEBUG: Starting new HTTPS connection (1): www.smh.com.au:443\n"
     ]
    },
    {
     "name": "stdout",
     "output_type": "stream",
     "text": [
      "/education/seven-in-10-suspended-kindergarten-kids-have-a-disability-new-figures-show-20200418-p54l0z.html\n"
     ]
    },
    {
     "name": "stderr",
     "output_type": "stream",
     "text": [
      "2020-04-24 21:24:50 [urllib3.connectionpool] DEBUG: https://www.smh.com.au:443 \"GET //education/seven-in-10-suspended-kindergarten-kids-have-a-disability-new-figures-show-20200418-p54l0z.html HTTP/1.1\" 200 40595\n",
      "2020-04-24 21:24:51 [urllib3.connectionpool] DEBUG: Starting new HTTPS connection (1): www.smh.com.au:443\n"
     ]
    },
    {
     "name": "stdout",
     "output_type": "stream",
     "text": [
      "/topic/disability-5wa\n",
      "/education/seven-in-10-suspended-kindergarten-kids-have-a-disability-new-figures-show-20200418-p54l0z.html\n"
     ]
    },
    {
     "name": "stderr",
     "output_type": "stream",
     "text": [
      "2020-04-24 21:24:51 [urllib3.connectionpool] DEBUG: https://www.smh.com.au:443 \"GET //education/seven-in-10-suspended-kindergarten-kids-have-a-disability-new-figures-show-20200418-p54l0z.html HTTP/1.1\" 200 40595\n",
      "2020-04-24 21:24:51 [urllib3.connectionpool] DEBUG: Starting new HTTPS connection (1): www.smh.com.au:443\n"
     ]
    },
    {
     "name": "stdout",
     "output_type": "stream",
     "text": [
      "/national/nsw/we-need-to-get-kids-back-to-school-and-keep-teachers-safe-20200417-p54kul.html\n"
     ]
    },
    {
     "name": "stderr",
     "output_type": "stream",
     "text": [
      "2020-04-24 21:24:52 [urllib3.connectionpool] DEBUG: https://www.smh.com.au:443 \"GET //national/nsw/we-need-to-get-kids-back-to-school-and-keep-teachers-safe-20200417-p54kul.html HTTP/1.1\" 200 39955\n",
      "2020-04-24 21:24:52 [urllib3.connectionpool] DEBUG: Starting new HTTPS connection (1): www.smh.com.au:443\n"
     ]
    },
    {
     "name": "stdout",
     "output_type": "stream",
     "text": [
      "/opinion\n",
      "/national/nsw/we-need-to-get-kids-back-to-school-and-keep-teachers-safe-20200417-p54kul.html\n"
     ]
    },
    {
     "name": "stderr",
     "output_type": "stream",
     "text": [
      "2020-04-24 21:24:53 [urllib3.connectionpool] DEBUG: https://www.smh.com.au:443 \"GET //national/nsw/we-need-to-get-kids-back-to-school-and-keep-teachers-safe-20200417-p54kul.html HTTP/1.1\" 200 39955\n",
      "2020-04-24 21:24:53 [urllib3.connectionpool] DEBUG: Starting new HTTPS connection (1): www.smh.com.au:443\n"
     ]
    },
    {
     "name": "stdout",
     "output_type": "stream",
     "text": [
      "/national/nsw/hogwarts-at-your-house-families-make-the-most-of-school-holiday-lockdown-20200416-p54kc4.html\n"
     ]
    },
    {
     "name": "stderr",
     "output_type": "stream",
     "text": [
      "2020-04-24 21:24:54 [urllib3.connectionpool] DEBUG: https://www.smh.com.au:443 \"GET //national/nsw/hogwarts-at-your-house-families-make-the-most-of-school-holiday-lockdown-20200416-p54kc4.html HTTP/1.1\" 200 43475\n",
      "2020-04-24 21:24:54 [urllib3.connectionpool] DEBUG: Starting new HTTPS connection (1): www.smh.com.au:443\n"
     ]
    },
    {
     "name": "stdout",
     "output_type": "stream",
     "text": [
      "/education\n",
      "/national/nsw/hogwarts-at-your-house-families-make-the-most-of-school-holiday-lockdown-20200416-p54kc4.html\n"
     ]
    },
    {
     "name": "stderr",
     "output_type": "stream",
     "text": [
      "2020-04-24 21:24:55 [urllib3.connectionpool] DEBUG: https://www.smh.com.au:443 \"GET //national/nsw/hogwarts-at-your-house-families-make-the-most-of-school-holiday-lockdown-20200416-p54kc4.html HTTP/1.1\" 200 43475\n",
      "2020-04-24 21:24:55 [urllib3.connectionpool] DEBUG: Starting new HTTPS connection (1): www.smh.com.au:443\n"
     ]
    },
    {
     "name": "stdout",
     "output_type": "stream",
     "text": [
      "/education/pandemic-is-an-opportunity-to-entirely-rethink-university-education-20200417-p54ko6.html\n"
     ]
    },
    {
     "name": "stderr",
     "output_type": "stream",
     "text": [
      "2020-04-24 21:24:57 [urllib3.connectionpool] DEBUG: https://www.smh.com.au:443 \"GET //education/pandemic-is-an-opportunity-to-entirely-rethink-university-education-20200417-p54ko6.html HTTP/1.1\" 200 40197\n",
      "2020-04-24 21:24:57 [urllib3.connectionpool] DEBUG: Starting new HTTPS connection (1): www.smh.com.au:443\n"
     ]
    },
    {
     "name": "stdout",
     "output_type": "stream",
     "text": [
      "/opinion\n",
      "/education/pandemic-is-an-opportunity-to-entirely-rethink-university-education-20200417-p54ko6.html\n"
     ]
    },
    {
     "name": "stderr",
     "output_type": "stream",
     "text": [
      "2020-04-24 21:24:57 [urllib3.connectionpool] DEBUG: https://www.smh.com.au:443 \"GET //education/pandemic-is-an-opportunity-to-entirely-rethink-university-education-20200417-p54ko6.html HTTP/1.1\" 200 40197\n",
      "2020-04-24 21:24:57 [urllib3.connectionpool] DEBUG: Starting new HTTPS connection (1): www.smh.com.au:443\n"
     ]
    },
    {
     "name": "stdout",
     "output_type": "stream",
     "text": [
      "/national/very-messy-principals-question-premier-s-part-time-learning-plan-20200417-p54kxq.html\n"
     ]
    },
    {
     "name": "stderr",
     "output_type": "stream",
     "text": [
      "2020-04-24 21:24:58 [urllib3.connectionpool] DEBUG: https://www.smh.com.au:443 \"GET //national/very-messy-principals-question-premier-s-part-time-learning-plan-20200417-p54kxq.html HTTP/1.1\" 200 45738\n",
      "2020-04-24 21:24:58 [urllib3.connectionpool] DEBUG: Starting new HTTPS connection (1): www.smh.com.au:443\n"
     ]
    },
    {
     "name": "stdout",
     "output_type": "stream",
     "text": [
      "/topic/teaching-1ndt\n",
      "/national/very-messy-principals-question-premier-s-part-time-learning-plan-20200417-p54kxq.html\n"
     ]
    },
    {
     "name": "stderr",
     "output_type": "stream",
     "text": [
      "2020-04-24 21:24:58 [urllib3.connectionpool] DEBUG: https://www.smh.com.au:443 \"GET //national/very-messy-principals-question-premier-s-part-time-learning-plan-20200417-p54kxq.html HTTP/1.1\" 200 45738\n",
      "2020-04-24 21:24:59 [urllib3.connectionpool] DEBUG: Starting new HTTPS connection (1): www.smh.com.au:443\n"
     ]
    },
    {
     "name": "stdout",
     "output_type": "stream",
     "text": [
      "/national/macquarie-university-to-accept-students-based-on-year-11-results-20200417-p54kt2.html\n"
     ]
    },
    {
     "name": "stderr",
     "output_type": "stream",
     "text": [
      "2020-04-24 21:24:59 [urllib3.connectionpool] DEBUG: https://www.smh.com.au:443 \"GET //national/macquarie-university-to-accept-students-based-on-year-11-results-20200417-p54kt2.html HTTP/1.1\" 200 42097\n",
      "2020-04-24 21:25:00 [urllib3.connectionpool] DEBUG: Starting new HTTPS connection (1): www.smh.com.au:443\n"
     ]
    },
    {
     "name": "stdout",
     "output_type": "stream",
     "text": [
      "/education\n",
      "/national/macquarie-university-to-accept-students-based-on-year-11-results-20200417-p54kt2.html\n"
     ]
    },
    {
     "name": "stderr",
     "output_type": "stream",
     "text": [
      "2020-04-24 21:25:00 [urllib3.connectionpool] DEBUG: https://www.smh.com.au:443 \"GET //national/macquarie-university-to-accept-students-based-on-year-11-results-20200417-p54kt2.html HTTP/1.1\" 200 42097\n",
      "2020-04-24 21:25:00 [urllib3.connectionpool] DEBUG: Starting new HTTPS connection (1): www.smh.com.au:443\n"
     ]
    },
    {
     "name": "stdout",
     "output_type": "stream",
     "text": [
      "/national/nsw/rostering-system-to-guide-nsw-schools-return-in-term-two-20200417-p54koz.html\n"
     ]
    },
    {
     "name": "stderr",
     "output_type": "stream",
     "text": [
      "2020-04-24 21:25:01 [urllib3.connectionpool] DEBUG: https://www.smh.com.au:443 \"GET //national/nsw/rostering-system-to-guide-nsw-schools-return-in-term-two-20200417-p54koz.html HTTP/1.1\" 200 45323\n",
      "2020-04-24 21:25:01 [urllib3.connectionpool] DEBUG: Starting new HTTPS connection (1): www.smh.com.au:443\n"
     ]
    },
    {
     "name": "stdout",
     "output_type": "stream",
     "text": [
      "/topic/gladys-berejiklian-33y\n",
      "/national/nsw/rostering-system-to-guide-nsw-schools-return-in-term-two-20200417-p54koz.html\n"
     ]
    },
    {
     "name": "stderr",
     "output_type": "stream",
     "text": [
      "2020-04-24 21:25:01 [urllib3.connectionpool] DEBUG: https://www.smh.com.au:443 \"GET //national/nsw/rostering-system-to-guide-nsw-schools-return-in-term-two-20200417-p54koz.html HTTP/1.1\" 200 45323\n",
      "2020-04-24 21:25:02 [urllib3.connectionpool] DEBUG: Starting new HTTPS connection (1): www.smh.com.au:443\n"
     ]
    },
    {
     "name": "stdout",
     "output_type": "stream",
     "text": [
      "/politics/federal/nbn-announces-150m-package-for-low-income-households-and-struggling-businesses-20200417-p54kpq.html\n"
     ]
    },
    {
     "name": "stderr",
     "output_type": "stream",
     "text": [
      "2020-04-24 21:25:02 [urllib3.connectionpool] DEBUG: https://www.smh.com.au:443 \"GET //politics/federal/nbn-announces-150m-package-for-low-income-households-and-struggling-businesses-20200417-p54kpq.html HTTP/1.1\" 200 43423\n",
      "2020-04-24 21:25:02 [urllib3.connectionpool] DEBUG: Starting new HTTPS connection (1): www.smh.com.au:443\n"
     ]
    },
    {
     "name": "stdout",
     "output_type": "stream",
     "text": [
      "/topic/nbn-600\n",
      "/politics/federal/nbn-announces-150m-package-for-low-income-households-and-struggling-businesses-20200417-p54kpq.html\n"
     ]
    },
    {
     "name": "stderr",
     "output_type": "stream",
     "text": [
      "2020-04-24 21:25:04 [urllib3.connectionpool] DEBUG: https://www.smh.com.au:443 \"GET //politics/federal/nbn-announces-150m-package-for-low-income-households-and-struggling-businesses-20200417-p54kpq.html HTTP/1.1\" 200 43423\n",
      "2020-04-24 21:25:04 [urllib3.connectionpool] DEBUG: Starting new HTTPS connection (1): www.smh.com.au:443\n"
     ]
    },
    {
     "name": "stdout",
     "output_type": "stream",
     "text": [
      "/politics/federal/loss-of-international-students-set-to-blow-30b-60b-hole-in-economy-20200416-p54kif.html\n"
     ]
    },
    {
     "name": "stderr",
     "output_type": "stream",
     "text": [
      "2020-04-24 21:25:06 [urllib3.connectionpool] DEBUG: https://www.smh.com.au:443 \"GET //politics/federal/loss-of-international-students-set-to-blow-30b-60b-hole-in-economy-20200416-p54kif.html HTTP/1.1\" 200 45826\n",
      "2020-04-24 21:25:06 [urllib3.connectionpool] DEBUG: Starting new HTTPS connection (1): www.smh.com.au:443\n"
     ]
    },
    {
     "name": "stdout",
     "output_type": "stream",
     "text": [
      "/topic/university-63k\n",
      "/politics/federal/loss-of-international-students-set-to-blow-30b-60b-hole-in-economy-20200416-p54kif.html\n"
     ]
    },
    {
     "name": "stderr",
     "output_type": "stream",
     "text": [
      "2020-04-24 21:25:07 [urllib3.connectionpool] DEBUG: https://www.smh.com.au:443 \"GET //politics/federal/loss-of-international-students-set-to-blow-30b-60b-hole-in-economy-20200416-p54kif.html HTTP/1.1\" 200 45826\n",
      "2020-04-24 21:25:07 [urllib3.connectionpool] DEBUG: Starting new HTTPS connection (1): www.smh.com.au:443\n"
     ]
    },
    {
     "name": "stdout",
     "output_type": "stream",
     "text": [
      "/politics/federal/doctors-should-make-the-call-on-who-goes-to-school-and-when-20200416-p54kfz.html\n"
     ]
    },
    {
     "name": "stderr",
     "output_type": "stream",
     "text": [
      "2020-04-24 21:25:08 [urllib3.connectionpool] DEBUG: https://www.smh.com.au:443 \"GET //politics/federal/doctors-should-make-the-call-on-who-goes-to-school-and-when-20200416-p54kfz.html HTTP/1.1\" 200 43742\n",
      "2020-04-24 21:25:08 [urllib3.connectionpool] DEBUG: Starting new HTTPS connection (1): www.smh.com.au:443\n"
     ]
    },
    {
     "name": "stdout",
     "output_type": "stream",
     "text": [
      "/opinion\n",
      "/politics/federal/doctors-should-make-the-call-on-who-goes-to-school-and-when-20200416-p54kfz.html\n"
     ]
    },
    {
     "name": "stderr",
     "output_type": "stream",
     "text": [
      "2020-04-24 21:25:09 [urllib3.connectionpool] DEBUG: https://www.smh.com.au:443 \"GET //politics/federal/doctors-should-make-the-call-on-who-goes-to-school-and-when-20200416-p54kfz.html HTTP/1.1\" 200 43742\n",
      "2020-04-24 21:25:09 [urllib3.connectionpool] DEBUG: Starting new HTTPS connection (1): www.smh.com.au:443\n"
     ]
    },
    {
     "name": "stdout",
     "output_type": "stream",
     "text": [
      "/politics/federal/teachers-don-t-deserve-morrison-s-guilt-trip-20200416-p54kec.html\n"
     ]
    },
    {
     "name": "stderr",
     "output_type": "stream",
     "text": [
      "2020-04-24 21:25:10 [urllib3.connectionpool] DEBUG: https://www.smh.com.au:443 \"GET //politics/federal/teachers-don-t-deserve-morrison-s-guilt-trip-20200416-p54kec.html HTTP/1.1\" 200 49162\n",
      "2020-04-24 21:25:10 [urllib3.connectionpool] DEBUG: Starting new HTTPS connection (1): www.smh.com.au:443\n"
     ]
    },
    {
     "name": "stdout",
     "output_type": "stream",
     "text": [
      "/opinion\n",
      "/politics/federal/teachers-don-t-deserve-morrison-s-guilt-trip-20200416-p54kec.html\n"
     ]
    },
    {
     "name": "stderr",
     "output_type": "stream",
     "text": [
      "2020-04-24 21:25:10 [urllib3.connectionpool] DEBUG: https://www.smh.com.au:443 \"GET //politics/federal/teachers-don-t-deserve-morrison-s-guilt-trip-20200416-p54kec.html HTTP/1.1\" 200 49162\n",
      "2020-04-24 21:25:11 [urllib3.connectionpool] DEBUG: Starting new HTTPS connection (1): www.smh.com.au:443\n"
     ]
    },
    {
     "name": "stdout",
     "output_type": "stream",
     "text": [
      "/national/some-form-of-exams-still-the-best-solution-for-our-year-12s-20200416-p54kcj.html\n"
     ]
    },
    {
     "name": "stderr",
     "output_type": "stream",
     "text": [
      "2020-04-24 21:25:12 [urllib3.connectionpool] DEBUG: https://www.smh.com.au:443 \"GET //national/some-form-of-exams-still-the-best-solution-for-our-year-12s-20200416-p54kcj.html HTTP/1.1\" 200 40451\n",
      "2020-04-24 21:25:12 [urllib3.connectionpool] DEBUG: Starting new HTTPS connection (1): www.smh.com.au:443\n"
     ]
    },
    {
     "name": "stdout",
     "output_type": "stream",
     "text": [
      "/opinion\n",
      "/national/some-form-of-exams-still-the-best-solution-for-our-year-12s-20200416-p54kcj.html\n"
     ]
    },
    {
     "name": "stderr",
     "output_type": "stream",
     "text": [
      "2020-04-24 21:25:13 [urllib3.connectionpool] DEBUG: https://www.smh.com.au:443 \"GET //national/some-form-of-exams-still-the-best-solution-for-our-year-12s-20200416-p54kcj.html HTTP/1.1\" 200 40451\n",
      "2020-04-24 21:25:13 [urllib3.connectionpool] DEBUG: Starting new HTTPS connection (1): www.smh.com.au:443\n"
     ]
    },
    {
     "name": "stdout",
     "output_type": "stream",
     "text": [
      "/politics/federal/uq-takes-disciplinary-action-against-student-activist-critical-of-beijing-20200416-p54kba.html\n"
     ]
    },
    {
     "name": "stderr",
     "output_type": "stream",
     "text": [
      "2020-04-24 21:25:13 [urllib3.connectionpool] DEBUG: https://www.smh.com.au:443 \"GET //politics/federal/uq-takes-disciplinary-action-against-student-activist-critical-of-beijing-20200416-p54kba.html HTTP/1.1\" 200 41951\n",
      "2020-04-24 21:25:14 [urllib3.connectionpool] DEBUG: Starting new HTTPS connection (1): www.smh.com.au:443\n"
     ]
    },
    {
     "name": "stdout",
     "output_type": "stream",
     "text": [
      "/topic/china-89a\n",
      "/politics/federal/uq-takes-disciplinary-action-against-student-activist-critical-of-beijing-20200416-p54kba.html\n"
     ]
    },
    {
     "name": "stderr",
     "output_type": "stream",
     "text": [
      "2020-04-24 21:25:14 [urllib3.connectionpool] DEBUG: https://www.smh.com.au:443 \"GET //politics/federal/uq-takes-disciplinary-action-against-student-activist-critical-of-beijing-20200416-p54kba.html HTTP/1.1\" 200 41951\n",
      "2020-04-24 21:25:14 [urllib3.connectionpool] DEBUG: Starting new HTTPS connection (1): www.smh.com.au:443\n"
     ]
    },
    {
     "name": "stdout",
     "output_type": "stream",
     "text": [
      "/education/there-are-some-silver-linings-in-the-pivot-to-remote-learning-20200416-p54kdb.html\n"
     ]
    },
    {
     "name": "stderr",
     "output_type": "stream",
     "text": [
      "2020-04-24 21:25:15 [urllib3.connectionpool] DEBUG: https://www.smh.com.au:443 \"GET //education/there-are-some-silver-linings-in-the-pivot-to-remote-learning-20200416-p54kdb.html HTTP/1.1\" 200 40096\n",
      "2020-04-24 21:25:15 [urllib3.connectionpool] DEBUG: Starting new HTTPS connection (1): www.smh.com.au:443\n"
     ]
    },
    {
     "name": "stdout",
     "output_type": "stream",
     "text": [
      "/opinion\n",
      "/education/there-are-some-silver-linings-in-the-pivot-to-remote-learning-20200416-p54kdb.html\n"
     ]
    },
    {
     "name": "stderr",
     "output_type": "stream",
     "text": [
      "2020-04-24 21:25:15 [urllib3.connectionpool] DEBUG: https://www.smh.com.au:443 \"GET //education/there-are-some-silver-linings-in-the-pivot-to-remote-learning-20200416-p54kdb.html HTTP/1.1\" 200 40096\n",
      "2020-04-24 21:25:16 [urllib3.connectionpool] DEBUG: Starting new HTTPS connection (1): www.smh.com.au:443\n"
     ]
    },
    {
     "name": "stdout",
     "output_type": "stream",
     "text": [
      "/politics/nsw/berejiklian-confirms-date-nsw-students-will-return-to-school-classrooms-20200416-p54ka4.html\n"
     ]
    },
    {
     "name": "stderr",
     "output_type": "stream",
     "text": [
      "2020-04-24 21:25:16 [urllib3.connectionpool] DEBUG: https://www.smh.com.au:443 \"GET //politics/nsw/berejiklian-confirms-date-nsw-students-will-return-to-school-classrooms-20200416-p54ka4.html HTTP/1.1\" 200 44023\n",
      "2020-04-24 21:25:16 [urllib3.connectionpool] DEBUG: Starting new HTTPS connection (1): www.smh.com.au:443\n"
     ]
    },
    {
     "name": "stdout",
     "output_type": "stream",
     "text": [
      "/topic/gladys-berejiklian-33y\n",
      "/politics/nsw/berejiklian-confirms-date-nsw-students-will-return-to-school-classrooms-20200416-p54ka4.html\n"
     ]
    },
    {
     "name": "stderr",
     "output_type": "stream",
     "text": [
      "2020-04-24 21:25:16 [urllib3.connectionpool] DEBUG: https://www.smh.com.au:443 \"GET //politics/nsw/berejiklian-confirms-date-nsw-students-will-return-to-school-classrooms-20200416-p54ka4.html HTTP/1.1\" 200 44023\n",
      "2020-04-24 21:25:17 [urllib3.connectionpool] DEBUG: Starting new HTTPS connection (1): www.smh.com.au:443\n"
     ]
    },
    {
     "name": "stdout",
     "output_type": "stream",
     "text": [
      "/politics/nsw/berejiklian-keen-to-get-students-back-in-the-classroom-early-in-term-two-20200415-p54k3o.html\n"
     ]
    },
    {
     "name": "stderr",
     "output_type": "stream",
     "text": [
      "2020-04-24 21:25:17 [urllib3.connectionpool] DEBUG: https://www.smh.com.au:443 \"GET //politics/nsw/berejiklian-keen-to-get-students-back-in-the-classroom-early-in-term-two-20200415-p54k3o.html HTTP/1.1\" 200 47500\n",
      "2020-04-24 21:25:18 [urllib3.connectionpool] DEBUG: Starting new HTTPS connection (1): www.smh.com.au:443\n"
     ]
    },
    {
     "name": "stdout",
     "output_type": "stream",
     "text": [
      "/topic/gladys-berejiklian-33y\n",
      "/politics/nsw/berejiklian-keen-to-get-students-back-in-the-classroom-early-in-term-two-20200415-p54k3o.html\n"
     ]
    },
    {
     "name": "stderr",
     "output_type": "stream",
     "text": [
      "2020-04-24 21:25:18 [urllib3.connectionpool] DEBUG: https://www.smh.com.au:443 \"GET //politics/nsw/berejiklian-keen-to-get-students-back-in-the-classroom-early-in-term-two-20200415-p54k3o.html HTTP/1.1\" 200 47500\n",
      "2020-04-24 21:25:18 [urllib3.connectionpool] DEBUG: Starting new HTTPS connection (1): www.smh.com.au:443\n"
     ]
    },
    {
     "name": "stdout",
     "output_type": "stream",
     "text": [
      "/education/selective-school-entry-scores-fall-even-at-james-ruse-20200415-p54k1h.html\n"
     ]
    },
    {
     "name": "stderr",
     "output_type": "stream",
     "text": [
      "2020-04-24 21:25:19 [urllib3.connectionpool] DEBUG: https://www.smh.com.au:443 \"GET //education/selective-school-entry-scores-fall-even-at-james-ruse-20200415-p54k1h.html HTTP/1.1\" 200 42028\n",
      "2020-04-24 21:25:20 [urllib3.connectionpool] DEBUG: Starting new HTTPS connection (1): www.smh.com.au:443\n"
     ]
    },
    {
     "name": "stdout",
     "output_type": "stream",
     "text": [
      "/topic/schools-1lzt\n",
      "/education/selective-school-entry-scores-fall-even-at-james-ruse-20200415-p54k1h.html\n"
     ]
    },
    {
     "name": "stderr",
     "output_type": "stream",
     "text": [
      "2020-04-24 21:25:20 [urllib3.connectionpool] DEBUG: https://www.smh.com.au:443 \"GET //education/selective-school-entry-scores-fall-even-at-james-ruse-20200415-p54k1h.html HTTP/1.1\" 200 42028\n",
      "2020-04-24 21:25:20 [urllib3.connectionpool] DEBUG: Starting new HTTPS connection (1): www.smh.com.au:443\n"
     ]
    },
    {
     "name": "stdout",
     "output_type": "stream",
     "text": [
      "/national/nsw/unsw-asks-staff-to-take-pay-cut-to-stop-job-losses-from-600m-hit-20200415-p54k1u.html\n"
     ]
    },
    {
     "name": "stderr",
     "output_type": "stream",
     "text": [
      "2020-04-24 21:25:21 [urllib3.connectionpool] DEBUG: https://www.smh.com.au:443 \"GET //national/nsw/unsw-asks-staff-to-take-pay-cut-to-stop-job-losses-from-600m-hit-20200415-p54k1u.html HTTP/1.1\" 200 42114\n",
      "2020-04-24 21:25:21 [urllib3.connectionpool] DEBUG: Starting new HTTPS connection (1): www.smh.com.au:443\n"
     ]
    },
    {
     "name": "stdout",
     "output_type": "stream",
     "text": [
      "/coronavirus-pandemic\n",
      "/national/nsw/unsw-asks-staff-to-take-pay-cut-to-stop-job-losses-from-600m-hit-20200415-p54k1u.html\n"
     ]
    },
    {
     "name": "stderr",
     "output_type": "stream",
     "text": [
      "2020-04-24 21:25:21 [urllib3.connectionpool] DEBUG: https://www.smh.com.au:443 \"GET //national/nsw/unsw-asks-staff-to-take-pay-cut-to-stop-job-losses-from-600m-hit-20200415-p54k1u.html HTTP/1.1\" 200 42114\n",
      "2020-04-24 21:25:23 [urllib3.connectionpool] DEBUG: Starting new HTTPS connection (1): www.smh.com.au:443\n"
     ]
    },
    {
     "name": "stdout",
     "output_type": "stream",
     "text": [
      "/national/some-very-good-universities-are-going-to-find-it-very-hard-20200414-p54jo6.html\n"
     ]
    },
    {
     "name": "stderr",
     "output_type": "stream",
     "text": [
      "2020-04-24 21:25:23 [urllib3.connectionpool] DEBUG: https://www.smh.com.au:443 \"GET //national/some-very-good-universities-are-going-to-find-it-very-hard-20200414-p54jo6.html HTTP/1.1\" 200 40634\n",
      "2020-04-24 21:25:23 [urllib3.connectionpool] DEBUG: Starting new HTTPS connection (1): www.smh.com.au:443\n"
     ]
    },
    {
     "name": "stdout",
     "output_type": "stream",
     "text": [
      "/education\n",
      "/national/some-very-good-universities-are-going-to-find-it-very-hard-20200414-p54jo6.html\n"
     ]
    },
    {
     "name": "stderr",
     "output_type": "stream",
     "text": [
      "2020-04-24 21:25:24 [urllib3.connectionpool] DEBUG: https://www.smh.com.au:443 \"GET //national/some-very-good-universities-are-going-to-find-it-very-hard-20200414-p54jo6.html HTTP/1.1\" 200 40634\n",
      "2020-04-24 21:25:24 [urllib3.connectionpool] DEBUG: Starting new HTTPS connection (1): www.smh.com.au:443\n"
     ]
    },
    {
     "name": "stdout",
     "output_type": "stream",
     "text": [
      "/politics/federal/universities-spend-110-million-to-support-international-students-20200413-p54jf9.html\n"
     ]
    },
    {
     "name": "stderr",
     "output_type": "stream",
     "text": [
      "2020-04-24 21:25:25 [urllib3.connectionpool] DEBUG: https://www.smh.com.au:443 \"GET //politics/federal/universities-spend-110-million-to-support-international-students-20200413-p54jf9.html HTTP/1.1\" 200 45259\n",
      "2020-04-24 21:25:25 [urllib3.connectionpool] DEBUG: Starting new HTTPS connection (1): www.smh.com.au:443\n"
     ]
    },
    {
     "name": "stdout",
     "output_type": "stream",
     "text": [
      "/topic/university-63k\n",
      "/politics/federal/universities-spend-110-million-to-support-international-students-20200413-p54jf9.html\n"
     ]
    },
    {
     "name": "stderr",
     "output_type": "stream",
     "text": [
      "2020-04-24 21:25:26 [urllib3.connectionpool] DEBUG: https://www.smh.com.au:443 \"GET //politics/federal/universities-spend-110-million-to-support-international-students-20200413-p54jf9.html HTTP/1.1\" 200 45259\n",
      "2020-04-24 21:25:26 [urllib3.connectionpool] DEBUG: Starting new HTTPS connection (1): www.smh.com.au:443\n"
     ]
    },
    {
     "name": "stdout",
     "output_type": "stream",
     "text": [
      "/education/30m-literacy-program-fails-to-boost-results-for-remote-indigenous-kids-20200410-p54iwf.html\n"
     ]
    },
    {
     "name": "stderr",
     "output_type": "stream",
     "text": [
      "2020-04-24 21:25:27 [urllib3.connectionpool] DEBUG: https://www.smh.com.au:443 \"GET //education/30m-literacy-program-fails-to-boost-results-for-remote-indigenous-kids-20200410-p54iwf.html HTTP/1.1\" 200 40483\n",
      "2020-04-24 21:25:27 [urllib3.connectionpool] DEBUG: Starting new HTTPS connection (1): www.smh.com.au:443\n"
     ]
    },
    {
     "name": "stdout",
     "output_type": "stream",
     "text": [
      "/topic/indigenous-australians-hr7\n",
      "/education/30m-literacy-program-fails-to-boost-results-for-remote-indigenous-kids-20200410-p54iwf.html\n"
     ]
    },
    {
     "name": "stderr",
     "output_type": "stream",
     "text": [
      "2020-04-24 21:25:27 [urllib3.connectionpool] DEBUG: https://www.smh.com.au:443 \"GET //education/30m-literacy-program-fails-to-boost-results-for-remote-indigenous-kids-20200410-p54iwf.html HTTP/1.1\" 200 40483\n",
      "2020-04-24 21:25:27 [urllib3.connectionpool] DEBUG: Starting new HTTPS connection (1): www.smh.com.au:443\n"
     ]
    },
    {
     "name": "stdout",
     "output_type": "stream",
     "text": [
      "/national/the-kids-who-will-never-return-to-school-after-covid-19-20200411-p54j0e.html\n"
     ]
    },
    {
     "name": "stderr",
     "output_type": "stream",
     "text": [
      "2020-04-24 21:25:28 [urllib3.connectionpool] DEBUG: https://www.smh.com.au:443 \"GET //national/the-kids-who-will-never-return-to-school-after-covid-19-20200411-p54j0e.html HTTP/1.1\" 200 48934\n",
      "2020-04-24 21:25:28 [urllib3.connectionpool] DEBUG: Starting new HTTPS connection (1): www.smh.com.au:443\n"
     ]
    },
    {
     "name": "stdout",
     "output_type": "stream",
     "text": [
      "/topic/schools-1lzt\n",
      "/national/the-kids-who-will-never-return-to-school-after-covid-19-20200411-p54j0e.html\n"
     ]
    },
    {
     "name": "stderr",
     "output_type": "stream",
     "text": [
      "2020-04-24 21:25:28 [urllib3.connectionpool] DEBUG: https://www.smh.com.au:443 \"GET //national/the-kids-who-will-never-return-to-school-after-covid-19-20200411-p54j0e.html HTTP/1.1\" 200 48934\n",
      "2020-04-24 21:25:29 [urllib3.connectionpool] DEBUG: Starting new HTTPS connection (1): www.smh.com.au:443\n"
     ]
    },
    {
     "name": "stdout",
     "output_type": "stream",
     "text": [
      "/politics/federal/government-funding-guarantee-not-enough-to-plug-big-hole-in-university-budgets-20200412-p54j5s.html\n"
     ]
    },
    {
     "name": "stderr",
     "output_type": "stream",
     "text": [
      "2020-04-24 21:25:30 [urllib3.connectionpool] DEBUG: https://www.smh.com.au:443 \"GET //politics/federal/government-funding-guarantee-not-enough-to-plug-big-hole-in-university-budgets-20200412-p54j5s.html HTTP/1.1\" 200 42949\n",
      "2020-04-24 21:25:30 [urllib3.connectionpool] DEBUG: Starting new HTTPS connection (1): www.smh.com.au:443\n"
     ]
    },
    {
     "name": "stdout",
     "output_type": "stream",
     "text": [
      "/topic/university-63k\n",
      "/politics/federal/government-funding-guarantee-not-enough-to-plug-big-hole-in-university-budgets-20200412-p54j5s.html\n"
     ]
    },
    {
     "name": "stderr",
     "output_type": "stream",
     "text": [
      "2020-04-24 21:25:31 [urllib3.connectionpool] DEBUG: https://www.smh.com.au:443 \"GET //politics/federal/government-funding-guarantee-not-enough-to-plug-big-hole-in-university-budgets-20200412-p54j5s.html HTTP/1.1\" 200 42949\n",
      "2020-04-24 21:25:31 [urllib3.connectionpool] DEBUG: Starting new HTTPS connection (1): www.smh.com.au:443\n"
     ]
    },
    {
     "name": "stdout",
     "output_type": "stream",
     "text": [
      "/national/twice-as-many-students-distracted-at-home-as-at-school-new-data-shows-20200410-p54iu7.html\n"
     ]
    },
    {
     "name": "stderr",
     "output_type": "stream",
     "text": [
      "2020-04-24 21:25:31 [urllib3.connectionpool] DEBUG: https://www.smh.com.au:443 \"GET //national/twice-as-many-students-distracted-at-home-as-at-school-new-data-shows-20200410-p54iu7.html HTTP/1.1\" 200 40882\n",
      "2020-04-24 21:25:32 [urllib3.connectionpool] DEBUG: Starting new HTTPS connection (1): www.smh.com.au:443\n"
     ]
    },
    {
     "name": "stdout",
     "output_type": "stream",
     "text": [
      "/topic/schools-1lzt\n",
      "/national/twice-as-many-students-distracted-at-home-as-at-school-new-data-shows-20200410-p54iu7.html\n"
     ]
    },
    {
     "name": "stderr",
     "output_type": "stream",
     "text": [
      "2020-04-24 21:25:32 [urllib3.connectionpool] DEBUG: https://www.smh.com.au:443 \"GET //national/twice-as-many-students-distracted-at-home-as-at-school-new-data-shows-20200410-p54iu7.html HTTP/1.1\" 200 40882\n",
      "2020-04-24 21:25:32 [urllib3.connectionpool] DEBUG: Starting new HTTPS connection (1): www.smh.com.au:443\n"
     ]
    },
    {
     "name": "stdout",
     "output_type": "stream",
     "text": [
      "/politics/federal/guaranteed-funding-and-new-online-courses-under-university-relief-package-20200411-p54j1i.html\n"
     ]
    },
    {
     "name": "stderr",
     "output_type": "stream",
     "text": [
      "2020-04-24 21:25:33 [urllib3.connectionpool] DEBUG: https://www.smh.com.au:443 \"GET //politics/federal/guaranteed-funding-and-new-online-courses-under-university-relief-package-20200411-p54j1i.html HTTP/1.1\" 200 42131\n",
      "2020-04-24 21:25:34 [urllib3.connectionpool] DEBUG: Starting new HTTPS connection (1): www.smh.com.au:443\n"
     ]
    },
    {
     "name": "stdout",
     "output_type": "stream",
     "text": [
      "/topic/university-63k\n",
      "/politics/federal/guaranteed-funding-and-new-online-courses-under-university-relief-package-20200411-p54j1i.html\n"
     ]
    },
    {
     "name": "stderr",
     "output_type": "stream",
     "text": [
      "2020-04-24 21:25:34 [urllib3.connectionpool] DEBUG: https://www.smh.com.au:443 \"GET //politics/federal/guaranteed-funding-and-new-online-courses-under-university-relief-package-20200411-p54j1i.html HTTP/1.1\" 200 42131\n",
      "2020-04-24 21:25:34 [urllib3.connectionpool] DEBUG: Starting new HTTPS connection (1): www.smh.com.au:443\n"
     ]
    },
    {
     "name": "stdout",
     "output_type": "stream",
     "text": [
      "/politics/nsw/government-must-use-easter-break-to-chart-a-return-to-school-20200410-p54ixa.html\n"
     ]
    },
    {
     "name": "stderr",
     "output_type": "stream",
     "text": [
      "2020-04-24 21:25:35 [urllib3.connectionpool] DEBUG: https://www.smh.com.au:443 \"GET //politics/nsw/government-must-use-easter-break-to-chart-a-return-to-school-20200410-p54ixa.html HTTP/1.1\" 200 40988\n",
      "2020-04-24 21:25:35 [urllib3.connectionpool] DEBUG: Starting new HTTPS connection (1): www.smh.com.au:443\n"
     ]
    },
    {
     "name": "stdout",
     "output_type": "stream",
     "text": [
      "/education\n",
      "/politics/nsw/government-must-use-easter-break-to-chart-a-return-to-school-20200410-p54ixa.html\n"
     ]
    },
    {
     "name": "stderr",
     "output_type": "stream",
     "text": [
      "2020-04-24 21:25:35 [urllib3.connectionpool] DEBUG: https://www.smh.com.au:443 \"GET //politics/nsw/government-must-use-easter-break-to-chart-a-return-to-school-20200410-p54ixa.html HTTP/1.1\" 200 40988\n",
      "2020-04-24 21:25:35 [urllib3.connectionpool] DEBUG: Starting new HTTPS connection (1): www.smh.com.au:443\n"
     ]
    },
    {
     "name": "stdout",
     "output_type": "stream",
     "text": [
      "/politics/federal/uni-bosses-predict-permanent-shift-to-online-learning-but-not-a-full-scale-revolution-20200410-p54iv7.html\n"
     ]
    },
    {
     "name": "stderr",
     "output_type": "stream",
     "text": [
      "2020-04-24 21:25:36 [urllib3.connectionpool] DEBUG: https://www.smh.com.au:443 \"GET //politics/federal/uni-bosses-predict-permanent-shift-to-online-learning-but-not-a-full-scale-revolution-20200410-p54iv7.html HTTP/1.1\" 200 40781\n",
      "2020-04-24 21:25:36 [urllib3.connectionpool] DEBUG: Starting new HTTPS connection (1): www.smh.com.au:443\n"
     ]
    },
    {
     "name": "stdout",
     "output_type": "stream",
     "text": [
      "/coronavirus-pandemic\n",
      "/politics/federal/uni-bosses-predict-permanent-shift-to-online-learning-but-not-a-full-scale-revolution-20200410-p54iv7.html\n"
     ]
    },
    {
     "name": "stderr",
     "output_type": "stream",
     "text": [
      "2020-04-24 21:25:37 [urllib3.connectionpool] DEBUG: https://www.smh.com.au:443 \"GET //politics/federal/uni-bosses-predict-permanent-shift-to-online-learning-but-not-a-full-scale-revolution-20200410-p54iv7.html HTTP/1.1\" 200 40781\n",
      "2020-04-24 21:25:37 [urllib3.connectionpool] DEBUG: Starting new HTTPS connection (1): www.smh.com.au:443\n"
     ]
    },
    {
     "name": "stdout",
     "output_type": "stream",
     "text": [
      "/national/australia-s-coronavirus-safety-net-must-be-tight-to-go-the-distance-20200410-p54iux.html\n"
     ]
    },
    {
     "name": "stderr",
     "output_type": "stream",
     "text": [
      "2020-04-24 21:25:38 [urllib3.connectionpool] DEBUG: https://www.smh.com.au:443 \"GET //national/australia-s-coronavirus-safety-net-must-be-tight-to-go-the-distance-20200410-p54iux.html HTTP/1.1\" 200 53563\n",
      "2020-04-24 21:25:38 [urllib3.connectionpool] DEBUG: Starting new HTTPS connection (1): www.smh.com.au:443\n"
     ]
    },
    {
     "name": "stdout",
     "output_type": "stream",
     "text": [
      "/topic/national-analysis-1qu\n",
      "/national/australia-s-coronavirus-safety-net-must-be-tight-to-go-the-distance-20200410-p54iux.html\n"
     ]
    },
    {
     "name": "stderr",
     "output_type": "stream",
     "text": [
      "2020-04-24 21:25:38 [urllib3.connectionpool] DEBUG: https://www.smh.com.au:443 \"GET //national/australia-s-coronavirus-safety-net-must-be-tight-to-go-the-distance-20200410-p54iux.html HTTP/1.1\" 200 53563\n",
      "2020-04-24 21:25:39 [urllib3.connectionpool] DEBUG: Starting new HTTPS connection (1): www.smh.com.au:443\n"
     ]
    },
    {
     "name": "stdout",
     "output_type": "stream",
     "text": [
      "/politics/federal/branch-censures-national-union-over-coronavirus-concessions-20200410-p54ixl.html\n"
     ]
    },
    {
     "name": "stderr",
     "output_type": "stream",
     "text": [
      "2020-04-24 21:25:39 [urllib3.connectionpool] DEBUG: https://www.smh.com.au:443 \"GET //politics/federal/branch-censures-national-union-over-coronavirus-concessions-20200410-p54ixl.html HTTP/1.1\" 200 43319\n",
      "2020-04-24 21:25:40 [urllib3.connectionpool] DEBUG: Starting new HTTPS connection (1): www.smh.com.au:443\n"
     ]
    },
    {
     "name": "stdout",
     "output_type": "stream",
     "text": [
      "/topic/university-63k\n",
      "/politics/federal/branch-censures-national-union-over-coronavirus-concessions-20200410-p54ixl.html\n"
     ]
    },
    {
     "name": "stderr",
     "output_type": "stream",
     "text": [
      "2020-04-24 21:25:40 [urllib3.connectionpool] DEBUG: https://www.smh.com.au:443 \"GET //politics/federal/branch-censures-national-union-over-coronavirus-concessions-20200410-p54ixl.html HTTP/1.1\" 200 43319\n",
      "2020-04-24 21:25:40 [urllib3.connectionpool] DEBUG: Starting new HTTPS connection (1): www.smh.com.au:443\n"
     ]
    },
    {
     "name": "stdout",
     "output_type": "stream",
     "text": [
      "/\n",
      "https://twitter.com/smh\n",
      "http://www.facebook.com/sydneymorningherald\n",
      "https://www.instagram.com/sydneymorningherald\n",
      "/rssheadlines\n",
      "javascript:void(0)\n",
      "https://www.smh.com.au\n",
      "https://www.theage.com.au\n",
      "https://www.brisbanetimes.com.au\n",
      "https://www.watoday.com.au\n",
      "https://www.afr.com\n",
      "https://www.domain.com.au\n",
      "http://www.traveller.com.au\n",
      "https://www.goodfood.com.au\n",
      "http://www.executivestyle.com.au\n",
      "https://www.thestore.com.au\n",
      "https://www.drive.com.au\n",
      "https://www.caradvice.com.au\n",
      "https://www.rsvp.com.au\n",
      "http://www.weatherzone.com.au\n",
      "javascript:void(0)\n",
      "http://tributes.smh.com.au/obituaries/smh-au/\n",
      "http://celebrations.smh.com.au/celebration/smh-au/\n",
      "https://advertisers.com.au\n",
      "https://www.commercialrealestate.com.au\n",
      "https://www.oneflare.com.au\n",
      "javascript:void(0)\n",
      "/contact-us\n",
      "https://www.adcentre.com.au/brands/the-sydney-morning-herald\n",
      "https://smh.myfairfax.com.au/members/lite_session/new?callback_uri=https%3A%2F%2Fsmh.myfairfax.com.au%2Fbeta%2Fmembers%2Fmy_account%2Fnewsletters%3Fchannel_key%3DzHE9EWDHf1XPuz3Phk0YIg%26callback_uri%3Dhttps%253a%252f%252fwww.smh.com.au&channel_key=zHE9EWDHf1XPuz3Phk0YIg\n",
      "/siteguide/accessibility\n",
      "/siteguide\n",
      "https://consumer.fairfaxsyndication.com/C.aspx?VP3=CMS3&VF=FXJFX2_2_VForm\n",
      "https://frontpages.fairfaxsyndication.com/C.aspx?VP3=CMS3&VF=FXJFX2_3_VForm\n",
      "https://www.fairfaxsyndication.com/C.aspx?VP3=CMS3&VF=FXJO50_1\n",
      "/our-events\n",
      "https://www.nineforbrands.com.au/about/careers/\n",
      "/conditions-of-use\n",
      "/privacy\n",
      "https://www.presscouncil.org.au/what-we-do\n",
      "javascript:void(0)\n",
      "https://subscribe.smh.com.au/?promote_channel=HI_SMH_GNL_FT\n",
      "https://subscribers.smh.com.au\n",
      "https://www.smh.com.au/myaccount\n",
      "https://subscribers.smh.com.au/support-centre/overview\n",
      "/todays-newspaper\n",
      "/puzzles/crosswords\n",
      "https://www.thesmhinsider.com.au/c/a/5dAvszx5Lm7C4GDU21EWmQ?dPanel=2\n",
      "https://subscribe.smh.com.au/?promote_channel=HI_SMH_GNL_FT\n",
      "                                                link  \\\n",
      "0  /national/back-to-school-plan-gives-private-st...   \n",
      "1  /national/back-to-school-plan-gives-private-st...   \n",
      "2  /politics/federal/schools-safe-say-commonwealt...   \n",
      "3  /politics/federal/schools-safe-say-commonwealt...   \n",
      "4  /national/nsw/this-is-not-a-one-off-hit-sydney...   \n",
      "\n",
      "                                              header  \\\n",
      "0  Back-to-school plan gives private students HSC...   \n",
      "1  Back-to-school plan gives private students HSC...   \n",
      "2     Schools safe, say commonwealth medical experts   \n",
      "3     Schools safe, say commonwealth medical experts   \n",
      "4  'This is not a one-off hit': Sydney universiti...   \n",
      "\n",
      "                                             article  \\\n",
      "0  The NSW government's back-to-school plan has c...   \n",
      "1  The NSW government's back-to-school plan has c...   \n",
      "2  The nation's peak health advisers have backed ...   \n",
      "3  The nation's peak health advisers have backed ...   \n",
      "4  Western Sydney University has warned staff it ...   \n",
      "\n",
      "                                  author            date  \n",
      "0                          Jordan Baker   April 24, 2020  \n",
      "1                          Jordan Baker   April 24, 2020  \n",
      "2                           David Crowe   April 24, 2020  \n",
      "3                           David Crowe   April 24, 2020  \n",
      "4   Natassia Chrysanthos , Jordan Baker   April 24, 2020  \n",
      "processing : healthcare\n"
     ]
    },
    {
     "name": "stderr",
     "output_type": "stream",
     "text": [
      "2020-04-24 21:25:41 [urllib3.connectionpool] DEBUG: https://www.smh.com.au:443 \"GET /healthcare HTTP/1.1\" 200 43290\n",
      "2020-04-24 21:25:41 [urllib3.connectionpool] DEBUG: Starting new HTTPS connection (1): www.smh.com.au:443\n"
     ]
    },
    {
     "name": "stdout",
     "output_type": "stream",
     "text": [
      "#sections\n",
      "#content\n",
      "#footer\n",
      "javascript:void(0);\n",
      "https://subscribe.smh.com.au/?promote_channel=HI_SMH_GNL_HL\n",
      "/\n",
      "https://subscribe.smh.com.au/?promote_channel=HI_SMH_GNL_HL\n",
      "/\n",
      "#sections\n",
      "#network\n",
      "/\n",
      "/sydney-news\n",
      "/national/nsw\n",
      "/politics\n",
      "/politics/federal\n",
      "/politics/nsw\n",
      "/politics/victoria\n",
      "/politics/queensland\n",
      "/politics/western-australia\n",
      "/business\n",
      "/business/companies\n",
      "/business/markets\n",
      "/business/the-economy\n",
      "/business/banking-and-finance\n",
      "/business/small-business\n",
      "/business/consumer-affairs\n",
      "/business/workplace\n",
      "/world\n",
      "/world/north-america\n",
      "/world/europe\n",
      "/world/asia\n",
      "/world/middle-east\n",
      "/world/oceania\n",
      "/world/central-america\n",
      "/world/south-america\n",
      "/world/africa\n",
      "/national\n",
      "/national/victoria\n",
      "/national/queensland\n",
      "/national/western-australia\n",
      "/opinion\n",
      "http://www.domain.com.au\n",
      "/sport\n",
      "/sport/nrl\n",
      "/sport/rugby-union\n",
      "/sport/cricket\n",
      "/sport/soccer\n",
      "/sport/afl\n",
      "/sport/racing\n",
      "/sport/tennis\n",
      "/sport/netball\n",
      "/sport/basketball\n",
      "/sport/motorsport\n",
      "/sport/cycling\n",
      "/sport/golf\n",
      "/sport/nfl\n",
      "/sport/athletics\n",
      "/sport/swimming\n",
      "/sport/boxing\n",
      "/culture\n",
      "/culture/movies\n",
      "/culture/tv-and-radio\n",
      "/culture/music\n",
      "/culture/celebrity\n",
      "/culture/books\n",
      "/culture/comedy\n",
      "/culture/dance\n",
      "/culture/musicals\n",
      "/culture/opera\n",
      "/culture/theatre\n",
      "/culture/art-and-design\n",
      "https://tvguide.smh.com.au\n",
      "/lifestyle\n",
      "/lifestyle/life-and-relationships\n",
      "/lifestyle/health-and-wellness\n",
      "/lifestyle/gender\n",
      "/lifestyle/fashion\n",
      "/lifestyle/beauty\n",
      "/topic/horoscopes-5yc\n",
      "/topic/good-weekend-1qq\n",
      "/money\n",
      "/money/super-and-retirement\n",
      "/money/investing\n",
      "/money/banking\n",
      "/money/borrowing\n",
      "/money/saving\n",
      "/money/tax\n",
      "/money/planning-and-budgeting\n",
      "/money/insurance\n",
      "/education\n",
      "/healthcare\n",
      "/environment\n",
      "/environment/conservation\n",
      "/environment/climate-change\n",
      "/environment/sustainability\n",
      "/environment/weather\n",
      "/technology\n",
      "/technology/video-games\n",
      "/topic/home-technology-hqq\n",
      "/topic/phones-5zt\n",
      "/topic/gadgets-hqp\n",
      "http://www.drive.com.au\n",
      "http://www.traveller.com.au\n",
      "http://www.goodfood.com.au\n",
      "http://www.executivestyle.com.au\n",
      "https://subscribe.smh.com.au/2?promote_channel=HI_IPL_GNL&utm_source=PremiumIndex&utm_medium=HouseInventory&utm_campaign=General\n",
      "/todays-newspaper\n",
      "/puzzles/crosswords\n",
      "/topic/smh-letters-1r7\n",
      "/topic/smh-editorial-1r6\n",
      "/topic/column-8-1r4\n",
      "/topic/obituaries-1qv\n",
      "/topic/explainers-1lz9\n",
      "/topic/quizzes-1qx\n",
      "http://weather.smh.com.au/local-forecast/nsw/sydney\n",
      "https://www.theage.com.au\n",
      "https://www.brisbanetimes.com.au\n",
      "https://www.watoday.com.au\n",
      "https://www.afr.com\n",
      "https://www.domain.com.au\n",
      "https://www.commercialrealestate.com.au\n",
      "https://www.drive.com.au\n",
      "https://www.goodfood.com.au\n",
      "http://www.traveller.com.au\n",
      "http://www.executivestyle.com.au\n",
      "https://www.findababysitter.com.au\n",
      "https://www.thestore.com.au\n",
      "http://www.weatherzone.com.au\n",
      "https://www.rsvp.com.au\n",
      "/healthcare\n",
      "/healthcare/testing-times-20200424-h1nlx2.html\n"
     ]
    },
    {
     "name": "stderr",
     "output_type": "stream",
     "text": [
      "2020-04-24 21:25:41 [urllib3.connectionpool] DEBUG: https://www.smh.com.au:443 \"GET //healthcare/testing-times-20200424-h1nlx2.html HTTP/1.1\" 200 35825\n",
      "2020-04-24 21:25:42 [urllib3.connectionpool] DEBUG: Starting new HTTPS connection (1): www.smh.com.au:443\n"
     ]
    },
    {
     "name": "stdout",
     "output_type": "stream",
     "text": [
      "/national/nsw/terrible-situation-fourth-death-as-nursing-home-struggles-with-staffing-20200423-p54mnp.html\n"
     ]
    },
    {
     "name": "stderr",
     "output_type": "stream",
     "text": [
      "2020-04-24 21:25:42 [urllib3.connectionpool] DEBUG: https://www.smh.com.au:443 \"GET //national/nsw/terrible-situation-fourth-death-as-nursing-home-struggles-with-staffing-20200423-p54mnp.html HTTP/1.1\" 200 43998\n",
      "2020-04-24 21:25:42 [urllib3.connectionpool] DEBUG: Starting new HTTPS connection (1): www.smh.com.au:443\n"
     ]
    },
    {
     "name": "stdout",
     "output_type": "stream",
     "text": [
      "/coronavirus-pandemic\n",
      "/national/nsw/terrible-situation-fourth-death-as-nursing-home-struggles-with-staffing-20200423-p54mnp.html\n"
     ]
    },
    {
     "name": "stderr",
     "output_type": "stream",
     "text": [
      "2020-04-24 21:25:43 [urllib3.connectionpool] DEBUG: https://www.smh.com.au:443 \"GET //national/nsw/terrible-situation-fourth-death-as-nursing-home-struggles-with-staffing-20200423-p54mnp.html HTTP/1.1\" 200 43998\n",
      "2020-04-24 21:25:43 [urllib3.connectionpool] DEBUG: Starting new HTTPS connection (1): www.smh.com.au:443\n"
     ]
    },
    {
     "name": "stdout",
     "output_type": "stream",
     "text": [
      "/national/will-we-get-a-treatment-before-a-vaccine-inside-the-race-for-a-covid-19-game-changer-20200421-p54lz4.html\n"
     ]
    },
    {
     "name": "stderr",
     "output_type": "stream",
     "text": [
      "2020-04-24 21:25:44 [urllib3.connectionpool] DEBUG: https://www.smh.com.au:443 \"GET //national/will-we-get-a-treatment-before-a-vaccine-inside-the-race-for-a-covid-19-game-changer-20200421-p54lz4.html HTTP/1.1\" 200 61659\n",
      "2020-04-24 21:25:44 [urllib3.connectionpool] DEBUG: Starting new HTTPS connection (1): www.smh.com.au:443\n"
     ]
    },
    {
     "name": "stdout",
     "output_type": "stream",
     "text": [
      "/coronavirus-pandemic\n",
      "/national/will-we-get-a-treatment-before-a-vaccine-inside-the-race-for-a-covid-19-game-changer-20200421-p54lz4.html\n"
     ]
    },
    {
     "name": "stderr",
     "output_type": "stream",
     "text": [
      "2020-04-24 21:25:45 [urllib3.connectionpool] DEBUG: https://www.smh.com.au:443 \"GET //national/will-we-get-a-treatment-before-a-vaccine-inside-the-race-for-a-covid-19-game-changer-20200421-p54lz4.html HTTP/1.1\" 200 61659\n",
      "2020-04-24 21:25:45 [urllib3.connectionpool] DEBUG: Starting new HTTPS connection (1): www.smh.com.au:443\n"
     ]
    },
    {
     "name": "stdout",
     "output_type": "stream",
     "text": [
      "/national/nsw-health-says-covid-19-testing-for-anyone-is-inevitable-20200421-p54lw9.html\n"
     ]
    },
    {
     "name": "stderr",
     "output_type": "stream",
     "text": [
      "2020-04-24 21:25:46 [urllib3.connectionpool] DEBUG: https://www.smh.com.au:443 \"GET //national/nsw-health-says-covid-19-testing-for-anyone-is-inevitable-20200421-p54lw9.html HTTP/1.1\" 200 47323\n",
      "2020-04-24 21:25:46 [urllib3.connectionpool] DEBUG: Starting new HTTPS connection (1): www.smh.com.au:443\n"
     ]
    },
    {
     "name": "stdout",
     "output_type": "stream",
     "text": [
      "/coronavirus-pandemic\n",
      "/national/nsw-health-says-covid-19-testing-for-anyone-is-inevitable-20200421-p54lw9.html\n"
     ]
    },
    {
     "name": "stderr",
     "output_type": "stream",
     "text": [
      "2020-04-24 21:25:46 [urllib3.connectionpool] DEBUG: https://www.smh.com.au:443 \"GET //national/nsw-health-says-covid-19-testing-for-anyone-is-inevitable-20200421-p54lw9.html HTTP/1.1\" 200 47323\n",
      "2020-04-24 21:25:47 [urllib3.connectionpool] DEBUG: Starting new HTTPS connection (1): www.smh.com.au:443\n"
     ]
    },
    {
     "name": "stdout",
     "output_type": "stream",
     "text": [
      "/national/covid-19-medical-trial-to-treat-thousands-with-hiv-malaria-drugs-20200421-p54ls0.html\n"
     ]
    },
    {
     "name": "stderr",
     "output_type": "stream",
     "text": [
      "2020-04-24 21:25:47 [urllib3.connectionpool] DEBUG: https://www.smh.com.au:443 \"GET //national/covid-19-medical-trial-to-treat-thousands-with-hiv-malaria-drugs-20200421-p54ls0.html HTTP/1.1\" 200 42817\n",
      "2020-04-24 21:25:47 [urllib3.connectionpool] DEBUG: Starting new HTTPS connection (1): www.smh.com.au:443\n"
     ]
    },
    {
     "name": "stdout",
     "output_type": "stream",
     "text": [
      "/coronavirus-pandemic\n",
      "/national/covid-19-medical-trial-to-treat-thousands-with-hiv-malaria-drugs-20200421-p54ls0.html\n"
     ]
    },
    {
     "name": "stderr",
     "output_type": "stream",
     "text": [
      "2020-04-24 21:25:47 [urllib3.connectionpool] DEBUG: https://www.smh.com.au:443 \"GET //national/covid-19-medical-trial-to-treat-thousands-with-hiv-malaria-drugs-20200421-p54ls0.html HTTP/1.1\" 200 42817\n",
      "2020-04-24 21:25:48 [urllib3.connectionpool] DEBUG: Starting new HTTPS connection (1): www.smh.com.au:443\n"
     ]
    },
    {
     "name": "stdout",
     "output_type": "stream",
     "text": [
      "/national/warning-light-coronavirus-can-last-longer-in-air-than-first-thought-20200420-p54li8.html\n"
     ]
    },
    {
     "name": "stderr",
     "output_type": "stream",
     "text": [
      "2020-04-24 21:25:48 [urllib3.connectionpool] DEBUG: https://www.smh.com.au:443 \"GET //national/warning-light-coronavirus-can-last-longer-in-air-than-first-thought-20200420-p54li8.html HTTP/1.1\" 200 49124\n",
      "2020-04-24 21:25:49 [urllib3.connectionpool] DEBUG: Starting new HTTPS connection (1): www.smh.com.au:443\n"
     ]
    },
    {
     "name": "stdout",
     "output_type": "stream",
     "text": [
      "/coronavirus-pandemic\n",
      "/national/warning-light-coronavirus-can-last-longer-in-air-than-first-thought-20200420-p54li8.html\n"
     ]
    },
    {
     "name": "stderr",
     "output_type": "stream",
     "text": [
      "2020-04-24 21:25:49 [urllib3.connectionpool] DEBUG: https://www.smh.com.au:443 \"GET //national/warning-light-coronavirus-can-last-longer-in-air-than-first-thought-20200420-p54li8.html HTTP/1.1\" 200 49124\n",
      "2020-04-24 21:25:49 [urllib3.connectionpool] DEBUG: Starting new HTTPS connection (1): www.smh.com.au:443\n"
     ]
    },
    {
     "name": "stdout",
     "output_type": "stream",
     "text": [
      "/national/locked-down-lives-drive-emergency-department-numbers-to-record-lows-20200420-p54lcc.html\n"
     ]
    },
    {
     "name": "stderr",
     "output_type": "stream",
     "text": [
      "2020-04-24 21:25:50 [urllib3.connectionpool] DEBUG: https://www.smh.com.au:443 \"GET //national/locked-down-lives-drive-emergency-department-numbers-to-record-lows-20200420-p54lcc.html HTTP/1.1\" 200 47752\n",
      "2020-04-24 21:25:50 [urllib3.connectionpool] DEBUG: Starting new HTTPS connection (1): www.smh.com.au:443\n"
     ]
    },
    {
     "name": "stdout",
     "output_type": "stream",
     "text": [
      "/coronavirus-pandemic\n",
      "/national/locked-down-lives-drive-emergency-department-numbers-to-record-lows-20200420-p54lcc.html\n"
     ]
    },
    {
     "name": "stderr",
     "output_type": "stream",
     "text": [
      "2020-04-24 21:25:50 [urllib3.connectionpool] DEBUG: https://www.smh.com.au:443 \"GET //national/locked-down-lives-drive-emergency-department-numbers-to-record-lows-20200420-p54lcc.html HTTP/1.1\" 200 47752\n",
      "2020-04-24 21:25:51 [urllib3.connectionpool] DEBUG: Starting new HTTPS connection (1): www.smh.com.au:443\n"
     ]
    },
    {
     "name": "stdout",
     "output_type": "stream",
     "text": [
      "/national/point-of-saturation-distancing-messages-need-update-to-stifle-virus-20200420-p54lhg.html\n"
     ]
    },
    {
     "name": "stderr",
     "output_type": "stream",
     "text": [
      "2020-04-24 21:25:51 [urllib3.connectionpool] DEBUG: https://www.smh.com.au:443 \"GET //national/point-of-saturation-distancing-messages-need-update-to-stifle-virus-20200420-p54lhg.html HTTP/1.1\" 200 45357\n",
      "2020-04-24 21:25:52 [urllib3.connectionpool] DEBUG: Starting new HTTPS connection (1): www.smh.com.au:443\n"
     ]
    },
    {
     "name": "stdout",
     "output_type": "stream",
     "text": [
      "/coronavirus-pandemic\n",
      "/national/point-of-saturation-distancing-messages-need-update-to-stifle-virus-20200420-p54lhg.html\n"
     ]
    },
    {
     "name": "stderr",
     "output_type": "stream",
     "text": [
      "2020-04-24 21:25:52 [urllib3.connectionpool] DEBUG: https://www.smh.com.au:443 \"GET //national/point-of-saturation-distancing-messages-need-update-to-stifle-virus-20200420-p54lhg.html HTTP/1.1\" 200 45357\n",
      "2020-04-24 21:25:52 [urllib3.connectionpool] DEBUG: Starting new HTTPS connection (1): www.smh.com.au:443\n"
     ]
    },
    {
     "name": "stdout",
     "output_type": "stream",
     "text": [
      "/national/as-others-drove-up-prices-gavin-began-his-long-haul-ventilator-drive-20200419-p54l5p.html\n"
     ]
    },
    {
     "name": "stderr",
     "output_type": "stream",
     "text": [
      "2020-04-24 21:25:52 [urllib3.connectionpool] DEBUG: https://www.smh.com.au:443 \"GET //national/as-others-drove-up-prices-gavin-began-his-long-haul-ventilator-drive-20200419-p54l5p.html HTTP/1.1\" 200 47092\n",
      "2020-04-24 21:25:53 [urllib3.connectionpool] DEBUG: Starting new HTTPS connection (1): www.smh.com.au:443\n"
     ]
    },
    {
     "name": "stdout",
     "output_type": "stream",
     "text": [
      "/coronavirus-pandemic\n",
      "/national/as-others-drove-up-prices-gavin-began-his-long-haul-ventilator-drive-20200419-p54l5p.html\n"
     ]
    },
    {
     "name": "stderr",
     "output_type": "stream",
     "text": [
      "2020-04-24 21:25:53 [urllib3.connectionpool] DEBUG: https://www.smh.com.au:443 \"GET //national/as-others-drove-up-prices-gavin-began-his-long-haul-ventilator-drive-20200419-p54l5p.html HTTP/1.1\" 200 47092\n",
      "2020-04-24 21:25:53 [urllib3.connectionpool] DEBUG: Starting new HTTPS connection (1): www.smh.com.au:443\n"
     ]
    },
    {
     "name": "stdout",
     "output_type": "stream",
     "text": [
      "/national/queensland/north-queensland-doctors-referred-to-ombudsman-after-coronial-inquest-20200419-p54l4a.html\n"
     ]
    },
    {
     "name": "stderr",
     "output_type": "stream",
     "text": [
      "2020-04-24 21:25:54 [urllib3.connectionpool] DEBUG: https://www.smh.com.au:443 \"GET //national/queensland/north-queensland-doctors-referred-to-ombudsman-after-coronial-inquest-20200419-p54l4a.html HTTP/1.1\" 200 40061\n",
      "2020-04-24 21:25:54 [urllib3.connectionpool] DEBUG: Starting new HTTPS connection (1): www.smh.com.au:443\n"
     ]
    },
    {
     "name": "stdout",
     "output_type": "stream",
     "text": [
      "/topic/courts-hn7\n",
      "/national/queensland/north-queensland-doctors-referred-to-ombudsman-after-coronial-inquest-20200419-p54l4a.html\n"
     ]
    },
    {
     "name": "stderr",
     "output_type": "stream",
     "text": [
      "2020-04-24 21:25:54 [urllib3.connectionpool] DEBUG: https://www.smh.com.au:443 \"GET //national/queensland/north-queensland-doctors-referred-to-ombudsman-after-coronial-inquest-20200419-p54l4a.html HTTP/1.1\" 200 40061\n",
      "2020-04-24 21:25:55 [urllib3.connectionpool] DEBUG: Starting new HTTPS connection (1): www.smh.com.au:443\n"
     ]
    },
    {
     "name": "stdout",
     "output_type": "stream",
     "text": [
      "/national/how-conspiracy-theories-about-covid-19-went-viral-20200318-p54bhm.html\n"
     ]
    },
    {
     "name": "stderr",
     "output_type": "stream",
     "text": [
      "2020-04-24 21:25:56 [urllib3.connectionpool] DEBUG: https://www.smh.com.au:443 \"GET //national/how-conspiracy-theories-about-covid-19-went-viral-20200318-p54bhm.html HTTP/1.1\" 200 68454\n",
      "2020-04-24 21:25:57 [urllib3.connectionpool] DEBUG: Starting new HTTPS connection (1): www.smh.com.au:443\n"
     ]
    },
    {
     "name": "stdout",
     "output_type": "stream",
     "text": [
      "/coronavirus-pandemic\n",
      "/national/how-conspiracy-theories-about-covid-19-went-viral-20200318-p54bhm.html\n"
     ]
    },
    {
     "name": "stderr",
     "output_type": "stream",
     "text": [
      "2020-04-24 21:25:57 [urllib3.connectionpool] DEBUG: https://www.smh.com.au:443 \"GET //national/how-conspiracy-theories-about-covid-19-went-viral-20200318-p54bhm.html HTTP/1.1\" 200 68454\n",
      "2020-04-24 21:25:57 [urllib3.connectionpool] DEBUG: Starting new HTTPS connection (1): www.smh.com.au:443\n"
     ]
    },
    {
     "name": "stdout",
     "output_type": "stream",
     "text": [
      "/healthcare?page=2\n",
      "/\n",
      "https://twitter.com/smh\n",
      "http://www.facebook.com/sydneymorningherald\n",
      "https://www.instagram.com/sydneymorningherald\n",
      "/rssheadlines\n",
      "javascript:void(0)\n",
      "https://www.smh.com.au\n",
      "https://www.theage.com.au\n",
      "https://www.brisbanetimes.com.au\n",
      "https://www.watoday.com.au\n",
      "https://www.afr.com\n",
      "https://www.domain.com.au\n",
      "http://www.traveller.com.au\n",
      "https://www.goodfood.com.au\n",
      "http://www.executivestyle.com.au\n",
      "https://www.thestore.com.au\n",
      "https://www.drive.com.au\n",
      "https://www.caradvice.com.au\n",
      "https://www.rsvp.com.au\n",
      "http://www.weatherzone.com.au\n",
      "javascript:void(0)\n",
      "http://tributes.smh.com.au/obituaries/smh-au/\n",
      "http://celebrations.smh.com.au/celebration/smh-au/\n",
      "https://advertisers.com.au\n",
      "https://www.commercialrealestate.com.au\n",
      "https://www.oneflare.com.au\n",
      "javascript:void(0)\n",
      "/contact-us\n",
      "https://www.adcentre.com.au/brands/the-sydney-morning-herald\n",
      "https://smh.myfairfax.com.au/members/lite_session/new?callback_uri=https%3A%2F%2Fsmh.myfairfax.com.au%2Fbeta%2Fmembers%2Fmy_account%2Fnewsletters%3Fchannel_key%3DzHE9EWDHf1XPuz3Phk0YIg%26callback_uri%3Dhttps%253a%252f%252fwww.smh.com.au&channel_key=zHE9EWDHf1XPuz3Phk0YIg\n",
      "/siteguide/accessibility\n",
      "/siteguide\n",
      "https://consumer.fairfaxsyndication.com/C.aspx?VP3=CMS3&VF=FXJFX2_2_VForm\n",
      "https://frontpages.fairfaxsyndication.com/C.aspx?VP3=CMS3&VF=FXJFX2_3_VForm\n",
      "https://www.fairfaxsyndication.com/C.aspx?VP3=CMS3&VF=FXJO50_1\n",
      "/our-events\n",
      "https://www.nineforbrands.com.au/about/careers/\n",
      "/conditions-of-use\n",
      "/privacy\n",
      "https://www.presscouncil.org.au/what-we-do\n",
      "javascript:void(0)\n",
      "https://subscribe.smh.com.au/?promote_channel=HI_SMH_GNL_FT\n",
      "https://subscribers.smh.com.au\n",
      "https://www.smh.com.au/myaccount\n",
      "https://subscribers.smh.com.au/support-centre/overview\n",
      "/todays-newspaper\n",
      "/puzzles/crosswords\n",
      "https://www.thesmhinsider.com.au/c/a/5dAvszx5Lm7C4GDU21EWmQ?dPanel=2\n",
      "https://subscribe.smh.com.au/?promote_channel=HI_SMH_GNL_FT\n",
      "                                                link  \\\n",
      "0     /healthcare/testing-times-20200424-h1nlx2.html   \n",
      "1  /national/nsw/terrible-situation-fourth-death-...   \n",
      "2  /national/nsw/terrible-situation-fourth-death-...   \n",
      "3  /national/will-we-get-a-treatment-before-a-vac...   \n",
      "4  /national/will-we-get-a-treatment-before-a-vac...   \n",
      "\n",
      "                                              header  \\\n",
      "0                                      Testing Times   \n",
      "1  'Terrible situation': fourth death as nursing ...   \n",
      "2  'Terrible situation': fourth death as nursing ...   \n",
      "3  Will we get a treatment before a vaccine? Insi...   \n",
      "4  Will we get a treatment before a vaccine? Insi...   \n",
      "\n",
      "                                             article       author  \\\n",
      "0  1/23 Senior Hospital Scientist Anna Condylios ...                \n",
      "1  A fourth resident has died from COVID-19 at Ne...   Mary Ward    \n",
      "2  A fourth resident has died from COVID-19 at Ne...   Mary Ward    \n",
      "3  In a sprawling laboratory in Melbourne, an arm...                \n",
      "4  In a sprawling laboratory in Melbourne, an arm...                \n",
      "\n",
      "             date  \n",
      "0                  \n",
      "1  April 23, 2020  \n",
      "2  April 23, 2020  \n",
      "3                  \n",
      "4                  \n",
      "processing : environment\n"
     ]
    },
    {
     "name": "stderr",
     "output_type": "stream",
     "text": [
      "2020-04-24 21:25:58 [urllib3.connectionpool] DEBUG: https://www.smh.com.au:443 \"GET /environment HTTP/1.1\" 200 42595\n",
      "2020-04-24 21:25:58 [urllib3.connectionpool] DEBUG: Starting new HTTPS connection (1): www.smh.com.au:443\n"
     ]
    },
    {
     "name": "stdout",
     "output_type": "stream",
     "text": [
      "#sections\n",
      "#content\n",
      "#footer\n",
      "javascript:void(0);\n",
      "https://subscribe.smh.com.au/?promote_channel=HI_SMH_GNL_HL\n",
      "/\n",
      "https://subscribe.smh.com.au/?promote_channel=HI_SMH_GNL_HL\n",
      "/\n",
      "#sections\n",
      "#network\n",
      "/\n",
      "/sydney-news\n",
      "/national/nsw\n",
      "/politics\n",
      "/politics/federal\n",
      "/politics/nsw\n",
      "/politics/victoria\n",
      "/politics/queensland\n",
      "/politics/western-australia\n",
      "/business\n",
      "/business/companies\n",
      "/business/markets\n",
      "/business/the-economy\n",
      "/business/banking-and-finance\n",
      "/business/small-business\n",
      "/business/consumer-affairs\n",
      "/business/workplace\n",
      "/world\n",
      "/world/north-america\n",
      "/world/europe\n",
      "/world/asia\n",
      "/world/middle-east\n",
      "/world/oceania\n",
      "/world/central-america\n",
      "/world/south-america\n",
      "/world/africa\n",
      "/national\n",
      "/national/victoria\n",
      "/national/queensland\n",
      "/national/western-australia\n",
      "/opinion\n",
      "http://www.domain.com.au\n",
      "/sport\n",
      "/sport/nrl\n",
      "/sport/rugby-union\n",
      "/sport/cricket\n",
      "/sport/soccer\n",
      "/sport/afl\n",
      "/sport/racing\n",
      "/sport/tennis\n",
      "/sport/netball\n",
      "/sport/basketball\n",
      "/sport/motorsport\n",
      "/sport/cycling\n",
      "/sport/golf\n",
      "/sport/nfl\n",
      "/sport/athletics\n",
      "/sport/swimming\n",
      "/sport/boxing\n",
      "/culture\n",
      "/culture/movies\n",
      "/culture/tv-and-radio\n",
      "/culture/music\n",
      "/culture/celebrity\n",
      "/culture/books\n",
      "/culture/comedy\n",
      "/culture/dance\n",
      "/culture/musicals\n",
      "/culture/opera\n",
      "/culture/theatre\n",
      "/culture/art-and-design\n",
      "https://tvguide.smh.com.au\n",
      "/lifestyle\n",
      "/lifestyle/life-and-relationships\n",
      "/lifestyle/health-and-wellness\n",
      "/lifestyle/gender\n",
      "/lifestyle/fashion\n",
      "/lifestyle/beauty\n",
      "/topic/horoscopes-5yc\n",
      "/topic/good-weekend-1qq\n",
      "/money\n",
      "/money/super-and-retirement\n",
      "/money/investing\n",
      "/money/banking\n",
      "/money/borrowing\n",
      "/money/saving\n",
      "/money/tax\n",
      "/money/planning-and-budgeting\n",
      "/money/insurance\n",
      "/education\n",
      "/healthcare\n",
      "/environment\n",
      "/environment/conservation\n",
      "/environment/climate-change\n",
      "/environment/sustainability\n",
      "/environment/weather\n",
      "/technology\n",
      "/technology/video-games\n",
      "/topic/home-technology-hqq\n",
      "/topic/phones-5zt\n",
      "/topic/gadgets-hqp\n",
      "http://www.drive.com.au\n",
      "http://www.traveller.com.au\n",
      "http://www.goodfood.com.au\n",
      "http://www.executivestyle.com.au\n",
      "https://subscribe.smh.com.au/2?promote_channel=HI_IPL_GNL&utm_source=PremiumIndex&utm_medium=HouseInventory&utm_campaign=General\n",
      "/todays-newspaper\n",
      "/puzzles/crosswords\n",
      "/topic/smh-letters-1r7\n",
      "/topic/smh-editorial-1r6\n",
      "/topic/column-8-1r4\n",
      "/topic/obituaries-1qv\n",
      "/topic/explainers-1lz9\n",
      "/topic/quizzes-1qx\n",
      "http://weather.smh.com.au/local-forecast/nsw/sydney\n",
      "https://www.theage.com.au\n",
      "https://www.brisbanetimes.com.au\n",
      "https://www.watoday.com.au\n",
      "https://www.afr.com\n",
      "https://www.domain.com.au\n",
      "https://www.commercialrealestate.com.au\n",
      "https://www.drive.com.au\n",
      "https://www.goodfood.com.au\n",
      "http://www.traveller.com.au\n",
      "http://www.executivestyle.com.au\n",
      "https://www.findababysitter.com.au\n",
      "https://www.thestore.com.au\n",
      "http://www.weatherzone.com.au\n",
      "https://www.rsvp.com.au\n",
      "/environment/conservation\n",
      "/environment/climate-change\n",
      "/environment/sustainability\n",
      "/environment/weather\n",
      "/environment/conservation/ain-t-nothing-but-mammals-for-new-australian-museum-chief-scientist-20200422-p54m54.html\n"
     ]
    },
    {
     "name": "stderr",
     "output_type": "stream",
     "text": [
      "2020-04-24 21:25:59 [urllib3.connectionpool] DEBUG: https://www.smh.com.au:443 \"GET //environment/conservation/ain-t-nothing-but-mammals-for-new-australian-museum-chief-scientist-20200422-p54m54.html HTTP/1.1\" 200 42099\n",
      "2020-04-24 21:25:59 [urllib3.connectionpool] DEBUG: Starting new HTTPS connection (1): www.smh.com.au:443\n"
     ]
    },
    {
     "name": "stdout",
     "output_type": "stream",
     "text": [
      "/topic/science-61n\n",
      "/environment/conservation/ain-t-nothing-but-mammals-for-new-australian-museum-chief-scientist-20200422-p54m54.html\n"
     ]
    },
    {
     "name": "stderr",
     "output_type": "stream",
     "text": [
      "2020-04-24 21:25:59 [urllib3.connectionpool] DEBUG: https://www.smh.com.au:443 \"GET //environment/conservation/ain-t-nothing-but-mammals-for-new-australian-museum-chief-scientist-20200422-p54m54.html HTTP/1.1\" 200 42099\n"
     ]
    },
    {
     "name": "stdout",
     "output_type": "stream",
     "text": [
      "/environment/climate-change/state-government-backs-big-batteries-and-solar-to-drive-recovery-20200423-p54mky.html\n"
     ]
    },
    {
     "name": "stderr",
     "output_type": "stream",
     "text": [
      "2020-04-24 21:26:00 [urllib3.connectionpool] DEBUG: Starting new HTTPS connection (1): www.smh.com.au:443\n",
      "2020-04-24 21:26:00 [urllib3.connectionpool] DEBUG: https://www.smh.com.au:443 \"GET //environment/climate-change/state-government-backs-big-batteries-and-solar-to-drive-recovery-20200423-p54mky.html HTTP/1.1\" 200 40424\n",
      "2020-04-24 21:26:00 [urllib3.connectionpool] DEBUG: Starting new HTTPS connection (1): www.smh.com.au:443\n"
     ]
    },
    {
     "name": "stdout",
     "output_type": "stream",
     "text": [
      "/topic/renewable-energy-617\n",
      "/environment/climate-change/state-government-backs-big-batteries-and-solar-to-drive-recovery-20200423-p54mky.html\n"
     ]
    },
    {
     "name": "stderr",
     "output_type": "stream",
     "text": [
      "2020-04-24 21:26:01 [urllib3.connectionpool] DEBUG: https://www.smh.com.au:443 \"GET //environment/climate-change/state-government-backs-big-batteries-and-solar-to-drive-recovery-20200423-p54mky.html HTTP/1.1\" 200 40424\n",
      "2020-04-24 21:26:01 [urllib3.connectionpool] DEBUG: Starting new HTTPS connection (1): www.smh.com.au:443\n"
     ]
    },
    {
     "name": "stdout",
     "output_type": "stream",
     "text": [
      "/environment/new-zealand-skies-turned-orange-by-australian-bushfires-20200423-p54mmw.html\n"
     ]
    },
    {
     "name": "stderr",
     "output_type": "stream",
     "text": [
      "2020-04-24 21:26:01 [urllib3.connectionpool] DEBUG: https://www.smh.com.au:443 \"GET //environment/new-zealand-skies-turned-orange-by-australian-bushfires-20200423-p54mmw.html HTTP/1.1\" 200 34751\n",
      "2020-04-24 21:26:02 [urllib3.connectionpool] DEBUG: Starting new HTTPS connection (1): www.smh.com.au:443\n"
     ]
    },
    {
     "name": "stdout",
     "output_type": "stream",
     "text": [
      "/environment/new-zealand-skies-turned-orange-by-australian-bushfires-20200423-p54mmw.html\n"
     ]
    },
    {
     "name": "stderr",
     "output_type": "stream",
     "text": [
      "2020-04-24 21:26:02 [urllib3.connectionpool] DEBUG: https://www.smh.com.au:443 \"GET //environment/new-zealand-skies-turned-orange-by-australian-bushfires-20200423-p54mmw.html HTTP/1.1\" 200 34751\n",
      "2020-04-24 21:26:02 [urllib3.connectionpool] DEBUG: Starting new HTTPS connection (1): www.smh.com.au:443\n"
     ]
    },
    {
     "name": "stdout",
     "output_type": "stream",
     "text": [
      "/environment/smoke-from-bushfire-drifts-towards-nz-20200423-p54mmz.html\n"
     ]
    },
    {
     "name": "stderr",
     "output_type": "stream",
     "text": [
      "2020-04-24 21:26:03 [urllib3.connectionpool] DEBUG: https://www.smh.com.au:443 \"GET //environment/smoke-from-bushfire-drifts-towards-nz-20200423-p54mmz.html HTTP/1.1\" 200 34636\n",
      "2020-04-24 21:26:03 [urllib3.connectionpool] DEBUG: Starting new HTTPS connection (1): www.smh.com.au:443\n"
     ]
    },
    {
     "name": "stdout",
     "output_type": "stream",
     "text": [
      "/environment/smoke-from-bushfire-drifts-towards-nz-20200423-p54mmz.html\n"
     ]
    },
    {
     "name": "stderr",
     "output_type": "stream",
     "text": [
      "2020-04-24 21:26:03 [urllib3.connectionpool] DEBUG: https://www.smh.com.au:443 \"GET //environment/smoke-from-bushfire-drifts-towards-nz-20200423-p54mmz.html HTTP/1.1\" 200 34636\n",
      "2020-04-24 21:26:03 [urllib3.connectionpool] DEBUG: Starting new HTTPS connection (1): www.smh.com.au:443\n"
     ]
    },
    {
     "name": "stdout",
     "output_type": "stream",
     "text": [
      "/environment/blue-skies-over-megacities-can-they-last-20200423-p54mfu.html\n"
     ]
    },
    {
     "name": "stderr",
     "output_type": "stream",
     "text": [
      "2020-04-24 21:26:04 [urllib3.connectionpool] DEBUG: https://www.smh.com.au:443 \"GET //environment/blue-skies-over-megacities-can-they-last-20200423-p54mfu.html HTTP/1.1\" 200 34903\n",
      "2020-04-24 21:26:04 [urllib3.connectionpool] DEBUG: Starting new HTTPS connection (1): www.smh.com.au:443\n"
     ]
    },
    {
     "name": "stdout",
     "output_type": "stream",
     "text": [
      "/coronavirus-pandemic\n",
      "/environment/blue-skies-over-megacities-can-they-last-20200423-p54mfu.html\n"
     ]
    },
    {
     "name": "stderr",
     "output_type": "stream",
     "text": [
      "2020-04-24 21:26:04 [urllib3.connectionpool] DEBUG: https://www.smh.com.au:443 \"GET //environment/blue-skies-over-megacities-can-they-last-20200423-p54mfu.html HTTP/1.1\" 200 34903\n",
      "2020-04-24 21:26:05 [urllib3.connectionpool] DEBUG: Starting new HTTPS connection (1): www.smh.com.au:443\n"
     ]
    },
    {
     "name": "stdout",
     "output_type": "stream",
     "text": [
      "/environment/tackle-virus-and-climate-together-thunberg-20200423-p54mfq.html\n"
     ]
    },
    {
     "name": "stderr",
     "output_type": "stream",
     "text": [
      "2020-04-24 21:26:05 [urllib3.connectionpool] DEBUG: https://www.smh.com.au:443 \"GET //environment/tackle-virus-and-climate-together-thunberg-20200423-p54mfq.html HTTP/1.1\" 200 34810\n",
      "2020-04-24 21:26:05 [urllib3.connectionpool] DEBUG: Starting new HTTPS connection (1): www.smh.com.au:443\n"
     ]
    },
    {
     "name": "stdout",
     "output_type": "stream",
     "text": [
      "/coronavirus-pandemic\n",
      "/environment/tackle-virus-and-climate-together-thunberg-20200423-p54mfq.html\n"
     ]
    },
    {
     "name": "stderr",
     "output_type": "stream",
     "text": [
      "2020-04-24 21:26:06 [urllib3.connectionpool] DEBUG: https://www.smh.com.au:443 \"GET //environment/tackle-virus-and-climate-together-thunberg-20200423-p54mfq.html HTTP/1.1\" 200 34810\n",
      "2020-04-24 21:26:06 [urllib3.connectionpool] DEBUG: Starting new HTTPS connection (1): www.smh.com.au:443\n"
     ]
    },
    {
     "name": "stdout",
     "output_type": "stream",
     "text": [
      "/environment/sustainability/virus-and-favourable-weather-delivers-clear-skies-over-sydney-20200422-p54m6z.html\n"
     ]
    },
    {
     "name": "stderr",
     "output_type": "stream",
     "text": [
      "2020-04-24 21:26:07 [urllib3.connectionpool] DEBUG: https://www.smh.com.au:443 \"GET //environment/sustainability/virus-and-favourable-weather-delivers-clear-skies-over-sydney-20200422-p54m6z.html HTTP/1.1\" 200 44196\n",
      "2020-04-24 21:26:07 [urllib3.connectionpool] DEBUG: Starting new HTTPS connection (1): www.smh.com.au:443\n"
     ]
    },
    {
     "name": "stdout",
     "output_type": "stream",
     "text": [
      "/coronavirus-pandemic\n",
      "/environment/sustainability/virus-and-favourable-weather-delivers-clear-skies-over-sydney-20200422-p54m6z.html\n"
     ]
    },
    {
     "name": "stderr",
     "output_type": "stream",
     "text": [
      "2020-04-24 21:26:07 [urllib3.connectionpool] DEBUG: https://www.smh.com.au:443 \"GET //environment/sustainability/virus-and-favourable-weather-delivers-clear-skies-over-sydney-20200422-p54m6z.html HTTP/1.1\" 200 44196\n",
      "2020-04-24 21:26:07 [urllib3.connectionpool] DEBUG: Starting new HTTPS connection (1): www.smh.com.au:443\n"
     ]
    },
    {
     "name": "stdout",
     "output_type": "stream",
     "text": [
      "/environment/sydneys-air-pollution-levels-are-at-their-lowest-in-3-years-20200422-p54ma7.html\n"
     ]
    },
    {
     "name": "stderr",
     "output_type": "stream",
     "text": [
      "2020-04-24 21:26:08 [urllib3.connectionpool] DEBUG: https://www.smh.com.au:443 \"GET //environment/sydneys-air-pollution-levels-are-at-their-lowest-in-3-years-20200422-p54ma7.html HTTP/1.1\" 200 35261\n",
      "2020-04-24 21:26:08 [urllib3.connectionpool] DEBUG: Starting new HTTPS connection (1): www.smh.com.au:443\n"
     ]
    },
    {
     "name": "stdout",
     "output_type": "stream",
     "text": [
      "/topic/pollution-60n\n",
      "/environment/sydneys-air-pollution-levels-are-at-their-lowest-in-3-years-20200422-p54ma7.html\n"
     ]
    },
    {
     "name": "stderr",
     "output_type": "stream",
     "text": [
      "2020-04-24 21:26:08 [urllib3.connectionpool] DEBUG: https://www.smh.com.au:443 \"GET //environment/sydneys-air-pollution-levels-are-at-their-lowest-in-3-years-20200422-p54ma7.html HTTP/1.1\" 200 35261\n",
      "2020-04-24 21:26:09 [urllib3.connectionpool] DEBUG: Starting new HTTPS connection (1): www.smh.com.au:443\n"
     ]
    },
    {
     "name": "stdout",
     "output_type": "stream",
     "text": [
      "/environment/earth-day-in-lockdown-a-chance-to-reimagine-the-future-20200422-p54m1r.html\n"
     ]
    },
    {
     "name": "stderr",
     "output_type": "stream",
     "text": [
      "2020-04-24 21:26:09 [urllib3.connectionpool] DEBUG: https://www.smh.com.au:443 \"GET //environment/earth-day-in-lockdown-a-chance-to-reimagine-the-future-20200422-p54m1r.html HTTP/1.1\" 200 34824\n",
      "2020-04-24 21:26:09 [urllib3.connectionpool] DEBUG: Starting new HTTPS connection (1): www.smh.com.au:443\n"
     ]
    },
    {
     "name": "stdout",
     "output_type": "stream",
     "text": [
      "/environment/earth-day-in-lockdown-a-chance-to-reimagine-the-future-20200422-p54m1r.html\n"
     ]
    },
    {
     "name": "stderr",
     "output_type": "stream",
     "text": [
      "2020-04-24 21:26:10 [urllib3.connectionpool] DEBUG: https://www.smh.com.au:443 \"GET //environment/earth-day-in-lockdown-a-chance-to-reimagine-the-future-20200422-p54m1r.html HTTP/1.1\" 200 34824\n",
      "2020-04-24 21:26:10 [urllib3.connectionpool] DEBUG: Starting new HTTPS connection (1): www.smh.com.au:443\n"
     ]
    },
    {
     "name": "stdout",
     "output_type": "stream",
     "text": [
      "/environment/sustainability/five-big-solar-farms-set-to-increase-energy-output-after-tests-20200420-p54lf0.html\n"
     ]
    },
    {
     "name": "stderr",
     "output_type": "stream",
     "text": [
      "2020-04-24 21:26:10 [urllib3.connectionpool] DEBUG: https://www.smh.com.au:443 \"GET //environment/sustainability/five-big-solar-farms-set-to-increase-energy-output-after-tests-20200420-p54lf0.html HTTP/1.1\" 200 41491\n",
      "2020-04-24 21:26:10 [urllib3.connectionpool] DEBUG: Starting new HTTPS connection (1): www.smh.com.au:443\n"
     ]
    },
    {
     "name": "stdout",
     "output_type": "stream",
     "text": [
      "/topic/renewable-energy-617\n",
      "/environment/sustainability/five-big-solar-farms-set-to-increase-energy-output-after-tests-20200420-p54lf0.html\n"
     ]
    },
    {
     "name": "stderr",
     "output_type": "stream",
     "text": [
      "2020-04-24 21:26:11 [urllib3.connectionpool] DEBUG: https://www.smh.com.au:443 \"GET //environment/sustainability/five-big-solar-farms-set-to-increase-energy-output-after-tests-20200420-p54lf0.html HTTP/1.1\" 200 41491\n",
      "2020-04-24 21:26:11 [urllib3.connectionpool] DEBUG: Starting new HTTPS connection (1): www.smh.com.au:443\n"
     ]
    },
    {
     "name": "stdout",
     "output_type": "stream",
     "text": [
      "/environment/climate-change/kick-them-into-action-fire-group-takes-epa-to-court-over-climate-20200418-p54kzl.html\n"
     ]
    },
    {
     "name": "stderr",
     "output_type": "stream",
     "text": [
      "2020-04-24 21:26:11 [urllib3.connectionpool] DEBUG: https://www.smh.com.au:443 \"GET //environment/climate-change/kick-them-into-action-fire-group-takes-epa-to-court-over-climate-20200418-p54kzl.html HTTP/1.1\" 200 43925\n",
      "2020-04-24 21:26:12 [urllib3.connectionpool] DEBUG: Starting new HTTPS connection (1): www.smh.com.au:443\n"
     ]
    },
    {
     "name": "stdout",
     "output_type": "stream",
     "text": [
      "/topic/climate-policy-1mpo\n",
      "/environment/climate-change/kick-them-into-action-fire-group-takes-epa-to-court-over-climate-20200418-p54kzl.html\n"
     ]
    },
    {
     "name": "stderr",
     "output_type": "stream",
     "text": [
      "2020-04-24 21:26:12 [urllib3.connectionpool] DEBUG: https://www.smh.com.au:443 \"GET //environment/climate-change/kick-them-into-action-fire-group-takes-epa-to-court-over-climate-20200418-p54kzl.html HTTP/1.1\" 200 43925\n",
      "2020-04-24 21:26:12 [urllib3.connectionpool] DEBUG: Starting new HTTPS connection (1): www.smh.com.au:443\n"
     ]
    },
    {
     "name": "stdout",
     "output_type": "stream",
     "text": [
      "/environment?page=2\n",
      "/\n",
      "https://twitter.com/smh\n",
      "http://www.facebook.com/sydneymorningherald\n",
      "https://www.instagram.com/sydneymorningherald\n",
      "/rssheadlines\n",
      "javascript:void(0)\n",
      "https://www.smh.com.au\n",
      "https://www.theage.com.au\n",
      "https://www.brisbanetimes.com.au\n",
      "https://www.watoday.com.au\n",
      "https://www.afr.com\n",
      "https://www.domain.com.au\n",
      "http://www.traveller.com.au\n",
      "https://www.goodfood.com.au\n",
      "http://www.executivestyle.com.au\n",
      "https://www.thestore.com.au\n",
      "https://www.drive.com.au\n",
      "https://www.caradvice.com.au\n",
      "https://www.rsvp.com.au\n",
      "http://www.weatherzone.com.au\n",
      "javascript:void(0)\n",
      "http://tributes.smh.com.au/obituaries/smh-au/\n",
      "http://celebrations.smh.com.au/celebration/smh-au/\n",
      "https://advertisers.com.au\n",
      "https://www.commercialrealestate.com.au\n",
      "https://www.oneflare.com.au\n",
      "javascript:void(0)\n",
      "/contact-us\n",
      "https://www.adcentre.com.au/brands/the-sydney-morning-herald\n",
      "https://smh.myfairfax.com.au/members/lite_session/new?callback_uri=https%3A%2F%2Fsmh.myfairfax.com.au%2Fbeta%2Fmembers%2Fmy_account%2Fnewsletters%3Fchannel_key%3DzHE9EWDHf1XPuz3Phk0YIg%26callback_uri%3Dhttps%253a%252f%252fwww.smh.com.au&channel_key=zHE9EWDHf1XPuz3Phk0YIg\n",
      "/siteguide/accessibility\n",
      "/siteguide\n",
      "https://consumer.fairfaxsyndication.com/C.aspx?VP3=CMS3&VF=FXJFX2_2_VForm\n",
      "https://frontpages.fairfaxsyndication.com/C.aspx?VP3=CMS3&VF=FXJFX2_3_VForm\n",
      "https://www.fairfaxsyndication.com/C.aspx?VP3=CMS3&VF=FXJO50_1\n",
      "/our-events\n",
      "https://www.nineforbrands.com.au/about/careers/\n",
      "/conditions-of-use\n",
      "/privacy\n",
      "https://www.presscouncil.org.au/what-we-do\n",
      "javascript:void(0)\n",
      "https://subscribe.smh.com.au/?promote_channel=HI_SMH_GNL_FT\n",
      "https://subscribers.smh.com.au\n",
      "https://www.smh.com.au/myaccount\n",
      "https://subscribers.smh.com.au/support-centre/overview\n",
      "/todays-newspaper\n",
      "/puzzles/crosswords\n",
      "https://www.thesmhinsider.com.au/c/a/5dAvszx5Lm7C4GDU21EWmQ?dPanel=2\n",
      "https://subscribe.smh.com.au/?promote_channel=HI_SMH_GNL_FT\n",
      "                                                link  \\\n",
      "0  /environment/conservation/ain-t-nothing-but-ma...   \n",
      "1  /environment/conservation/ain-t-nothing-but-ma...   \n",
      "2  /environment/climate-change/state-government-b...   \n",
      "3  /environment/climate-change/state-government-b...   \n",
      "4  /environment/new-zealand-skies-turned-orange-b...   \n",
      "\n",
      "                                              header  \\\n",
      "0  Ain't nothing but mammals for new Australian M...   \n",
      "1  Ain't nothing but mammals for new Australian M...   \n",
      "2  State government backs big batteries and solar...   \n",
      "3  State government backs big batteries and solar...   \n",
      "4                                                      \n",
      "\n",
      "                                             article          author  \\\n",
      "0  Among the 100 or so mammals that Professor Kri...   Linda Morris    \n",
      "1  Among the 100 or so mammals that Professor Kri...   Linda Morris    \n",
      "2  Residents will be able to install larger solar...   Peter Hannam    \n",
      "3  Residents will be able to install larger solar...   Peter Hannam    \n",
      "4                          Replay   Copyright © 2020                   \n",
      "\n",
      "             date  \n",
      "0  April 24, 2020  \n",
      "1  April 24, 2020  \n",
      "2  April 24, 2020  \n",
      "3  April 24, 2020  \n",
      "4                  \n",
      "processing : technology\n"
     ]
    },
    {
     "name": "stderr",
     "output_type": "stream",
     "text": [
      "2020-04-24 21:26:13 [urllib3.connectionpool] DEBUG: https://www.smh.com.au:443 \"GET /technology HTTP/1.1\" 200 43188\n",
      "2020-04-24 21:26:13 [urllib3.connectionpool] DEBUG: Starting new HTTPS connection (1): www.smh.com.au:443\n"
     ]
    },
    {
     "name": "stdout",
     "output_type": "stream",
     "text": [
      "#sections\n",
      "#content\n",
      "#footer\n",
      "javascript:void(0);\n",
      "https://subscribe.smh.com.au/?promote_channel=HI_SMH_GNL_HL\n",
      "/\n",
      "https://subscribe.smh.com.au/?promote_channel=HI_SMH_GNL_HL\n",
      "/\n",
      "#sections\n",
      "#network\n",
      "/\n",
      "/sydney-news\n",
      "/national/nsw\n",
      "/politics\n",
      "/politics/federal\n",
      "/politics/nsw\n",
      "/politics/victoria\n",
      "/politics/queensland\n",
      "/politics/western-australia\n",
      "/business\n",
      "/business/companies\n",
      "/business/markets\n",
      "/business/the-economy\n",
      "/business/banking-and-finance\n",
      "/business/small-business\n",
      "/business/consumer-affairs\n",
      "/business/workplace\n",
      "/world\n",
      "/world/north-america\n",
      "/world/europe\n",
      "/world/asia\n",
      "/world/middle-east\n",
      "/world/oceania\n",
      "/world/central-america\n",
      "/world/south-america\n",
      "/world/africa\n",
      "/national\n",
      "/national/victoria\n",
      "/national/queensland\n",
      "/national/western-australia\n",
      "/opinion\n",
      "http://www.domain.com.au\n",
      "/sport\n",
      "/sport/nrl\n",
      "/sport/rugby-union\n",
      "/sport/cricket\n",
      "/sport/soccer\n",
      "/sport/afl\n",
      "/sport/racing\n",
      "/sport/tennis\n",
      "/sport/netball\n",
      "/sport/basketball\n",
      "/sport/motorsport\n",
      "/sport/cycling\n",
      "/sport/golf\n",
      "/sport/nfl\n",
      "/sport/athletics\n",
      "/sport/swimming\n",
      "/sport/boxing\n",
      "/culture\n",
      "/culture/movies\n",
      "/culture/tv-and-radio\n",
      "/culture/music\n",
      "/culture/celebrity\n",
      "/culture/books\n",
      "/culture/comedy\n",
      "/culture/dance\n",
      "/culture/musicals\n",
      "/culture/opera\n",
      "/culture/theatre\n",
      "/culture/art-and-design\n",
      "https://tvguide.smh.com.au\n",
      "/lifestyle\n",
      "/lifestyle/life-and-relationships\n",
      "/lifestyle/health-and-wellness\n",
      "/lifestyle/gender\n",
      "/lifestyle/fashion\n",
      "/lifestyle/beauty\n",
      "/topic/horoscopes-5yc\n",
      "/topic/good-weekend-1qq\n",
      "/money\n",
      "/money/super-and-retirement\n",
      "/money/investing\n",
      "/money/banking\n",
      "/money/borrowing\n",
      "/money/saving\n",
      "/money/tax\n",
      "/money/planning-and-budgeting\n",
      "/money/insurance\n",
      "/education\n",
      "/healthcare\n",
      "/environment\n",
      "/environment/conservation\n",
      "/environment/climate-change\n",
      "/environment/sustainability\n",
      "/environment/weather\n",
      "/technology\n",
      "/technology/video-games\n",
      "/topic/home-technology-hqq\n",
      "/topic/phones-5zt\n",
      "/topic/gadgets-hqp\n",
      "http://www.drive.com.au\n",
      "http://www.traveller.com.au\n",
      "http://www.goodfood.com.au\n",
      "http://www.executivestyle.com.au\n",
      "https://subscribe.smh.com.au/2?promote_channel=HI_IPL_GNL&utm_source=PremiumIndex&utm_medium=HouseInventory&utm_campaign=General\n",
      "/todays-newspaper\n",
      "/puzzles/crosswords\n",
      "/topic/smh-letters-1r7\n",
      "/topic/smh-editorial-1r6\n",
      "/topic/column-8-1r4\n",
      "/topic/obituaries-1qv\n",
      "/topic/explainers-1lz9\n",
      "/topic/quizzes-1qx\n",
      "http://weather.smh.com.au/local-forecast/nsw/sydney\n",
      "https://www.theage.com.au\n",
      "https://www.brisbanetimes.com.au\n",
      "https://www.watoday.com.au\n",
      "https://www.afr.com\n",
      "https://www.domain.com.au\n",
      "https://www.commercialrealestate.com.au\n",
      "https://www.drive.com.au\n",
      "https://www.goodfood.com.au\n",
      "http://www.traveller.com.au\n",
      "http://www.executivestyle.com.au\n",
      "https://www.findababysitter.com.au\n",
      "https://www.thestore.com.au\n",
      "http://www.weatherzone.com.au\n",
      "https://www.rsvp.com.au\n",
      "/technology/video-games\n",
      "/topic/home-technology-hqq\n",
      "/topic/phones-5zt\n",
      "/topic/gadgets-hqp\n",
      "/technology/privacy-adv
